{
 "cells": [
  {
   "cell_type": "code",
   "execution_count": 1,
   "metadata": {
    "collapsed": true
   },
   "outputs": [],
   "source": [
    "import os\n",
    "import json\n",
    "import numpy as np\n",
    "import math\n",
    "import pandas as pd"
   ]
  },
  {
   "cell_type": "code",
   "execution_count": 11,
   "metadata": {
    "collapsed": true
   },
   "outputs": [],
   "source": [
    "# Chemins utiles\n",
    "dir_path = '/home/timothee/PycharmProjects/ImpalaPoleEmploi2/Impala/Onisep tSNE et clustering'\n",
    "# Dossier data\n",
    "data_dir_path = os.path.join(dir_path, '0 - data')\n",
    "# Dossier output\n",
    "output_dir_path = os.path.join(dir_path, '00 - output')\n",
    "# Liste des métiers\n",
    "jobs_list = os.listdir(output_dir_path)"
   ]
  },
  {
   "cell_type": "code",
   "execution_count": 9,
   "metadata": {
    "collapsed": false
   },
   "outputs": [
    {
     "data": {
      "text/plain": [
       "{\"Centre(s) d'intérêt \": [\"Je rêve d'un métier artistique\",\n",
       "  'Je suis branché high tech',\n",
       "  \"Réparer - bricoler - j'adore ça\"],\n",
       " 'Métier': 'technicien / technicienne de fabrication de mobilier et de menuiserie',\n",
       " 'Métiers Associés ': 'Agent/e de maîtrise de la ville de Paris (agencement bois)',\n",
       " \"Niveau d'accès \": 'bac ou équivalent',\n",
       " 'Salaire débutant  ': '1466 euros',\n",
       " 'Secteur(s) professionnel(s) ': 'Bois - Meubles - Papier - Carton',\n",
       " 'Statut(s) ': 'Statut salarié',\n",
       " 'Synonymes ': ['Technicien/ne de production bois bâtiment ameublement',\n",
       "  \"Technicien/ne des industries de l'ameublement et du bois \"]}"
      ]
     },
     "execution_count": 9,
     "metadata": {},
     "output_type": "execute_result"
    }
   ],
   "source": [
    "fiche_path = os.path.join(output_dir_path, '10002.json')\n",
    "with open(fiche_path) as f:\n",
    "    metier = json.load(f)\n",
    "    f.close()\n",
    "\n",
    "metier"
   ]
  },
  {
   "cell_type": "code",
   "execution_count": 27,
   "metadata": {
    "collapsed": false
   },
   "outputs": [],
   "source": [
    "interet_liste = []\n",
    "secteur_liste = []\n",
    "niveau_liste = []\n",
    "salaire_liste = []\n",
    "for identifiant in jobs_list:\n",
    "    fiche_path = os.path.join(output_dir_path, identifiant)\n",
    "    with open(fiche_path) as f:\n",
    "        metier = json.load(f)\n",
    "        f.close()\n",
    "    #print(metier)\n",
    "    try:\n",
    "        for interet in metier[\"Centre(s) d'intérêt \"]:\n",
    "            if interet not in interet_liste:\n",
    "                interet_liste.append(interet)\n",
    "    except:\n",
    "        pass\n",
    "    \n",
    "    try:\n",
    "        for secteur in metier[\"Secteur(s) professionnel(s) \"]:\n",
    "            if secteur not in secteur_liste:\n",
    "                secteur_liste.append(secteur)\n",
    "    except:\n",
    "        pass\n",
    "\n",
    "    try:\n",
    "        for niveau in metier[\"Niveau d'accès \"]:\n",
    "            if niveau not in niveau_liste:\n",
    "                niveau_liste.append(niveau)\n",
    "    except:\n",
    "        pass\n",
    "    \n",
    "    try:\n",
    "        for salaire in metier[\"Salaire débutant  \"]:\n",
    "            if salaire not in salaire_liste:\n",
    "                salaire_liste.append(salaire)\n",
    "    except:\n",
    "        pass\n",
    "    \n",
    "    try:\n",
    "        for statut in metier[\"Statut(s) \"]:\n",
    "            if statut not in statut_liste:\n",
    "                statut_liste.append(statut)\n",
    "    except:\n",
    "        pass"
   ]
  },
  {
   "cell_type": "code",
   "execution_count": 30,
   "metadata": {
    "collapsed": false
   },
   "outputs": [
    {
     "name": "stdout",
     "output_type": "stream",
     "text": [
      "Nombre de centre d'intérêt = 25\n",
      "Nombre de secteurs professionnels = 185\n",
      "Nombre de niveaux d'accès = 14\n",
      "Nombre de salaire débutants = 132\n"
     ]
    }
   ],
   "source": [
    "print(\"Nombre de centre d'intérêt =\", len(interet_liste))\n",
    "print(\"Nombre de secteurs professionnels =\", len(secteur_liste))\n",
    "print(\"Nombre de niveaux d'accès =\", len(niveau_liste))\n",
    "print(\"Nombre de salaire débutants =\", len(salaire_liste))"
   ]
  },
  {
   "cell_type": "code",
   "execution_count": 33,
   "metadata": {
    "collapsed": false
   },
   "outputs": [
    {
     "data": {
      "text/plain": [
       "['Le sport est ma passion',\n",
       " 'Je suis branché high tech',\n",
       " 'Je veux travailler de mes mains',\n",
       " \"Réparer - bricoler - j'adore ça\",\n",
       " \"J'ai le sens du contact\",\n",
       " 'Je veux protéger la planète',\n",
       " \"J'aime bouger\",\n",
       " \"J'aime les sensations fortes\",\n",
       " \"J'aime organiser - gérer\",\n",
       " 'Je veux être aux commandes',\n",
       " 'Je veux être utile aux autres',\n",
       " 'Je veux faire respecter la loi',\n",
       " \"J'aime la nature\",\n",
       " \"J'aimerais travailler dehors\",\n",
       " \"J'aimerais informer - communiquer\",\n",
       " 'Ma vocation est de soigner',\n",
       " \"Je rêve d'un métier artistique\",\n",
       " \"J'aime faire des expériences\",\n",
       " \"J'ai la bosse du commerce\",\n",
       " \"J'aime le contact avec les enfants\",\n",
       " \"J'aime jongler avec les chiffres\",\n",
       " \"Je rêve de travailler à l'étranger\",\n",
       " 'Je suis fort en langues',\n",
       " \"Enquêter - analyser l'information - je veux en faire mon travail\",\n",
       " \"Je veux m'occuper d'animaux\"]"
      ]
     },
     "execution_count": 33,
     "metadata": {},
     "output_type": "execute_result"
    }
   ],
   "source": [
    "interet_liste"
   ]
  },
  {
   "cell_type": "code",
   "execution_count": 35,
   "metadata": {
    "collapsed": false
   },
   "outputs": [
    {
     "data": {
      "text/plain": [
       "['sans diplôme',\n",
       " 'bac + 2',\n",
       " 'bac ou équivalent',\n",
       " 'bac + 5',\n",
       " 'CAP ou équivalent',\n",
       " 'bac + 3',\n",
       " 'bac + 4',\n",
       " 'bac + 9 et plus',\n",
       " 'bac + 8',\n",
       " 'diplôme national du brevet',\n",
       " '3e',\n",
       " 'bac + 6',\n",
       " 'bac + 7',\n",
       " 'bac + 1']"
      ]
     },
     "execution_count": 35,
     "metadata": {},
     "output_type": "execute_result"
    }
   ],
   "source": [
    "niveau_liste"
   ]
  },
  {
   "cell_type": "code",
   "execution_count": null,
   "metadata": {
    "collapsed": true
   },
   "outputs": [],
   "source": []
  }
 ],
 "metadata": {
  "kernelspec": {
   "display_name": "Python 3",
   "language": "python",
   "name": "python3"
  },
  "language_info": {
   "codemirror_mode": {
    "name": "ipython",
    "version": 3
   },
   "file_extension": ".py",
   "mimetype": "text/x-python",
   "name": "python",
   "nbconvert_exporter": "python",
   "pygments_lexer": "ipython3",
   "version": "3.5.1"
  }
 },
 "nbformat": 4,
 "nbformat_minor": 0
}
