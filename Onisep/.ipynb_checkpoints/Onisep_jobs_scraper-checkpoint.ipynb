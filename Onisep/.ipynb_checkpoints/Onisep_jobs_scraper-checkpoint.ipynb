{
 "cells": [
  {
   "cell_type": "code",
   "execution_count": 1,
   "metadata": {
    "collapsed": true
   },
   "outputs": [],
   "source": [
    "import os\n",
    "import json\n",
    "import numpy as np\n",
    "import math\n",
    "import pandas as pd\n",
    "from urllib import request\n",
    "from bs4 import BeautifulSoup"
   ]
  },
  {
   "cell_type": "code",
   "execution_count": 2,
   "metadata": {
    "collapsed": true
   },
   "outputs": [],
   "source": [
    "# Chemins utiles\n",
    "dir_path = '/home/timothee/PycharmProjects/ImpalaPoleEmploi2/Impala/Onisep tSNE et clustering'\n",
    "# Dossier data\n",
    "data_dir_path = os.path.join(dir_path, '0 - data')\n",
    "# Dossier output\n",
    "output_dir_path = os.path.join(dir_path, '00 - output')"
   ]
  },
  {
   "cell_type": "code",
   "execution_count": 3,
   "metadata": {
    "collapsed": false
   },
   "outputs": [
    {
     "data": {
      "text/html": [
       "<div>\n",
       "<table border=\"1\" class=\"dataframe\">\n",
       "  <thead>\n",
       "    <tr style=\"text-align: right;\">\n",
       "      <th></th>\n",
       "      <th>libellé métier</th>\n",
       "      <th>lien site onisep.fr</th>\n",
       "    </tr>\n",
       "  </thead>\n",
       "  <tbody>\n",
       "    <tr>\n",
       "      <th>0</th>\n",
       "      <td>technicien/ne de fabrication de mobilier et de...</td>\n",
       "      <td>http://www.onisep.fr/http/redirection/metier/i...</td>\n",
       "    </tr>\n",
       "    <tr>\n",
       "      <th>1</th>\n",
       "      <td>agenceur/euse de cuisines et salles de bains</td>\n",
       "      <td>http://www.onisep.fr/http/redirection/metier/i...</td>\n",
       "    </tr>\n",
       "    <tr>\n",
       "      <th>2</th>\n",
       "      <td>chef/fe de fabrication des industries graphiques</td>\n",
       "      <td>http://www.onisep.fr/http/redirection/metier/i...</td>\n",
       "    </tr>\n",
       "    <tr>\n",
       "      <th>3</th>\n",
       "      <td>conducteur/trice de machines à imprimer</td>\n",
       "      <td>http://www.onisep.fr/http/redirection/metier/i...</td>\n",
       "    </tr>\n",
       "    <tr>\n",
       "      <th>4</th>\n",
       "      <td>opérateur/trice prépresse</td>\n",
       "      <td>http://www.onisep.fr/http/redirection/metier/i...</td>\n",
       "    </tr>\n",
       "  </tbody>\n",
       "</table>\n",
       "</div>"
      ],
      "text/plain": [
       "                                      libellé métier  \\\n",
       "0  technicien/ne de fabrication de mobilier et de...   \n",
       "1       agenceur/euse de cuisines et salles de bains   \n",
       "2   chef/fe de fabrication des industries graphiques   \n",
       "3           conducteur/trice de machines à imprimer    \n",
       "4                          opérateur/trice prépresse   \n",
       "\n",
       "                                 lien site onisep.fr  \n",
       "0  http://www.onisep.fr/http/redirection/metier/i...  \n",
       "1  http://www.onisep.fr/http/redirection/metier/i...  \n",
       "2  http://www.onisep.fr/http/redirection/metier/i...  \n",
       "3  http://www.onisep.fr/http/redirection/metier/i...  \n",
       "4  http://www.onisep.fr/http/redirection/metier/i...  "
      ]
     },
     "execution_count": 3,
     "metadata": {},
     "output_type": "execute_result"
    }
   ],
   "source": [
    "# Liste des liens vers les métiers\n",
    "metiers_file_path = os.path.join(data_dir_path, 'Onisep_metier_link.csv')\n",
    "formations_links = pd.read_csv(metiers_file_path, header=0, sep=\";\")\n",
    "formations_links.head()"
   ]
  },
  {
   "cell_type": "code",
   "execution_count": 4,
   "metadata": {
    "collapsed": false
   },
   "outputs": [
    {
     "data": {
      "text/plain": [
       "{\"Centre(s) d'intérêt \": [\"Je rêve d'un métier artistique\",\n",
       "  'Je suis branché high tech',\n",
       "  \"Réparer - bricoler - j'adore ça\"],\n",
       " 'Métier': 'technicien / technicienne de fabrication de mobilier et de menuiserie',\n",
       " 'Métiers Associés ': ['Agent/e de maîtrise de la ville de Paris (agencement bois)'],\n",
       " \"Niveau d'accès \": ['bac ou équivalent'],\n",
       " 'Salaire débutant  ': ['1466 euros'],\n",
       " 'Secteur(s) professionnel(s) ': ['Bois - Meubles - Papier - Carton'],\n",
       " 'Statut(s) ': ['Statut salarié'],\n",
       " 'Synonymes ': ['Technicien/ne de production bois bâtiment ameublement',\n",
       "  \"Technicien/ne des industries de l'ameublement et du bois \"]}"
      ]
     },
     "execution_count": 4,
     "metadata": {},
     "output_type": "execute_result"
    }
   ],
   "source": [
    "def parse_job_page(link):\n",
    "    #print('GET '+ link)\n",
    "    \n",
    "    try:\n",
    "        page = request.urlopen(link).read().decode('utf-8')\n",
    "\n",
    "        page = page.replace('€', 'euros')  # because encode/decode error\n",
    "        page = page.replace(u\"\\u2019\", \"'\")  # because encode/decode error\n",
    "        page = page.replace(u\"\\u2026\", \"é\")  # because encode/decode error\n",
    "        page = page.replace(u\"\\u0153\", \"oe\")  # because encode/decode error\n",
    "\n",
    "        page = page.replace('\\n', '')  # remove new line\n",
    "        page = page.replace('  ', '')  # remove big spaces (to be more human readable)\n",
    "        #file = os.path.join(fiches_dir_path, name.replace('/', '-').replace(' ', '_') + '.html')\n",
    "        #with open(file, 'w', encoding='utf8') as f:\n",
    "        #    f.write(page)\n",
    "\n",
    "        soup = BeautifulSoup(page, 'html.parser')\n",
    "        \n",
    "        metier = {}\n",
    "        metier[\"Métier\"] = soup.h1.extract().get_text()\n",
    "        \n",
    "        fiche = soup.find(name = 'ul', attrs={'class':'oni_last'})\n",
    "        #metier[\"fiche\"]=fiche\n",
    "        for element in fiche:\n",
    "            feature = element.get_text().split(': ')\n",
    "            feature_name = feature[0]\n",
    "            if feature_name==\"Centre(s) d'intérêt \":\n",
    "                metier[feature_name] = feature[1].replace(', ', ' - ').split(',')\n",
    "            elif feature_name==\"Secteur(s) professionnel(s) \":\n",
    "                metier[feature_name] = feature[1].split(',')\n",
    "            else:\n",
    "                metier[feature_name] = feature[1].split(', ')\n",
    "\n",
    "        return(metier)\n",
    "    except:\n",
    "        return('error')\n",
    "    \n",
    "parse_job_page('http://www.onisep.fr/Ressources/Univers-Metier/Metiers/technicien-technicienne-de-fabrication-de-mobilier-et-de-menuiserie')"
   ]
  },
  {
   "cell_type": "code",
   "execution_count": 5,
   "metadata": {
    "collapsed": false
   },
   "outputs": [],
   "source": [
    "for row in formations_links.itertuples():\n",
    "    name = row[1]\n",
    "    link = row[2]\n",
    "    metier = parse_job_page(link)\n",
    "    identifiant = link[-5:-1] + link[-1]\n",
    "    if identifiant[0]!='1':\n",
    "        identifiant = '1' + identifiant\n",
    "    metier_output_path = os.path.join(output_dir_path, identifiant) + '.json'\n",
    "    #print(metier_output_path)\n",
    "    with open(metier_output_path, 'w') as f:\n",
    "        json.dump(metier, f, indent=4)\n",
    "    "
   ]
  },
  {
   "cell_type": "code",
   "execution_count": null,
   "metadata": {
    "collapsed": true
   },
   "outputs": [],
   "source": []
  }
 ],
 "metadata": {
  "kernelspec": {
   "display_name": "Python 3",
   "language": "python",
   "name": "python3"
  },
  "language_info": {
   "codemirror_mode": {
    "name": "ipython",
    "version": 3
   },
   "file_extension": ".py",
   "mimetype": "text/x-python",
   "name": "python",
   "nbconvert_exporter": "python",
   "pygments_lexer": "ipython3",
   "version": "3.5.1"
  }
 },
 "nbformat": 4,
 "nbformat_minor": 0
}
