{
 "cells": [
  {
   "cell_type": "code",
   "execution_count": 2,
   "metadata": {
    "collapsed": true
   },
   "outputs": [],
   "source": [
    "import os\n",
    "import json\n",
    "import numpy as np\n",
    "import math\n",
    "import pandas as pd"
   ]
  },
  {
   "cell_type": "code",
   "execution_count": 3,
   "metadata": {
    "collapsed": false
   },
   "outputs": [],
   "source": [
    "# Chemins utiles\n",
    "dir_path = '/home/timothee/PycharmProjects/ImpalaPoleEmploi2/Impala/Onisep tSNE et clustering'\n",
    "# Dossier data\n",
    "data_dir_path = os.path.join(dir_path, '0 - data')\n",
    "# Dossier Scraping \n",
    "scraping_dir_path = os.path.join(dir_path, '00 - Scraping output')\n",
    "# Dossier Parsing\n",
    "parsing_dir_path = os.path.join(dir_path, '00 - Parsing output')\n",
    "# Liste des métiers\n",
    "scraping_list = os.listdir(scraping_dir_path)\n",
    "parsing_list = os.listdir(parsing_dir_path)"
   ]
  },
  {
   "cell_type": "code",
   "execution_count": 5,
   "metadata": {
    "collapsed": false
   },
   "outputs": [
    {
     "data": {
      "text/plain": [
       "[\"Secteurs d'activité\",\n",
       " 'Vie professionnelle',\n",
       " 'Métier',\n",
       " 'rome',\n",
       " 'Accès au métier',\n",
       " 'Fonctions',\n",
       " 'Statuts',\n",
       " 'Descriptif',\n",
       " 'lien_onisep',\n",
       " \"Centres d'intérêt\",\n",
       " 'Groupe Formation Emploi',\n",
       " 'Disciplines',\n",
       " 'Métiers associés']"
      ]
     },
     "execution_count": 5,
     "metadata": {},
     "output_type": "execute_result"
    }
   ],
   "source": [
    "parsing_path = os.path.join(parsing_dir_path, parsing_list[1])\n",
    "with open(parsing_path) as f:\n",
    "    parse = json.load(f)\n",
    "    f.close\n",
    "\n",
    "list(parse.keys())"
   ]
  },
  {
   "cell_type": "code",
   "execution_count": 7,
   "metadata": {
    "collapsed": false
   },
   "outputs": [
    {
     "data": {
      "text/html": [
       "<div>\n",
       "<table border=\"1\" class=\"dataframe\">\n",
       "  <thead>\n",
       "    <tr style=\"text-align: right;\">\n",
       "      <th></th>\n",
       "      <th>metier_onisep</th>\n",
       "      <th>lien_onisep</th>\n",
       "      <th>code_onisep</th>\n",
       "    </tr>\n",
       "  </thead>\n",
       "  <tbody>\n",
       "    <tr>\n",
       "      <th>0</th>\n",
       "      <td>technicien/ne de fabrication de mobilier et de...</td>\n",
       "      <td>http://www.onisep.fr/http/redirection/metier/i...</td>\n",
       "      <td>10002</td>\n",
       "    </tr>\n",
       "    <tr>\n",
       "      <th>1</th>\n",
       "      <td>agenceur/euse de cuisines et salles de bains</td>\n",
       "      <td>http://www.onisep.fr/http/redirection/metier/i...</td>\n",
       "      <td>10003</td>\n",
       "    </tr>\n",
       "    <tr>\n",
       "      <th>2</th>\n",
       "      <td>chef/fe de fabrication des industries graphiques</td>\n",
       "      <td>http://www.onisep.fr/http/redirection/metier/i...</td>\n",
       "      <td>10005</td>\n",
       "    </tr>\n",
       "    <tr>\n",
       "      <th>3</th>\n",
       "      <td>conducteur/trice de machines à imprimer</td>\n",
       "      <td>http://www.onisep.fr/http/redirection/metier/i...</td>\n",
       "      <td>10007</td>\n",
       "    </tr>\n",
       "    <tr>\n",
       "      <th>4</th>\n",
       "      <td>opérateur/trice prépresse</td>\n",
       "      <td>http://www.onisep.fr/http/redirection/metier/i...</td>\n",
       "      <td>10008</td>\n",
       "    </tr>\n",
       "  </tbody>\n",
       "</table>\n",
       "</div>"
      ],
      "text/plain": [
       "                                       metier_onisep  \\\n",
       "0  technicien/ne de fabrication de mobilier et de...   \n",
       "1       agenceur/euse de cuisines et salles de bains   \n",
       "2   chef/fe de fabrication des industries graphiques   \n",
       "3           conducteur/trice de machines à imprimer    \n",
       "4                          opérateur/trice prépresse   \n",
       "\n",
       "                                         lien_onisep code_onisep  \n",
       "0  http://www.onisep.fr/http/redirection/metier/i...       10002  \n",
       "1  http://www.onisep.fr/http/redirection/metier/i...       10003  \n",
       "2  http://www.onisep.fr/http/redirection/metier/i...       10005  \n",
       "3  http://www.onisep.fr/http/redirection/metier/i...       10007  \n",
       "4  http://www.onisep.fr/http/redirection/metier/i...       10008  "
      ]
     },
     "execution_count": 7,
     "metadata": {},
     "output_type": "execute_result"
    }
   ],
   "source": [
    "# Chargement des liens\n",
    "onisep_link_path = os.path.join(data_dir_path, 'Onisep_metier_link.csv')\n",
    "df = pd.read_csv(onisep_link_path, sep =\";\", header=0)\n",
    "df.columns=[\"metier_onisep\",\"lien_onisep\"]\n",
    "\n",
    "code_onisep = []\n",
    "for row in df.itertuples():\n",
    "    link = row[2]\n",
    "    identifiant = link[-5:-1] + link[-1]\n",
    "    if identifiant[0]!='1':\n",
    "        identifiant = '1' + identifiant\n",
    "    code_onisep.append(identifiant)\n",
    "    \n",
    "df[\"code_onisep\"] = pd.Series(code_onisep)\n",
    "df.head()"
   ]
  },
  {
   "cell_type": "code",
   "execution_count": 22,
   "metadata": {
    "collapsed": false
   },
   "outputs": [
    {
     "ename": "IndexError",
     "evalue": "list index out of range",
     "output_type": "error",
     "traceback": [
      "\u001b[1;31m---------------------------------------------------------------------------\u001b[0m",
      "\u001b[1;31mIndexError\u001b[0m                                Traceback (most recent call last)",
      "\u001b[1;32m<ipython-input-22-30f1bf8b7765>\u001b[0m in \u001b[0;36m<module>\u001b[1;34m()\u001b[0m\n\u001b[0;32m      2\u001b[0m \u001b[1;32mfor\u001b[0m \u001b[0mi\u001b[0m \u001b[1;32min\u001b[0m \u001b[0mrange\u001b[0m\u001b[1;33m(\u001b[0m\u001b[0mn\u001b[0m\u001b[1;33m+\u001b[0m\u001b[1;36m2\u001b[0m\u001b[1;33m)\u001b[0m\u001b[1;33m:\u001b[0m\u001b[1;33m\u001b[0m\u001b[0m\n\u001b[0;32m      3\u001b[0m     \u001b[1;31m# Ajout de l'intitulé du métier des fiches métiers du site\u001b[0m\u001b[1;33m\u001b[0m\u001b[1;33m\u001b[0m\u001b[0m\n\u001b[1;32m----> 4\u001b[1;33m     \u001b[0midentifiant_scraping\u001b[0m \u001b[1;33m=\u001b[0m \u001b[0mscraping_list\u001b[0m\u001b[1;33m[\u001b[0m\u001b[0mi\u001b[0m\u001b[1;33m]\u001b[0m\u001b[1;33m[\u001b[0m\u001b[1;36m0\u001b[0m\u001b[1;33m:\u001b[0m\u001b[1;36m6\u001b[0m\u001b[1;33m]\u001b[0m\u001b[1;33m\u001b[0m\u001b[0m\n\u001b[0m\u001b[0;32m      5\u001b[0m     \u001b[1;32mif\u001b[0m \u001b[0midentifiant_scraping\u001b[0m\u001b[1;33m[\u001b[0m\u001b[1;36m5\u001b[0m\u001b[1;33m]\u001b[0m\u001b[1;33m==\u001b[0m\u001b[1;34m'.'\u001b[0m\u001b[1;33m:\u001b[0m\u001b[1;33m\u001b[0m\u001b[0m\n\u001b[0;32m      6\u001b[0m         \u001b[0midentifiant_scraping\u001b[0m \u001b[1;33m=\u001b[0m \u001b[0midentifiant_scraping\u001b[0m\u001b[1;33m[\u001b[0m\u001b[1;36m0\u001b[0m\u001b[1;33m:\u001b[0m\u001b[1;36m5\u001b[0m\u001b[1;33m]\u001b[0m\u001b[1;33m\u001b[0m\u001b[0m\n",
      "\u001b[1;31mIndexError\u001b[0m: list index out of range"
     ]
    }
   ],
   "source": [
    "n = len(scraping_list)\n",
    "for i in range(n):\n",
    "    # Ajout de l'intitulé du métier des fiches métiers du site\n",
    "    identifiant_scraping = scraping_list[i][0:6]\n",
    "    if identifiant_scraping[5]=='.':\n",
    "        identifiant_scraping = identifiant_scraping[0:5]\n",
    "    index_scraping = df[df[\"code_onisep\"]==identifiant_scraping].index\n",
    "    \n",
    "    scraping_path = os.path.join(scraping_dir_path, scraping_list[i])\n",
    "    with open(scraping_path) as f:\n",
    "        scrap = json.load(f)\n",
    "        f.close\n",
    "   \n",
    "    intitule_site_onisep = scrap[\"Métier\"]\n",
    "    df.loc[index_scraping,\"intitule_site_onisep\"] = intitule_site_onisep\n",
    "    \n",
    "    # Ajout de l'intitulé des métiers et des rome des fiches HTML\n",
    "    identifiant = parsing_list[i][0:6]\n",
    "    if identifiant[5]=='.':\n",
    "        identifiant = identifiant[0:5]\n",
    "    index = df[df[\"code_onisep\"]==identifiant].index\n",
    "    parsing_path = os.path.join(parsing_dir_path, parsing_list[i])\n",
    "    with open(parsing_path) as f:\n",
    "        parse = json.load(f)\n",
    "        f.close\n",
    "    \n",
    "    intitule_XML = parse[\"Métier\"]\n",
    "    df.loc[index,\"intitule_XML\"] = intitule_XML\n",
    "    \n",
    "    rome = parse[\"rome\"]\n",
    "    j = 0\n",
    "    for code_rome, intitule_rome in rome.items():\n",
    "        j += 1\n",
    "        df.loc[index,\"code_ROME_\" + str(j)] = code_rome\n",
    "        df.loc[index,\"intitule_ROME_\"+ str(j)] = intitule_rome"
   ]
  },
  {
   "cell_type": "code",
   "execution_count": 30,
   "metadata": {
    "collapsed": false
   },
   "outputs": [
    {
     "name": "stdout",
     "output_type": "stream",
     "text": [
      "100703\n",
      "100704\n"
     ]
    }
   ],
   "source": [
    "len(scraping_list)\n",
    "len(parsing_list)\n",
    "temp_list = []\n",
    "for item in scraping_list:\n",
    "    temp_list.append(item[0:6])\n",
    "\n",
    "for item in parsing_list:\n",
    "    if item[0:6] not in temp_list:\n",
    "        print(item[0:6])"
   ]
  },
  {
   "cell_type": "code",
   "execution_count": 110,
   "metadata": {
    "collapsed": false,
    "scrolled": true
   },
   "outputs": [
    {
     "data": {
      "text/html": [
       "<div>\n",
       "<table border=\"1\" class=\"dataframe\">\n",
       "  <thead>\n",
       "    <tr style=\"text-align: right;\">\n",
       "      <th></th>\n",
       "      <th>metier_onisep</th>\n",
       "      <th>lien_onisep</th>\n",
       "      <th>code_onisep</th>\n",
       "      <th>intitule_XML</th>\n",
       "      <th>code_ROME_1</th>\n",
       "      <th>intitule_ROME_1</th>\n",
       "      <th>code_ROME_2</th>\n",
       "      <th>intitule_ROME_2</th>\n",
       "      <th>code_ROME_3</th>\n",
       "      <th>intitule_ROME_3</th>\n",
       "      <th>code_ROME_4</th>\n",
       "      <th>intitule_ROME_4</th>\n",
       "      <th>code_ROME_5</th>\n",
       "      <th>intitule_ROME_5</th>\n",
       "    </tr>\n",
       "  </thead>\n",
       "  <tbody>\n",
       "    <tr>\n",
       "      <th>0</th>\n",
       "      <td>technicien/ne de fabrication de mobilier et de...</td>\n",
       "      <td>http://www.onisep.fr/http/redirection/metier/i...</td>\n",
       "      <td>10002</td>\n",
       "      <td>technicien/ne de fabrication de mobilier et de...</td>\n",
       "      <td>H2204</td>\n",
       "      <td>Encadrement des industries de l'ameublement et...</td>\n",
       "      <td>H2209</td>\n",
       "      <td>Intervention technique en ameublement et bois</td>\n",
       "      <td>NaN</td>\n",
       "      <td>NaN</td>\n",
       "      <td>NaN</td>\n",
       "      <td>NaN</td>\n",
       "      <td>NaN</td>\n",
       "      <td>NaN</td>\n",
       "    </tr>\n",
       "    <tr>\n",
       "      <th>1</th>\n",
       "      <td>agenceur/euse de cuisines et salles de bains</td>\n",
       "      <td>http://www.onisep.fr/http/redirection/metier/i...</td>\n",
       "      <td>10003</td>\n",
       "      <td>agenceur/euse de cuisines et salles de bains</td>\n",
       "      <td>F1604</td>\n",
       "      <td>Montage d'agencements</td>\n",
       "      <td>H2206</td>\n",
       "      <td>Réalisation de menuiserie bois et tonnellerie</td>\n",
       "      <td>NaN</td>\n",
       "      <td>NaN</td>\n",
       "      <td>NaN</td>\n",
       "      <td>NaN</td>\n",
       "      <td>NaN</td>\n",
       "      <td>NaN</td>\n",
       "    </tr>\n",
       "    <tr>\n",
       "      <th>2</th>\n",
       "      <td>chef/fe de fabrication des industries graphiques</td>\n",
       "      <td>http://www.onisep.fr/http/redirection/metier/i...</td>\n",
       "      <td>10005</td>\n",
       "      <td>chef/fe de fabrication des industries graphiques</td>\n",
       "      <td>E1303</td>\n",
       "      <td>Encadrement des industries graphiques</td>\n",
       "      <td>NaN</td>\n",
       "      <td>NaN</td>\n",
       "      <td>NaN</td>\n",
       "      <td>NaN</td>\n",
       "      <td>NaN</td>\n",
       "      <td>NaN</td>\n",
       "      <td>NaN</td>\n",
       "      <td>NaN</td>\n",
       "    </tr>\n",
       "    <tr>\n",
       "      <th>3</th>\n",
       "      <td>conducteur/trice de machines à imprimer</td>\n",
       "      <td>http://www.onisep.fr/http/redirection/metier/i...</td>\n",
       "      <td>10007</td>\n",
       "      <td>conducteur/trice de machines à imprimer</td>\n",
       "      <td>E1301</td>\n",
       "      <td>Conduite de machines d'impression</td>\n",
       "      <td>NaN</td>\n",
       "      <td>NaN</td>\n",
       "      <td>NaN</td>\n",
       "      <td>NaN</td>\n",
       "      <td>NaN</td>\n",
       "      <td>NaN</td>\n",
       "      <td>NaN</td>\n",
       "      <td>NaN</td>\n",
       "    </tr>\n",
       "    <tr>\n",
       "      <th>4</th>\n",
       "      <td>opérateur/trice prépresse</td>\n",
       "      <td>http://www.onisep.fr/http/redirection/metier/i...</td>\n",
       "      <td>10008</td>\n",
       "      <td>opérateur/trice prépresse</td>\n",
       "      <td>E1306</td>\n",
       "      <td>Prépresse</td>\n",
       "      <td>NaN</td>\n",
       "      <td>NaN</td>\n",
       "      <td>NaN</td>\n",
       "      <td>NaN</td>\n",
       "      <td>NaN</td>\n",
       "      <td>NaN</td>\n",
       "      <td>NaN</td>\n",
       "      <td>NaN</td>\n",
       "    </tr>\n",
       "  </tbody>\n",
       "</table>\n",
       "</div>"
      ],
      "text/plain": [
       "                                       metier_onisep  \\\n",
       "0  technicien/ne de fabrication de mobilier et de...   \n",
       "1       agenceur/euse de cuisines et salles de bains   \n",
       "2   chef/fe de fabrication des industries graphiques   \n",
       "3           conducteur/trice de machines à imprimer    \n",
       "4                          opérateur/trice prépresse   \n",
       "\n",
       "                                         lien_onisep code_onisep  \\\n",
       "0  http://www.onisep.fr/http/redirection/metier/i...       10002   \n",
       "1  http://www.onisep.fr/http/redirection/metier/i...       10003   \n",
       "2  http://www.onisep.fr/http/redirection/metier/i...       10005   \n",
       "3  http://www.onisep.fr/http/redirection/metier/i...       10007   \n",
       "4  http://www.onisep.fr/http/redirection/metier/i...       10008   \n",
       "\n",
       "                                        intitule_XML code_ROME_1  \\\n",
       "0  technicien/ne de fabrication de mobilier et de...       H2204   \n",
       "1       agenceur/euse de cuisines et salles de bains       F1604   \n",
       "2   chef/fe de fabrication des industries graphiques       E1303   \n",
       "3           conducteur/trice de machines à imprimer        E1301   \n",
       "4                          opérateur/trice prépresse       E1306   \n",
       "\n",
       "                                     intitule_ROME_1 code_ROME_2  \\\n",
       "0  Encadrement des industries de l'ameublement et...       H2209   \n",
       "1                              Montage d'agencements       H2206   \n",
       "2              Encadrement des industries graphiques         NaN   \n",
       "3                  Conduite de machines d'impression         NaN   \n",
       "4                                          Prépresse         NaN   \n",
       "\n",
       "                                 intitule_ROME_2 code_ROME_3 intitule_ROME_3  \\\n",
       "0  Intervention technique en ameublement et bois         NaN             NaN   \n",
       "1  Réalisation de menuiserie bois et tonnellerie         NaN             NaN   \n",
       "2                                            NaN         NaN             NaN   \n",
       "3                                            NaN         NaN             NaN   \n",
       "4                                            NaN         NaN             NaN   \n",
       "\n",
       "  code_ROME_4 intitule_ROME_4 code_ROME_5 intitule_ROME_5  \n",
       "0         NaN             NaN         NaN             NaN  \n",
       "1         NaN             NaN         NaN             NaN  \n",
       "2         NaN             NaN         NaN             NaN  \n",
       "3         NaN             NaN         NaN             NaN  \n",
       "4         NaN             NaN         NaN             NaN  "
      ]
     },
     "execution_count": 110,
     "metadata": {},
     "output_type": "execute_result"
    }
   ],
   "source": [
    "df.head()"
   ]
  },
  {
   "cell_type": "code",
   "execution_count": 19,
   "metadata": {
    "collapsed": true
   },
   "outputs": [],
   "source": [
    "output_path = os.path.join(dir_path, 'Métiers_Onisep_ROME.csv')\n",
    "df.to_csv(output_path)"
   ]
  },
  {
   "cell_type": "code",
   "execution_count": 21,
   "metadata": {
    "collapsed": false
   },
   "outputs": [
    {
     "name": "stdout",
     "output_type": "stream",
     "text": [
      "maître nageur sauveteur/euse éducateur/trice sportif/ve des activités aquatiques et de la natation\n",
      "moniteur/trice d'équitation moniteur/trice d'activités équestres\n",
      "mandataire judiciaire nan\n",
      "directeur/trice de création nan\n",
      "4\n"
     ]
    }
   ],
   "source": [
    "c = 0\n",
    "for row in df.itertuples():\n",
    "    if row[1]!= row[5]:\n",
    "        print(row[1], row[5])\n",
    "        c+=1\n",
    "print(c)"
   ]
  },
  {
   "cell_type": "code",
   "execution_count": null,
   "metadata": {
    "collapsed": true
   },
   "outputs": [],
   "source": [
    "\n",
    "\n",
    "\n",
    "33223\n",
    "333333\n"
   ]
  }
 ],
 "metadata": {
  "kernelspec": {
   "display_name": "Python 3",
   "language": "python",
   "name": "python3"
  },
  "language_info": {
   "codemirror_mode": {
    "name": "ipython",
    "version": 3
   },
   "file_extension": ".py",
   "mimetype": "text/x-python",
   "name": "python",
   "nbconvert_exporter": "python",
   "pygments_lexer": "ipython3",
   "version": "3.5.1"
  }
 },
 "nbformat": 4,
 "nbformat_minor": 0
}
