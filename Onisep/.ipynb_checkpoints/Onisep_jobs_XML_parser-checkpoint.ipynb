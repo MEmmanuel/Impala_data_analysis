{
 "cells": [
  {
   "cell_type": "code",
   "execution_count": 1,
   "metadata": {
    "collapsed": true
   },
   "outputs": [],
   "source": [
    "import os\n",
    "import logging\n",
    "from lxml import etree\n",
    "import json"
   ]
  },
  {
   "cell_type": "code",
   "execution_count": 2,
   "metadata": {
    "collapsed": false
   },
   "outputs": [],
   "source": [
    "# Préparation des chemins utiles\n",
    "#/PycharmProjects/ImpalaPoleEmploi2/Impala/Onisep - tSNE et clustering /MetiersOnisep\n",
    "dir_path = '/home/timothee/PycharmProjects/ImpalaPoleEmploi2'\n",
    "# Dossier métiers Onisep\n",
    "metiers_dir_path = os.path.join(dir_path, 'Impala/Onisep tSNE et clustering/MetiersOnisep')\n",
    "# Une fiche pour tester\n",
    "fiche = os.path.join(metiers_dir_path,'10002.xml')\n",
    "# Liste des métiers\n",
    "list_xml_files = os.listdir(metiers_dir_path)"
   ]
  },
  {
   "cell_type": "code",
   "execution_count": 3,
   "metadata": {
    "collapsed": true
   },
   "outputs": [],
   "source": [
    "log = logging.getLogger()\n",
    "map(log.removeHandler, log.handlers[:])\n",
    "map(log.removeFilter, log.filters[:])\n",
    "\n",
    "logging.basicConfig(level=logging.DEBUG,\n",
    "                    format='%(asctime)s %(name)-12s %(levelname)-8s %(message)s',\n",
    "                    datefmt='%m-%d %H:%M',\n",
    "                    filemode='w')"
   ]
  },
  {
   "cell_type": "code",
   "execution_count": 4,
   "metadata": {
    "collapsed": true
   },
   "outputs": [],
   "source": [
    "# define a Handler which writes INFO messages or higher to the sys.stderr\n",
    "console = logging.StreamHandler()\n",
    "console.setLevel(logging.INFO)\n",
    "# set a format which is simpler for console use\n",
    "formatter = logging.Formatter('%(name)-12s: %(levelname)-8s %(message)s')\n",
    "# tell the handler to use this format\n",
    "console.setFormatter(formatter)\n",
    "# add the handler to the root logger\n",
    "log.addHandler(console)"
   ]
  },
  {
   "cell_type": "code",
   "execution_count": 44,
   "metadata": {
    "collapsed": false
   },
   "outputs": [
    {
     "name": "stdout",
     "output_type": "stream",
     "text": [
      "['fabriquer', 'construire/travailler un matériau/exercer un métier artistique ou créatif/concevoir', 'utiliser des technologies industrielles de pointe/faire du dessin']\n",
      "fabriquer, construire/travailler un matériau/exercer un métier artistique ou créatif/concevoir, utiliser des technologies industrielles de pointe/faire du dessin\n"
     ]
    }
   ],
   "source": [
    "tree = etree.parse(fiche)\n",
    "root = tree.getroot()\n",
    "root.tag\n",
    "\n",
    "for x in root.findall('MET_CENTRE_INTERET'):\n",
    "    print(x.text.split(', '))\n",
    "print(root.find('MET_CENTRE_INTERET').text)"
   ]
  },
  {
   "cell_type": "code",
   "execution_count": 53,
   "metadata": {
    "collapsed": false
   },
   "outputs": [
    {
     "data": {
      "text/plain": [
       "{\"Centres d'intérêt\": ['fabriquer, construire',\n",
       "  'travailler un matériau',\n",
       "  'exercer un métier artistique ou créatif',\n",
       "  'concevoir, utiliser des technologies industrielles de pointe',\n",
       "  'faire du dessin'],\n",
       " 'Disciplines': ['ameublement', 'bois', 'agencement'],\n",
       " 'Fonctions': ['fonction fabrication industrielle'],\n",
       " 'Groupe Formation Emploi': ['GFE travail du bois',\n",
       "  'technicien de fabrication de mobilier et de menuiserie'],\n",
       " \"Secteurs d'activité\": [\"secteur industrie de l'ameublement\"],\n",
       " 'Statuts': ['salarié'],\n",
       " 'codes_rome': ['H2204', 'H2209'],\n",
       " 'lien_onisep': 'http://www.onisep.fr/http/redirection/metier/identifiant/10002'}"
      ]
     },
     "execution_count": 53,
     "metadata": {},
     "output_type": "execute_result"
    }
   ],
   "source": [
    "#This function put all the information of the xml file into a dictionnary\n",
    "def parse_xml_file(fiche):\n",
    "    fiche_dict = {}\n",
    "    #log.info(fiche)\n",
    "    #tree = etree.parse(metiers_dir_path + '/' + fiche)\n",
    "    tree = etree.parse(fiche)\n",
    "    root = tree.getroot()\n",
    "    #log.info(root)Statuts\n",
    "    \n",
    "    fiche_dict[\"Centres d'intérêt\"] = root.find('MET_CENTRE_INTERET').text.split('/')\n",
    "    fiche_dict[\"Statuts\"] = root.find('MET_CATEGORIE_SOCIO_PRO').text.split('/')\n",
    "    fiche_dict[\"Fonctions\"] = root.find('MET_DOMAINE').text.split('/')\n",
    "    fiche_dict[\"Secteurs d'activité\"] = root.find('MET_SECTEUR_ACTIVITE').text.split('/')  \n",
    "    fiche_dict[\"Disciplines\"] = root.find('MET_DISCIPLINE').text.split('/')\n",
    "    fiche_dict[\"Groupe Formation Emploi\"] = root.find('MET_GFE').text.split('/')\n",
    "    fiche_dict[\"lien_onisep\"] = root.find('lien_onisep').text\n",
    "   \n",
    "    fiche_dict[\"codes_rome\"] = []\n",
    "    for rome in root.iter('FAMROM_CODE_ROME'):\n",
    "        fiche_dict[\"codes_rome\"].append(rome.text)\n",
    "\n",
    "    fiches_dict[\"Métiers associés\"] = []\n",
    "    return fiche_dict\n",
    "\n",
    "parse_xml_file(fiche)"
   ]
  },
  {
   "cell_type": "code",
   "execution_count": null,
   "metadata": {
    "collapsed": true
   },
   "outputs": [],
   "source": [
    "bloc = root.xpath('//activite_specifique')\n",
    "for item in bloc:\n",
    "    for tmp in item:\n",
    "        item_app_dict = {}\n",
    "        item_app_dict['libelle'] = tmp.xpath('libelle').text\n",
    "        print(tmp.xpath('libelle')[0].text)\n",
    "    #item_app_dict = {}\n",
    "    #item_app_dict['libelle'] = bloc_item.xpath('libelle')[0].text\n",
    "    #print(item_app_dict)"
   ]
  }
 ],
 "metadata": {
  "kernelspec": {
   "display_name": "Python 3",
   "language": "python",
   "name": "python3"
  },
  "language_info": {
   "codemirror_mode": {
    "name": "ipython",
    "version": 3
   },
   "file_extension": ".py",
   "mimetype": "text/x-python",
   "name": "python",
   "nbconvert_exporter": "python",
   "pygments_lexer": "ipython3",
   "version": "3.5.1"
  }
 },
 "nbformat": 4,
 "nbformat_minor": 0
}
