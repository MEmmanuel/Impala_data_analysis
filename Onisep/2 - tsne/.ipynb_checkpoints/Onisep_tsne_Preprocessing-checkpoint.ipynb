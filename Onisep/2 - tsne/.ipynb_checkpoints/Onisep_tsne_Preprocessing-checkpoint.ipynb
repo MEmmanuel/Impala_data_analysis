{
 "cells": [
  {
   "cell_type": "code",
   "execution_count": 2,
   "metadata": {
    "collapsed": true
   },
   "outputs": [],
   "source": [
    "import os\n",
    "import json\n",
    "import numpy as np\n",
    "import math\n",
    "import pandas as pd"
   ]
  },
  {
   "cell_type": "code",
   "execution_count": 3,
   "metadata": {
    "collapsed": false
   },
   "outputs": [
    {
     "data": {
      "text/plain": [
       "734"
      ]
     },
     "execution_count": 3,
     "metadata": {},
     "output_type": "execute_result"
    }
   ],
   "source": [
    "# Chemins utiles\n",
    "dir_path = os.getcwd()\n",
    "# Dossier data\n",
    "data_dir_path = os.path.join(dir_path, '0 - data')\n",
    "# Dossier fiches métiers scraping\n",
    "output_dir_path = os.path.join(dir_path, '00 - Scraping output')\n",
    "# Fichier Onisep links\n",
    "onisep_link_file = os.path.join(data_dir_path, 'Onisep_metier_link.csv')\n",
    "# Liste des métiers\n",
    "jobs_list = os.listdir(output_dir_path)\n",
    "len(jobs_list)"
   ]
  },
  {
   "cell_type": "code",
   "execution_count": 4,
   "metadata": {
    "collapsed": false
   },
   "outputs": [
    {
     "data": {
      "text/html": [
       "<div>\n",
       "<table border=\"1\" class=\"dataframe\">\n",
       "  <thead>\n",
       "    <tr style=\"text-align: right;\">\n",
       "      <th></th>\n",
       "      <th>libellé métier</th>\n",
       "      <th>lien site onisep.fr</th>\n",
       "    </tr>\n",
       "  </thead>\n",
       "  <tbody>\n",
       "    <tr>\n",
       "      <th>0</th>\n",
       "      <td>technicien/ne de fabrication de mobilier et de...</td>\n",
       "      <td>http://www.onisep.fr/http/redirection/metier/i...</td>\n",
       "    </tr>\n",
       "    <tr>\n",
       "      <th>1</th>\n",
       "      <td>agenceur/euse de cuisines et salles de bains</td>\n",
       "      <td>http://www.onisep.fr/http/redirection/metier/i...</td>\n",
       "    </tr>\n",
       "    <tr>\n",
       "      <th>2</th>\n",
       "      <td>chef/fe de fabrication des industries graphiques</td>\n",
       "      <td>http://www.onisep.fr/http/redirection/metier/i...</td>\n",
       "    </tr>\n",
       "    <tr>\n",
       "      <th>3</th>\n",
       "      <td>conducteur/trice de machines à imprimer</td>\n",
       "      <td>http://www.onisep.fr/http/redirection/metier/i...</td>\n",
       "    </tr>\n",
       "    <tr>\n",
       "      <th>4</th>\n",
       "      <td>opérateur/trice prépresse</td>\n",
       "      <td>http://www.onisep.fr/http/redirection/metier/i...</td>\n",
       "    </tr>\n",
       "  </tbody>\n",
       "</table>\n",
       "</div>"
      ],
      "text/plain": [
       "                                      libellé métier  \\\n",
       "0  technicien/ne de fabrication de mobilier et de...   \n",
       "1       agenceur/euse de cuisines et salles de bains   \n",
       "2   chef/fe de fabrication des industries graphiques   \n",
       "3           conducteur/trice de machines à imprimer    \n",
       "4                          opérateur/trice prépresse   \n",
       "\n",
       "                                 lien site onisep.fr  \n",
       "0  http://www.onisep.fr/http/redirection/metier/i...  \n",
       "1  http://www.onisep.fr/http/redirection/metier/i...  \n",
       "2  http://www.onisep.fr/http/redirection/metier/i...  \n",
       "3  http://www.onisep.fr/http/redirection/metier/i...  \n",
       "4  http://www.onisep.fr/http/redirection/metier/i...  "
      ]
     },
     "execution_count": 4,
     "metadata": {},
     "output_type": "execute_result"
    }
   ],
   "source": [
    "onisep_links = pd.read_csv(onisep_link_file, sep=';', header=0)\n",
    "onisep_links.head()"
   ]
  },
  {
   "cell_type": "code",
   "execution_count": 5,
   "metadata": {
    "collapsed": false
   },
   "outputs": [
    {
     "data": {
      "text/plain": [
       "['Secteur(s) professionnel(s) ',\n",
       " \"Centre(s) d'intérêt \",\n",
       " 'Métier',\n",
       " 'Salaire débutant  ',\n",
       " \"Niveau d'accès \",\n",
       " 'Carrière et salaire',\n",
       " 'chapo',\n",
       " \"Où l'exercer\",\n",
       " 'Le métier',\n",
       " 'Statut(s) ',\n",
       " 'Synonymes ',\n",
       " 'Métiers Associés ']"
      ]
     },
     "execution_count": 5,
     "metadata": {},
     "output_type": "execute_result"
    }
   ],
   "source": [
    "fiche_path = os.path.join(output_dir_path, '10002.json')\n",
    "with open(fiche_path) as f:\n",
    "    metier = json.load(f)\n",
    "    f.close()\n",
    "\n",
    "list(metier.keys())"
   ]
  },
  {
   "cell_type": "code",
   "execution_count": 6,
   "metadata": {
    "collapsed": false
   },
   "outputs": [],
   "source": [
    "interet_liste = []\n",
    "secteur_liste = []\n",
    "niveau_liste = []\n",
    "salaire_liste = []\n",
    "statut_liste = []\n",
    "for identifiant in jobs_list:\n",
    "    fiche_path = os.path.join(output_dir_path, identifiant)\n",
    "    with open(fiche_path) as f:\n",
    "        metier = json.load(f)\n",
    "        f.close()\n",
    "    #print(metier)\n",
    "    try:\n",
    "        for interet in metier[\"Centre(s) d'intérêt \"]:\n",
    "            if interet not in interet_liste:\n",
    "                interet_liste.append(interet)\n",
    "    except:\n",
    "        pass\n",
    "    \n",
    "    try:\n",
    "        for secteur in metier[\"Secteur(s) professionnel(s) \"]:\n",
    "            if secteur not in secteur_liste:\n",
    "                secteur_liste.append(secteur)\n",
    "    except:\n",
    "        pass\n",
    "\n",
    "    try:\n",
    "        for niveau in metier[\"Niveau d'accès \"]:\n",
    "            if niveau not in niveau_liste:\n",
    "                niveau_liste.append(niveau)\n",
    "    except:\n",
    "        pass\n",
    "    \n",
    "    try:\n",
    "        for salaire in metier[\"Salaire débutant  \"]:\n",
    "            if salaire not in salaire_liste:\n",
    "                salaire_liste.append(salaire)\n",
    "    except:\n",
    "        pass\n",
    "    \n",
    "    try:\n",
    "        for statut in metier[\"Statut(s) \"]:\n",
    "            if statut not in statut_liste:\n",
    "                statut_liste.append(statut)\n",
    "    except:\n",
    "        pass"
   ]
  },
  {
   "cell_type": "code",
   "execution_count": 8,
   "metadata": {
    "collapsed": false
   },
   "outputs": [
    {
     "name": "stdout",
     "output_type": "stream",
     "text": [
      "Nombre de centre d'intérêt = 25\n",
      "Nombre de secteurs professionnels = 32\n",
      "Nombre de niveaux d'accès = 14\n",
      "Nombre de salaire débutants = 133\n",
      "Nombre de statut = 9\n"
     ]
    },
    {
     "data": {
      "text/plain": [
       "['1700 euros',\n",
       " '1500 euros',\n",
       " '2916 euros',\n",
       " '1466 euros',\n",
       " '1648 euros',\n",
       " '1890 euros',\n",
       " '2130 euros',\n",
       " '2000 euros',\n",
       " '2024 euros',\n",
       " '2333 euros',\n",
       " '1478 euros',\n",
       " '2500 euros',\n",
       " '2250 euros',\n",
       " '1615 euros',\n",
       " '1950 euros',\n",
       " '1480 euros',\n",
       " '1599 euros',\n",
       " '2900 euros',\n",
       " '1600 euros',\n",
       " '2800 euros',\n",
       " '2902 euros',\n",
       " '2100 euros',\n",
       " 'Smic. euros',\n",
       " '1529 euros',\n",
       " '2080 euros',\n",
       " '1718euros brut par mois (dans le public) et 1829 euros brut par mois (dans le privé). euros',\n",
       " '1842 euros',\n",
       " '1540 euros',\n",
       " '1768 euros',\n",
       " '2083 euros',\n",
       " '1662 euros',\n",
       " '1430 euros',\n",
       " '2700 euros',\n",
       " '1705 euros',\n",
       " '1443 euros',\n",
       " 'Variable euros',\n",
       " '2600 euros',\n",
       " '1800 euros',\n",
       " '1900 euros',\n",
       " '1550 euros',\n",
       " '3300 euros',\n",
       " '4100 euros',\n",
       " '1907 euros',\n",
       " '2200 euros',\n",
       " '2750 euros',\n",
       " '2465 euros',\n",
       " 'Smic euros',\n",
       " '2950 euros',\n",
       " '1830 euros',\n",
       " '500 euros',\n",
       " '2400 euros',\n",
       " '1916 euros',\n",
       " '3000 euros',\n",
       " '2300 euros',\n",
       " '1536 euros',\n",
       " '2543 euros',\n",
       " '2435 euros',\n",
       " '1775 euros',\n",
       " '4160 euros',\n",
       " '1551 euros',\n",
       " '1792 euros',\n",
       " '1870 euros',\n",
       " '1880 euros',\n",
       " '2050 euros',\n",
       " '1602 euros',\n",
       " '935 euros',\n",
       " '2848 euros',\n",
       " '1665 euros',\n",
       " '1475 euros',\n",
       " '1404 euros',\n",
       " '2690À euros',\n",
       " '1495 euros',\n",
       " '856 euros',\n",
       " '2166 euros',\n",
       " '1515 euros',\n",
       " '1200 euros',\n",
       " '3500 euros',\n",
       " '2833 euros',\n",
       " '3394 euros',\n",
       " '3080 euros',\n",
       " '1400 euros',\n",
       " '2666 euros',\n",
       " '2035 euros',\n",
       " '1514 euros',\n",
       " '2102 euros',\n",
       " '4081 euros',\n",
       " 'De1528 à 1962 euros',\n",
       " '3250 euros',\n",
       " '2006 euros',\n",
       " '2330 euros',\n",
       " '1520 euros',\n",
       " '1560 euros',\n",
       " '1380 euros',\n",
       " '1486 euros',\n",
       " '2270 euros',\n",
       " '2431 euros',\n",
       " '1401 euros',\n",
       " '3200 euros',\n",
       " '1725 euros',\n",
       " '4350 euros',\n",
       " '1590 euros',\n",
       " '3333 euros',\n",
       " '2575 euros',\n",
       " '2092 euros',\n",
       " '2174 euros',\n",
       " '3100 euros',\n",
       " '1365 euros',\n",
       " '1690 euros',\n",
       " '1713 euros',\n",
       " '1616 euros',\n",
       " '1636 euros',\n",
       " '2055 euros',\n",
       " '1666 euros',\n",
       " '3234 euros',\n",
       " '2148 euros',\n",
       " '2416 euros',\n",
       " '1675 euros',\n",
       " '1640 euros',\n",
       " '1891 euros',\n",
       " '2246 euros',\n",
       " '2131 euros',\n",
       " '1450 euros',\n",
       " '2307 euros',\n",
       " '2910 euros',\n",
       " '2158 euros',\n",
       " '2370 euros',\n",
       " '1410 euros',\n",
       " '2544 euros',\n",
       " '1822 euros',\n",
       " '1660 euros',\n",
       " '2140 euros',\n",
       " '1980 euros',\n",
       " '2016 euros']"
      ]
     },
     "execution_count": 8,
     "metadata": {},
     "output_type": "execute_result"
    }
   ],
   "source": [
    "print(\"Nombre de centre d'intérêt =\", len(interet_liste))\n",
    "print(\"Nombre de secteurs professionnels =\", len(secteur_liste))\n",
    "print(\"Nombre de niveaux d'accès =\", len(niveau_liste))\n",
    "print(\"Nombre de salaire débutants =\", len(salaire_liste))\n",
    "print(\"Nombre de statut =\", len(statut_liste))\n",
    "salaire_liste"
   ]
  },
  {
   "cell_type": "code",
   "execution_count": null,
   "metadata": {
    "collapsed": false,
    "scrolled": true
   },
   "outputs": [],
   "source": [
    "\n",
    "df = pd.DataFrame(columns = ['Code Onisep', 'Métier'] + interet_liste + secteur_liste + statut_liste\n",
    "                 + ['Niveau diplome', 'Salaire débutant'])\n",
    "\n",
    "j = 0\n",
    "for job in jobs_list[0:10]:\n",
    "    code_oni = job[0:6]\n",
    "    if code_oni[5]=='.':\n",
    "        code_oni=code_oni[0:5]\n",
    "    df.loc[j,'Code Onisep'] = code_oni\n",
    "    \n",
    "    fiche_path = os.path.join(output_dir_path, job)\n",
    "    with open(fiche_path) as f:\n",
    "        metier = json.load(f)\n",
    "        f.close()      \n",
    "    #print(metier)\n",
    "    df.loc[j,'Métier'] = metier[\"Métier\"] \n",
    "    try:\n",
    "        for interet in interet_liste:\n",
    "            if interet in metier[\"Centre(s) d'intérêt \"]:\n",
    "                df.loc[j,str(interet)] = 1\n",
    "        \n",
    "            else:\n",
    "                df.loc[j,str(interet)] = 0\n",
    "    except:\n",
    "        for interet in interet_liste:\n",
    "            df.loc[j,str(interet)] = 0\n",
    "    \n",
    "    try:\n",
    "        for secteur in secteur_liste:\n",
    "            if secteur in metier[\"Secteur(s) professionnel(s) \"]:\n",
    "                df.loc[j,secteur] = 1\n",
    "        \n",
    "            else:\n",
    "                df.loc[j,secteur] = 0\n",
    "    except:\n",
    "        for interet in interet_liste:\n",
    "            df.loc[j,secteur] = 0\n",
    "            \n",
    "    try:\n",
    "        for statut in statut_liste:\n",
    "            if statut in metier[\"Statut(s) \"]:\n",
    "                df.loc[j,statut] = 1\n",
    "        \n",
    "            else:\n",
    "                df.loc[j,statut] = 0\n",
    "    except:\n",
    "        for statut in statut_liste:\n",
    "            df.loc[j,statut] = 0\n",
    "    try:    \n",
    "        if metier[\"Niveau d'accès \"][0]=='3e':\n",
    "            df.loc[j, 'Niveau diplome'] = -2\n",
    "        elif metier[\"Niveau d'accès \"][0]=='sans diplôme':\n",
    "            df.loc[j, 'Niveau diplome'] = -3\n",
    "        elif metier[\"Niveau d'accès \"][0]=='diplôme national du brevet':\n",
    "            df.loc[j, 'Niveau diplome'] = -1\n",
    "        elif metier[\"Niveau d'accès \"][0]=='CAP ou équivalent':\n",
    "            df.loc[j, 'Niveau diplome'] = 0 \n",
    "        elif metier[\"Niveau d'accès \"][0]=='bac ou équivalent':\n",
    "            df.loc[j, 'Niveau diplome'] = 1    \n",
    "        elif metier[\"Niveau d'accès \"][0]=='bac + 1':\n",
    "            df.loc[j, 'Niveau diplome'] = 2\n",
    "        elif metier[\"Niveau d'accès \"][0]=='bac + 2':\n",
    "            df.loc[j, 'Niveau diplome'] = 3\n",
    "        elif metier[\"Niveau d'accès \"][0]=='bac + 3':\n",
    "            df.loc[j, 'Niveau diplome'] = 4    \n",
    "        elif metier[\"Niveau d'accès \"][0]=='bac + 5':\n",
    "            df.loc[j, 'Niveau diplome'] = 5    \n",
    "        elif metier[\"Niveau d'accès \"][0]=='bac + 6':\n",
    "            df.loc[j, 'Niveau diplome'] = 6    \n",
    "        elif metier[\"Niveau d'accès \"][0]=='bac + 7':\n",
    "            df.loc[j, 'Niveau diplome'] = 7    \n",
    "        elif metier[\"Niveau d'accès \"][0]=='bac + 8':\n",
    "            df.loc[j, 'Niveau diplome'] = 8    \n",
    "        elif metier[\"Niveau d'accès \"][0]=='bac + 9 et plus':\n",
    "            df.loc[j, 'Niveau diplome'] = 9\n",
    "    except:\n",
    "        df.loc[j, 'Niveau diplome'] = 0\n",
    "\n",
    "    j += 1\n",
    "#for interet in interet_liste:\n",
    "#df[['Code Onisep','Métier']] = onisep_links\n",
    "df"
   ]
  },
  {
   "cell_type": "code",
   "execution_count": 60,
   "metadata": {
    "collapsed": false
   },
   "outputs": [
    {
     "data": {
      "text/plain": [
       "'/home/timothee/PycharmProjects/ImpalaPoleEmploi2/Impala/Onisep/tsne/00 - Scraping output/100689.json'"
      ]
     },
     "execution_count": 60,
     "metadata": {},
     "output_type": "execute_result"
    }
   ],
   "source": [
    "fiche_path"
   ]
  },
  {
   "cell_type": "code",
   "execution_count": null,
   "metadata": {
    "collapsed": true
   },
   "outputs": [],
   "source": []
  }
 ],
 "metadata": {
  "kernelspec": {
   "display_name": "Python 3",
   "language": "python",
   "name": "python3"
  },
  "language_info": {
   "codemirror_mode": {
    "name": "ipython",
    "version": 3
   },
   "file_extension": ".py",
   "mimetype": "text/x-python",
   "name": "python",
   "nbconvert_exporter": "python",
   "pygments_lexer": "ipython3",
   "version": "3.5.1"
  }
 },
 "nbformat": 4,
 "nbformat_minor": 0
}
