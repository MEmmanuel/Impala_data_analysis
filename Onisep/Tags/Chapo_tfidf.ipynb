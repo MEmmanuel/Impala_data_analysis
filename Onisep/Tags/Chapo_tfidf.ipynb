{
 "cells": [
  {
   "cell_type": "markdown",
   "metadata": {},
   "source": [
    "# Chapo_tfidf"
   ]
  },
  {
   "cell_type": "raw",
   "metadata": {},
   "source": [
    "tf-idf des chapo des métiers\n",
    "\n",
    "Prérequis : un fichier 'data.json' qui contient l'ensemble de tous les textes, importé dans le format d'un dictionnaire les keys sont les titres des textes (par exemple les noms des métiers ou code ROME) les valeurs des keys les textes.\n",
    "\n",
    "Un fichier 'tf_idf.json' sera créer dans un dossier output. Ce fichier contient une liste de mots pour chacune des keys de 'data.json'."
   ]
  },
  {
   "cell_type": "markdown",
   "metadata": {},
   "source": [
    "## Définition des fonctions"
   ]
  },
  {
   "cell_type": "code",
   "execution_count": 11,
   "metadata": {
    "collapsed": true
   },
   "outputs": [],
   "source": [
    "import os\n",
    "import json\n",
    "\n",
    "from nltk import FreqDist\n",
    "from nltk.tokenize import word_tokenize\n",
    "from nltk.stem import SnowballStemmer\n",
    "import math\n",
    "\n",
    "# Fonction pour nettoyer le texte des caractères spéciaux\n",
    "def clean_text(text, characters):\n",
    "    c_text = text\n",
    "    for char in characters:\n",
    "        c_text = c_text.replace(char, \" \")\n",
    "    c_text = c_text.lower()\n",
    "    return(c_text)\n",
    "\n",
    "# Calcul de document frequency\n",
    "def df(data):\n",
    "    df = {}\n",
    "    for desc in data.values():\n",
    "        for token in set(word_tokenize(desc)):\n",
    "            stem = stemmer.stem(token)\n",
    "            if stem in df:\n",
    "                df[stem] += 1\n",
    "            else:\n",
    "                df[stem] = 1\n",
    "    return df"
   ]
  },
  {
   "cell_type": "code",
   "execution_count": 12,
   "metadata": {
    "collapsed": false
   },
   "outputs": [],
   "source": [
    "# Récupération des mots stemmés\n",
    "def stem_words(data):\n",
    "    stem_dict = {}\n",
    "    for k, desc in data.items():\n",
    "        tokens = word_tokenize(desc)\n",
    "        for t in tokens:\n",
    "            token_stem = stemmer.stem(t)\n",
    "            if token_stem in stem_dict:\n",
    "                stem_dict[token_stem].append(t)\n",
    "            else:\n",
    "                stem_dict[token_stem] = [t]\n",
    "\n",
    "    for k, v in stem_dict.items():\n",
    "        stem_dict[k] = list(set(stem_dict[k]))\n",
    "    \n",
    "    return stem_dict"
   ]
  },
  {
   "cell_type": "code",
   "execution_count": 13,
   "metadata": {
    "collapsed": true
   },
   "outputs": [],
   "source": [
    "# Tri des mots par leur valeur de tf-idf.\n",
    "def sorted_tfidf(tf_idf, stem_dict, nb_mots=15):\n",
    "    sorted_tfidf = {}\n",
    "    for clus, dico in tf_idf.items():\n",
    "        list_temp = [(j, i) for i, j in dico.items()]  # on met la valeur du tfidf du mot en 1er attribut\n",
    "        list_temp = sorted(list_temp, reverse=True)  # on ordonne la liste suivant les valeurs de tfidf décroissante\n",
    "        tfidf_clus = [(j,i) for i, j in list_temp]\n",
    "        sorted_clus = []\n",
    "        for (token, j) in tfidf_clus:\n",
    "            token = stem_dict[token]\n",
    "            sorted_clus.append([token, j])\n",
    "        sorted_tfidf[clus] = sorted_clus[0:nb_mots]\n",
    "        \n",
    "    final_tfidf = {}\n",
    "    for k, v in sorted_tfidf.items():\n",
    "        final_tfidf[k] = []\n",
    "        for item in v:\n",
    "            final_tfidf[k].append(item[0][0])\n",
    "    return final_tfidf\n",
    "\n",
    "# tf-idf for all texts\n",
    "def tf_idf(data, nb_mots):\n",
    "    nb_texts = len(data.keys())\n",
    "    term_freq = df(data)\n",
    "\n",
    "    tf_idf ={}\n",
    "    for k, desc in data.items():\n",
    "        tf_idf_clus = {}\n",
    "        tokens = word_tokenize(desc)\n",
    "        tokens = [stemmer.stem(t) for t in tokens]\n",
    "        frequencies = FreqDist(tokens)\n",
    "\n",
    "        for token, freq in frequencies.items():\n",
    "            tf_idf_clus[token] = freq * math.log( nb_texts / (1 + term_freq.get(token, 0)) )\n",
    "\n",
    "        tf_idf[k] = tf_idf_clus\n",
    "\n",
    "    stem_dict = stem_words(data)\n",
    "    return sorted_tfidf(tf_idf,stem_dict,nb_mots)"
   ]
  },
  {
   "cell_type": "markdown",
   "metadata": {},
   "source": [
    "## Application"
   ]
  },
  {
   "cell_type": "markdown",
   "metadata": {},
   "source": [
    "### Préparation des chemins"
   ]
  },
  {
   "cell_type": "code",
   "execution_count": 14,
   "metadata": {
    "collapsed": false
   },
   "outputs": [],
   "source": [
    "dir_path = os.getcwd()\n",
    "data_dir_path = os.path.join(dir_path, '00 - Scraping output')\n",
    "jobs_list = os.listdir(data_dir_path)"
   ]
  },
  {
   "cell_type": "markdown",
   "metadata": {},
   "source": [
    "### Options"
   ]
  },
  {
   "cell_type": "code",
   "execution_count": 15,
   "metadata": {
    "collapsed": true
   },
   "outputs": [],
   "source": [
    "# Stemmer\n",
    "stemmer = SnowballStemmer('french')\n",
    "# Choix du nombre de mots pour le texte\n",
    "nb_mots = 30\n",
    "# Charactères à retirer\n",
    "special_chars = [\",\", \"\\n\",\".\", \"'\", \";\", \"\\\\n\",'\"',\")\",\"(\",\"»\",\"«\", '?','0','1','2','3','4','5','6','7','8','9','—','+','-']"
   ]
  },
  {
   "cell_type": "markdown",
   "metadata": {},
   "source": [
    "### Chargement des données et calculs"
   ]
  },
  {
   "cell_type": "code",
   "execution_count": 20,
   "metadata": {
    "collapsed": true
   },
   "outputs": [],
   "source": [
    "# tf-idf sur les chapo des métiers\n",
    "data = {}\n",
    "for job in jobs_list:\n",
    "    metier_dir_path = os.path.join(data_dir_path, job)\n",
    "    with open(metier_dir_path, 'r') as f:\n",
    "        metier = json.load(f)\n",
    "    data[metier[\"Métier\"]] = metier[\"chapo\"]\n",
    "    for item in metier[\"Le métier\"]:\n",
    "        data[metier[\"Métier\"]] = data[metier[\"Métier\"]] + ' ' + item"
   ]
  },
  {
   "cell_type": "code",
   "execution_count": 22,
   "metadata": {
    "collapsed": false
   },
   "outputs": [
    {
     "data": {
      "text/plain": [
       "\"Aujourd'hui Tokyo, demain New York, Dakar la semaine prochaine... Le métier de pilote de ligne fascine. Mais ce professionnel du ciel doit garder les pieds sur terre : il est responsable de la vie de centaines de passagers. Le métier Nature du travail  Préparer le plan de vol Avant le départ, le pilote établit minutieusement le plan de vol en tenant compte de la météorologie, du trajet et de ses particularités ou difficultés... En fonction du poids de l'avion et de la destination, il calcule la quantité de carburant minimum à emporter. Aidé du copilote, il prépare les instruments de navigation et entre les données dans l'ordinateur de vol. Quand tout est prêt, place à l'ultime récapitulation, à voix haute, des consignes de sécurité. Le commandant de bord demande alors l'autorisation de décoller à la tour de contrôle.  Piloter et garder le contact Tout au long du vol, dans le cockpit, le pilote surveille l'ensemble des paramètres sur le tableau de bord (direction, altitude, météo, consommation de carburant...) et se maintient en liaison permanente avec la tour de contrôle. Il réagit immédiatement en cas de problème.   Assurer la sécurité à bord Tous les vols commerciaux sont sous la responsabilité d'un équipage technique (crew) comprenant les pilotes (personnel navigant technique — PNT) et les navigants commerciaux (hôtesses et stewards — PNC). Le pilote de ligne doit avant tout assurer la sécurité des passagers. Compétences requises  Formation tout au long de la vie La communication se faisant en langue anglaise, le pilote la maîtrise parfaitement. L'admission en formation (Enac,...) comporte un test de niveau. Une mise à jour permanente des compétences techniques de pilotage est nécessaire, car les appareils sont de plus en plus sophistiqués. Des notions de secourisme sont indispensables pour intervenir en cas de problème à bord.  Réactif et résistant Le pilote doit savoir réagir avec sang-froid et rapidité à tout moment : décollage, vol, atterrissage. Mais aussi en cas d'imprévus : brouillard, orages, turbulences... Il fait preuve d'une exigence extrême envers lui-même et envers les membres de l'équipage. Enfin, une condition physique à toute épreuve et un bon équilibre nerveux sont indispensables.\""
      ]
     },
     "execution_count": 22,
     "metadata": {},
     "output_type": "execute_result"
    }
   ],
   "source": [
    "data[\"pilote de ligne\"]"
   ]
  },
  {
   "cell_type": "code",
   "execution_count": null,
   "metadata": {
    "collapsed": true
   },
   "outputs": [],
   "source": []
  },
  {
   "cell_type": "code",
   "execution_count": 23,
   "metadata": {
    "collapsed": false
   },
   "outputs": [],
   "source": [
    "# Nettoyage de la ponctuation dans les définitions des métiers\n",
    "clean_data = {}\n",
    "for metier, text in data.items():\n",
    "    text_str = str(text)\n",
    "    text_c = clean_text(text_str, special_chars)\n",
    "    clean_data[metier] = text_c\n",
    "data2 = clean_data\n",
    "\n",
    "# TF-IDF et sélection des meilleurs résultats\n",
    "res_tf_idf = tf_idf(data2, nb_mots)"
   ]
  },
  {
   "cell_type": "markdown",
   "metadata": {},
   "source": [
    "### Résultats"
   ]
  },
  {
   "cell_type": "code",
   "execution_count": 52,
   "metadata": {
    "collapsed": false
   },
   "outputs": [
    {
     "data": {
      "text/plain": [
       "{\"Centre(s) d'intérêt \": [\"Enquêter - analyser l'information - je veux en faire mon travail\",\n",
       "  \"J'ai le sens du contact\",\n",
       "  \"J'aimerais informer - communiquer\"],\n",
       " 'Métier': 'bibliothécaire',\n",
       " \"Niveau d'accès \": ['bac + 2'],\n",
       " 'Salaire débutant  ': ['1700 euros'],\n",
       " 'Secteur(s) professionnel(s) ': [\"Culture - Patrimoine - Artisanat d'art\",\n",
       "  'Enseignement - Formations',\n",
       "  'Fonction publique',\n",
       "  'Sport - Loisirs - Tourisme'],\n",
       " 'Statut(s) ': ['Statut fonctionnaire', 'Statut salarié'],\n",
       " 'Synonymes ': ['Conservateur/trice ', 'Médiathécaire-documentaliste '],\n",
       " 'chapo': \"Dans une bibliothèque municipale ou à la Bibliothèque nationale de France, le bibliothécaire est le trait d'union entre les ouvrages et les usagers. Accueil du public, conservation du fonds, classement, gestion du prêt... ses tâches sont nombreuses.\"}"
      ]
     },
     "execution_count": 52,
     "metadata": {},
     "output_type": "execute_result"
    }
   ],
   "source": [
    "# Afficher les résultats de tous les texts\n",
    "metier"
   ]
  },
  {
   "cell_type": "code",
   "execution_count": 13,
   "metadata": {
    "collapsed": false
   },
   "outputs": [
    {
     "name": "stdout",
     "output_type": "stream",
     "text": [
      "['forestière', 'agricoles', 'engins', 'coopérative', 'r']\n"
     ]
    }
   ],
   "source": [
    "# Afficher les résultats d'un text en particulier\n",
    "key = \"A1101\"\n",
    "print(tf_idf[key])"
   ]
  },
  {
   "cell_type": "code",
   "execution_count": 24,
   "metadata": {
    "collapsed": false
   },
   "outputs": [],
   "source": [
    "# Copie du dictionnaire au format JSON\n",
    "output_dir_path = os.path.join(dir_path, 'chapo_lemetier_tfidf.json')\n",
    "with open(output_dir_path, 'w') as f:\n",
    "    json.dump(res_tf_idf, f, indent=4)"
   ]
  },
  {
   "cell_type": "code",
   "execution_count": null,
   "metadata": {
    "collapsed": true
   },
   "outputs": [],
   "source": []
  }
 ],
 "metadata": {
  "kernelspec": {
   "display_name": "Python 3",
   "language": "python",
   "name": "python3"
  },
  "language_info": {
   "codemirror_mode": {
    "name": "ipython",
    "version": 3
   },
   "file_extension": ".py",
   "mimetype": "text/x-python",
   "name": "python",
   "nbconvert_exporter": "python",
   "pygments_lexer": "ipython3",
   "version": "3.5.1"
  }
 },
 "nbformat": 4,
 "nbformat_minor": 0
}
