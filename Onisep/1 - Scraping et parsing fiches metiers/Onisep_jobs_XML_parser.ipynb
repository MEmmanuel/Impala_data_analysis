{
 "cells": [
  {
   "cell_type": "markdown",
   "metadata": {},
   "source": [
    "Ce script permet de parser les fiches métiers au format XML envoyé par l'Onisep.\n",
    "Le résultat donne des fiches au format JSON copiés dans le dossier 'Parsing output'."
   ]
  },
  {
   "cell_type": "code",
   "execution_count": 1,
   "metadata": {
    "collapsed": true
   },
   "outputs": [],
   "source": [
    "import os\n",
    "import logging\n",
    "from lxml import etree\n",
    "import json"
   ]
  },
  {
   "cell_type": "code",
   "execution_count": 2,
   "metadata": {
    "collapsed": false
   },
   "outputs": [],
   "source": [
    "# Préparation des chemins utiles\n",
    "#/PycharmProjects/ImpalaPoleEmploi2/Impala/Onisep - tSNE et clustering /MetiersOnisep\n",
    "dir_path = os.getcwd()\n",
    "# Dossier métiers Onisep\n",
    "metiers_dir_path = os.path.join(dir_path, '0 - data/MetiersOnisep')\n",
    "# Dossier output\n",
    "output_dir_path = os.path.join(dir_path, '00 - Parsing output')\n",
    "\n",
    "# Une fiche pour tester\n",
    "fiche = os.path.join(metiers_dir_path,'10002.xml')\n",
    "# Liste des fiches métiers\n",
    "list_xml_files = os.listdir(metiers_dir_path)"
   ]
  },
  {
   "cell_type": "code",
   "execution_count": 4,
   "metadata": {
    "collapsed": true
   },
   "outputs": [],
   "source": [
    "log = logging.getLogger()\n",
    "map(log.removeHandler, log.handlers[:])\n",
    "map(log.removeFilter, log.filters[:])\n",
    "\n",
    "logging.basicConfig(level=logging.DEBUG,\n",
    "                    format='%(asctime)s %(name)-12s %(levelname)-8s %(message)s',\n",
    "                    datefmt='%m-%d %H:%M',\n",
    "                    filemode='w')\n",
    "\n",
    "# define a Handler which writes INFO messages or higher to the sys.stderr\n",
    "console = logging.StreamHandler()\n",
    "console.setLevel(logging.INFO)\n",
    "# set a format which is simpler for console use\n",
    "formatter = logging.Formatter('%(name)-12s: %(levelname)-8s %(message)s')\n",
    "# tell the handler to use this format\n",
    "console.setFormatter(formatter)\n",
    "# add the handler to the root logger\n",
    "log.addHandler(console)"
   ]
  },
  {
   "cell_type": "code",
   "execution_count": 6,
   "metadata": {
    "collapsed": false
   },
   "outputs": [
    {
     "data": {
      "text/plain": [
       "{'Accès au métier': \"Si plusieurs diplômes préparent à ce métier, il faut savoir qu'un niveau d'études plus élevé conduit à des postes avec davantage de responsabilités.\",\n",
       " \"Centres d'intérêt\": ['fabriquer, construire',\n",
       "  'travailler un matériau',\n",
       "  'exercer un métier artistique ou créatif',\n",
       "  'concevoir, utiliser des technologies industrielles de pointe',\n",
       "  'faire du dessin'],\n",
       " 'Descriptif': {'Concevoir les produits': [\"Au sein d'un bureau d'études, il contribue à la conception et au design des produits. Il réalise des plans à partir de modèles existants, en fournissant toutes les indications nécessaires à la fabrication d'un meuble, d'une porte, d'une fenêtre... Cela concerne les études avec plan grandeur nature, le prototype, les méthodes, le contrôle qualité, la gestion des stocks... \"],\n",
       "  'Différentes missions': [\"Définir des méthodes pour concevoir et fabriquer différents ouvrages en bois, participer au lancement et au suivi de la fabrication : tels sont les objectifs du technicien de fabrication exerçant dans les entreprises de menuiserie et d'ameublement. Des missions qui diffèrent selon qu'il exerce en bureau d'études ou en atelier. \"],\n",
       "  'Organiser la production': [\"En atelier, il est responsable d'une cellule de production dont il organise et contrôle le travail sur machines automatisées. En fonction des plans remis par le bureau d'études, il dresse la liste des opérations techniques à réaliser, définit les paramètres d'usinage (vitesse de coupe du bois notamment) et les traduit en langage machine à l'aide des commandes numériques. Puis il vérifie le bon déroulement de la production.\"]},\n",
       " 'Disciplines': ['ameublement', 'bois', 'agencement'],\n",
       " 'Fonctions': ['fonction fabrication industrielle'],\n",
       " 'Groupe Formation Emploi': ['GFE travail du bois',\n",
       "  'technicien de fabrication de mobilier et de menuiserie'],\n",
       " 'Métier': 'technicien/ne de fabrication de mobilier et de menuiserie',\n",
       " 'Métiers associés': ['agent/e de maîtrise de la ville de Paris (agencement bois)'],\n",
       " \"Secteurs d'activité\": [\"secteur industrie de l'ameublement\"],\n",
       " 'Statuts': ['salarié'],\n",
       " 'Vie professionnelle': {'Promotion possible': [\"Quelques années de pratique du métier permettent d'accéder à des fonctions d'encadrement en tant que responsable de bureau d'études ou chef d'atelier. Ce dernier supervise le travail de l'opérateur de fabrication et du conducteur de ligne.\"],\n",
       "  'Élargir ses horizons': [\"Les entreprises de fabrication de meubles ou de menuiserie offrent peu de débouchés. Aussi est-il conseillé d'étendre ses recherches d'emploi à l'agencement, autre branche du secteur de la transformation du bois. Cette activité est aujourd'hui en plein essor, que ce soit chez les fabricants de cuisines intégrées ou dans l'industrie nautique.\"]},\n",
       " 'lien_onisep': 'http://www.onisep.fr/http/redirection/metier/identifiant/10002',\n",
       " 'rome': {'H2204': \"Encadrement des industries de l'ameublement et du bois\",\n",
       "  'H2209': 'Intervention technique en ameublement et bois'}}"
      ]
     },
     "execution_count": 6,
     "metadata": {},
     "output_type": "execute_result"
    }
   ],
   "source": [
    "#This function put all the information of the xml file into a dictionnary\n",
    "def parse_xml_file(fiche):\n",
    "    fiche_dict = {}\n",
    "    #log.info(fiche)\n",
    "    #tree = etree.parse(metiers_dir_path + '/' + fiche)\n",
    "    tree = etree.parse(fiche)\n",
    "    root = tree.getroot()\n",
    "    #log.info(root)Statuts\n",
    "    \n",
    "    fiche_dict[\"Métier\"] = root.find('MET_LIBELLE_METIER').text\n",
    "    \n",
    "    if root.find('MET_CENTRE_INTERET').text is not None:\n",
    "        fiche_dict[\"Centres d'intérêt\"] = root.find('MET_CENTRE_INTERET').text.split('/')\n",
    "    if root.find('MET_CATEGORIE_SOCIO_PRO').text is not None:\n",
    "        fiche_dict[\"Statuts\"] = root.find('MET_CATEGORIE_SOCIO_PRO').text.split('/')\n",
    "    if root.find('MET_DOMAINE').text is not None:\n",
    "        fiche_dict[\"Fonctions\"] = root.find('MET_DOMAINE').text.split('/')\n",
    "    fiche_dict[\"Secteurs d'activité\"] = root.find('MET_SECTEUR_ACTIVITE').text.split('/') \n",
    "    if root.find('MET_DISCIPLINE').text is not None:\n",
    "        fiche_dict[\"Disciplines\"] = root.find('MET_DISCIPLINE').text.split('/')\n",
    "    fiche_dict[\"Groupe Formation Emploi\"] = root.find('MET_GFE').text.split('/')\n",
    "    fiche_dict[\"lien_onisep\"] = root.find('lien_onisep').text\n",
    "   \n",
    "    fiche_dict[\"rome\"] = {}    \n",
    "    bloc_rome = root.find('ROME')\n",
    "    for record in bloc_rome.iter('record'):\n",
    "        code_rome = record.find('FAMROM_CODE_ROME').text\n",
    "        libelle = record.find('FAMROM_LIBELLE').text\n",
    "        fiche_dict[\"rome\"][code_rome] = libelle\n",
    "\n",
    "    fiche_dict[\"Métiers associés\"] = []\n",
    "    for metier in root.iter('METCONN_LIBELLE_METIER'):\n",
    "        fiche_dict[\"Métiers associés\"].append(metier.text)\n",
    "    \n",
    "    fiche_dict[\"Descriptif\"] = {}\n",
    "    for bloc in root.iter('MET_NATURE_DESCRIPTIF'):\n",
    "        name = \"Intro\"\n",
    "        for x in bloc:\n",
    "            if x.tag=='inter':\n",
    "                name = x.text\n",
    "                fiche_dict[\"Descriptif\"][name] = []\n",
    "            else:\n",
    "                fiche_dict[\"Descriptif\"][name] = []\n",
    "                fiche_dict[\"Descriptif\"][name].append(x.text)\n",
    "                \n",
    "    fiche_dict[\"Accès au métier\"] = {}\n",
    "    for bloc in root.iter('MET_ACCES_DESCRIPTIF'):\n",
    "        for x in bloc:\n",
    "            if x.find('accr_p') is not None:\n",
    "                fiche_dict[\"Accès au métier\"] = x.find('accr_p').text\n",
    "        \n",
    "    fiche_dict[\"Vie professionnelle\"] = {}\n",
    "    for bloc in root.iter('MET_VIE_PRO_DESCRIPTIF'):\n",
    "        for x in bloc:\n",
    "            if x.tag=='inter':\n",
    "                name = x.text\n",
    "                fiche_dict[\"Vie professionnelle\"][name] = []\n",
    "            elif x.text is not '\\n':\n",
    "                fiche_dict[\"Vie professionnelle\"][name].append(x.text)\n",
    "                \n",
    "    return fiche_dict\n",
    "\n",
    "parse_xml_file(fiche)"
   ]
  },
  {
   "cell_type": "code",
   "execution_count": 7,
   "metadata": {
    "collapsed": false
   },
   "outputs": [],
   "source": [
    "# Boucle pour parser toutes les fiches\n",
    "for item in list_xml_files:\n",
    "    metier_path = os.path.join(metiers_dir_path, item)\n",
    "    metier = parse_xml_file(metier_path)\n",
    "    metier_output_path = os.path.join(output_dir_path, item) + '.json'\n",
    "    #print(metier_output_path)\n",
    "    with open(metier_output_path, 'w') as f:\n",
    "        json.dump(metier, f, indent=4)"
   ]
  },
  {
   "cell_type": "code",
   "execution_count": null,
   "metadata": {
    "collapsed": true
   },
   "outputs": [],
   "source": []
  }
 ],
 "metadata": {
  "kernelspec": {
   "display_name": "Python 3",
   "language": "python",
   "name": "python3"
  },
  "language_info": {
   "codemirror_mode": {
    "name": "ipython",
    "version": 3
   },
   "file_extension": ".py",
   "mimetype": "text/x-python",
   "name": "python",
   "nbconvert_exporter": "python",
   "pygments_lexer": "ipython3",
   "version": "3.5.1"
  }
 },
 "nbformat": 4,
 "nbformat_minor": 0
}
