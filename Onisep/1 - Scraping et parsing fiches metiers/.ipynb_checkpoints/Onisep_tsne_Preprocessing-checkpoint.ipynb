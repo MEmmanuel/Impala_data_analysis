{
 "cells": [
  {
   "cell_type": "code",
   "execution_count": 1,
   "metadata": {
    "collapsed": true
   },
   "outputs": [],
   "source": [
    "import os\n",
    "import json\n",
    "import numpy as np\n",
    "import math\n",
    "import pandas as pd"
   ]
  },
  {
   "cell_type": "code",
   "execution_count": 9,
   "metadata": {
    "collapsed": false
   },
   "outputs": [
    {
     "data": {
      "text/plain": [
       "734"
      ]
     },
     "execution_count": 9,
     "metadata": {},
     "output_type": "execute_result"
    }
   ],
   "source": [
    "# Chemins utiles\n",
    "dir_path = '/home/timothee/PycharmProjects/ImpalaPoleEmploi2/Impala/Onisep tSNE et clustering'\n",
    "# Dossier data\n",
    "data_dir_path = os.path.join(dir_path, '0 - data')\n",
    "# Dossier output\n",
    "output_dir_path = os.path.join(dir_path, '00 - Scraping output')\n",
    "# Liste des métiers\n",
    "jobs_list = os.listdir(output_dir_path)\n",
    "len(jobs_list)"
   ]
  },
  {
   "cell_type": "code",
   "execution_count": 7,
   "metadata": {
    "collapsed": false
   },
   "outputs": [
    {
     "data": {
      "text/plain": [
       "{\"Centre(s) d'intérêt \": [\"Je rêve d'un métier artistique\",\n",
       "  'Je suis branché high tech',\n",
       "  \"Réparer - bricoler - j'adore ça\"],\n",
       " 'Métier': 'technicien / technicienne de fabrication de mobilier et de menuiserie',\n",
       " 'Métiers Associés ': ['Agent/e de maîtrise de la ville de Paris (agencement bois)'],\n",
       " \"Niveau d'accès \": ['bac ou équivalent'],\n",
       " 'Salaire débutant  ': ['1466 euros'],\n",
       " 'Secteur(s) professionnel(s) ': ['Bois - Meubles - Papier - Carton'],\n",
       " 'Statut(s) ': ['Statut salarié'],\n",
       " 'Synonymes ': ['Technicien/ne de production bois bâtiment ameublement',\n",
       "  \"Technicien/ne des industries de l'ameublement et du bois \"]}"
      ]
     },
     "execution_count": 7,
     "metadata": {},
     "output_type": "execute_result"
    }
   ],
   "source": [
    "fiche_path = os.path.join(output_dir_path, '10002.json')\n",
    "with open(fiche_path) as f:\n",
    "    metier = json.load(f)\n",
    "    f.close()\n",
    "\n",
    "metier"
   ]
  },
  {
   "cell_type": "code",
   "execution_count": 4,
   "metadata": {
    "collapsed": false
   },
   "outputs": [],
   "source": [
    "interet_liste = []\n",
    "secteur_liste = []\n",
    "niveau_liste = []\n",
    "salaire_liste = []\n",
    "statut_liste = []\n",
    "for identifiant in jobs_list:\n",
    "    fiche_path = os.path.join(output_dir_path, identifiant)\n",
    "    with open(fiche_path) as f:\n",
    "        metier = json.load(f)\n",
    "        f.close()\n",
    "    #print(metier)\n",
    "    try:\n",
    "        for interet in metier[\"Centre(s) d'intérêt \"]:\n",
    "            if interet not in interet_liste:\n",
    "                interet_liste.append(interet)\n",
    "    except:\n",
    "        pass\n",
    "    \n",
    "    try:\n",
    "        for secteur in metier[\"Secteur(s) professionnel(s) \"]:\n",
    "            if secteur not in secteur_liste:\n",
    "                secteur_liste.append(secteur)\n",
    "    except:\n",
    "        pass\n",
    "\n",
    "    try:\n",
    "        for niveau in metier[\"Niveau d'accès \"]:\n",
    "            if niveau not in niveau_liste:\n",
    "                niveau_liste.append(niveau)\n",
    "    except:\n",
    "        pass\n",
    "    \n",
    "    try:\n",
    "        for salaire in metier[\"Salaire débutant  \"]:\n",
    "            if salaire not in salaire_liste:\n",
    "                salaire_liste.append(salaire)\n",
    "    except:\n",
    "        pass\n",
    "    \n",
    "    try:\n",
    "        for statut in metier[\"Statut(s) \"]:\n",
    "            if statut not in statut_liste:\n",
    "                statut_liste.append(statut)\n",
    "    except:\n",
    "        pass"
   ]
  },
  {
   "cell_type": "code",
   "execution_count": 5,
   "metadata": {
    "collapsed": false
   },
   "outputs": [
    {
     "name": "stdout",
     "output_type": "stream",
     "text": [
      "Nombre de centre d'intérêt = 25\n",
      "Nombre de secteurs professionnels = 32\n",
      "Nombre de niveaux d'accès = 14\n",
      "Nombre de salaire débutants = 132\n",
      "Nombre de statut = 9\n"
     ]
    }
   ],
   "source": [
    "print(\"Nombre de centre d'intérêt =\", len(interet_liste))\n",
    "print(\"Nombre de secteurs professionnels =\", len(secteur_liste))\n",
    "print(\"Nombre de niveaux d'accès =\", len(niveau_liste))\n",
    "print(\"Nombre de salaire débutants =\", len(salaire_liste))\n",
    "print(\"Nombre de statut =\", len(statut_liste))"
   ]
  },
  {
   "cell_type": "code",
   "execution_count": 15,
   "metadata": {
    "collapsed": false
   },
   "outputs": [
    {
     "data": {
      "text/html": [
       "<div>\n",
       "<table border=\"1\" class=\"dataframe\">\n",
       "  <thead>\n",
       "    <tr style=\"text-align: right;\">\n",
       "      <th></th>\n",
       "      <th>Code Onisep</th>\n",
       "      <th>Métier</th>\n",
       "      <th>Le sport est ma passion</th>\n",
       "      <th>Je suis branché high tech</th>\n",
       "      <th>Je veux travailler de mes mains</th>\n",
       "      <th>Réparer - bricoler - j'adore ça</th>\n",
       "      <th>J'ai le sens du contact</th>\n",
       "      <th>Je veux protéger la planète</th>\n",
       "      <th>J'aime bouger</th>\n",
       "      <th>J'aime les sensations fortes</th>\n",
       "      <th>...</th>\n",
       "      <th>Statut artisan</th>\n",
       "      <th>Statut fonctionnaire</th>\n",
       "      <th>Indépendant</th>\n",
       "      <th>Militaire</th>\n",
       "      <th>Libéral</th>\n",
       "      <th>Saisonnier</th>\n",
       "      <th>Contrat de volontariat</th>\n",
       "      <th>Intermittent du spectacle</th>\n",
       "      <th>Niveau diplome</th>\n",
       "      <th>Salaire débutant</th>\n",
       "    </tr>\n",
       "  </thead>\n",
       "  <tbody>\n",
       "  </tbody>\n",
       "</table>\n",
       "<p>0 rows × 70 columns</p>\n",
       "</div>"
      ],
      "text/plain": [
       "Empty DataFrame\n",
       "Columns: [Code Onisep, Métier, Le sport est ma passion, Je suis branché high tech, Je veux travailler de mes mains, Réparer - bricoler - j'adore ça, J'ai le sens du contact, Je veux protéger la planète, J'aime bouger, J'aime les sensations fortes, J'aime organiser - gérer, Je veux être aux commandes, Je veux être utile aux autres, Je veux faire respecter la loi, J'aime la nature, J'aimerais travailler dehors, J'aimerais informer - communiquer, Ma vocation est de soigner, Je rêve d'un métier artistique, J'aime faire des expériences, J'ai la bosse du commerce, J'aime le contact avec les enfants, J'aime jongler avec les chiffres, Je rêve de travailler à l'étranger, Je suis fort en langues, Enquêter - analyser l'information - je veux en faire mon travail, Je veux m'occuper d'animaux, Sport - Loisirs - Tourisme, Informatique, Presse - Edition - imprimerie, Automobile, Chimie - Plasturgie - Industrie pharmaceutique, Electronique - Electrotechnique, Mécanique - Métallurgie, Construction navale, ferroviaire et aéronautique, Audit - Conseil - Ressources humaines, Fonction publique, Armée - Sécurité, Environnement, Santé - Social - Bien-être, Communication - Publicité, Enseignement - Formations, Recherche, Architecture - BTP, Commerce - Distribution, Maintenance - Entretien, Transport - Logistique, Mode et industrie textile, Bois - Meubles - Papier - Carton, Energies et extraction, Agro-alimentaire, Arts du spectacle - Audiovisuel, Agriculture, Culture - Patrimoine - Artisanat d'art, Hôtellerie - Restauration, Droit - Justice, Banque - Assurances -Immobilier, Télécommunications, Verre - Béton - Céramique, Statut salarié, Statut artisan, Statut fonctionnaire, Indépendant, Militaire, Libéral, Saisonnier, Contrat de volontariat, Intermittent du spectacle, Niveau diplome, Salaire débutant]\n",
       "Index: []\n",
       "\n",
       "[0 rows x 70 columns]"
      ]
     },
     "execution_count": 15,
     "metadata": {},
     "output_type": "execute_result"
    }
   ],
   "source": [
    "\n",
    "df = pd.DataFrame(columns = ['Code Onisep', 'Métier'] + interet_liste + secteur_liste + statut_liste\n",
    "                 + ['Niveau diplome', 'Salaire débutant'])\n",
    "\n",
    "for job in jobs_list:\n",
    "    code_oni = job[0:6]\n",
    "    if code_oni[5]=='.':\n",
    "        code_oni=code_oni[0:5]\n",
    "    \n",
    "#for interet in interet_liste:\n",
    "df"
   ]
  },
  {
   "cell_type": "code",
   "execution_count": null,
   "metadata": {
    "collapsed": true
   },
   "outputs": [],
   "source": []
  }
 ],
 "metadata": {
  "kernelspec": {
   "display_name": "Python 3",
   "language": "python",
   "name": "python3"
  },
  "language_info": {
   "codemirror_mode": {
    "name": "ipython",
    "version": 3
   },
   "file_extension": ".py",
   "mimetype": "text/x-python",
   "name": "python",
   "nbconvert_exporter": "python",
   "pygments_lexer": "ipython3",
   "version": "3.5.1"
  }
 },
 "nbformat": 4,
 "nbformat_minor": 0
}
