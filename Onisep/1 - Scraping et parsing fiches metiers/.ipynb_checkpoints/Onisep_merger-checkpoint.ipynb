{
 "cells": [
  {
   "cell_type": "markdown",
   "metadata": {},
   "source": [
    "Ce script fusionne les associations Métiers de l'Onisep - Code ROME faite par Impala et par l'Onisep."
   ]
  },
  {
   "cell_type": "code",
   "execution_count": 2,
   "metadata": {
    "collapsed": true
   },
   "outputs": [],
   "source": [
    "import os\n",
    "import json\n",
    "import numpy as np\n",
    "import math\n",
    "import pandas as pd"
   ]
  },
  {
   "cell_type": "code",
   "execution_count": 38,
   "metadata": {
    "collapsed": false
   },
   "outputs": [],
   "source": [
    "# Chemins utiles\n",
    "dir_path = '/home/timothee/PycharmProjects/ImpalaPoleEmploi2/Impala/Onisep tSNE et clustering'\n",
    "# Dossier data\n",
    "data_dir_path = os.path.join(dir_path, '0 - data')\n",
    "# Fichier Onisep_vs_PE.csv\n",
    "onisep_vs_pe_path = os.path.join(data_dir_path, 'ONISEP_vs_PE.csv')\n",
    "# Dossier Scraping \n",
    "scraping_dir_path = os.path.join(dir_path, '00 - Scraping output')\n",
    "# Dossier Parsing\n",
    "parsing_dir_path = os.path.join(dir_path, '00 - Parsing output')\n",
    "# Liste des métiers\n",
    "scraping_list = os.listdir(scraping_dir_path)\n",
    "parsing_list = os.listdir(parsing_dir_path)"
   ]
  },
  {
   "cell_type": "code",
   "execution_count": 5,
   "metadata": {
    "collapsed": false
   },
   "outputs": [
    {
     "data": {
      "text/plain": [
       "[\"Secteurs d'activité\",\n",
       " 'Vie professionnelle',\n",
       " 'Métier',\n",
       " 'rome',\n",
       " 'Accès au métier',\n",
       " 'Fonctions',\n",
       " 'Statuts',\n",
       " 'Descriptif',\n",
       " 'lien_onisep',\n",
       " \"Centres d'intérêt\",\n",
       " 'Groupe Formation Emploi',\n",
       " 'Disciplines',\n",
       " 'Métiers associés']"
      ]
     },
     "execution_count": 5,
     "metadata": {},
     "output_type": "execute_result"
    }
   ],
   "source": [
    "parsing_path = os.path.join(parsing_dir_path, parsing_list[1])\n",
    "with open(parsing_path) as f:\n",
    "    parse = json.load(f)\n",
    "    f.close\n",
    "\n",
    "list(parse.keys())"
   ]
  },
  {
   "cell_type": "code",
   "execution_count": 7,
   "metadata": {
    "collapsed": false
   },
   "outputs": [
    {
     "data": {
      "text/html": [
       "<div>\n",
       "<table border=\"1\" class=\"dataframe\">\n",
       "  <thead>\n",
       "    <tr style=\"text-align: right;\">\n",
       "      <th></th>\n",
       "      <th>metier_onisep</th>\n",
       "      <th>lien_onisep</th>\n",
       "      <th>code_onisep</th>\n",
       "    </tr>\n",
       "  </thead>\n",
       "  <tbody>\n",
       "    <tr>\n",
       "      <th>0</th>\n",
       "      <td>technicien/ne de fabrication de mobilier et de...</td>\n",
       "      <td>http://www.onisep.fr/http/redirection/metier/i...</td>\n",
       "      <td>10002</td>\n",
       "    </tr>\n",
       "    <tr>\n",
       "      <th>1</th>\n",
       "      <td>agenceur/euse de cuisines et salles de bains</td>\n",
       "      <td>http://www.onisep.fr/http/redirection/metier/i...</td>\n",
       "      <td>10003</td>\n",
       "    </tr>\n",
       "    <tr>\n",
       "      <th>2</th>\n",
       "      <td>chef/fe de fabrication des industries graphiques</td>\n",
       "      <td>http://www.onisep.fr/http/redirection/metier/i...</td>\n",
       "      <td>10005</td>\n",
       "    </tr>\n",
       "    <tr>\n",
       "      <th>3</th>\n",
       "      <td>conducteur/trice de machines à imprimer</td>\n",
       "      <td>http://www.onisep.fr/http/redirection/metier/i...</td>\n",
       "      <td>10007</td>\n",
       "    </tr>\n",
       "    <tr>\n",
       "      <th>4</th>\n",
       "      <td>opérateur/trice prépresse</td>\n",
       "      <td>http://www.onisep.fr/http/redirection/metier/i...</td>\n",
       "      <td>10008</td>\n",
       "    </tr>\n",
       "  </tbody>\n",
       "</table>\n",
       "</div>"
      ],
      "text/plain": [
       "                                       metier_onisep  \\\n",
       "0  technicien/ne de fabrication de mobilier et de...   \n",
       "1       agenceur/euse de cuisines et salles de bains   \n",
       "2   chef/fe de fabrication des industries graphiques   \n",
       "3           conducteur/trice de machines à imprimer    \n",
       "4                          opérateur/trice prépresse   \n",
       "\n",
       "                                         lien_onisep code_onisep  \n",
       "0  http://www.onisep.fr/http/redirection/metier/i...       10002  \n",
       "1  http://www.onisep.fr/http/redirection/metier/i...       10003  \n",
       "2  http://www.onisep.fr/http/redirection/metier/i...       10005  \n",
       "3  http://www.onisep.fr/http/redirection/metier/i...       10007  \n",
       "4  http://www.onisep.fr/http/redirection/metier/i...       10008  "
      ]
     },
     "execution_count": 7,
     "metadata": {},
     "output_type": "execute_result"
    }
   ],
   "source": [
    "# Chargement des liens\n",
    "onisep_link_path = os.path.join(data_dir_path, 'Onisep_metier_link.csv')\n",
    "df = pd.read_csv(onisep_link_path, sep =\";\", header=0)\n",
    "df.columns=[\"metier_onisep\",\"lien_onisep\"]\n",
    "\n",
    "code_onisep = []\n",
    "for row in df.itertuples():\n",
    "    link = row[2]\n",
    "    identifiant = link[-5:-1] + link[-1]\n",
    "    if identifiant[0]!='1':\n",
    "        identifiant = '1' + identifiant\n",
    "    code_onisep.append(identifiant)\n",
    "    \n",
    "df[\"code_onisep\"] = pd.Series(code_onisep)\n",
    "df.head()"
   ]
  },
  {
   "cell_type": "code",
   "execution_count": 35,
   "metadata": {
    "collapsed": false
   },
   "outputs": [],
   "source": [
    "n = len(scraping_list)\n",
    "for i in range(n):\n",
    "    # Ajout de l'intitulé du métier du site de l'Onisep\n",
    "    identifiant_scraping = scraping_list[i][0:6]\n",
    "    if identifiant_scraping[5]=='.':\n",
    "        identifiant_scraping = identifiant_scraping[0:5]\n",
    "    index_scraping = df[df[\"code_onisep\"]==identifiant_scraping].index\n",
    "    \n",
    "    scraping_path = os.path.join(scraping_dir_path, scraping_list[i])\n",
    "    with open(scraping_path) as f:\n",
    "        scrap = json.load(f)\n",
    "        f.close\n",
    "\n",
    "    intitule_site_onisep = scrap[\"Métier\"]\n",
    "    df.loc[index_scraping,\"intitule_site_onisep\"] = intitule_site_onisep\n",
    "    \n",
    "    \n",
    "for i in range(n+2): \n",
    "    # Ajout de l'intitulé du métier des fiches XML envoyés par l'Onisep \n",
    "    # et ajout de l'association code ROME - fiche métier faite par l'Onisep\n",
    "    identifiant = parsing_list[i][0:6]\n",
    "    if identifiant[5]=='.':\n",
    "        identifiant = identifiant[0:5]\n",
    "    index = df[df[\"code_onisep\"]==identifiant].index\n",
    "    parsing_path = os.path.join(parsing_dir_path, parsing_list[i])\n",
    "    with open(parsing_path) as f:\n",
    "        parse = json.load(f)\n",
    "        f.close\n",
    "    \n",
    "    intitule_XML = parse[\"Métier\"]\n",
    "    df.loc[index,\"intitule_XML\"] = intitule_XML\n",
    "    \n",
    "    rome = parse[\"rome\"]\n",
    "    j = 0\n",
    "    for code_rome, intitule_rome in rome.items():\n",
    "        j += 1\n",
    "        df.loc[index,\"code_ROME_\" + str(j)] = code_rome\n",
    "        df.loc[index,\"intitule_ROME_\"+ str(j)] = intitule_rome"
   ]
  },
  {
   "cell_type": "code",
   "execution_count": 40,
   "metadata": {
    "collapsed": false
   },
   "outputs": [
    {
     "data": {
      "text/html": [
       "<div>\n",
       "<table border=\"1\" class=\"dataframe\">\n",
       "  <thead>\n",
       "    <tr style=\"text-align: right;\">\n",
       "      <th></th>\n",
       "      <th>Metier</th>\n",
       "      <th>code ROME</th>\n",
       "    </tr>\n",
       "  </thead>\n",
       "  <tbody>\n",
       "    <tr>\n",
       "      <th>0</th>\n",
       "      <td>accessoiriste</td>\n",
       "      <td>L1503</td>\n",
       "    </tr>\n",
       "    <tr>\n",
       "      <th>1</th>\n",
       "      <td>accompagnateur / accompagnatrice de voyages</td>\n",
       "      <td>G1201</td>\n",
       "    </tr>\n",
       "    <tr>\n",
       "      <th>2</th>\n",
       "      <td>acheteur / acheteuse</td>\n",
       "      <td>M1101</td>\n",
       "    </tr>\n",
       "    <tr>\n",
       "      <th>3</th>\n",
       "      <td>acheteur / acheteuse d'espaces publicitaires</td>\n",
       "      <td>E1402</td>\n",
       "    </tr>\n",
       "    <tr>\n",
       "      <th>4</th>\n",
       "      <td>actuaire</td>\n",
       "      <td>C1105</td>\n",
       "    </tr>\n",
       "  </tbody>\n",
       "</table>\n",
       "</div>"
      ],
      "text/plain": [
       "                                         Metier code ROME\n",
       "0                                 accessoiriste     L1503\n",
       "1   accompagnateur / accompagnatrice de voyages     G1201\n",
       "2                          acheteur / acheteuse     M1101\n",
       "3  acheteur / acheteuse d'espaces publicitaires     E1402\n",
       "4                                      actuaire     C1105"
      ]
     },
     "execution_count": 40,
     "metadata": {},
     "output_type": "execute_result"
    }
   ],
   "source": [
    "# Association code ROME - métier de l'Onisep faite par Antoine et Adel\n",
    "onisep_pe = pd.read_csv(onisep_vs_pe_path)\n",
    "onisep_pe.head()"
   ]
  },
  {
   "cell_type": "code",
   "execution_count": 41,
   "metadata": {
    "collapsed": true
   },
   "outputs": [],
   "source": [
    "# Ajout dans le data frame\n",
    "for row in onisep_pe.itertuples():\n",
    "    metier = row[1]\n",
    "    code_rome = row[2]\n",
    "    index = df[df[\"intitule_site_onisep\"]==metier].index\n",
    "    df.loc[index,\"code_ROME (Impala)\"] = code_rome"
   ]
  },
  {
   "cell_type": "code",
   "execution_count": 42,
   "metadata": {
    "collapsed": false
   },
   "outputs": [
    {
     "data": {
      "text/html": [
       "<div>\n",
       "<table border=\"1\" class=\"dataframe\">\n",
       "  <thead>\n",
       "    <tr style=\"text-align: right;\">\n",
       "      <th></th>\n",
       "      <th>metier_onisep</th>\n",
       "      <th>lien_onisep</th>\n",
       "      <th>code_onisep</th>\n",
       "      <th>intitule_site_onisep</th>\n",
       "      <th>intitule_XML</th>\n",
       "      <th>code_ROME_1</th>\n",
       "      <th>intitule_ROME_1</th>\n",
       "      <th>code_ROME_2</th>\n",
       "      <th>intitule_ROME_2</th>\n",
       "      <th>code_ROME_3</th>\n",
       "      <th>intitule_ROME_3</th>\n",
       "      <th>code_ROME_4</th>\n",
       "      <th>intitule_ROME_4</th>\n",
       "      <th>code_ROME_5</th>\n",
       "      <th>intitule_ROME_5</th>\n",
       "      <th>code_ROME (Impala)</th>\n",
       "    </tr>\n",
       "  </thead>\n",
       "  <tbody>\n",
       "    <tr>\n",
       "      <th>0</th>\n",
       "      <td>technicien/ne de fabrication de mobilier et de...</td>\n",
       "      <td>http://www.onisep.fr/http/redirection/metier/i...</td>\n",
       "      <td>10002</td>\n",
       "      <td>technicien / technicienne de fabrication de mo...</td>\n",
       "      <td>technicien/ne de fabrication de mobilier et de...</td>\n",
       "      <td>H2209</td>\n",
       "      <td>Intervention technique en ameublement et bois</td>\n",
       "      <td>H2204</td>\n",
       "      <td>Encadrement des industries de l'ameublement et...</td>\n",
       "      <td>NaN</td>\n",
       "      <td>NaN</td>\n",
       "      <td>NaN</td>\n",
       "      <td>NaN</td>\n",
       "      <td>NaN</td>\n",
       "      <td>NaN</td>\n",
       "      <td>H2202</td>\n",
       "    </tr>\n",
       "    <tr>\n",
       "      <th>1</th>\n",
       "      <td>agenceur/euse de cuisines et salles de bains</td>\n",
       "      <td>http://www.onisep.fr/http/redirection/metier/i...</td>\n",
       "      <td>10003</td>\n",
       "      <td>agenceur / agenceuse de cuisines et salles de ...</td>\n",
       "      <td>agenceur/euse de cuisines et salles de bains</td>\n",
       "      <td>F1604</td>\n",
       "      <td>Montage d'agencements</td>\n",
       "      <td>H2206</td>\n",
       "      <td>Réalisation de menuiserie bois et tonnellerie</td>\n",
       "      <td>NaN</td>\n",
       "      <td>NaN</td>\n",
       "      <td>NaN</td>\n",
       "      <td>NaN</td>\n",
       "      <td>NaN</td>\n",
       "      <td>NaN</td>\n",
       "      <td>H2206</td>\n",
       "    </tr>\n",
       "    <tr>\n",
       "      <th>2</th>\n",
       "      <td>chef/fe de fabrication des industries graphiques</td>\n",
       "      <td>http://www.onisep.fr/http/redirection/metier/i...</td>\n",
       "      <td>10005</td>\n",
       "      <td>chef / cheffe de fabrication des industries gr...</td>\n",
       "      <td>chef/fe de fabrication des industries graphiques</td>\n",
       "      <td>E1303</td>\n",
       "      <td>Encadrement des industries graphiques</td>\n",
       "      <td>NaN</td>\n",
       "      <td>NaN</td>\n",
       "      <td>NaN</td>\n",
       "      <td>NaN</td>\n",
       "      <td>NaN</td>\n",
       "      <td>NaN</td>\n",
       "      <td>NaN</td>\n",
       "      <td>NaN</td>\n",
       "      <td>NaN</td>\n",
       "    </tr>\n",
       "    <tr>\n",
       "      <th>3</th>\n",
       "      <td>conducteur/trice de machines à imprimer</td>\n",
       "      <td>http://www.onisep.fr/http/redirection/metier/i...</td>\n",
       "      <td>10007</td>\n",
       "      <td>conducteur / conductrice de machines à imprimer</td>\n",
       "      <td>conducteur/trice de machines à imprimer</td>\n",
       "      <td>E1301</td>\n",
       "      <td>Conduite de machines d'impression</td>\n",
       "      <td>NaN</td>\n",
       "      <td>NaN</td>\n",
       "      <td>NaN</td>\n",
       "      <td>NaN</td>\n",
       "      <td>NaN</td>\n",
       "      <td>NaN</td>\n",
       "      <td>NaN</td>\n",
       "      <td>NaN</td>\n",
       "      <td>NaN</td>\n",
       "    </tr>\n",
       "    <tr>\n",
       "      <th>4</th>\n",
       "      <td>opérateur/trice prépresse</td>\n",
       "      <td>http://www.onisep.fr/http/redirection/metier/i...</td>\n",
       "      <td>10008</td>\n",
       "      <td>opérateur / opératrice prépresse</td>\n",
       "      <td>opérateur/trice prépresse</td>\n",
       "      <td>E1306</td>\n",
       "      <td>Prépresse</td>\n",
       "      <td>NaN</td>\n",
       "      <td>NaN</td>\n",
       "      <td>NaN</td>\n",
       "      <td>NaN</td>\n",
       "      <td>NaN</td>\n",
       "      <td>NaN</td>\n",
       "      <td>NaN</td>\n",
       "      <td>NaN</td>\n",
       "      <td>E1306</td>\n",
       "    </tr>\n",
       "  </tbody>\n",
       "</table>\n",
       "</div>"
      ],
      "text/plain": [
       "                                       metier_onisep  \\\n",
       "0  technicien/ne de fabrication de mobilier et de...   \n",
       "1       agenceur/euse de cuisines et salles de bains   \n",
       "2   chef/fe de fabrication des industries graphiques   \n",
       "3           conducteur/trice de machines à imprimer    \n",
       "4                          opérateur/trice prépresse   \n",
       "\n",
       "                                         lien_onisep code_onisep  \\\n",
       "0  http://www.onisep.fr/http/redirection/metier/i...       10002   \n",
       "1  http://www.onisep.fr/http/redirection/metier/i...       10003   \n",
       "2  http://www.onisep.fr/http/redirection/metier/i...       10005   \n",
       "3  http://www.onisep.fr/http/redirection/metier/i...       10007   \n",
       "4  http://www.onisep.fr/http/redirection/metier/i...       10008   \n",
       "\n",
       "                                intitule_site_onisep  \\\n",
       "0  technicien / technicienne de fabrication de mo...   \n",
       "1  agenceur / agenceuse de cuisines et salles de ...   \n",
       "2  chef / cheffe de fabrication des industries gr...   \n",
       "3    conducteur / conductrice de machines à imprimer   \n",
       "4                   opérateur / opératrice prépresse   \n",
       "\n",
       "                                        intitule_XML code_ROME_1  \\\n",
       "0  technicien/ne de fabrication de mobilier et de...       H2209   \n",
       "1       agenceur/euse de cuisines et salles de bains       F1604   \n",
       "2   chef/fe de fabrication des industries graphiques       E1303   \n",
       "3           conducteur/trice de machines à imprimer        E1301   \n",
       "4                          opérateur/trice prépresse       E1306   \n",
       "\n",
       "                                 intitule_ROME_1 code_ROME_2  \\\n",
       "0  Intervention technique en ameublement et bois       H2204   \n",
       "1                          Montage d'agencements       H2206   \n",
       "2          Encadrement des industries graphiques         NaN   \n",
       "3              Conduite de machines d'impression         NaN   \n",
       "4                                      Prépresse         NaN   \n",
       "\n",
       "                                     intitule_ROME_2 code_ROME_3  \\\n",
       "0  Encadrement des industries de l'ameublement et...         NaN   \n",
       "1      Réalisation de menuiserie bois et tonnellerie         NaN   \n",
       "2                                                NaN         NaN   \n",
       "3                                                NaN         NaN   \n",
       "4                                                NaN         NaN   \n",
       "\n",
       "  intitule_ROME_3 code_ROME_4 intitule_ROME_4 code_ROME_5 intitule_ROME_5  \\\n",
       "0             NaN         NaN             NaN         NaN             NaN   \n",
       "1             NaN         NaN             NaN         NaN             NaN   \n",
       "2             NaN         NaN             NaN         NaN             NaN   \n",
       "3             NaN         NaN             NaN         NaN             NaN   \n",
       "4             NaN         NaN             NaN         NaN             NaN   \n",
       "\n",
       "  code_ROME (Impala)  \n",
       "0              H2202  \n",
       "1              H2206  \n",
       "2                NaN  \n",
       "3                NaN  \n",
       "4              E1306  "
      ]
     },
     "execution_count": 42,
     "metadata": {},
     "output_type": "execute_result"
    }
   ],
   "source": [
    "# Aperçu final du data frame\n",
    "df.head()"
   ]
  },
  {
   "cell_type": "code",
   "execution_count": 44,
   "metadata": {
    "collapsed": true
   },
   "outputs": [],
   "source": [
    "# Copie du tableau au format csv\n",
    "output_path = os.path.join(dir_path, 'Métiers_Onisep_ROME.csv')\n",
    "df.to_csv(output_path)"
   ]
  },
  {
   "cell_type": "code",
   "execution_count": 30,
   "metadata": {
    "collapsed": false
   },
   "outputs": [
    {
     "name": "stdout",
     "output_type": "stream",
     "text": [
      "100703\n",
      "100704\n"
     ]
    }
   ],
   "source": [
    "# Code Onisep des métiers avec des intitulés différents entre les fiches XML et le site internet\n",
    "temp_list = []\n",
    "for item in scraping_list:\n",
    "    temp_list.append(item[0:6])\n",
    "\n",
    "for item in parsing_list:\n",
    "    if item[0:6] not in temp_list:\n",
    "        print(item[0:6])\n",
    "\n",
    "# Intitulé des métiers quand ils sont différents\n",
    "c = 0\n",
    "for row in df.itertuples():\n",
    "    if row[1]!= row[5]:\n",
    "        print(row[1], row[5])\n",
    "        c+=1\n",
    "print(c)"
   ]
  }
 ],
 "metadata": {
  "kernelspec": {
   "display_name": "Python 3",
   "language": "python",
   "name": "python3"
  },
  "language_info": {
   "codemirror_mode": {
    "name": "ipython",
    "version": 3
   },
   "file_extension": ".py",
   "mimetype": "text/x-python",
   "name": "python",
   "nbconvert_exporter": "python",
   "pygments_lexer": "ipython3",
   "version": "3.5.1"
  }
 },
 "nbformat": 4,
 "nbformat_minor": 0
}
