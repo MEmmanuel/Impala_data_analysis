{
 "cells": [
  {
   "cell_type": "markdown",
   "metadata": {},
   "source": [
    "Ce script permet de scraper les fiches métiers de l'Onisep sur le site de l'Onisep.\n",
    "Les liens vers les fiches viennent d'un document disponible sur data.gouv.fr : http://www.data.gouv.fr/fr/datasets/liste-des-metiers-onisep/\n",
    "Le résultat donne des fiches au format JSON copiés dans le dossier 'Scraping output'."
   ]
  },
  {
   "cell_type": "code",
   "execution_count": 4,
   "metadata": {
    "collapsed": true
   },
   "outputs": [],
   "source": [
    "import os\n",
    "import json\n",
    "import numpy as np\n",
    "import math\n",
    "import pandas as pd\n",
    "from urllib import request\n",
    "from bs4 import BeautifulSoup"
   ]
  },
  {
   "cell_type": "code",
   "execution_count": 5,
   "metadata": {
    "collapsed": true
   },
   "outputs": [],
   "source": [
    "# Dossier de travail\n",
    "dir_path = os.getcwd()\n",
    "# Dossier data\n",
    "data_dir_path = os.path.join(dir_path, '0 - data')\n",
    "# Dossier scraping output\n",
    "output_dir_path = os.path.join(dir_path, '00 - Scraping output')"
   ]
  },
  {
   "cell_type": "code",
   "execution_count": 6,
   "metadata": {
    "collapsed": false
   },
   "outputs": [
    {
     "data": {
      "text/html": [
       "<div>\n",
       "<table border=\"1\" class=\"dataframe\">\n",
       "  <thead>\n",
       "    <tr style=\"text-align: right;\">\n",
       "      <th></th>\n",
       "      <th>libellé métier</th>\n",
       "      <th>lien site onisep.fr</th>\n",
       "    </tr>\n",
       "  </thead>\n",
       "  <tbody>\n",
       "    <tr>\n",
       "      <th>0</th>\n",
       "      <td>technicien/ne de fabrication de mobilier et de...</td>\n",
       "      <td>http://www.onisep.fr/http/redirection/metier/i...</td>\n",
       "    </tr>\n",
       "    <tr>\n",
       "      <th>1</th>\n",
       "      <td>agenceur/euse de cuisines et salles de bains</td>\n",
       "      <td>http://www.onisep.fr/http/redirection/metier/i...</td>\n",
       "    </tr>\n",
       "    <tr>\n",
       "      <th>2</th>\n",
       "      <td>chef/fe de fabrication des industries graphiques</td>\n",
       "      <td>http://www.onisep.fr/http/redirection/metier/i...</td>\n",
       "    </tr>\n",
       "    <tr>\n",
       "      <th>3</th>\n",
       "      <td>conducteur/trice de machines à imprimer</td>\n",
       "      <td>http://www.onisep.fr/http/redirection/metier/i...</td>\n",
       "    </tr>\n",
       "    <tr>\n",
       "      <th>4</th>\n",
       "      <td>opérateur/trice prépresse</td>\n",
       "      <td>http://www.onisep.fr/http/redirection/metier/i...</td>\n",
       "    </tr>\n",
       "  </tbody>\n",
       "</table>\n",
       "</div>"
      ],
      "text/plain": [
       "                                      libellé métier  \\\n",
       "0  technicien/ne de fabrication de mobilier et de...   \n",
       "1       agenceur/euse de cuisines et salles de bains   \n",
       "2   chef/fe de fabrication des industries graphiques   \n",
       "3           conducteur/trice de machines à imprimer    \n",
       "4                          opérateur/trice prépresse   \n",
       "\n",
       "                                 lien site onisep.fr  \n",
       "0  http://www.onisep.fr/http/redirection/metier/i...  \n",
       "1  http://www.onisep.fr/http/redirection/metier/i...  \n",
       "2  http://www.onisep.fr/http/redirection/metier/i...  \n",
       "3  http://www.onisep.fr/http/redirection/metier/i...  \n",
       "4  http://www.onisep.fr/http/redirection/metier/i...  "
      ]
     },
     "execution_count": 6,
     "metadata": {},
     "output_type": "execute_result"
    }
   ],
   "source": [
    "# Liste des liens vers les métiers\n",
    "metiers_file_path = os.path.join(data_dir_path, 'Onisep_metier_link.csv')\n",
    "metiers_links = pd.read_csv(metiers_file_path, header=0, sep=\";\")\n",
    "metiers_links.head()"
   ]
  },
  {
   "cell_type": "code",
   "execution_count": 7,
   "metadata": {
    "collapsed": false
   },
   "outputs": [
    {
     "data": {
      "text/plain": [
       "{'Accès au métier': ['Accès au métier',\n",
       "  'Accès au métier',\n",
       "  'Une solide formation technique et artistique est nécessaire pour devenir assistant réalisateur.',\n",
       "  \"Les écoles supérieures publiques qui recrutent sur concours constituent la voie classique. L'École nationale supérieure des métiers de l'image et du son (ENSMIS, plus connue sous le nom de FEMIS) et l'École nationale supérieure Louis Lumière (ENSLL) proposent des cursus de bac + 2 à bac + 5.masterà l'université.\",\n",
       "  '',\n",
       "  'Niveau bac + 2',\n",
       "  \"BTS Métiers de l'audiovisuel ;\",\n",
       "  '',\n",
       "  'Niveau bac + 3',\n",
       "  \"Licences sciences et technologies, mention technologie des arts, de l'image et du son ;Diplôme d'études supérieures de réalisation audiovisuelle, option cinéma (DESRA) ;Certificat de fin d'études de l'ESRA Bretagne option réalisation cinéma / vidéo ;Diplôme européen de réalisation audiovisuelle ;Formation d'assistant réalisateur (Conservatoire libre du cinéma français)Formation cinéma et audiovisuel spécialisation réalisation (3IS)\",\n",
       "  '',\n",
       "  'Niveau bac + 5',\n",
       "  \"Diplôme de la FEMIS spécialisation réalisation ;Diplôme de l'Ecole Louis Lumière section cinéma ; Masters en création ou réalisation audiovisuelle.\"],\n",
       " 'Carrière et salaire': ['Carrière et salaire',\n",
       "  '',\n",
       "  'Salaire',\n",
       "  '',\n",
       "  'Salaire du débutant',\n",
       "  '1404 euros brut par semaine. ',\n",
       "  '',\n",
       "  'Intégrer le marché du travail',\n",
       "  '',\n",
       "  'Un secteur en difficulté',\n",
       "  \"Le grand écran fait rêver mais embauche peu. Quant à la télévision, elle connaît des revers\\xa0: explosion des marchés, arrivée du numérique... En revanche, se développent de nombreuses sociétés privées prestataires de services qui produisent et réalisent des films publicitaires et des téléfilms. La précarité et la disparité des conditions salariales s'accentuent. \",\n",
       "  'Près de 70\\xa0% des assistants réalisateurs travaillent en région parisienne.',\n",
       "  '',\n",
       "  'Une hiérarchie à respecter',\n",
       "  \"Généralement, l'assistant réalisateur débute en tant que stagiaire. La notoriété des réalisateurs (qui choisissent leur premier assistant réalisateur) avec qui il collabore est aussi importante que le réseau qu'il se constitue, le secteur fonctionnant majoritairement via la cooptation.\",\n",
       "  \"Au cinéma comme à la télévision, l'une des évolutions possibles du poste de premier assistant est le passage à la réalisation après quelques années d'expérience. Ce professionnel multitâche peut également faire le choix d'orienter sa carrière vers le métier de directeur de production. \"],\n",
       " \"Centre(s) d'intérêt \": [\"J'aime bouger\",\n",
       "  \"J'aime organiser - gérer\",\n",
       "  \"Je rêve d'un métier artistique\"],\n",
       " 'Le métier': ['Le métier',\n",
       "  'Nature du travail',\n",
       "  '',\n",
       "  'Permettre un tournage',\n",
       "  \"L'assistant réalisateur assure le bon déroulement du tournage d'un film ou d'une émission télévisée. Organisateur technique et conseiller artistique, il est le maillon entre le réalisateur, le directeur de production (chargé du financement) et le plateau (techniciens, comédiens, régie...).\",\n",
       "  \"La lecture du scénario lui permet de lister les éléments nécessaires à la réalisation du film (personnages, accessoires, musique, éclairages, costumes, etc.), et d'organiser les repérages des différents lieux de tournage. Pour chaque séquence, il rédige une fiche technique afin d'établir un plan de travail.\",\n",
       "  '',\n",
       "  'Respecter le plan de travail',\n",
       "  \"Pendant le tournage, l'assistant réalisateur veille au respect du plan de tournage. Il l'adapte au jour le jour (en fonction de la météo, des retards...) et coordonne les différents corps de métiers. Il établit également la feuille de service, fixant pour le lendemain le lieu de rendez-vous et l'heure du maquillage, afin d'assurer la mise en place du plateau.\",\n",
       "  '',\n",
       "  \"Être présent jusqu'à la fin\",\n",
       "  \"Enfin, l'assistant réalisateur participe à la projection des rushes (scènes tournées puis coupées au montage). Il délègue généralement à un deuxième ou à un troisième assistant une partie de ses attributions\\xa0: tâches administratives, gestion des figurants...\",\n",
       "  'Compétences requises',\n",
       "  '',\n",
       "  'Un coordonnateur résistant',\n",
       "  \"Mieux vaut posséder une endurance physique et nerveuse à toute épreuve. Au quotidien, l'assistant réalisateur organise, anime et coordonne des personnes, des opérations et des éléments matériels. Ses meilleures armes\\xa0: un goût prononcé pour le travail en équipe et de réelles qualités relationnelles. Sa grande disponibilité et son sens pratique lui sont par ailleurs indispensables pour répondre aux exigences matérielles du tournage. Une solide formation technique et artistique est de plus nécessaire pour devenir assistant réalisateur.\",\n",
       "  '',\n",
       "  'Un artiste et un technicien',\n",
       "  \"Des compétences techniques et artistiques alliées à une connaissance de la prise de vues et du son, de la mise en scène et de la direction d'acteurs permettent à l'assistant réalisateur de suivre les instructions du réalisateur, et de s'adresser sur le plateau à l'interlocuteur concerné par la demande. Il lui faut par ailleurs maîtriser les logiciels de bureautique ainsi que ceux dédiés à la préparation et l'élaboration d'un plan de travail. L'assistant réalisateur doit également être capable d'estimer la faisabilité d'une séquence en termes de temps, de personnel et de moyens. Enfin, ses capacités d'analyse et son esprit de synthèse l'aident à mémoriser tous les détails d'un plan en cours.\"],\n",
       " 'Métier': 'assistant réalisateur / assistante réalisatrice',\n",
       " \"Niveau d'accès \": ['bac + 2'],\n",
       " \"Où l'exercer\": [\"Où l'exercer ?\",\n",
       "  \"Lieux d'exercice et statuts\",\n",
       "  \"Mobilité de rigueurCe métier requiert autonomie, disponibilité et mobilité. Les repérages impliquent de fréquents déplacements, en France comme à l'étranger. Les horaires sont irréguliers, car l'assistant réalisateur suit le plateau en plein tournage (parfois des centaines de prises sont nécessaires pour une même scène).Souvent un contrat précaireL'assistant réalisateur peut connaître des périodes d'activité alternées avec des périodes de chômage, caractéristiques du statut d'intermittent du spectacle. Engagé par une société de production pour la durée de la réalisation d'un film ou d'une émission, son contrat varie de quelques jours à plusieurs semaines, voire plusieurs mois. Il peut être salarié permanent quand il est employé au service public de la télévision ou dans une société de production.Une profession réglementéeLes tâches de l'assistant réalisateur ainsi que ses conditions d'exercice sont définies par des conventions collectives.\"],\n",
       " 'Salaire débutant  ': ['1404 euros'],\n",
       " 'Secteur(s) professionnel(s) ': ['Arts du spectacle - Audiovisuel'],\n",
       " 'Statut(s) ': ['Intermittent du spectacle', 'Statut salarié'],\n",
       " 'chapo': \"Organiser les repérages, mettre au point le plan de travail, fixer l'heure du maquillage... l'assistant réalisateur est le collaborateur direct du réalisateur. Il assure le lien entre ce dernier, les acteurs et l'équipe technique.\"}"
      ]
     },
     "execution_count": 7,
     "metadata": {},
     "output_type": "execute_result"
    }
   ],
   "source": [
    "# Cette fonction scrap une fiche métier de l'Onisep et permet de récupérer un dictionnaire Python avec\n",
    "#  toutes les informations disponibles\n",
    "def parse_job_page(link):\n",
    "    #print('GET '+ link)\n",
    "    \n",
    "    try:\n",
    "        page = request.urlopen(link).read().decode('utf-8')\n",
    "\n",
    "        page = page.replace('€', 'euros')  # because encode/decode error\n",
    "        page = page.replace(u\"\\u2019\", \"'\")  # because encode/decode error\n",
    "        page = page.replace(u\"\\u2026\", \"é\")  # because encode/decode error\n",
    "        page = page.replace(u\"\\u0153\", \"oe\")  # because encode/decode error\n",
    "        page = page.replace(u\"\\u00a0\", \"À\")  # because encode/decode error\n",
    "\n",
    "        page = page.replace('\\n', '')  # remove new line\n",
    "        page = page.replace('  ', '')  # remove big spaces (to be more human readable)\n",
    "        #file = os.path.join(fiches_dir_path, name.replace('/', '-').replace(' ', '_') + '.html')\n",
    "        #with open(file, 'w', encoding='utf8') as f:\n",
    "        #    f.write(page)\n",
    "\n",
    "        soup = BeautifulSoup(page, 'html.parser')\n",
    "   \n",
    "        metier = {}\n",
    "        metier[\"Métier\"] = soup.h1.extract().get_text()\n",
    "        \n",
    "        # On récupère la \"fiche\" avec Salaire débutant, centre(s) d'intérêt, etc\n",
    "        fiche = soup.find(name = 'ul', attrs={'class':'oni_last'})\n",
    "        for element in fiche:\n",
    "            feature = element.get_text().split(': ')\n",
    "            feature_name = feature[0]\n",
    "            if feature_name==\"Centre(s) d'intérêt \":\n",
    "                metier[feature_name] = feature[1].replace(', ', ' - ').split(',')\n",
    "            elif feature_name==\"Secteur(s) professionnel(s) \":\n",
    "                feature_content = feature[1].split(',')\n",
    "                if \"Construction navale\" in feature_content:\n",
    "                    feature_content.append(\"Construction navale, ferroviaire et aéronautique\")\n",
    "                    feature_content.remove(\"Construction navale\")\n",
    "                    feature_content.remove(\" ferroviaire et aéronautique\")\n",
    "                if \"multisecteurs\" in feature_content:\n",
    "                    feature_content.remove(\"multisecteurs\")\n",
    "                metier[feature_name] = feature_content\n",
    "                \n",
    "            elif feature_name==\"Statut(s) \":\n",
    "                metier[feature_name] = feature[1].split(',')\n",
    "            else:\n",
    "                metier[feature_name] = feature[1].split(', ')\n",
    "        \n",
    "        # Scrap du \"chapo\" de la fiche métier\n",
    "        chapo = soup.find(name = 'div', attrs={'class':'oni_chapo'})\n",
    "        metier[\"chapo\"] = chapo.get_text().replace('\\xa0',' ')\n",
    "        \n",
    "        # Scrap de l'onglet 1 : \"Le métier\"\n",
    "        onglet_1 = soup.find(name = 'div', attrs={'id':'oni_onglet-1','class':'oni_onglet'})\n",
    "        content = []\n",
    "        for element in onglet_1:\n",
    "            content.append(element.get_text())\n",
    "        metier[\"Le métier\"] = content\n",
    "        \n",
    "        # Scrap de l'onglet 2 : \"Où l'exercer\"\n",
    "        onglet_2 = soup.find(name = 'div', attrs={'id':'oni_onglet-2','class':'oni_onglet'})\n",
    "        content = []\n",
    "        for element in onglet_2:\n",
    "            content.append(element.get_text())\n",
    "        metier[\"Où l'exercer\"] = content\n",
    "        \n",
    "        # Scrap de l'onglet 3 : \"Carrière et salaire\"\n",
    "        onglet_3 = soup.find(name = 'div', attrs={'id':'oni_onglet-3','class':'oni_onglet'})\n",
    "        content = []\n",
    "        for element in onglet_3:\n",
    "            content.append(element.get_text())\n",
    "        metier[\"Carrière et salaire\"] = content\n",
    "        \n",
    "        # Scrap de l'onglet 4 : \"Accès au métier\"\n",
    "        onglet_4 = soup.find(name = 'div', attrs={'id':'oni_onglet-4','class':'oni_onglet'})\n",
    "        content = []\n",
    "        for element in onglet_4:\n",
    "            content.append(element.get_text())\n",
    "        metier[\"Accès au métier\"] = content\n",
    "        \n",
    "        return(metier)\n",
    "    except:\n",
    "        print(link)\n",
    "        return('error')\n",
    "    \n",
    "parse_job_page('http://www.onisep.fr/Ressources/Univers-Metier/Metiers/assistant-realisateur-assistante-realisatrice')"
   ]
  },
  {
   "cell_type": "code",
   "execution_count": 16,
   "metadata": {
    "collapsed": false,
    "scrolled": true
   },
   "outputs": [
    {
     "ename": "TypeError",
     "evalue": "<h2 class=\"oni_hide\">Carrière et salaire</h2> is not JSON serializable",
     "output_type": "error",
     "traceback": [
      "\u001b[1;31m---------------------------------------------------------------------------\u001b[0m",
      "\u001b[1;31mTypeError\u001b[0m                                 Traceback (most recent call last)",
      "\u001b[1;32m<ipython-input-16-2def256d8ed6>\u001b[0m in \u001b[0;36m<module>\u001b[1;34m()\u001b[0m\n\u001b[0;32m      9\u001b[0m     \u001b[1;31m#print(metier_output_path)\u001b[0m\u001b[1;33m\u001b[0m\u001b[1;33m\u001b[0m\u001b[0m\n\u001b[0;32m     10\u001b[0m     \u001b[1;32mwith\u001b[0m \u001b[0mopen\u001b[0m\u001b[1;33m(\u001b[0m\u001b[0mmetier_output_path\u001b[0m\u001b[1;33m,\u001b[0m \u001b[1;34m'w'\u001b[0m\u001b[1;33m)\u001b[0m \u001b[1;32mas\u001b[0m \u001b[0mf\u001b[0m\u001b[1;33m:\u001b[0m\u001b[1;33m\u001b[0m\u001b[0m\n\u001b[1;32m---> 11\u001b[1;33m         \u001b[0mjson\u001b[0m\u001b[1;33m.\u001b[0m\u001b[0mdump\u001b[0m\u001b[1;33m(\u001b[0m\u001b[0mmetier\u001b[0m\u001b[1;33m,\u001b[0m \u001b[0mf\u001b[0m\u001b[1;33m,\u001b[0m \u001b[0mindent\u001b[0m\u001b[1;33m=\u001b[0m\u001b[1;36m4\u001b[0m\u001b[1;33m)\u001b[0m\u001b[1;33m\u001b[0m\u001b[0m\n\u001b[0m\u001b[0;32m     12\u001b[0m \u001b[1;33m\u001b[0m\u001b[0m\n",
      "\u001b[1;32m/home/timothee/anaconda3/lib/python3.5/json/__init__.py\u001b[0m in \u001b[0;36mdump\u001b[1;34m(obj, fp, skipkeys, ensure_ascii, check_circular, allow_nan, cls, indent, separators, default, sort_keys, **kw)\u001b[0m\n\u001b[0;32m    176\u001b[0m     \u001b[1;31m# could accelerate with writelines in some versions of Python, at\u001b[0m\u001b[1;33m\u001b[0m\u001b[1;33m\u001b[0m\u001b[0m\n\u001b[0;32m    177\u001b[0m     \u001b[1;31m# a debuggability cost\u001b[0m\u001b[1;33m\u001b[0m\u001b[1;33m\u001b[0m\u001b[0m\n\u001b[1;32m--> 178\u001b[1;33m     \u001b[1;32mfor\u001b[0m \u001b[0mchunk\u001b[0m \u001b[1;32min\u001b[0m \u001b[0miterable\u001b[0m\u001b[1;33m:\u001b[0m\u001b[1;33m\u001b[0m\u001b[0m\n\u001b[0m\u001b[0;32m    179\u001b[0m         \u001b[0mfp\u001b[0m\u001b[1;33m.\u001b[0m\u001b[0mwrite\u001b[0m\u001b[1;33m(\u001b[0m\u001b[0mchunk\u001b[0m\u001b[1;33m)\u001b[0m\u001b[1;33m\u001b[0m\u001b[0m\n\u001b[0;32m    180\u001b[0m \u001b[1;33m\u001b[0m\u001b[0m\n",
      "\u001b[1;32m/home/timothee/anaconda3/lib/python3.5/json/encoder.py\u001b[0m in \u001b[0;36m_iterencode\u001b[1;34m(o, _current_indent_level)\u001b[0m\n\u001b[0;32m    427\u001b[0m             \u001b[1;32myield\u001b[0m \u001b[1;32mfrom\u001b[0m \u001b[0m_iterencode_list\u001b[0m\u001b[1;33m(\u001b[0m\u001b[0mo\u001b[0m\u001b[1;33m,\u001b[0m \u001b[0m_current_indent_level\u001b[0m\u001b[1;33m)\u001b[0m\u001b[1;33m\u001b[0m\u001b[0m\n\u001b[0;32m    428\u001b[0m         \u001b[1;32melif\u001b[0m \u001b[0misinstance\u001b[0m\u001b[1;33m(\u001b[0m\u001b[0mo\u001b[0m\u001b[1;33m,\u001b[0m \u001b[0mdict\u001b[0m\u001b[1;33m)\u001b[0m\u001b[1;33m:\u001b[0m\u001b[1;33m\u001b[0m\u001b[0m\n\u001b[1;32m--> 429\u001b[1;33m             \u001b[1;32myield\u001b[0m \u001b[1;32mfrom\u001b[0m \u001b[0m_iterencode_dict\u001b[0m\u001b[1;33m(\u001b[0m\u001b[0mo\u001b[0m\u001b[1;33m,\u001b[0m \u001b[0m_current_indent_level\u001b[0m\u001b[1;33m)\u001b[0m\u001b[1;33m\u001b[0m\u001b[0m\n\u001b[0m\u001b[0;32m    430\u001b[0m         \u001b[1;32melse\u001b[0m\u001b[1;33m:\u001b[0m\u001b[1;33m\u001b[0m\u001b[0m\n\u001b[0;32m    431\u001b[0m             \u001b[1;32mif\u001b[0m \u001b[0mmarkers\u001b[0m \u001b[1;32mis\u001b[0m \u001b[1;32mnot\u001b[0m \u001b[1;32mNone\u001b[0m\u001b[1;33m:\u001b[0m\u001b[1;33m\u001b[0m\u001b[0m\n",
      "\u001b[1;32m/home/timothee/anaconda3/lib/python3.5/json/encoder.py\u001b[0m in \u001b[0;36m_iterencode_dict\u001b[1;34m(dct, _current_indent_level)\u001b[0m\n\u001b[0;32m    401\u001b[0m                 \u001b[1;32melse\u001b[0m\u001b[1;33m:\u001b[0m\u001b[1;33m\u001b[0m\u001b[0m\n\u001b[0;32m    402\u001b[0m                     \u001b[0mchunks\u001b[0m \u001b[1;33m=\u001b[0m \u001b[0m_iterencode\u001b[0m\u001b[1;33m(\u001b[0m\u001b[0mvalue\u001b[0m\u001b[1;33m,\u001b[0m \u001b[0m_current_indent_level\u001b[0m\u001b[1;33m)\u001b[0m\u001b[1;33m\u001b[0m\u001b[0m\n\u001b[1;32m--> 403\u001b[1;33m                 \u001b[1;32myield\u001b[0m \u001b[1;32mfrom\u001b[0m \u001b[0mchunks\u001b[0m\u001b[1;33m\u001b[0m\u001b[0m\n\u001b[0m\u001b[0;32m    404\u001b[0m         \u001b[1;32mif\u001b[0m \u001b[0mnewline_indent\u001b[0m \u001b[1;32mis\u001b[0m \u001b[1;32mnot\u001b[0m \u001b[1;32mNone\u001b[0m\u001b[1;33m:\u001b[0m\u001b[1;33m\u001b[0m\u001b[0m\n\u001b[0;32m    405\u001b[0m             \u001b[0m_current_indent_level\u001b[0m \u001b[1;33m-=\u001b[0m \u001b[1;36m1\u001b[0m\u001b[1;33m\u001b[0m\u001b[0m\n",
      "\u001b[1;32m/home/timothee/anaconda3/lib/python3.5/json/encoder.py\u001b[0m in \u001b[0;36m_iterencode_list\u001b[1;34m(lst, _current_indent_level)\u001b[0m\n\u001b[0;32m    322\u001b[0m                 \u001b[1;32melse\u001b[0m\u001b[1;33m:\u001b[0m\u001b[1;33m\u001b[0m\u001b[0m\n\u001b[0;32m    323\u001b[0m                     \u001b[0mchunks\u001b[0m \u001b[1;33m=\u001b[0m \u001b[0m_iterencode\u001b[0m\u001b[1;33m(\u001b[0m\u001b[0mvalue\u001b[0m\u001b[1;33m,\u001b[0m \u001b[0m_current_indent_level\u001b[0m\u001b[1;33m)\u001b[0m\u001b[1;33m\u001b[0m\u001b[0m\n\u001b[1;32m--> 324\u001b[1;33m                 \u001b[1;32myield\u001b[0m \u001b[1;32mfrom\u001b[0m \u001b[0mchunks\u001b[0m\u001b[1;33m\u001b[0m\u001b[0m\n\u001b[0m\u001b[0;32m    325\u001b[0m         \u001b[1;32mif\u001b[0m \u001b[0mnewline_indent\u001b[0m \u001b[1;32mis\u001b[0m \u001b[1;32mnot\u001b[0m \u001b[1;32mNone\u001b[0m\u001b[1;33m:\u001b[0m\u001b[1;33m\u001b[0m\u001b[0m\n\u001b[0;32m    326\u001b[0m             \u001b[0m_current_indent_level\u001b[0m \u001b[1;33m-=\u001b[0m \u001b[1;36m1\u001b[0m\u001b[1;33m\u001b[0m\u001b[0m\n",
      "\u001b[1;32m/home/timothee/anaconda3/lib/python3.5/json/encoder.py\u001b[0m in \u001b[0;36m_iterencode\u001b[1;34m(o, _current_indent_level)\u001b[0m\n\u001b[0;32m    434\u001b[0m                     \u001b[1;32mraise\u001b[0m \u001b[0mValueError\u001b[0m\u001b[1;33m(\u001b[0m\u001b[1;34m\"Circular reference detected\"\u001b[0m\u001b[1;33m)\u001b[0m\u001b[1;33m\u001b[0m\u001b[0m\n\u001b[0;32m    435\u001b[0m                 \u001b[0mmarkers\u001b[0m\u001b[1;33m[\u001b[0m\u001b[0mmarkerid\u001b[0m\u001b[1;33m]\u001b[0m \u001b[1;33m=\u001b[0m \u001b[0mo\u001b[0m\u001b[1;33m\u001b[0m\u001b[0m\n\u001b[1;32m--> 436\u001b[1;33m             \u001b[0mo\u001b[0m \u001b[1;33m=\u001b[0m \u001b[0m_default\u001b[0m\u001b[1;33m(\u001b[0m\u001b[0mo\u001b[0m\u001b[1;33m)\u001b[0m\u001b[1;33m\u001b[0m\u001b[0m\n\u001b[0m\u001b[0;32m    437\u001b[0m             \u001b[1;32myield\u001b[0m \u001b[1;32mfrom\u001b[0m \u001b[0m_iterencode\u001b[0m\u001b[1;33m(\u001b[0m\u001b[0mo\u001b[0m\u001b[1;33m,\u001b[0m \u001b[0m_current_indent_level\u001b[0m\u001b[1;33m)\u001b[0m\u001b[1;33m\u001b[0m\u001b[0m\n\u001b[0;32m    438\u001b[0m             \u001b[1;32mif\u001b[0m \u001b[0mmarkers\u001b[0m \u001b[1;32mis\u001b[0m \u001b[1;32mnot\u001b[0m \u001b[1;32mNone\u001b[0m\u001b[1;33m:\u001b[0m\u001b[1;33m\u001b[0m\u001b[0m\n",
      "\u001b[1;32m/home/timothee/anaconda3/lib/python3.5/json/encoder.py\u001b[0m in \u001b[0;36mdefault\u001b[1;34m(self, o)\u001b[0m\n\u001b[0;32m    178\u001b[0m \u001b[1;33m\u001b[0m\u001b[0m\n\u001b[0;32m    179\u001b[0m         \"\"\"\n\u001b[1;32m--> 180\u001b[1;33m         \u001b[1;32mraise\u001b[0m \u001b[0mTypeError\u001b[0m\u001b[1;33m(\u001b[0m\u001b[0mrepr\u001b[0m\u001b[1;33m(\u001b[0m\u001b[0mo\u001b[0m\u001b[1;33m)\u001b[0m \u001b[1;33m+\u001b[0m \u001b[1;34m\" is not JSON serializable\"\u001b[0m\u001b[1;33m)\u001b[0m\u001b[1;33m\u001b[0m\u001b[0m\n\u001b[0m\u001b[0;32m    181\u001b[0m \u001b[1;33m\u001b[0m\u001b[0m\n\u001b[0;32m    182\u001b[0m     \u001b[1;32mdef\u001b[0m \u001b[0mencode\u001b[0m\u001b[1;33m(\u001b[0m\u001b[0mself\u001b[0m\u001b[1;33m,\u001b[0m \u001b[0mo\u001b[0m\u001b[1;33m)\u001b[0m\u001b[1;33m:\u001b[0m\u001b[1;33m\u001b[0m\u001b[0m\n",
      "\u001b[1;31mTypeError\u001b[0m: <h2 class=\"oni_hide\">Carrière et salaire</h2> is not JSON serializable"
     ]
    }
   ],
   "source": [
    "# Boucle pour scraper tous les métiers et les copier au format JSON dans le dossier 'Scraping output'\n",
    "for row in metiers_links.itertuples():\n",
    "    name = row[1]\n",
    "    link = row[2]\n",
    "    metier = parse_job_page(link)\n",
    "    identifiant = link[-5:-1] + link[-1]\n",
    "    if identifiant[0]!='1':\n",
    "        identifiant = '1' + identifiant\n",
    "    metier_output_path = os.path.join(output_dir_path, identifiant) + '.json'\n",
    "    #print(metier_output_path)\n",
    "    with open(metier_output_path, 'w') as f:\n",
    "        json.dump(metier, f, indent=4)\n",
    "    "
   ]
  },
  {
   "cell_type": "code",
   "execution_count": null,
   "metadata": {
    "collapsed": true
   },
   "outputs": [],
   "source": []
  }
 ],
 "metadata": {
  "kernelspec": {
   "display_name": "Python 3",
   "language": "python",
   "name": "python3"
  },
  "language_info": {
   "codemirror_mode": {
    "name": "ipython",
    "version": 3
   },
   "file_extension": ".py",
   "mimetype": "text/x-python",
   "name": "python",
   "nbconvert_exporter": "python",
   "pygments_lexer": "ipython3",
   "version": "3.5.1"
  }
 },
 "nbformat": 4,
 "nbformat_minor": 0
}
