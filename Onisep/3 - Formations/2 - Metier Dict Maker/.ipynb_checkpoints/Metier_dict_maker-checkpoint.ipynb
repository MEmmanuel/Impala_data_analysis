{
 "cells": [
  {
   "cell_type": "code",
   "execution_count": 3,
   "metadata": {
    "collapsed": true
   },
   "outputs": [],
   "source": [
    "# On crée des dictionnaires à partir des métiers\n",
    "#\n",
    "# Création d'un dictionnaire Metier_TypeFormation.json :\n",
    "# Métiers : types de formations \n",
    "#\n",
    "# Création d'un dictionnaire Metier_TypeFormation_Formation.json :\n",
    "# Métiers : types de formations : formations\n",
    "\n",
    "import os\n",
    "import json\n",
    "import numpy as np\n",
    "import pandas as pd\n",
    "import math"
   ]
  },
  {
   "cell_type": "code",
   "execution_count": 4,
   "metadata": {
    "collapsed": true
   },
   "outputs": [],
   "source": [
    "# Préparation des chemins utiles\n",
    "dir_path = '/home/timothee/PycharmProjects/ImpalaPoleEmploi2/Impala/Formations/'\n",
    "# Dossier data\n",
    "data_dir_path = os.path.join(dir_path, 'data')\n",
    "# Fichier metier_formation.json\n",
    "metier_formation_path = os.path.join(dir_path, '1 - Scraping Exemples Formations/metier_formation.json') \n",
    "# Fichier liste des formations Onisep\n",
    "formation_file_path = os.path.join(dir_path, 'data/Onisep_formation.csv')"
   ]
  },
  {
   "cell_type": "code",
   "execution_count": 5,
   "metadata": {
    "collapsed": false
   },
   "outputs": [],
   "source": [
    "# Chargement des données de Malek\n",
    "#metier_formation = pd.read_csv(Malek_formation_metier_path,  names =[\"Metier\", \"Diplome\"], \n",
    "#                               header=None, encoding='latin1')\n",
    "#print(\"Nombre total d'exemples de formations =\", + metier_formation.count()[0])\n",
    "#print(\"Nombre total d'exemples de formations différents =\", len(np.unique(metier_formation[\"Diplome\"])))\n",
    "#print(\"Nombre total de métiers avec des exemples de formation =\", len(np.unique(metier_formation[\"Metier\"])))\n",
    "#metier_formation.head()\n",
    "\n",
    "# Création d'un dictionnaire Metier_Formation_Dict :\n",
    "# metier : formations\n",
    "#metier_formation_dict = {}\n",
    "#for row in metier_formation.itertuples():\n",
    "#    metier = row[1]\n",
    "#    diplome = row[2]\n",
    "#    if metier not in metier_formation_dict:\n",
    "#        metier_formation_dict[metier]=[diplome]\n",
    "#    else:\n",
    "#        metier_formation_dict[metier].append(diplome)\n",
    "#\n",
    "#metier_formation_dict[\"accessoiriste\"]"
   ]
  },
  {
   "cell_type": "code",
   "execution_count": 12,
   "metadata": {
    "collapsed": false
   },
   "outputs": [
    {
     "name": "stdout",
     "output_type": "stream",
     "text": [
      "accessoiriste :\n",
      " ['CAP Accessoiriste réalisateur', 'BTS Design de produits', \"BTS Design d'espace\", 'Diplôme de scénographie costumes (ESAD Strasbourg)', 'Diplôme arts et techniques du théâtre parcours scénographe', 'Diplôme national supérieur des arts décoratifs (ENSAD)']\n",
      "anatomiste :\n",
      " [\"Diplôme d'Etat de docteur en médecine\", \"Diplôme d'études spécialisées vétérinaires (DESV) en anatomie pathologie vétérinaire\"]\n"
     ]
    }
   ],
   "source": [
    "# Chargement des données\n",
    "# Quelques stats sur le dictionnaire metier_formation :\n",
    "# Nombre de métiers = 731\n",
    "# Nombre de formations = 5480\n",
    "# Nombre de formations différentes = 2732\n",
    "\n",
    "with open(metier_formation_path, 'r') as f:\n",
    "    metier_formation = json.load(f)\n",
    "\n",
    "print(\"accessoiriste :\\n\", metier_formation[\"accessoiriste\"])\n",
    "print(\"anatomiste :\\n\", metier_formation[\"anatomiste\"])"
   ]
  },
  {
   "cell_type": "code",
   "execution_count": 4,
   "metadata": {
    "collapsed": false
   },
   "outputs": [
    {
     "name": "stdout",
     "output_type": "stream",
     "text": [
      "Nombre total de formation = 8095\n",
      "Nombre total de type de formation = 59\n"
     ]
    },
    {
     "data": {
      "text/html": [
       "<div>\n",
       "<table border=\"1\" class=\"dataframe\">\n",
       "  <thead>\n",
       "    <tr style=\"text-align: right;\">\n",
       "      <th></th>\n",
       "      <th>CNIS/NSF</th>\n",
       "      <th>type</th>\n",
       "      <th>libellé principal</th>\n",
       "      <th>libellé complémentaire</th>\n",
       "      <th>durée</th>\n",
       "      <th>tutelle</th>\n",
       "      <th>niveau RNCP</th>\n",
       "      <th>lien site onisep.fr</th>\n",
       "    </tr>\n",
       "  </thead>\n",
       "  <tbody>\n",
       "    <tr>\n",
       "      <th>0</th>\n",
       "      <td>201</td>\n",
       "      <td>Diplôme d'ingénieur</td>\n",
       "      <td>diplôme d'ingénieur de Telecom Nancy de l'Univ...</td>\n",
       "      <td>NaN</td>\n",
       "      <td>3 ans</td>\n",
       "      <td>Ministère chargé de l'Enseignement supérieur e...</td>\n",
       "      <td>Niveau I niveau au moins égal à bac + 5</td>\n",
       "      <td>http://www.onisep.fr/http/redirection/formatio...</td>\n",
       "    </tr>\n",
       "    <tr>\n",
       "      <th>1</th>\n",
       "      <td>201</td>\n",
       "      <td>Diplôme d'ingénieur</td>\n",
       "      <td>diplôme d'ingénieur de l'Ecole nationale supér...</td>\n",
       "      <td>NaN</td>\n",
       "      <td>3 ans</td>\n",
       "      <td>Ministère chargé de l'Enseignement supérieur e...</td>\n",
       "      <td>Niveau I niveau au moins égal à bac + 5</td>\n",
       "      <td>http://www.onisep.fr/http/redirection/formatio...</td>\n",
       "    </tr>\n",
       "    <tr>\n",
       "      <th>2</th>\n",
       "      <td>210</td>\n",
       "      <td>Diplôme d'ingénieur</td>\n",
       "      <td>diplôme d'ingénieur de l'Institut supérieur de...</td>\n",
       "      <td>spécialité agronomie</td>\n",
       "      <td>3 ans</td>\n",
       "      <td>Ministère de l'Agriculture, de l'Agroalimentai...</td>\n",
       "      <td>Niveau I niveau au moins égal à bac + 5</td>\n",
       "      <td>http://www.onisep.fr/http/redirection/formatio...</td>\n",
       "    </tr>\n",
       "    <tr>\n",
       "      <th>3</th>\n",
       "      <td>201</td>\n",
       "      <td>Diplôme d'ingénieur</td>\n",
       "      <td>diplôme d'ingénieur de l'École centrale de Lille</td>\n",
       "      <td>spécialité génie informatique et industriel</td>\n",
       "      <td>5 ans</td>\n",
       "      <td>Ministère chargé de l'Enseignement supérieur e...</td>\n",
       "      <td>Niveau I niveau au moins égal à bac + 5</td>\n",
       "      <td>http://www.onisep.fr/http/redirection/formatio...</td>\n",
       "    </tr>\n",
       "    <tr>\n",
       "      <th>4</th>\n",
       "      <td>201</td>\n",
       "      <td>Diplôme d'ingénieur</td>\n",
       "      <td>diplôme d'ingénieur de l'Ecole polytechnique u...</td>\n",
       "      <td>spécialité instrumentation, automatique, infor...</td>\n",
       "      <td>5 ans</td>\n",
       "      <td>Ministère chargé de l'Enseignement supérieur e...</td>\n",
       "      <td>Niveau I niveau au moins égal à bac + 5</td>\n",
       "      <td>http://www.onisep.fr/http/redirection/formatio...</td>\n",
       "    </tr>\n",
       "  </tbody>\n",
       "</table>\n",
       "</div>"
      ],
      "text/plain": [
       "   CNIS/NSF                 type  \\\n",
       "0       201  Diplôme d'ingénieur   \n",
       "1       201  Diplôme d'ingénieur   \n",
       "2       210  Diplôme d'ingénieur   \n",
       "3       201  Diplôme d'ingénieur   \n",
       "4       201  Diplôme d'ingénieur   \n",
       "\n",
       "                                   libellé principal  \\\n",
       "0  diplôme d'ingénieur de Telecom Nancy de l'Univ...   \n",
       "1  diplôme d'ingénieur de l'Ecole nationale supér...   \n",
       "2  diplôme d'ingénieur de l'Institut supérieur de...   \n",
       "3   diplôme d'ingénieur de l'École centrale de Lille   \n",
       "4  diplôme d'ingénieur de l'Ecole polytechnique u...   \n",
       "\n",
       "                              libellé complémentaire  durée  \\\n",
       "0                                                NaN  3 ans   \n",
       "1                                                NaN  3 ans   \n",
       "2                               spécialité agronomie  3 ans   \n",
       "3        spécialité génie informatique et industriel  5 ans   \n",
       "4  spécialité instrumentation, automatique, infor...  5 ans   \n",
       "\n",
       "                                             tutelle  \\\n",
       "0  Ministère chargé de l'Enseignement supérieur e...   \n",
       "1  Ministère chargé de l'Enseignement supérieur e...   \n",
       "2  Ministère de l'Agriculture, de l'Agroalimentai...   \n",
       "3  Ministère chargé de l'Enseignement supérieur e...   \n",
       "4  Ministère chargé de l'Enseignement supérieur e...   \n",
       "\n",
       "                               niveau RNCP  \\\n",
       "0  Niveau I niveau au moins égal à bac + 5   \n",
       "1  Niveau I niveau au moins égal à bac + 5   \n",
       "2  Niveau I niveau au moins égal à bac + 5   \n",
       "3  Niveau I niveau au moins égal à bac + 5   \n",
       "4  Niveau I niveau au moins égal à bac + 5   \n",
       "\n",
       "                                 lien site onisep.fr  \n",
       "0  http://www.onisep.fr/http/redirection/formatio...  \n",
       "1  http://www.onisep.fr/http/redirection/formatio...  \n",
       "2  http://www.onisep.fr/http/redirection/formatio...  \n",
       "3  http://www.onisep.fr/http/redirection/formatio...  \n",
       "4  http://www.onisep.fr/http/redirection/formatio...  "
      ]
     },
     "execution_count": 4,
     "metadata": {},
     "output_type": "execute_result"
    }
   ],
   "source": [
    "# Chargement des données des formations de l'Onisep\n",
    "formations = pd.read_csv(formation_file_path, sep =\";\", header = 0, encoding = \"utf-8\")\n",
    "print(\"Nombre total de formation =\", formations.count()[0])\n",
    "print(\"Nombre total de type de formation =\", len(np.unique(formations[\"type\"])))\n",
    "formations.head()"
   ]
  },
  {
   "cell_type": "code",
   "execution_count": 6,
   "metadata": {
    "collapsed": false
   },
   "outputs": [],
   "source": [
    "### C'est assez long à calculer (~10 min sur mon ordi) ###\n",
    "\n",
    "# Création d'un dictionnaire \"metier_TypeFormation\" :\n",
    "# métier : types de formations \n",
    "metier_TypeFormation = {}\n",
    "for m in metier_formation:\n",
    "    metier_TypeFormation[m] = []\n",
    "\n",
    "for metier, diplome_list in metier_formation.items():\n",
    "    for diplome in diplome_list:\n",
    "        for row in formations[0:10].itertuples():\n",
    "            libelle = row[3]\n",
    "            if str(r[4])!='nan':\n",
    "                libelle = libelle + ' ' + r[4]\n",
    "            ty = r[2]\n",
    "            if libelle.lower() in diplome.lower() and ty not in metier_TypeFormation[metier]:\n",
    "                    metier_TypeFormation[metier].append(ty)"
   ]
  },
  {
   "cell_type": "code",
   "execution_count": 21,
   "metadata": {
    "collapsed": false
   },
   "outputs": [
    {
     "name": "stdout",
     "output_type": "stream",
     "text": [
      "[\"Diplôme d'ingénieur de l'Ecole nationale supérieure d'ingénieurs de Poitiers de l'université de Poitiers spécialité eau et génie civil\", \"Diplôme d'ingénieur de l'Ecole polytechnique de l'université de Montpellier spécialité génie de l'eau\", \"Diplôme d'ingénieur de l'Institut polytechnique de Bordeaux - ENS en environnement, géoressources et ingénierie du développement durable\", \"Diplôme d'ingénieur de l'Institut polytechnique LaSalle Beauvais - ESITPA spécialité sciences de la terre et environnement\", 'Master agrosciences spécialité hydrogéologie, sol et environnement', 'Master géoressources, géorisques, géotechnique', \"Master sciences de la Terre et de l'environnement spécialité hydrogéologie et transferts (Hydrogeology and associated transfers)\", \"Master sciences de la Terre et de l'environnement spécialité H3 : hydrogéologie, hydrobiogéochimie, hydropédologie\"]\n",
      "[\"Diplôme d'ingénieur de l'Ecole nationale supérieure de sciences appliquées et de technologie de Lannion de l'université Rennes 1 spécialité informatique, multimédia et réseaux en partenariat avec l'ITII Bretagne\", \"Diplôme d'ingénieur de l'Ecole nationale supérieure d'informatique et de mathématiques appliquées de l'Institut polytechnique de Grenoble\", \"Diplôme d'ingénieur de l'Ecole nationale supérieure d'informatique et de mathématiques appliquées de l'Institut polytechnique de Grenoble en partenariat avec l'ITII Dauphiné-Vivarais\", \"Diplôme d'ingénieur de l'Ecole polytechnique de l'université de Nice spécialité mathématiques appliquées et modélisation\", \"Diplôme d'ingénieur de l'Ecole polytechnique de l'université Grenoble Alpes spécialité réseaux informatiques et communication multimédia\", \"Diplôme d'ingénieur de l'École polytechnique universitaire de l'université Lyon I spécialité mathématiques appliquées\", \"Diplôme d'ingénieur de l'École polytechnique universitaire de Marseille de l'université d'Aix-Marseille spécialité informatique\", \"Diplôme d'ingénieur de l'ENS d'électrotechnique d'électronique d'informatique d'hydraulique et des télécommunications de l'INP de Toulouse spécialité informatique et mathématiques appliquées\", \"Diplôme d'ingénieur de l'université Paris-XIII spécialité mathématiques appliquées et calcul scientifique\", 'Master automatique, robotique', 'Master électronique, énergie électrique, automatique', 'Master génie industriel', 'Master génie mécanique', 'Master informatique', 'Master ingénierie des systèmes complexes', 'Master instrumentation, mesure, métrologie', 'Master mathématiques', 'Master réseaux et télécommunication']\n",
      "['BPA Travaux des aménagements paysagers', \"CAP agricole Entretien de l'espace rural (dernière session d'examen en 2018)\", 'CAP agricole Jardinier paysagiste', \"CAP agricole Métiers de l'agriculture\", 'Bac pro Aménagements paysagers', 'BP Aménagements paysagers']\n",
      "['Bac pro Réalisation de produits imprimés et plurimédia option A productions graphiques', 'Bac pro Réalisation de produits imprimés et plurimédia option B productions imprimées', \"BTS Etudes de réalisation d'un projet de communication option A : études de réalisation de produits plurimédia\", \"Licence pro gestion de la production industrielle spécialité flux numériques, édition et production d'imprimés\", \"Licence pro métiers de l'édition spécialité ingénierie et management de projets en communication et industries graphiques\"]\n",
      "['CAP agricole Maréchal-ferrant', 'BTM Maréchal-ferrant']\n",
      "['CAP Mouleur noyauteur : cuivre et bronze', 'CAP Outillages en moules métalliques', 'Bac pro Fonderie', 'Bac pro Technicien modeleur', 'Bac pro Technicien outilleur', 'BTS Fonderie']\n",
      "['CAP Conducteur-opérateur de scierie', 'CAP Mécanicien conducteur scieries et industries mécaniques du bois option B mécanicien affûteur de sciage, tranchage, déroulage', 'CAP Outillages en outils à découper et à emboutir']\n",
      "['Référencement et community management', \"DUT Métiers du multimédia et de l'Internet\", 'Bachelor métiers du web', 'Bachelor web', 'Licence pro activités et techniques de communication spécialité référenceur et rédacteur web', 'Licence pro commerce spécialité gestion de la relation clients et e-commerce', 'Licence pro systèmes informatiques et logiciels spécialité métiers du web et du commerce électronique', 'Master économie et gestion des entreprises spécialité économie et conseil en TIC et e-business', \"Master pro management spécialité marketing et technologies de l'information et de la communication\"]\n",
      "[\"Diplôme d'ingénieur de l'École polytechnique universitaire de l'université Lyon I spécialité génie biomédical\", \"Diplôme d'ingénieur de l'École polytechnique universitaire de Marseille de l'université d'Aix-Marseille spécialité génie biomédical\", \"Diplôme d'ingénieur de l'Institut supérieur d'ingénieurs de Franche Comté de l'université de Besançon spécialité génie biomédical\", 'Master biologie-santé', 'Master biosciences et ingénierie de la santé spécialité ingénierie biomédicale', 'Master santé publique spécialité informatique biomédicale', 'Master sciences biomédicales spécialité imagerie', 'Master technologies biomédicales spécialité diagnostic biomédical', 'Master technologies biomédicales spécialité technologie pour la médecine', 'Master pro ingénierie des technologies biomédicales', 'Master pro sciences biomédicales spécialité valorisation des innovations biologiques']\n",
      "['Bac pro Vente (prospection, négociation, suivi de clientèle)', 'Attaché commercial (réseau Négoventis)', 'BTS Management des unités commerciales', 'BTS Négociation et relation client', 'BTS Technico-commercial', 'BTSA Technico-commercial', 'DUT Techniques de commercialisation', \"Diplôme de l'Ecole de gestion et de commerce (EGC)\", 'Licence pro commerce spécialité technico-commercial', 'Responsable en marketing, commercialisation et gestion (EGC)', \"Diplôme de l'Ecole des praticiens du commerce international (programme ESSEC GLOBAL BBA)\", 'Responsable commercial et marketing (CNAM)', \"Diplôme de l'Institut international du commerce et du développement\", 'Manager marketing et commercial (ESG)', 'Master marketing, vente']\n"
     ]
    }
   ],
   "source": [
    "l = list(metier_formation.keys())[0:10]\n",
    "for item in l:\n",
    "    print(metier_formation[item])"
   ]
  },
  {
   "cell_type": "code",
   "execution_count": 8,
   "metadata": {
    "collapsed": true
   },
   "outputs": [],
   "source": [
    "# Copie du dictionnaire au format JSON\n",
    "output_file = os.path.join(dir_path, 'metier_TypeFormation.json')\n",
    "with open(output_file, 'w') as f:\n",
    "    json.dump(metier_TypeFormation, f, indent=4)"
   ]
  },
  {
   "cell_type": "code",
   "execution_count": null,
   "metadata": {
    "collapsed": false
   },
   "outputs": [],
   "source": [
    "### C'est assez long à calculer (~10 min sur mon ordi) ###\n",
    "\n",
    "# Création d'un dictionnaire \"metier_TypeFormation\" :\n",
    "# métier : types de formations \n",
    "metier_TypeFormation_Formation = {}\n",
    "for m in metier_formation_dict:\n",
    "    metier_TypeFormation_Formation[m] = {}\n",
    "\n",
    "metier_formation10 = metier_formation[0:10]\n",
    "for metier, diplome_list in metier_formation_dict.items():\n",
    "    for diplome in diplome_list:\n",
    "        for r in formations.itertuples():\n",
    "            libelle = r[3]\n",
    "            if str(r[4])!='nan':\n",
    "                libelle = libelle + ' ' + r[4]\n",
    "            ty = r[2]\n",
    "            if libelle.lower() in diplome.lower():\n",
    "                if ty not in metier_TypeFormation_Formation[metier]:\n",
    "                    metier_TypeFormation_Formation[metier][ty] = [diplome]\n",
    "                else:\n",
    "                    metier_TypeFormation_Formation[metier][ty].append(diplome)"
   ]
  },
  {
   "cell_type": "code",
   "execution_count": null,
   "metadata": {
    "collapsed": true
   },
   "outputs": [],
   "source": [
    "# Copie du dictionnaire au format JSON\n",
    "output_file = os.path.join(dir_path, 'metier_TypeFormation_Formation.json')\n",
    "with open(output_file, 'w') as f:\n",
    "    json.dump(metier_TypeFormation, f, indent=4)"
   ]
  },
  {
   "cell_type": "code",
   "execution_count": null,
   "metadata": {
    "collapsed": true
   },
   "outputs": [],
   "source": []
  }
 ],
 "metadata": {
  "kernelspec": {
   "display_name": "Python 3",
   "language": "python",
   "name": "python3"
  },
  "language_info": {
   "codemirror_mode": {
    "name": "ipython",
    "version": 3
   },
   "file_extension": ".py",
   "mimetype": "text/x-python",
   "name": "python",
   "nbconvert_exporter": "python",
   "pygments_lexer": "ipython3",
   "version": "3.5.1"
  }
 },
 "nbformat": 4,
 "nbformat_minor": 0
}
