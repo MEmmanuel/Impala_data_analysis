{
 "cells": [
  {
   "cell_type": "code",
   "execution_count": 2,
   "metadata": {
    "collapsed": true
   },
   "outputs": [],
   "source": [
    "\n",
    "import os\n",
    "import json\n",
    "import numpy as np\n",
    "import pandas as pd\n",
    "import math"
   ]
  },
  {
   "cell_type": "code",
   "execution_count": 45,
   "metadata": {
    "collapsed": true
   },
   "outputs": [],
   "source": [
    "# Préparation des chemins utiles\n",
    "dir_path = '/home/timothee/PycharmProjects/ImpalaPoleEmploi2/Impala/Formations/2 - Metier Dict Maker'\n",
    "# Dictionnaire metier_TypeFormations :\n",
    "metier_typeFormation_path = os.path.join(dir_path, 'metier_TypeFormation.json')\n",
    "# Dictionnaire metier_TypeFormations_Formations :\n",
    "metier_typeFormation_Formation_path = os.path.join(dir_path, 'metier_TypeFormation_Formation.json')"
   ]
  },
  {
   "cell_type": "code",
   "execution_count": 8,
   "metadata": {
    "collapsed": false
   },
   "outputs": [],
   "source": [
    "# Chargement des données :\n",
    "with open(metier_typeFormation_path, 'r') as f:\n",
    "    metier_TypeFormation = json.load(f)"
   ]
  },
  {
   "cell_type": "code",
   "execution_count": 14,
   "metadata": {
    "collapsed": false
   },
   "outputs": [
    {
     "name": "stdout",
     "output_type": "stream",
     "text": [
      "Nombre de métiers = 731\n",
      "Nombre de métiers sans formations = 98\n"
     ]
    }
   ],
   "source": [
    "print(\"Nombre de métiers =\", len(metier_TypeFormation))\n",
    "\n",
    "#nombre de métiers sans Type de Formations\n",
    "metier_sansFormation = 0\n",
    "for v in metier_TypeFormation.values():\n",
    "    if v==[]:\n",
    "        metier_sansFormation += 1\n",
    "\n",
    "print(\"Nombre de métiers sans formations =\", metier_sansFormation)"
   ]
  },
  {
   "cell_type": "code",
   "execution_count": 46,
   "metadata": {
    "collapsed": false
   },
   "outputs": [],
   "source": [
    "# Chargement des données :\n",
    "with open(metier_typeFormation_Formation_path, 'r') as f:\n",
    "    metier_TypeFormation_Formation = json.load(f)"
   ]
  },
  {
   "cell_type": "code",
   "execution_count": 47,
   "metadata": {
    "collapsed": false
   },
   "outputs": [
    {
     "data": {
      "text/plain": [
       "731"
      ]
     },
     "execution_count": 47,
     "metadata": {},
     "output_type": "execute_result"
    }
   ],
   "source": [
    "metier_TypeFormation_Formation[\"accessoiriste\"]\n",
    "len(metier_TypeFormation_Formation)"
   ]
  },
  {
   "cell_type": "code",
   "execution_count": 59,
   "metadata": {
    "collapsed": false
   },
   "outputs": [],
   "source": [
    "liste_diplome = []\n",
    "liste_diplome_unique = []\n",
    "for metier in metier_TypeFormation_Formation:\n",
    "    for ty in metier_TypeFormation_Formation[metier]:\n",
    "        for diplome in metier_TypeFormation_Formation[metier][ty]:\n",
    "            liste_diplome.append(diplome)\n",
    "            if diplome not in liste_diplome_unique:\n",
    "                 liste_diplome_unique.append(diplome)"
   ]
  },
  {
   "cell_type": "code",
   "execution_count": 60,
   "metadata": {
    "collapsed": false
   },
   "outputs": [
    {
     "data": {
      "text/plain": [
       "1718"
      ]
     },
     "execution_count": 60,
     "metadata": {},
     "output_type": "execute_result"
    }
   ],
   "source": [
    "len(np.unique(liste_diplome_unique))"
   ]
  },
  {
   "cell_type": "code",
   "execution_count": 49,
   "metadata": {
    "collapsed": false
   },
   "outputs": [],
   "source": [
    "metier_sansFormation = []\n",
    "for metier in metier_TypeFormation_Formation:\n",
    "    if metier_TypeFormation_Formation[metier]=={}:\n",
    "        metier_sansFormation.append(metier)"
   ]
  },
  {
   "cell_type": "code",
   "execution_count": 50,
   "metadata": {
    "collapsed": false
   },
   "outputs": [
    {
     "data": {
      "text/plain": [
       "98"
      ]
     },
     "execution_count": 50,
     "metadata": {},
     "output_type": "execute_result"
    }
   ],
   "source": [
    "len(metier_sansFormation)"
   ]
  },
  {
   "cell_type": "code",
   "execution_count": null,
   "metadata": {
    "collapsed": true
   },
   "outputs": [],
   "source": []
  }
 ],
 "metadata": {
  "kernelspec": {
   "display_name": "Python 3",
   "language": "python",
   "name": "python3"
  },
  "language_info": {
   "codemirror_mode": {
    "name": "ipython",
    "version": 3
   },
   "file_extension": ".py",
   "mimetype": "text/x-python",
   "name": "python",
   "nbconvert_exporter": "python",
   "pygments_lexer": "ipython3",
   "version": "3.5.1"
  }
 },
 "nbformat": 4,
 "nbformat_minor": 0
}
