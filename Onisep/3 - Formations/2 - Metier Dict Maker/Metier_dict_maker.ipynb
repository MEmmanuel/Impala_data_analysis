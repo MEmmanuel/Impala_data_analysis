{
 "cells": [
  {
   "cell_type": "code",
   "execution_count": 1,
   "metadata": {
    "collapsed": true
   },
   "outputs": [],
   "source": [
    "# On crée des dictionnaires à partir des métiers\n",
    "#\n",
    "# Création d'un dictionnaire Metier_TypeFormation.json :\n",
    "# Métiers : types de formations \n",
    "#\n",
    "# Création d'un dictionnaire Metier_TypeFormation_Formation.json :\n",
    "# Métiers : types de formations : formations\n",
    "\n",
    "import os\n",
    "import json\n",
    "import numpy as np\n",
    "import pandas as pd\n",
    "import math"
   ]
  },
  {
   "cell_type": "code",
   "execution_count": 10,
   "metadata": {
    "collapsed": true
   },
   "outputs": [],
   "source": [
    "# Préparation des chemins utiles\n",
    "dir_path = os.getcwd()\n",
    "# Dossier data\n",
    "data_dir_path = os.path.join(dir_path, 'data')\n",
    "# Fichier metier_formation.json\n",
    "metier_formation_path = os.path.join(data_dir_path, 'metier_formation.json') \n",
    "# Fichier liste des formations Onisep\n",
    "formation_file_path = os.path.join(data_dir_path, 'Onisep_formation.csv')"
   ]
  },
  {
   "cell_type": "code",
   "execution_count": 11,
   "metadata": {
    "collapsed": false
   },
   "outputs": [],
   "source": [
    "# Chargement des données de Malek\n",
    "#metier_formation = pd.read_csv(Malek_formation_metier_path,  names =[\"Metier\", \"Diplome\"], \n",
    "#                               header=None, encoding='latin1')\n",
    "#print(\"Nombre total d'exemples de formations =\", + metier_formation.count()[0])\n",
    "#print(\"Nombre total d'exemples de formations différents =\", len(np.unique(metier_formation[\"Diplome\"])))\n",
    "#print(\"Nombre total de métiers avec des exemples de formation =\", len(np.unique(metier_formation[\"Metier\"])))\n",
    "#metier_formation.head()\n",
    "\n",
    "# Création d'un dictionnaire Metier_Formation_Dict :\n",
    "# metier : formations\n",
    "#metier_formation_dict = {}\n",
    "#for row in metier_formation.itertuples():\n",
    "#    metier = row[1]\n",
    "#    diplome = row[2]\n",
    "#    if metier not in metier_formation_dict:\n",
    "#        metier_formation_dict[metier]=[diplome]\n",
    "#    else:\n",
    "#        metier_formation_dict[metier].append(diplome)\n",
    "#\n",
    "#metier_formation_dict[\"accessoiriste\"]"
   ]
  },
  {
   "cell_type": "code",
   "execution_count": 12,
   "metadata": {
    "collapsed": false
   },
   "outputs": [
    {
     "name": "stdout",
     "output_type": "stream",
     "text": [
      "accessoiriste :\n",
      " ['CAP Accessoiriste réalisateur', 'BTS Design de produits', \"BTS Design d'espace\", 'Diplôme de scénographie costumes (ESAD Strasbourg)', 'Diplôme arts et techniques du théâtre parcours scénographe', 'Diplôme national supérieur des arts décoratifs (ENSAD)']\n",
      "anatomiste :\n",
      " [\"Diplôme d'Etat de docteur en médecine\", \"Diplôme d'études spécialisées vétérinaires (DESV) en anatomie pathologie vétérinaire\"]\n"
     ]
    }
   ],
   "source": [
    "# Chargement des données\n",
    "# Quelques stats sur le dictionnaire metier_formation :\n",
    "# Nombre de métiers = 731\n",
    "# Nombre de formations = 5480\n",
    "# Nombre de formations différentes = 2732\n",
    "\n",
    "with open(metier_formation_path, 'r') as f:\n",
    "    metier_formation = json.load(f)\n",
    "\n",
    "print(\"accessoiriste :\\n\", metier_formation[\"accessoiriste\"])\n",
    "print(\"anatomiste :\\n\", metier_formation[\"anatomiste\"])"
   ]
  },
  {
   "cell_type": "code",
   "execution_count": 13,
   "metadata": {
    "collapsed": false
   },
   "outputs": [
    {
     "name": "stdout",
     "output_type": "stream",
     "text": [
      "Nombre total de formation = 8095\n",
      "Nombre total de type de formation = 59\n"
     ]
    },
    {
     "data": {
      "text/html": [
       "<div>\n",
       "<table border=\"1\" class=\"dataframe\">\n",
       "  <thead>\n",
       "    <tr style=\"text-align: right;\">\n",
       "      <th></th>\n",
       "      <th>CNIS/NSF</th>\n",
       "      <th>type</th>\n",
       "      <th>libellé principal</th>\n",
       "      <th>libellé complémentaire</th>\n",
       "      <th>durée</th>\n",
       "      <th>tutelle</th>\n",
       "      <th>niveau RNCP</th>\n",
       "      <th>lien site onisep.fr</th>\n",
       "    </tr>\n",
       "  </thead>\n",
       "  <tbody>\n",
       "    <tr>\n",
       "      <th>0</th>\n",
       "      <td>201</td>\n",
       "      <td>Diplôme d'ingénieur</td>\n",
       "      <td>diplôme d'ingénieur de Telecom Nancy de l'Univ...</td>\n",
       "      <td>NaN</td>\n",
       "      <td>3 ans</td>\n",
       "      <td>Ministère chargé de l'Enseignement supérieur e...</td>\n",
       "      <td>Niveau I niveau au moins égal à bac + 5</td>\n",
       "      <td>http://www.onisep.fr/http/redirection/formatio...</td>\n",
       "    </tr>\n",
       "    <tr>\n",
       "      <th>1</th>\n",
       "      <td>201</td>\n",
       "      <td>Diplôme d'ingénieur</td>\n",
       "      <td>diplôme d'ingénieur de l'Ecole nationale supér...</td>\n",
       "      <td>NaN</td>\n",
       "      <td>3 ans</td>\n",
       "      <td>Ministère chargé de l'Enseignement supérieur e...</td>\n",
       "      <td>Niveau I niveau au moins égal à bac + 5</td>\n",
       "      <td>http://www.onisep.fr/http/redirection/formatio...</td>\n",
       "    </tr>\n",
       "    <tr>\n",
       "      <th>2</th>\n",
       "      <td>210</td>\n",
       "      <td>Diplôme d'ingénieur</td>\n",
       "      <td>diplôme d'ingénieur de l'Institut supérieur de...</td>\n",
       "      <td>spécialité agronomie</td>\n",
       "      <td>3 ans</td>\n",
       "      <td>Ministère de l'Agriculture, de l'Agroalimentai...</td>\n",
       "      <td>Niveau I niveau au moins égal à bac + 5</td>\n",
       "      <td>http://www.onisep.fr/http/redirection/formatio...</td>\n",
       "    </tr>\n",
       "    <tr>\n",
       "      <th>3</th>\n",
       "      <td>201</td>\n",
       "      <td>Diplôme d'ingénieur</td>\n",
       "      <td>diplôme d'ingénieur de l'École centrale de Lille</td>\n",
       "      <td>spécialité génie informatique et industriel</td>\n",
       "      <td>5 ans</td>\n",
       "      <td>Ministère chargé de l'Enseignement supérieur e...</td>\n",
       "      <td>Niveau I niveau au moins égal à bac + 5</td>\n",
       "      <td>http://www.onisep.fr/http/redirection/formatio...</td>\n",
       "    </tr>\n",
       "    <tr>\n",
       "      <th>4</th>\n",
       "      <td>201</td>\n",
       "      <td>Diplôme d'ingénieur</td>\n",
       "      <td>diplôme d'ingénieur de l'Ecole polytechnique u...</td>\n",
       "      <td>spécialité instrumentation, automatique, infor...</td>\n",
       "      <td>5 ans</td>\n",
       "      <td>Ministère chargé de l'Enseignement supérieur e...</td>\n",
       "      <td>Niveau I niveau au moins égal à bac + 5</td>\n",
       "      <td>http://www.onisep.fr/http/redirection/formatio...</td>\n",
       "    </tr>\n",
       "  </tbody>\n",
       "</table>\n",
       "</div>"
      ],
      "text/plain": [
       "   CNIS/NSF                 type  \\\n",
       "0       201  Diplôme d'ingénieur   \n",
       "1       201  Diplôme d'ingénieur   \n",
       "2       210  Diplôme d'ingénieur   \n",
       "3       201  Diplôme d'ingénieur   \n",
       "4       201  Diplôme d'ingénieur   \n",
       "\n",
       "                                   libellé principal  \\\n",
       "0  diplôme d'ingénieur de Telecom Nancy de l'Univ...   \n",
       "1  diplôme d'ingénieur de l'Ecole nationale supér...   \n",
       "2  diplôme d'ingénieur de l'Institut supérieur de...   \n",
       "3   diplôme d'ingénieur de l'École centrale de Lille   \n",
       "4  diplôme d'ingénieur de l'Ecole polytechnique u...   \n",
       "\n",
       "                              libellé complémentaire  durée  \\\n",
       "0                                                NaN  3 ans   \n",
       "1                                                NaN  3 ans   \n",
       "2                               spécialité agronomie  3 ans   \n",
       "3        spécialité génie informatique et industriel  5 ans   \n",
       "4  spécialité instrumentation, automatique, infor...  5 ans   \n",
       "\n",
       "                                             tutelle  \\\n",
       "0  Ministère chargé de l'Enseignement supérieur e...   \n",
       "1  Ministère chargé de l'Enseignement supérieur e...   \n",
       "2  Ministère de l'Agriculture, de l'Agroalimentai...   \n",
       "3  Ministère chargé de l'Enseignement supérieur e...   \n",
       "4  Ministère chargé de l'Enseignement supérieur e...   \n",
       "\n",
       "                               niveau RNCP  \\\n",
       "0  Niveau I niveau au moins égal à bac + 5   \n",
       "1  Niveau I niveau au moins égal à bac + 5   \n",
       "2  Niveau I niveau au moins égal à bac + 5   \n",
       "3  Niveau I niveau au moins égal à bac + 5   \n",
       "4  Niveau I niveau au moins égal à bac + 5   \n",
       "\n",
       "                                 lien site onisep.fr  \n",
       "0  http://www.onisep.fr/http/redirection/formatio...  \n",
       "1  http://www.onisep.fr/http/redirection/formatio...  \n",
       "2  http://www.onisep.fr/http/redirection/formatio...  \n",
       "3  http://www.onisep.fr/http/redirection/formatio...  \n",
       "4  http://www.onisep.fr/http/redirection/formatio...  "
      ]
     },
     "execution_count": 13,
     "metadata": {},
     "output_type": "execute_result"
    }
   ],
   "source": [
    "# Chargement des données des formations de l'Onisep\n",
    "formations = pd.read_csv(formation_file_path, sep =\";\", header = 0, encoding = \"utf-8\")\n",
    "print(\"Nombre total de formation =\", formations.count()[0])\n",
    "print(\"Nombre total de type de formation =\", len(np.unique(formations[\"type\"])))\n",
    "formations.head()"
   ]
  },
  {
   "cell_type": "code",
   "execution_count": 14,
   "metadata": {
    "collapsed": false
   },
   "outputs": [
    {
     "ename": "KeyboardInterrupt",
     "evalue": "",
     "output_type": "error",
     "traceback": [
      "\u001b[1;31m---------------------------------------------------------------------------\u001b[0m",
      "\u001b[1;31mKeyboardInterrupt\u001b[0m                         Traceback (most recent call last)",
      "\u001b[1;32m<ipython-input-14-6205fee59efb>\u001b[0m in \u001b[0;36m<module>\u001b[1;34m()\u001b[0m\n\u001b[0;32m     14\u001b[0m                 \u001b[0mlibelle\u001b[0m \u001b[1;33m=\u001b[0m \u001b[0mlibelle\u001b[0m \u001b[1;33m+\u001b[0m \u001b[1;34m' '\u001b[0m \u001b[1;33m+\u001b[0m \u001b[0mrow\u001b[0m\u001b[1;33m[\u001b[0m\u001b[1;36m4\u001b[0m\u001b[1;33m]\u001b[0m\u001b[1;33m\u001b[0m\u001b[0m\n\u001b[0;32m     15\u001b[0m             \u001b[0mty\u001b[0m \u001b[1;33m=\u001b[0m \u001b[0mrow\u001b[0m\u001b[1;33m[\u001b[0m\u001b[1;36m2\u001b[0m\u001b[1;33m]\u001b[0m\u001b[1;33m\u001b[0m\u001b[0m\n\u001b[1;32m---> 16\u001b[1;33m             \u001b[1;32mif\u001b[0m \u001b[0mlibelle\u001b[0m\u001b[1;33m.\u001b[0m\u001b[0mlower\u001b[0m\u001b[1;33m(\u001b[0m\u001b[1;33m)\u001b[0m \u001b[1;32min\u001b[0m \u001b[0mdiplome\u001b[0m\u001b[1;33m.\u001b[0m\u001b[0mlower\u001b[0m\u001b[1;33m(\u001b[0m\u001b[1;33m)\u001b[0m \u001b[1;32mand\u001b[0m \u001b[0mty\u001b[0m \u001b[1;32mnot\u001b[0m \u001b[1;32min\u001b[0m \u001b[0mmetier_TypeFormation\u001b[0m\u001b[1;33m[\u001b[0m\u001b[0mmetier\u001b[0m\u001b[1;33m]\u001b[0m\u001b[1;33m:\u001b[0m\u001b[1;33m\u001b[0m\u001b[0m\n\u001b[0m\u001b[0;32m     17\u001b[0m                 \u001b[0mmetier_TypeFormation\u001b[0m\u001b[1;33m[\u001b[0m\u001b[0mmetier\u001b[0m\u001b[1;33m]\u001b[0m\u001b[1;33m.\u001b[0m\u001b[0mappend\u001b[0m\u001b[1;33m(\u001b[0m\u001b[0mty\u001b[0m\u001b[1;33m)\u001b[0m\u001b[1;33m\u001b[0m\u001b[0m\n",
      "\u001b[1;31mKeyboardInterrupt\u001b[0m: "
     ]
    }
   ],
   "source": [
    "# Création d'un dictionnaire \"metier_TypeFormation\" :\n",
    "# métier : types de formations \n",
    "metier_TypeFormation = {}\n",
    "for metier in metier_formation:\n",
    "    metier_TypeFormation[metier] = []\n",
    "\n",
    "for metier, diplome_list in metier_formation.items():\n",
    "    for diplome in diplome_list:\n",
    "        for row in formations.itertuples():\n",
    "            libelle = row[3]\n",
    "            if str(row[4])!='nan':\n",
    "                libelle = libelle + ' ' + row[4]\n",
    "            ty = row[2]\n",
    "            if libelle.lower() in diplome.lower() and ty not in metier_TypeFormation[metier]:\n",
    "                metier_TypeFormation[metier].append(ty)"
   ]
  },
  {
   "cell_type": "code",
   "execution_count": 16,
   "metadata": {
    "collapsed": false
   },
   "outputs": [
    {
     "data": {
      "text/plain": [
       "[]"
      ]
     },
     "execution_count": 16,
     "metadata": {},
     "output_type": "execute_result"
    }
   ],
   "source": [
    "metier_TypeFormation[\"accessoiriste\"]"
   ]
  },
  {
   "cell_type": "code",
   "execution_count": 11,
   "metadata": {
    "collapsed": true
   },
   "outputs": [],
   "source": [
    "# Copie du dictionnaire au format JSON\n",
    "output_file = os.path.join(dir_path, '2 - Metier Dict Maker/metier_TypeFormation.json')\n",
    "with open(output_file, 'w') as f:\n",
    "    json.dump(metier_TypeFormation, f, indent=4)"
   ]
  },
  {
   "cell_type": "code",
   "execution_count": 17,
   "metadata": {
    "collapsed": false
   },
   "outputs": [],
   "source": [
    "# Création d'un dictionnaire \"metier_TypeFormation\" :\n",
    "# métier : types de formations \n",
    "metier_TypeFormation_Formation = {}\n",
    "for metier in metier_formation:\n",
    "    metier_TypeFormation_Formation[metier] = {}\n",
    "\n",
    "for metier, diplome_list in metier_formation.items():\n",
    "    for diplome in diplome_list:\n",
    "        for r in formations.itertuples():\n",
    "            libelle = r[3]\n",
    "            if str(r[4])!='nan':\n",
    "                libelle = libelle + ' ' + r[4]\n",
    "            ty = r[2]\n",
    "            if libelle.lower() in diplome.lower():\n",
    "                if ty not in metier_TypeFormation_Formation[metier]:\n",
    "                    metier_TypeFormation_Formation[metier][ty] = [diplome]\n",
    "                elif diplome not in metier_TypeFormation_Formation[metier][ty]:\n",
    "                    metier_TypeFormation_Formation[metier][ty].append(diplome)"
   ]
  },
  {
   "cell_type": "code",
   "execution_count": 18,
   "metadata": {
    "collapsed": true
   },
   "outputs": [],
   "source": [
    "# Copie du dictionnaire au format JSON\n",
    "output_file = os.path.join(dir_path, '2 - Metier Dict Maker/metier_TypeFormation_Formation.json')\n",
    "with open(output_file, 'w') as f:\n",
    "    json.dump(metier_TypeFormation_Formation, f, indent=4)"
   ]
  },
  {
   "cell_type": "code",
   "execution_count": null,
   "metadata": {
    "collapsed": true
   },
   "outputs": [],
   "source": []
  }
 ],
 "metadata": {
  "kernelspec": {
   "display_name": "Python 3",
   "language": "python",
   "name": "python3"
  },
  "language_info": {
   "codemirror_mode": {
    "name": "ipython",
    "version": 3
   },
   "file_extension": ".py",
   "mimetype": "text/x-python",
   "name": "python",
   "nbconvert_exporter": "python",
   "pygments_lexer": "ipython3",
   "version": "3.5.1"
  }
 },
 "nbformat": 4,
 "nbformat_minor": 0
}
