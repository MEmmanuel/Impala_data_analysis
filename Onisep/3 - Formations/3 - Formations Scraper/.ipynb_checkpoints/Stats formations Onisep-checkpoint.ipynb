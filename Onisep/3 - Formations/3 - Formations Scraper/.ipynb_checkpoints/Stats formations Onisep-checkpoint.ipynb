{
 "cells": [
  {
   "cell_type": "markdown",
   "metadata": {},
   "source": [
    "Quelques statistiques sur les formations :\n",
    "\n",
    "Nombre de formations avec des infos = 2404\n",
    "Nombre de formations avec Débouchés professionnels = 2401\n",
    "--> Nombre de formations avec Exemples de métiers = 2243\n",
    "--> Nombre de formations avec une description Débouchés = 837\n",
    "Nombre de formations avec Accès à la formation = 342\n",
    "Nombre de formations avec Poursuivre mes études... = 483\n"
   ]
  },
  {
   "cell_type": "code",
   "execution_count": 1,
   "metadata": {
    "collapsed": true
   },
   "outputs": [],
   "source": [
    "import os\n",
    "import json\n",
    "import numpy as np\n",
    "import math\n",
    "import pandas as pd"
   ]
  },
  {
   "cell_type": "code",
   "execution_count": 5,
   "metadata": {
    "collapsed": false
   },
   "outputs": [],
   "source": [
    "# Chemins utiles\n",
    "dir_path = os.getcwd()\n",
    "# Dossier dictionnaire des formations\n",
    "formations_path = os.path.join(dir_path, 'formations.json')"
   ]
  },
  {
   "cell_type": "code",
   "execution_count": 6,
   "metadata": {
    "collapsed": false
   },
   "outputs": [],
   "source": [
    "with open(formations_path, 'r') as f:\n",
    "    formations = json.load(f)"
   ]
  },
  {
   "cell_type": "code",
   "execution_count": 7,
   "metadata": {
    "collapsed": false
   },
   "outputs": [
    {
     "name": "stdout",
     "output_type": "stream",
     "text": [
      "Nombre de formations avec des infos = 2404\n",
      "Nombre de formations avec Débouchés professionnels = 2401\n",
      "--> Nombre de formations avec Exemples de métiers = 2243\n",
      "--> Nombre de formations avec une description Débouchés = 837\n",
      "Nombre de formations avec Accès à la formation = 342\n",
      "Nombre de formations avec Poursuivre mes études... = 483\n"
     ]
    }
   ],
   "source": [
    "print(\"Nombre de formations avec des infos =\", len(formations))\n",
    "\n",
    "formations_avecDebouches = 0\n",
    "formations_avecExemples = 0\n",
    "formations_avecAcces = 0\n",
    "formations_avecPoursuivre = 0\n",
    "formations_avecDebouchesTexte = 0\n",
    "for formation, v in formations.items():\n",
    "    if \"Débouchés professionnels\" in v:\n",
    "        formations_avecDebouches += 1\n",
    "    if \"Accès à la formation \" in v:\n",
    "        formations_avecAcces += 1\n",
    "    if \"Poursuivre mes études...\" in v:\n",
    "        formations_avecPoursuivre += 1\n",
    "    try :\n",
    "        if formations[formation][\"Débouchés professionnels\"][\"Exemples de métiers\"] != []:\n",
    "            formations_avecExemples +=1\n",
    "    except:\n",
    "        pass\n",
    "    \n",
    "    try :\n",
    "        if formations[formation][\"Débouchés professionnels\"][\"Débouchés\"] != []:\n",
    "            formations_avecDebouchesTexte +=1\n",
    "    except:\n",
    "        pass\n",
    "    \n",
    "    \n",
    "print(\"Nombre de formations avec Débouchés professionnels =\", formations_avecDebouches)\n",
    "print(\"--> Nombre de formations avec Exemples de métiers =\", formations_avecExemples)\n",
    "print(\"--> Nombre de formations avec une description Débouchés =\", formations_avecDebouchesTexte)\n",
    "\n",
    "print(\"Nombre de formations avec Accès à la formation =\", formations_avecAcces)\n",
    "print(\"Nombre de formations avec Poursuivre mes études... =\", formations_avecPoursuivre)"
   ]
  },
  {
   "cell_type": "code",
   "execution_count": 17,
   "metadata": {
    "collapsed": false
   },
   "outputs": [
    {
     "data": {
      "text/plain": [
       "dict_keys(['Accès à la formation ', 'Débouchés professionnels', 'Poursuivre mes études...'])"
      ]
     },
     "execution_count": 17,
     "metadata": {},
     "output_type": "execute_result"
    }
   ],
   "source": [
    "formations[\"Bac pro Technicien de maintenance des syst\\u00e8mes \\u00e9nerg\\u00e9tiques et climatiques (TMSEC)\"].keys()"
   ]
  },
  {
   "cell_type": "code",
   "execution_count": 29,
   "metadata": {
    "collapsed": false
   },
   "outputs": [
    {
     "data": {
      "text/plain": [
       "['Exemples de métiers', 'Débouchés']"
      ]
     },
     "execution_count": 29,
     "metadata": {},
     "output_type": "execute_result"
    }
   ],
   "source": [
    "list(formations[\"Bac pro Technicien de maintenance des syst\\u00e8mes \\u00e9nerg\\u00e9tiques et climatiques (TMSEC)\"][\"Débouchés professionnels\"].keys())"
   ]
  },
  {
   "cell_type": "code",
   "execution_count": null,
   "metadata": {
    "collapsed": true
   },
   "outputs": [],
   "source": []
  }
 ],
 "metadata": {
  "kernelspec": {
   "display_name": "Python 3",
   "language": "python",
   "name": "python3"
  },
  "language_info": {
   "codemirror_mode": {
    "name": "ipython",
    "version": 3
   },
   "file_extension": ".py",
   "mimetype": "text/x-python",
   "name": "python",
   "nbconvert_exporter": "python",
   "pygments_lexer": "ipython3",
   "version": "3.5.1"
  }
 },
 "nbformat": 4,
 "nbformat_minor": 0
}
