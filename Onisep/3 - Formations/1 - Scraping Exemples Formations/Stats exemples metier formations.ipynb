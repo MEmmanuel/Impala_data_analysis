{
 "cells": [
  {
   "cell_type": "code",
   "execution_count": 1,
   "metadata": {
    "collapsed": true
   },
   "outputs": [],
   "source": [
    "# Quelques stats sur le dictionnaire metier_formation :\n",
    "# Nombre de métiers = 731\n",
    "# Nombre de formations = 5480\n",
    "# Nombre de formations différentes = 2732\n",
    "\n",
    "# Liste des métiers sans exemples de formations \n",
    "\n",
    "\n",
    "import os\n",
    "import json\n",
    "import numpy as np\n",
    "import math\n",
    "import pandas as pd"
   ]
  },
  {
   "cell_type": "code",
   "execution_count": 2,
   "metadata": {
    "collapsed": true
   },
   "outputs": [],
   "source": [
    "# Chemins utiles\n",
    "dir_path = '/home/timothee/PycharmProjects/ImpalaPoleEmploi2/Impala/Formations'\n",
    "# Dossier data\n",
    "data_dir_path = os.path.join(dir_path, 'data')\n",
    "# Fichier exemples des formations des métiers de l'Onisep\n",
    "exemples_path = os.path.join(dir_path, '1 - Scraping Exemples Formations/metier_formation.json')"
   ]
  },
  {
   "cell_type": "code",
   "execution_count": 3,
   "metadata": {
    "collapsed": false
   },
   "outputs": [],
   "source": [
    "# Chargement des données \n",
    "with open(exemples_path, 'r') as f:\n",
    "    metier_formation = json.load(f)"
   ]
  },
  {
   "cell_type": "code",
   "execution_count": 4,
   "metadata": {
    "collapsed": false
   },
   "outputs": [
    {
     "data": {
      "text/plain": [
       "['CAP Accessoiriste réalisateur',\n",
       " 'BTS Design de produits',\n",
       " \"BTS Design d'espace\",\n",
       " 'Diplôme de scénographie costumes (ESAD Strasbourg)',\n",
       " 'Diplôme arts et techniques du théâtre parcours scénographe',\n",
       " 'Diplôme national supérieur des arts décoratifs (ENSAD)']"
      ]
     },
     "execution_count": 4,
     "metadata": {},
     "output_type": "execute_result"
    }
   ],
   "source": [
    "metier_formation['accessoiriste']"
   ]
  },
  {
   "cell_type": "code",
   "execution_count": 21,
   "metadata": {
    "collapsed": false
   },
   "outputs": [
    {
     "name": "stdout",
     "output_type": "stream",
     "text": [
      "Nombre de métiers = 731\n",
      "Nombre de formations = 5480\n",
      "Nombre de formations différentes = 2732\n"
     ]
    }
   ],
   "source": [
    "print('Nombre de métiers =', len(metier_formation))\n",
    "\n",
    "nb_formations = 0\n",
    "metier_sans_formation = []\n",
    "formations = []\n",
    "for k,v in metier_formation.items():\n",
    "    for item in v:\n",
    "        formations.append(item)\n",
    "    nb_formations += len(v)\n",
    "    if len(v)==0:\n",
    "        metier_sans_formation.append(k)\n",
    "\n",
    "print('Nombre de formations =', nb_formations)\n",
    "print('Nombre de formations différentes =', len(np.unique(formations)))"
   ]
  },
  {
   "cell_type": "code",
   "execution_count": 18,
   "metadata": {
    "collapsed": false
   },
   "outputs": [
    {
     "name": "stdout",
     "output_type": "stream",
     "text": [
      "Liste des métiers sans formation\n",
      "- technicien/ne de police technique et scientifique\n",
      "- adjoint/e administratif/ve\n",
      "- enseignant/e spécialisé/e\n",
      "- greffier/ère\n",
      "- secrétaire des Affaires étrangères\n",
      "- secrétaire administratif/ve\n",
      "- expert/e-comptable\n",
      "- officier/ère de l'armée de terre\n",
      "- conducteur/trice de train / TGV\n",
      "- mandataire judiciaire\n",
      "- directeur/trice d'hôpital\n",
      "- matelot/e de la Marine Nationale\n",
      "- hôtesse de l'air (steward)\n",
      "- pisteur/euse secouriste\n",
      "- caissier/ère\n",
      "- sous-officier/ère de l'armée de l'air\n",
      "- inspecteur/trice du permis de conduire et de la sécurité routière\n",
      "- attaché/e d'administration\n",
      "- directeur/trice de centre pénitentiaire\n",
      "- administrateur/trice judiciaire \n",
      "- enseignant/e-chercheur/euse\n",
      "- inspecteur/trice (des douanes, des impôts, du Trésor public, du travail)\n",
      "- officier/ère de l'armée de l'air\n",
      "- attaché/e territorial/e\n",
      "- sous-officier/ère de l'armée de terre\n",
      "- expert/e en assurances\n",
      "- militaire technicien/ne de l'air (MTA)\n",
      "- commissaire-priseur/euse\n",
      "- clerc d'huissier\n",
      "- gendarme\n",
      "- zoologiste\n",
      "- sapeur-pompier\n",
      "- agent/e des méthodes\n",
      "- chauffeur/euse de taxi\n",
      "- conseiller/ère d'insertion et de probation\n",
      "- militaire du rang (armée de terre)\n",
      "- pilote d'hélicoptère\n",
      "- dresseur/euse d'animaux\n",
      "- officier/ère de marine\n",
      "- rédacteur/trice territorial/e\n",
      "- surveillant/e de centre pénitentiaire\n",
      "- soigneur/euse animalier/ère\n",
      "- conducteur/trice de métro\n",
      "- éducateur/trice de la protection judiciaire de la jeunesse\n",
      "- chef/fe d'exploitation des remontées mécaniques\n",
      "- ingénieur/e technico-commercial/e en informatique\n"
     ]
    }
   ],
   "source": [
    "print('Liste des métiers sans formation')\n",
    "for item in metier_sans_formation:\n",
    "     print( '-', item)"
   ]
  },
  {
   "cell_type": "code",
   "execution_count": null,
   "metadata": {
    "collapsed": true
   },
   "outputs": [],
   "source": []
  }
 ],
 "metadata": {
  "kernelspec": {
   "display_name": "Python 3",
   "language": "python",
   "name": "python3"
  },
  "language_info": {
   "codemirror_mode": {
    "name": "ipython",
    "version": 3
   },
   "file_extension": ".py",
   "mimetype": "text/x-python",
   "name": "python",
   "nbconvert_exporter": "python",
   "pygments_lexer": "ipython3",
   "version": "3.5.1"
  }
 },
 "nbformat": 4,
 "nbformat_minor": 0
}
