{
 "cells": [
  {
   "cell_type": "code",
   "execution_count": 1,
   "metadata": {
    "collapsed": true
   },
   "outputs": [],
   "source": [
    "# Ce script permet de scraper les exemples de formations des métiers de l'Onisep\n",
    "# Création d'un dictionnaire \"metier_formation.json\" :\n",
    "# Métiers : formations\n",
    "\n",
    "# Création d'un dictionnaire \"metier_acces.json\" :\n",
    "# Métiers : accès au métier\n",
    "\n",
    "import os\n",
    "import json\n",
    "import numpy as np\n",
    "import math\n",
    "import pandas as pd\n",
    "from urllib import request\n",
    "from bs4 import BeautifulSoup"
   ]
  },
  {
   "cell_type": "code",
   "execution_count": 2,
   "metadata": {
    "collapsed": true
   },
   "outputs": [],
   "source": [
    "# Chemins utiles\n",
    "dir_path = '/home/timothee/PycharmProjects/ImpalaPoleEmploi2/Impala/Formations/'\n",
    "# Dossier data\n",
    "data_dir_path = os.path.join(dir_path, '0 - data')\n",
    "# Fichier liste des métiers Onisep\n",
    "liste_metier_path = os.path.join(data_dir_path, 'Onisep_metier_link.csv')"
   ]
  },
  {
   "cell_type": "code",
   "execution_count": 3,
   "metadata": {
    "collapsed": false
   },
   "outputs": [
    {
     "data": {
      "text/html": [
       "<div>\n",
       "<table border=\"1\" class=\"dataframe\">\n",
       "  <thead>\n",
       "    <tr style=\"text-align: right;\">\n",
       "      <th></th>\n",
       "      <th>libellé métier</th>\n",
       "      <th>lien site onisep.fr</th>\n",
       "    </tr>\n",
       "  </thead>\n",
       "  <tbody>\n",
       "    <tr>\n",
       "      <th>0</th>\n",
       "      <td>technicien/ne de fabrication de mobilier et de...</td>\n",
       "      <td>http://www.onisep.fr/http/redirection/metier/i...</td>\n",
       "    </tr>\n",
       "    <tr>\n",
       "      <th>1</th>\n",
       "      <td>agenceur/euse de cuisines et salles de bains</td>\n",
       "      <td>http://www.onisep.fr/http/redirection/metier/i...</td>\n",
       "    </tr>\n",
       "    <tr>\n",
       "      <th>2</th>\n",
       "      <td>chef/fe de fabrication des industries graphiques</td>\n",
       "      <td>http://www.onisep.fr/http/redirection/metier/i...</td>\n",
       "    </tr>\n",
       "    <tr>\n",
       "      <th>3</th>\n",
       "      <td>conducteur/trice de machines à imprimer</td>\n",
       "      <td>http://www.onisep.fr/http/redirection/metier/i...</td>\n",
       "    </tr>\n",
       "    <tr>\n",
       "      <th>4</th>\n",
       "      <td>opérateur/trice prépresse</td>\n",
       "      <td>http://www.onisep.fr/http/redirection/metier/i...</td>\n",
       "    </tr>\n",
       "  </tbody>\n",
       "</table>\n",
       "</div>"
      ],
      "text/plain": [
       "                                      libellé métier  \\\n",
       "0  technicien/ne de fabrication de mobilier et de...   \n",
       "1       agenceur/euse de cuisines et salles de bains   \n",
       "2   chef/fe de fabrication des industries graphiques   \n",
       "3           conducteur/trice de machines à imprimer    \n",
       "4                          opérateur/trice prépresse   \n",
       "\n",
       "                                 lien site onisep.fr  \n",
       "0  http://www.onisep.fr/http/redirection/metier/i...  \n",
       "1  http://www.onisep.fr/http/redirection/metier/i...  \n",
       "2  http://www.onisep.fr/http/redirection/metier/i...  \n",
       "3  http://www.onisep.fr/http/redirection/metier/i...  \n",
       "4  http://www.onisep.fr/http/redirection/metier/i...  "
      ]
     },
     "execution_count": 3,
     "metadata": {},
     "output_type": "execute_result"
    }
   ],
   "source": [
    "# Chargement des données\n",
    "liste_metier = pd.read_csv(liste_metier_path, sep=';', header=0)\n",
    "liste_metier.head()"
   ]
  },
  {
   "cell_type": "code",
   "execution_count": 4,
   "metadata": {
    "collapsed": false
   },
   "outputs": [
    {
     "data": {
      "text/plain": [
       "[\"Il existe 2 niveaux de qualification.\\xa0 Le titre d'AVQ (auxiliaire vétérinaire qualifié)\\xa0se prépare en 1 an et s'adresse aux personnes ayant suivi une scolarité jusqu'en fin de 1re (avec passage en terminale accordé) ou ayant suivi une\\xa02de et possédant une expérience professionnelle d'un an minimum, quel que soit le secteur d'activité. Le titre d'ASV (auxiliaire spécialisé vétérinaire) se prépare en 2 ans dont 18 à 23 semaines en centre de formation. Le programme du titre d'ASV comprend des enseignements complémentaires à ceux de l'AVQ : le conseil et la vente, l'assistance à la gestion, aux soins, en chirurgie. 2 options au choix parmi 4 : comptabilité ; animaux de compagnie ; équidés ; animaux de production. Pour accéder à cette formation, il faut\\xa0être titulaire d'un baccalauréat ou d'un diplôme de même niveau ou avoir suivi une 2de générale et technologique avec passage accordé en 1re et posséder une expérience professionnnelle de 2 ans, quel que soit le secteur d'activité. Pour ces deux formations, il faut être âgé d'au moins 18 ans et passer des\\xa0tests d'admission.\\xa0\",\n",
       " \"Le Gipsa (Groupement d'intérêt public santé animale) est le seul organisme habilité à délivrer les titres d'AVQ et d'ASV. Les formations sont dispensées dans l'un des 9 centres du Gipsa (Aix-en-Provence, Blanquefort, Boulogne, Bourg-en-Bresse, Tourcoing, Laval, Lens, Rambouillet, Nancy), dans le cadre d'un contrat de professionnalisation ou d'apprentissage. La durée de la formation est ajustée au profil des candidats prérecrutés par les vétérinaires.\"]"
      ]
     },
     "execution_count": 4,
     "metadata": {},
     "output_type": "execute_result"
    }
   ],
   "source": [
    "# Fonction pour récupérer les exemples de formations des métiers de l'Onisep\n",
    "def get_exemples_formations(link):\n",
    "    try:\n",
    "        page = request.urlopen(link).read().decode('utf-8')\n",
    "        page = page.replace('€', 'euros')  # because encode/decode error\n",
    "        page = page.replace(u\"\\u2019\", \"'\")  # because encode/decode error\n",
    "        page = page.replace(u\"\\u2026\", \"é\")  # because encode/decode error\n",
    "        page = page.replace(u\"\\u0153\", \"oe\")  # because encode/decode error\n",
    "        page = page.replace('\\n', '')  # remove new line\n",
    "        page = page.replace('  ', '')  # remove big spaces (to be more human readable)\n",
    "\n",
    "        soup = BeautifulSoup(page, 'html.parser')\n",
    "\n",
    "        metier = []\n",
    "        # Onglet \"Exemples de formations\"\n",
    "        onglet = soup.find(name='div', attrs={'id': 'oni_onglet-5'})\n",
    "        if onglet is not None:\n",
    "            for element in onglet.find_all():\n",
    "                if element.name=='li':\n",
    "                    metier.append(element.get_text())\n",
    "        return(metier)         \n",
    "    except:\n",
    "        print('error')\n",
    "        return('error')\n",
    "#metier = get_exemples_formations('http://www.onisep.fr/Ressources/Univers-Metier/Metiers/accessoiriste')\n",
    "#metier\n",
    "\n",
    "# Fonction pour récupérer les onglets \"accès au métier\" de l'Onisep\n",
    "# Fonction pour récupérer les exemples de formations des métiers de l'Onisep\n",
    "def get_acces_metier(link):\n",
    "    try:\n",
    "        page = request.urlopen(link).read().decode('utf-8')\n",
    "        page = page.replace('€', 'euros')  # because encode/decode error\n",
    "        page = page.replace(u\"\\u2019\", \"'\")  # because encode/decode error\n",
    "        page = page.replace(u\"\\u2026\", \"é\")  # because encode/decode error\n",
    "        page = page.replace(u\"\\u0153\", \"oe\")  # because encode/decode error\n",
    "        page = page.replace('\\n', '')  # remove new line\n",
    "        page = page.replace('  ', '')  # remove big spaces (to be more human readable)\n",
    "\n",
    "        soup = BeautifulSoup(page, 'html.parser')\n",
    "\n",
    "        metier = []\n",
    "        # Onglet \"Exemples de formations\"\n",
    "        onglet = soup.find(name='div', attrs={'id': 'oni_onglet-4'})\n",
    "        if onglet is not None:\n",
    "            for element in onglet.find_all(name='p'):\n",
    "                if element.get_text() not in ['Après la 3e', 'Niveau bac','Niveau bac + 2','Niveau bac + 3',\n",
    "                                              'Niveau bac + 5','Niveau bac + 8']:\n",
    "                    metier.append(element.get_text())\n",
    "        return(metier)         \n",
    "    except:\n",
    "        print('error')\n",
    "        return('error')\n",
    "\n",
    "metier = get_acces_metier('http://www.onisep.fr/Ressources/Univers-Metier/Metiers/auxiliaire-specialise-specialisee-veterinaire')\n",
    "metier"
   ]
  },
  {
   "cell_type": "code",
   "execution_count": null,
   "metadata": {
    "collapsed": false
   },
   "outputs": [],
   "source": [
    "# Dictionnaire des métiers avec les exemples de formations des métiers de l'Onisep\n",
    "metier_formation = {}\n",
    "errors = []\n",
    "for row in liste_metier.itertuples():\n",
    "    metier = row[1]\n",
    "    link = row[2]\n",
    "    exemples_formations = get_exemples_formations(link)\n",
    "    if exemples_formations != 'error':\n",
    "        metier_formation[metier] = exemples_formations\n",
    "    else:\n",
    "        errors.append(metier)"
   ]
  },
  {
   "cell_type": "code",
   "execution_count": null,
   "metadata": {
    "collapsed": false
   },
   "outputs": [],
   "source": [
    "len(metier_formation)"
   ]
  },
  {
   "cell_type": "code",
   "execution_count": null,
   "metadata": {
    "collapsed": true
   },
   "outputs": [],
   "source": [
    "# Copie du dictionnaire au format JSON\n",
    "output_path = os.path.join(dir_path, 'Scraping Exemples Formations/Exemples_metier_formation.json')\n",
    "with open(output_path, 'w') as f:\n",
    "    json.dump(metier_formation, f, indent=4)"
   ]
  },
  {
   "cell_type": "code",
   "execution_count": 6,
   "metadata": {
    "collapsed": false
   },
   "outputs": [],
   "source": [
    "# Dictionnaire des métiers avec les onglets \"Accès métiers\" des métiers de l'Onisep\n",
    "metier_acces = {}\n",
    "errors = []\n",
    "for row in liste_metier.itertuples():\n",
    "    metier = row[1]\n",
    "    link = row[2]\n",
    "    acces_metier = get_acces_metier(link)\n",
    "    if acces_metier != 'error':\n",
    "        metier_acces[metier] = acces_metier\n",
    "    else:\n",
    "        errors.append(metier)"
   ]
  },
  {
   "cell_type": "code",
   "execution_count": 7,
   "metadata": {
    "collapsed": false
   },
   "outputs": [
    {
     "name": "stdout",
     "output_type": "stream",
     "text": [
      "731\n"
     ]
    }
   ],
   "source": [
    "print(len(metier_acces))\n",
    "# Copie du dictionnaire au format JSON\n",
    "output_path = os.path.join(dir_path, 'Scraping Exemples Formations/metier_acces.json')\n",
    "with open(output_path, 'w') as f:\n",
    "    json.dump(metier_acces, f, indent=4)"
   ]
  },
  {
   "cell_type": "code",
   "execution_count": 9,
   "metadata": {
    "collapsed": false
   },
   "outputs": [
    {
     "data": {
      "text/plain": [
       "[\"Des formations en accessoires et décors du spectacle, du CAP à bac + 2, permettent d'exercer le métier d'accessoiriste. Il est recommandé de compléter ces formations par des expériences sur le terrain : stages professionnels, cours de théâtre en activité extrascolaire, etc. L'objectif est de se constituer un carnet d'adresses, essentiel pour intégrer le milieu. Une base artisanale en menuiserie, ébénisterie, tapisserie, sculpture, soudure, etc. est utile pour être plus polyvalent. Quelques écoles spécialisées (Ensatt, Esad, Ensad...) proposent des diplômes spécifiques au décor qui peuvent constituer un atout pour progresser dans le métier.\"]"
      ]
     },
     "execution_count": 9,
     "metadata": {},
     "output_type": "execute_result"
    }
   ],
   "source": [
    "metier_acces['accessoiriste']"
   ]
  },
  {
   "cell_type": "code",
   "execution_count": null,
   "metadata": {
    "collapsed": true
   },
   "outputs": [],
   "source": []
  }
 ],
 "metadata": {
  "kernelspec": {
   "display_name": "Python 3",
   "language": "python",
   "name": "python3"
  },
  "language_info": {
   "codemirror_mode": {
    "name": "ipython",
    "version": 3
   },
   "file_extension": ".py",
   "mimetype": "text/x-python",
   "name": "python",
   "nbconvert_exporter": "python",
   "pygments_lexer": "ipython3",
   "version": "3.5.1"
  }
 },
 "nbformat": 4,
 "nbformat_minor": 0
}
