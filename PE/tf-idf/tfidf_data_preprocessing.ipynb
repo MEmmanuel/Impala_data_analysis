{
 "cells": [
  {
   "cell_type": "code",
   "execution_count": 1,
   "metadata": {
    "collapsed": true
   },
   "outputs": [],
   "source": [
    "# Prétraitement des données pour exécuter l'algorithme de tf-idf :\n",
    "# - Création d'un dictionnaire avec les code rome en clé et l'intitulé et la définition du métier en valeur\n",
    "# - Ajout du numéro de cluster (tiré du clustering) associé au métier\n",
    "# - Création d'un dictionnaire avec les numéros de cluster en clé et les définitions de tous les métiers\n",
    "# en valeur\n",
    "# On copie le dernier dictionnaire dans le fichier 'jobs_cluster.json'\n",
    "\n",
    "# Prérequis :\n",
    "# - le fichier \"PE_clusters.csv\" contenant le code rome des métiers dans la variable \"code_rome\" \n",
    "# et leur numéro de cluster dans la variable \"clusters\"\n",
    "\n",
    "\n",
    "import os\n",
    "import json\n",
    "import pandas as pd"
   ]
  },
  {
   "cell_type": "code",
   "execution_count": 7,
   "metadata": {
    "collapsed": false
   },
   "outputs": [],
   "source": [
    "# Préparation des chemins utiles\n",
    "dir_path = '/home/timothee/PycharmProjects/ImpalaPoleEmploi2'\n",
    "metiers_dir_path = os.path.join(dir_path, 'fiches_metiers')\n",
    "PE_clusters_file = os.path.join(dir_path, 'Impala/PE Clustering et tf-idf/Clustering/PE_clusters.csv')\n",
    "\n",
    "jobs_cluster_file = os.path.join(dir_path, 'Impala/tf-idf/jobs_cluster.json')\n",
    "\n",
    "\n",
    "list_metiers = os.listdir(metiers_dir_path)"
   ]
  },
  {
   "cell_type": "code",
   "execution_count": 5,
   "metadata": {
    "collapsed": false
   },
   "outputs": [],
   "source": [
    "# Création d'un dictionnaire avec code_rome en clés et intitulé et définition en valeurs\n",
    "jobs_def ={}\n",
    "for file in list_metiers:\n",
    "    with open(metiers_dir_path + '/' + file, 'r') as f:  # with statement ensure file closing even if an error occured\n",
    "        job = json.load(f)\n",
    "    jobs_def[job[\"code_rome\"]] = [job[\"intitule\"], job[\"definition\"]]"
   ]
  },
  {
   "cell_type": "code",
   "execution_count": 8,
   "metadata": {
    "collapsed": false
   },
   "outputs": [],
   "source": [
    "# Ajoute le numéro du cluster de chaque métier dans le dictionnaire\n",
    "df = pd.DataFrame.from_csv(PE_clusters_file)\n",
    "for code, ap in df.iterrows():\n",
    "    jobs_def[code].append(ap[0])\n",
    "    #code = row[\"code_rome\"]\n",
    "    #clus = row[\"ap_clusters\"]\n",
    "    #jobs_def[code].append(clus)"
   ]
  },
  {
   "cell_type": "code",
   "execution_count": 9,
   "metadata": {
    "collapsed": false
   },
   "outputs": [],
   "source": [
    "# Création d'un dictionnaire avec les numéros de cluster en clé et les définitions de tous les métiers \n",
    "# en valeur\n",
    "jobs_cluster = {}\n",
    "nb_clus = df['clusters'].max()\n",
    "\n",
    "for i in range(nb_clus):\n",
    "    jobs_cluster[i+1] = []\n",
    "\n",
    "for values in jobs_def.values():\n",
    "    clus = values[2]\n",
    "    desc = values[1]\n",
    "    jobs_cluster[clus].append(desc)"
   ]
  },
  {
   "cell_type": "code",
   "execution_count": 11,
   "metadata": {
    "collapsed": false
   },
   "outputs": [],
   "source": [
    "# Copie du dictionnaire au format JSON\n",
    "jobs_cluster_file = os.path.join(dir_path, 'Impala/PE Clustering et tf-idf/tf-idf/jobs_cluster.json')\n",
    "with open(jobs_cluster_file, 'w') as f:\n",
    "    json.dump(jobs_cluster, f, indent=4)"
   ]
  },
  {
   "cell_type": "code",
   "execution_count": null,
   "metadata": {
    "collapsed": false
   },
   "outputs": [],
   "source": []
  },
  {
   "cell_type": "code",
   "execution_count": null,
   "metadata": {
    "collapsed": true
   },
   "outputs": [],
   "source": []
  },
  {
   "cell_type": "code",
   "execution_count": null,
   "metadata": {
    "collapsed": true
   },
   "outputs": [],
   "source": []
  },
  {
   "cell_type": "code",
   "execution_count": null,
   "metadata": {
    "collapsed": true
   },
   "outputs": [],
   "source": []
  },
  {
   "cell_type": "code",
   "execution_count": null,
   "metadata": {
    "collapsed": true
   },
   "outputs": [],
   "source": []
  }
 ],
 "metadata": {
  "kernelspec": {
   "display_name": "Python 3",
   "language": "python",
   "name": "python3"
  },
  "language_info": {
   "codemirror_mode": {
    "name": "ipython",
    "version": 3
   },
   "file_extension": ".py",
   "mimetype": "text/x-python",
   "name": "python",
   "nbconvert_exporter": "python",
   "pygments_lexer": "ipython3",
   "version": "3.5.1"
  }
 },
 "nbformat": 4,
 "nbformat_minor": 0
}
