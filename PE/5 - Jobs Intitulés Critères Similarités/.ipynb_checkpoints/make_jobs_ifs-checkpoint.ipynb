{
 "cells": [
  {
   "cell_type": "code",
   "execution_count": 1,
   "metadata": {
    "collapsed": false
   },
   "outputs": [],
   "source": [
    "# Prérequis :\n",
    "# - les fiches métiers au format JSON dans un dossier fiches_metiers\n",
    "# - Fichier JSON de l'arborescences des activités\n",
    "# - Fichier JSON de l'arborescence des compétences\n",
    "# - Fichier CSV des code_rome des métiers et des clusters (obtenus sur R)\n",
    "\n",
    "# Ce script permet de créer un fichier csv avec :\n",
    "# - code_rome en clés\n",
    "# - un dictionnaire en valeurs comprenant :\n",
    "# --> la liste des appellations du métier\n",
    "# --> la liste des features (ou tags ou variables)\n",
    "# --> la liste  métiers du même cluster\n",
    "import os\n",
    "import json\n",
    "import pandas as pd\n",
    "import numpy as np"
   ]
  },
  {
   "cell_type": "code",
   "execution_count": 2,
   "metadata": {
    "collapsed": true
   },
   "outputs": [],
   "source": [
    "# Préparation des chemins utiles\n",
    "# Main directory\n",
    "dir_path = '/home/timothee/PycharmProjects/ImpalaPoleEmploi2'\n",
    "# Fiches métiers\n",
    "fiches_dir_path = os.path.join(dir_path, 'fiches_metiers')\n",
    "# Fichier JSON de l'arborescences des activités\n",
    "act_json = os.path.join(dir_path,'fichier_donnees/activites.json')\n",
    "# Fichier JSON de l'arborescence des compétences\n",
    "comp_json = os.path.join(dir_path,'fichier_donnees/competences.json')\n",
    "# Fichier CSV des code_rome des métiers et des clusters (obtenus sur R)\n",
    "PE_cluster = os.path.join(dir_path,'Impala/Clustering/jobs_clusters.csv')\n",
    "\n",
    "# Fichier de sortie :jobs_ifs.json (jobs : intitulés, features, similar jobs)\n",
    "output_file = os.path.join(dir_path,'Impala/jobs_ifs.json')"
   ]
  },
  {
   "cell_type": "code",
   "execution_count": 3,
   "metadata": {
    "collapsed": true
   },
   "outputs": [],
   "source": [
    "# Liste des métiers\n",
    "list_files = os.listdir(fiches_dir_path)\n",
    "n = len(list_files)"
   ]
  },
  {
   "cell_type": "code",
   "execution_count": 4,
   "metadata": {
    "collapsed": false
   },
   "outputs": [],
   "source": [
    "# Chargement des données de compétences dans la variable comp\n",
    "with open(comp_json) as json_data:\n",
    "    comp = json.load(json_data)\n",
    "    json_data.close()\n",
    "    \n",
    "# Chargement des données de d'activités dans la variable act\n",
    "with open(act_json) as json_data:\n",
    "    act = json.load(json_data)\n",
    "    json_data.close()\n",
    "    \n",
    "# Chargement des code rome des métiers et de leur cluster\n",
    "with open(PE_cluster) as csv_data:\n",
    "    clusters = pd.read_csv(PE_cluster)"
   ]
  },
  {
   "cell_type": "code",
   "execution_count": 5,
   "metadata": {
    "collapsed": true
   },
   "outputs": [],
   "source": [
    "# Fonction qui permet de récupérer une liste des code ogr des activités et compétences\n",
    "# qui décrvient le métier donné en argument\n",
    "def get_job_features_ogr(file):\n",
    "    with open(file, 'r') as f:\n",
    "        job = json.load(f)\n",
    "    \n",
    "    job_features = []    \n",
    "    for item in job[\"activites_de_base\"]:\n",
    "        job_features.append(int(item['code_ogr']))\n",
    "    for item in job[\"savoir_theorique_et_proceduraux\"]:\n",
    "        job_features.append(int(item['code_ogr']))\n",
    "    for item in job[\"activite_specifique\"]:\n",
    "        job_features.append(int(item['code_ogr']))\n",
    "    for item in job[\"savoir_action\"]:\n",
    "        job_features.append(int(item['code_ogr']))\n",
    "    return job_features"
   ]
  },
  {
   "cell_type": "code",
   "execution_count": 6,
   "metadata": {
    "collapsed": true
   },
   "outputs": [],
   "source": [
    "# Fonction qui permet de récupérer la liste des appelations du métier en argument (fiche métier)\n",
    "def get_job_intitule(file):\n",
    "    with open(file, 'r') as f:\n",
    "        job = json.load(f)\n",
    "        \n",
    "    job_intitule = []        \n",
    "    for item in job[\"appelations\"]:\n",
    "        job_intitule.append(item[\"libelle\"])\n",
    "    \n",
    "    return job_intitule"
   ]
  },
  {
   "cell_type": "code",
   "execution_count": 7,
   "metadata": {
    "collapsed": true
   },
   "outputs": [],
   "source": [
    "# Fonction qui permet de récupérer les features de chaque métier\n",
    "def get_job_features (file):\n",
    "    with open(file, 'r') as f:\n",
    "        job = json.load(f)\n",
    "        \n",
    "    job_features = []\n",
    "    job_features_ogr = get_job_features_ogr(file)\n",
    "    for niv1 in comp:\n",
    "        for niv2 in comp[niv1]:\n",
    "            for niv3 in comp[niv1][niv2]:\n",
    "                for niv4 in comp[niv1][niv2][niv3].values():\n",
    "                    for item in niv4:         \n",
    "                        if int(item[1]) in job_features_ogr:\n",
    "                            job_features.append(item[0])\n",
    "    for niv1 in act:\n",
    "        for niv2 in act[niv1]:\n",
    "            for niv3 in act[niv1][niv2]:\n",
    "                for niv4 in act[niv1][niv2][niv3]:\n",
    "                    for niv5 in act[niv1][niv2][niv3][niv4].values():\n",
    "                        for item in niv5:         \n",
    "                            if int(item[1]) in job_features_ogr:\n",
    "                                job_features.append(item[0])\n",
    "    return job_features"
   ]
  },
  {
   "cell_type": "code",
   "execution_count": 24,
   "metadata": {
    "collapsed": true
   },
   "outputs": [],
   "source": [
    "# Fonction qui permet de récupérer les features de chaque métier\n",
    "def get_job_features_23 (file):\n",
    "    with open(file, 'r') as f:\n",
    "        job = json.load(f)\n",
    "        \n",
    "    job_features = []\n",
    "    job_features_ogr = get_job_features_ogr(file)\n",
    "    for niv1 in comp:\n",
    "        for niv2 in comp[niv1]:\n",
    "            for niv3 in comp[niv1][niv2]:\n",
    "                for niv4 in comp[niv1][niv2][niv3].values():\n",
    "                    for item in niv4:         \n",
    "                        if int(item[1]) in job_features_ogr:\n",
    "                            if niv3=='nan':\n",
    "                                 job_features.append(niv2)\n",
    "                            else:\n",
    "                                job_features.append(niv2 + ' : ' + niv3)\n",
    "    for niv1 in act:\n",
    "        for niv2 in act[niv1]:\n",
    "            for niv3 in act[niv1][niv2]:\n",
    "                for niv4 in act[niv1][niv2][niv3]:\n",
    "                    for niv5 in act[niv1][niv2][niv3][niv4].values():\n",
    "                        for item in niv5:         \n",
    "                            if int(item[1]) in job_features_ogr:\n",
    "                                job_features.append(niv2)\n",
    "    return np.unique(job_features).tolist()"
   ]
  },
  {
   "cell_type": "code",
   "execution_count": 25,
   "metadata": {
    "collapsed": false
   },
   "outputs": [
    {
     "data": {
      "text/plain": [
       "['Conduire un véhicule, un engin',\n",
       " 'Contrôler un produit, vérifier une production, un processus',\n",
       " 'Cultiver, jardiner, exploiter le bois',\n",
       " 'Engins/véhicules',\n",
       " 'Entretenir des installations',\n",
       " 'Juridique, Fiscal et Légal : Environnement',\n",
       " 'Manipuler un outil, un appareil, un instrument',\n",
       " 'Matériel/Equipements/Outils/Instruments : Instruments de communication/multimédia',\n",
       " 'Matériel/Equipements/Outils/Instruments : Machines/outils/appareils',\n",
       " 'Mécanique générale',\n",
       " 'Produire, participer à des travaux manuels',\n",
       " 'Réparer une machine, du matériel',\n",
       " 'Sciences de la vie et de la terre : Vivant',\n",
       " 'Sciences de la vie et de la terre : Végétales',\n",
       " 'Sécurité, Protection des biens et des personnes',\n",
       " \"Techniques, procédés agricoles et d'entretien des végétaux : Agricole\",\n",
       " \"Techniques, procédés agricoles et d'entretien des végétaux : Espaces Verts\",\n",
       " 'Techniques, procédés de manutention',\n",
       " 'Techniques, procédés industriels et artisanaux : Métallurgie/ Soudure/ Usinage']"
      ]
     },
     "execution_count": 25,
     "metadata": {},
     "output_type": "execute_result"
    }
   ],
   "source": [
    "file = dir_path + '/' + 'fiches_metiers/A1101.xml.json'\n",
    "get_job_features_23 (file)"
   ]
  },
  {
   "cell_type": "code",
   "execution_count": 10,
   "metadata": {
    "collapsed": true
   },
   "outputs": [],
   "source": [
    "# Fonction qui permet d'obtenir la liste des métiers similaires au métier en argument\n",
    "def get_sim_jobs(code_rome):\n",
    "    # Numéro du cluster\n",
    "    num_cluster = int(clusters.loc[clusters.code_rome=='A1101',].clusters)\n",
    "    # \n",
    "    sim_jobs = []\n",
    "    for row in clusters.iterrows():\n",
    "        if row[1][\"clusters\"]==num_cluster:\n",
    "            sim_jobs.append(row[1][\"intitule\"])\n",
    "    return sim_jobs"
   ]
  },
  {
   "cell_type": "code",
   "execution_count": 16,
   "metadata": {
    "collapsed": false
   },
   "outputs": [],
   "source": [
    "# Création d'un dictionnaire avec :\n",
    "# - code_rome en clés\n",
    "# - un dictionnaire en valeurs comprenant :\n",
    "# --> la liste des appellations du métier\n",
    "# --> la liste des features (ou tags ou variables)\n",
    "# --> la liste  métiers du même cluster\n",
    "jobs_ifs = {}\n",
    "for file in list_files:\n",
    "    with open(fiches_dir_path + '/' + file, 'r') as f:\n",
    "        job = json.load(f)\n",
    "\n",
    "    jobs_ifs[job[\"code_rome\"]] = {}\n",
    "\n",
    "    # Liste des appelations du métier\n",
    "    jobs_ifs[job[\"code_rome\"]][\"intitule\"] = get_job_intitule(fiches_dir_path + '/' + file)    \n",
    "\n",
    "    # Liste des features du métier\n",
    "    jobs_ifs[job[\"code_rome\"]][\"features\"] = get_job_features_23(fiches_dir_path + '/' + file)\n",
    "\n",
    "    # Liste des métiers similaires\n",
    "    jobs_ifs[job[\"code_rome\"]][\"sim_jobs\"] = get_sim_jobs(job[\"code_rome\"])"
   ]
  },
  {
   "cell_type": "code",
   "execution_count": 17,
   "metadata": {
    "collapsed": false
   },
   "outputs": [],
   "source": [
    "# Copie du dictionnaire au format JSON\n",
    "with open(output_file, 'w') as f:\n",
    "    json.dump(jobs_ifs, f, indent=4)"
   ]
  },
  {
   "cell_type": "code",
   "execution_count": null,
   "metadata": {
    "collapsed": true
   },
   "outputs": [],
   "source": []
  }
 ],
 "metadata": {
  "kernelspec": {
   "display_name": "Python 3",
   "language": "python",
   "name": "python3"
  },
  "language_info": {
   "codemirror_mode": {
    "name": "ipython",
    "version": 3
   },
   "file_extension": ".py",
   "mimetype": "text/x-python",
   "name": "python",
   "nbconvert_exporter": "python",
   "pygments_lexer": "ipython3",
   "version": "3.5.1"
  }
 },
 "nbformat": 4,
 "nbformat_minor": 0
}
