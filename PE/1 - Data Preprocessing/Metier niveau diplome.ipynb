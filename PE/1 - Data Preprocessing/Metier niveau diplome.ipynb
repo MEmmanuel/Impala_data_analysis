{
 "cells": [
  {
   "cell_type": "code",
   "execution_count": 2,
   "metadata": {
    "collapsed": true
   },
   "outputs": [],
   "source": [
    "import os\n",
    "import json\n",
    "import pandas as pd\n",
    "import numpy as np"
   ]
  },
  {
   "cell_type": "code",
   "execution_count": 3,
   "metadata": {
    "collapsed": false
   },
   "outputs": [],
   "source": [
    "# Préparation des chemins utiles\n",
    "dir_path = os.getcwd()\n",
    "liste_onisep_rome_path = os.path.join(dir_path, 'Liste_Onisep_Rome.csv')\n",
    "onisep_formations_path = os.path.join(dir_path, 'Onisep_formation.csv')\n",
    "Malek_metier_formation = os.path.join(dir_path, 'Malek_Metier_Formation.csv')"
   ]
  },
  {
   "cell_type": "code",
   "execution_count": 4,
   "metadata": {
    "collapsed": false
   },
   "outputs": [
    {
     "data": {
      "text/html": [
       "<div>\n",
       "<table border=\"1\" class=\"dataframe\">\n",
       "  <thead>\n",
       "    <tr style=\"text-align: right;\">\n",
       "      <th></th>\n",
       "      <th>Metier</th>\n",
       "      <th>code ROME</th>\n",
       "    </tr>\n",
       "  </thead>\n",
       "  <tbody>\n",
       "    <tr>\n",
       "      <th>0</th>\n",
       "      <td>accessoiriste</td>\n",
       "      <td>L1503</td>\n",
       "    </tr>\n",
       "    <tr>\n",
       "      <th>1</th>\n",
       "      <td>accompagnateur / accompagnatrice de voyages</td>\n",
       "      <td>G1201</td>\n",
       "    </tr>\n",
       "    <tr>\n",
       "      <th>2</th>\n",
       "      <td>acheteur / acheteuse</td>\n",
       "      <td>M1101</td>\n",
       "    </tr>\n",
       "    <tr>\n",
       "      <th>3</th>\n",
       "      <td>acheteur / acheteuse d'espaces publicitaires</td>\n",
       "      <td>E1402</td>\n",
       "    </tr>\n",
       "    <tr>\n",
       "      <th>4</th>\n",
       "      <td>actuaire</td>\n",
       "      <td>C1105</td>\n",
       "    </tr>\n",
       "  </tbody>\n",
       "</table>\n",
       "</div>"
      ],
      "text/plain": [
       "                                         Metier code ROME\n",
       "0                                 accessoiriste     L1503\n",
       "1   accompagnateur / accompagnatrice de voyages     G1201\n",
       "2                          acheteur / acheteuse     M1101\n",
       "3  acheteur / acheteuse d'espaces publicitaires     E1402\n",
       "4                                      actuaire     C1105"
      ]
     },
     "execution_count": 4,
     "metadata": {},
     "output_type": "execute_result"
    }
   ],
   "source": [
    "liste_onisep_rome = pd.read_csv(liste_onisep_rome_path)\n",
    "liste_onisep_rome.head()"
   ]
  },
  {
   "cell_type": "code",
   "execution_count": 5,
   "metadata": {
    "collapsed": true
   },
   "outputs": [],
   "source": [
    "metier_rome = {}\n",
    "for row in liste_onisep_rome.itertuples():\n",
    "    metier = row[1]\n",
    "    rome = row[2]\n",
    "    if rome not in metier_rome:\n",
    "        metier_rome[rome] = [metier]\n",
    "    else:\n",
    "        metier_rome[rome].append(metier)"
   ]
  },
  {
   "cell_type": "code",
   "execution_count": 6,
   "metadata": {
    "collapsed": false
   },
   "outputs": [
    {
     "data": {
      "text/plain": [
       "['élagueur / élagueuse', 'technicien forestier / technicienne forestière']"
      ]
     },
     "execution_count": 6,
     "metadata": {},
     "output_type": "execute_result"
    }
   ],
   "source": [
    "metier_rome['A1201']"
   ]
  },
  {
   "cell_type": "code",
   "execution_count": 7,
   "metadata": {
    "collapsed": false
   },
   "outputs": [
    {
     "data": {
      "text/html": [
       "<div>\n",
       "<table border=\"1\" class=\"dataframe\">\n",
       "  <thead>\n",
       "    <tr style=\"text-align: right;\">\n",
       "      <th></th>\n",
       "      <th>CNIS/NSF</th>\n",
       "      <th>type</th>\n",
       "      <th>libellé principal</th>\n",
       "      <th>libellé complémentaire</th>\n",
       "      <th>durée</th>\n",
       "      <th>tutelle</th>\n",
       "      <th>niveau RNCP</th>\n",
       "      <th>lien site onisep.fr</th>\n",
       "    </tr>\n",
       "  </thead>\n",
       "  <tbody>\n",
       "    <tr>\n",
       "      <th>0</th>\n",
       "      <td>201</td>\n",
       "      <td>Diplôme d'ingénieur</td>\n",
       "      <td>diplôme d'ingénieur de Telecom Nancy de l'Univ...</td>\n",
       "      <td>NaN</td>\n",
       "      <td>3 ans</td>\n",
       "      <td>Ministère chargé de l'Enseignement supérieur e...</td>\n",
       "      <td>Niveau I niveau au moins égal à bac + 5</td>\n",
       "      <td>http://www.onisep.fr/http/redirection/formatio...</td>\n",
       "    </tr>\n",
       "    <tr>\n",
       "      <th>1</th>\n",
       "      <td>201</td>\n",
       "      <td>Diplôme d'ingénieur</td>\n",
       "      <td>diplôme d'ingénieur de l'Ecole nationale supér...</td>\n",
       "      <td>NaN</td>\n",
       "      <td>3 ans</td>\n",
       "      <td>Ministère chargé de l'Enseignement supérieur e...</td>\n",
       "      <td>Niveau I niveau au moins égal à bac + 5</td>\n",
       "      <td>http://www.onisep.fr/http/redirection/formatio...</td>\n",
       "    </tr>\n",
       "    <tr>\n",
       "      <th>2</th>\n",
       "      <td>210</td>\n",
       "      <td>Diplôme d'ingénieur</td>\n",
       "      <td>diplôme d'ingénieur de l'Institut supérieur de...</td>\n",
       "      <td>spécialité agronomie</td>\n",
       "      <td>3 ans</td>\n",
       "      <td>Ministère de l'Agriculture, de l'Agroalimentai...</td>\n",
       "      <td>Niveau I niveau au moins égal à bac + 5</td>\n",
       "      <td>http://www.onisep.fr/http/redirection/formatio...</td>\n",
       "    </tr>\n",
       "    <tr>\n",
       "      <th>3</th>\n",
       "      <td>201</td>\n",
       "      <td>Diplôme d'ingénieur</td>\n",
       "      <td>diplôme d'ingénieur de l'École centrale de Lille</td>\n",
       "      <td>spécialité génie informatique et industriel</td>\n",
       "      <td>5 ans</td>\n",
       "      <td>Ministère chargé de l'Enseignement supérieur e...</td>\n",
       "      <td>Niveau I niveau au moins égal à bac + 5</td>\n",
       "      <td>http://www.onisep.fr/http/redirection/formatio...</td>\n",
       "    </tr>\n",
       "    <tr>\n",
       "      <th>4</th>\n",
       "      <td>201</td>\n",
       "      <td>Diplôme d'ingénieur</td>\n",
       "      <td>diplôme d'ingénieur de l'Ecole polytechnique u...</td>\n",
       "      <td>spécialité instrumentation, automatique, infor...</td>\n",
       "      <td>5 ans</td>\n",
       "      <td>Ministère chargé de l'Enseignement supérieur e...</td>\n",
       "      <td>Niveau I niveau au moins égal à bac + 5</td>\n",
       "      <td>http://www.onisep.fr/http/redirection/formatio...</td>\n",
       "    </tr>\n",
       "  </tbody>\n",
       "</table>\n",
       "</div>"
      ],
      "text/plain": [
       "   CNIS/NSF                 type  \\\n",
       "0       201  Diplôme d'ingénieur   \n",
       "1       201  Diplôme d'ingénieur   \n",
       "2       210  Diplôme d'ingénieur   \n",
       "3       201  Diplôme d'ingénieur   \n",
       "4       201  Diplôme d'ingénieur   \n",
       "\n",
       "                                   libellé principal  \\\n",
       "0  diplôme d'ingénieur de Telecom Nancy de l'Univ...   \n",
       "1  diplôme d'ingénieur de l'Ecole nationale supér...   \n",
       "2  diplôme d'ingénieur de l'Institut supérieur de...   \n",
       "3   diplôme d'ingénieur de l'École centrale de Lille   \n",
       "4  diplôme d'ingénieur de l'Ecole polytechnique u...   \n",
       "\n",
       "                              libellé complémentaire  durée  \\\n",
       "0                                                NaN  3 ans   \n",
       "1                                                NaN  3 ans   \n",
       "2                               spécialité agronomie  3 ans   \n",
       "3        spécialité génie informatique et industriel  5 ans   \n",
       "4  spécialité instrumentation, automatique, infor...  5 ans   \n",
       "\n",
       "                                             tutelle  \\\n",
       "0  Ministère chargé de l'Enseignement supérieur e...   \n",
       "1  Ministère chargé de l'Enseignement supérieur e...   \n",
       "2  Ministère de l'Agriculture, de l'Agroalimentai...   \n",
       "3  Ministère chargé de l'Enseignement supérieur e...   \n",
       "4  Ministère chargé de l'Enseignement supérieur e...   \n",
       "\n",
       "                               niveau RNCP  \\\n",
       "0  Niveau I niveau au moins égal à bac + 5   \n",
       "1  Niveau I niveau au moins égal à bac + 5   \n",
       "2  Niveau I niveau au moins égal à bac + 5   \n",
       "3  Niveau I niveau au moins égal à bac + 5   \n",
       "4  Niveau I niveau au moins égal à bac + 5   \n",
       "\n",
       "                                 lien site onisep.fr  \n",
       "0  http://www.onisep.fr/http/redirection/formatio...  \n",
       "1  http://www.onisep.fr/http/redirection/formatio...  \n",
       "2  http://www.onisep.fr/http/redirection/formatio...  \n",
       "3  http://www.onisep.fr/http/redirection/formatio...  \n",
       "4  http://www.onisep.fr/http/redirection/formatio...  "
      ]
     },
     "execution_count": 7,
     "metadata": {},
     "output_type": "execute_result"
    }
   ],
   "source": [
    "formation = pd.read_csv(onisep_formations_path, sep=';')\n",
    "formation.head()"
   ]
  },
  {
   "cell_type": "code",
   "execution_count": 8,
   "metadata": {
    "collapsed": false
   },
   "outputs": [
    {
     "data": {
      "text/html": [
       "<div>\n",
       "<table border=\"1\" class=\"dataframe\">\n",
       "  <thead>\n",
       "    <tr style=\"text-align: right;\">\n",
       "      <th></th>\n",
       "      <th>0</th>\n",
       "      <th>1</th>\n",
       "    </tr>\n",
       "  </thead>\n",
       "  <tbody>\n",
       "    <tr>\n",
       "      <th>0</th>\n",
       "      <td>accessoiriste</td>\n",
       "      <td>Diplôme de scénographie costumes (ESAD Strasbo...</td>\n",
       "    </tr>\n",
       "    <tr>\n",
       "      <th>1</th>\n",
       "      <td>accessoiriste</td>\n",
       "      <td>BTS Design de produits</td>\n",
       "    </tr>\n",
       "    <tr>\n",
       "      <th>2</th>\n",
       "      <td>accessoiriste</td>\n",
       "      <td>BTS Design d'espace</td>\n",
       "    </tr>\n",
       "    <tr>\n",
       "      <th>3</th>\n",
       "      <td>accessoiriste</td>\n",
       "      <td>Diplôme arts et techniques du théâtre parcours...</td>\n",
       "    </tr>\n",
       "    <tr>\n",
       "      <th>4</th>\n",
       "      <td>accessoiriste</td>\n",
       "      <td>Diplôme national supérieur des arts décoratifs...</td>\n",
       "    </tr>\n",
       "  </tbody>\n",
       "</table>\n",
       "</div>"
      ],
      "text/plain": [
       "               0                                                  1\n",
       "0  accessoiriste  Diplôme de scénographie costumes (ESAD Strasbo...\n",
       "1  accessoiriste                             BTS Design de produits\n",
       "2  accessoiriste                                BTS Design d'espace\n",
       "3  accessoiriste  Diplôme arts et techniques du théâtre parcours...\n",
       "4  accessoiriste  Diplôme national supérieur des arts décoratifs..."
      ]
     },
     "execution_count": 8,
     "metadata": {},
     "output_type": "execute_result"
    }
   ],
   "source": [
    "metier_formation = pd.read_csv(Malek_metier_formation, encoding='latin1',header=None)\n",
    "metier_formation.head()"
   ]
  },
  {
   "cell_type": "code",
   "execution_count": 11,
   "metadata": {
    "collapsed": false
   },
   "outputs": [],
   "source": [
    "metier_diplome_niveau = {}\n",
    "formation10 =formation[0:10]\n",
    "for row in formation10.itertuples():\n",
    "    libelle = row[3]\n",
    "    if str(row[4])!='nan':\n",
    "        libelle = libelle + ' ' + row[4]\n",
    "    niveau = row[7]\n",
    "    for item in metier_formation.itertuples():\n",
    "        metier = item[1]\n",
    "        diplome = item[2]\n",
    "        if libelle.lower() == diplome.lower():\n",
    "            if metier not in metier_diplome_niveau:\n",
    "                metier_diplome_niveau[metier] = [[diplome,niveau]]\n",
    "            else:\n",
    "                metier_diplome_niveau[metier].append([diplome,niveau])"
   ]
  },
  {
   "cell_type": "code",
   "execution_count": 13,
   "metadata": {
    "collapsed": false
   },
   "outputs": [
    {
     "data": {
      "text/plain": [
       "{'agronome': [[\"Diplôme d'ingénieur de l'Institut supérieur des sciences agronomiques, agroalimentaires, horticoles et du paysage spécialité agronomie\",\n",
       "   'Niveau I niveau au moins égal à bac + 5']],\n",
       " 'aquaculteur / aquacultrice': [[\"Diplôme d'ingénieur de l'Institut supérieur des sciences agronomiques, agroalimentaires, horticoles et du paysage spécialité agronomie\",\n",
       "   'Niveau I niveau au moins égal à bac + 5']],\n",
       " 'architecte réseaux': [[\"Diplôme d'ingénieur de l'Ecole nationale supérieure en systèmes avancés et réseaux de l'Institut polytechnique de Grenoble\",\n",
       "   'Niveau I niveau au moins égal à bac + 5']],\n",
       " \"chargé / chargée d'études naturalistes\": [[\"Diplôme d'ingénieur de l'Institut supérieur des sciences agronomiques, agroalimentaires, horticoles et du paysage spécialité agronomie\",\n",
       "   'Niveau I niveau au moins égal à bac + 5']],\n",
       " 'chef de produit technique en informatique': [[\"Diplôme d'ingénieur de l'Ecole polytechnique de l'université de Tours spécialité informatique\",\n",
       "   'Niveau I niveau au moins égal à bac + 5']],\n",
       " 'chef de projet biodiversité': [[\"Diplôme d'ingénieur de l'Institut supérieur des sciences agronomiques, agroalimentaires, horticoles et du paysage spécialité agronomie\",\n",
       "   'Niveau I niveau au moins égal à bac + 5']],\n",
       " 'chef de projet web/mobile': [[\"Diplôme d'ingénieur de l'Ecole polytechnique de l'université de Tours spécialité informatique\",\n",
       "   'Niveau I niveau au moins égal à bac + 5']],\n",
       " 'consultant / consultante en conduite de changement': [[\"Diplôme d'ingénieur de l'École centrale de Lille spécialité génie informatique et industriel\",\n",
       "   'Niveau I niveau au moins égal à bac + 5']],\n",
       " 'développeur rural / développeuse rurale humanitaire': [[\"Diplôme d'ingénieur de l'Institut supérieur des sciences agronomiques, agroalimentaires, horticoles et du paysage spécialité agronomie\",\n",
       "   'Niveau I niveau au moins égal à bac + 5']],\n",
       " 'gestionnaire de contrats informatiques': [[\"Diplôme d'ingénieur de l'École centrale de Lille spécialité génie informatique et industriel\",\n",
       "   'Niveau I niveau au moins égal à bac + 5']],\n",
       " 'halieute': [[\"Diplôme d'ingénieur de l'Institut supérieur des sciences agronomiques, agroalimentaires, horticoles et du paysage spécialité agronomie\",\n",
       "   'Niveau I niveau au moins égal à bac + 5']],\n",
       " 'informaticien industriel / informaticienne industrielle': [[\"Diplôme d'ingénieur de l'École centrale de Lille\",\n",
       "   'Niveau I niveau au moins égal à bac + 5']],\n",
       " 'ingénieur / ingénieure R&amp;D en énergies renouvelables': [[\"Diplôme d'ingénieur de l'École centrale de Lille\",\n",
       "   'Niveau I niveau au moins égal à bac + 5']],\n",
       " 'ingénieur / ingénieure du BTP': [[\"Diplôme d'ingénieur de l'École centrale de Lille\",\n",
       "   'Niveau I niveau au moins égal à bac + 5']],\n",
       " 'ingénieur / ingénieure en imagerie médicale': [[\"Diplôme d'ingénieur de l'École centrale de Lille spécialité génie informatique et industriel\",\n",
       "   'Niveau I niveau au moins égal à bac + 5']],\n",
       " 'ingénieur / ingénieure en production et expérimentations végétales': [[\"Diplôme d'ingénieur de l'Institut supérieur des sciences agronomiques, agroalimentaires, horticoles et du paysage spécialité agronomie\",\n",
       "   'Niveau I niveau au moins égal à bac + 5']],\n",
       " 'ingénieur / ingénieure en énergie solaire': [[\"Diplôme d'ingénieur de l'Ecole supérieure des sciences et technologies de l'ingénieur de Nancy de l'université de lorraine\",\n",
       "   'Niveau I niveau au moins égal à bac + 5']],\n",
       " 'ingénieur / ingénieure méthodes mécaniques': [[\"Diplôme d'ingénieur de l'École centrale de Lille\",\n",
       "   'Niveau I niveau au moins égal à bac + 5']],\n",
       " 'ingénieur / ingénieure production en mécanique': [[\"Diplôme d'ingénieur de l'École centrale de Lille\",\n",
       "   'Niveau I niveau au moins égal à bac + 5']],\n",
       " 'ingénieur / ingénieure support': [[\"Diplôme d'ingénieur de l'École centrale de Lille spécialité génie informatique et industriel\",\n",
       "   'Niveau I niveau au moins égal à bac + 5']],\n",
       " 'logisticien / logisticienne': [[\"Diplôme d'ingénieur de l'École centrale de Lille\",\n",
       "   'Niveau I niveau au moins égal à bac + 5']],\n",
       " 'mécatronicien / mécatronicienne': [[\"Diplôme d'ingénieur de l'Institut national des sciences appliquées de Strasbourg spécialité mécatronique\",\n",
       "   'Niveau I niveau au moins égal à bac + 5']],\n",
       " 'responsable approvisionnement': [[\"Diplôme d'ingénieur de l'École centrale de Lille\",\n",
       "   'Niveau I niveau au moins égal à bac + 5']],\n",
       " 'responsable de laboratoire de contrôle en biologie': [[\"Diplôme d'ingénieur de l'École centrale de Lille\",\n",
       "   'Niveau I niveau au moins égal à bac + 5']],\n",
       " 'roboticien / roboticienne': [[\"Diplôme d'ingénieur de l'École centrale de Lille spécialité génie informatique et industriel\",\n",
       "   'Niveau I niveau au moins égal à bac + 5']],\n",
       " \"spécialiste de l'accessibilité numérique\": [[\"Diplôme d'ingénieur de l'Ecole polytechnique de l'université de Tours spécialité informatique\",\n",
       "   'Niveau I niveau au moins égal à bac + 5']],\n",
       " 'statisticien / statisticienne en analyse sensorielle': [[\"Diplôme d'ingénieur de l'Institut supérieur des sciences agronomiques, agroalimentaires, horticoles et du paysage spécialité agronomie\",\n",
       "   'Niveau I niveau au moins égal à bac + 5']]}"
      ]
     },
     "execution_count": 13,
     "metadata": {},
     "output_type": "execute_result"
    }
   ],
   "source": [
    "metier_diplome_niveau"
   ]
  },
  {
   "cell_type": "code",
   "execution_count": null,
   "metadata": {
    "collapsed": true
   },
   "outputs": [],
   "source": []
  }
 ],
 "metadata": {
  "kernelspec": {
   "display_name": "Python 3",
   "language": "python",
   "name": "python3"
  },
  "language_info": {
   "codemirror_mode": {
    "name": "ipython",
    "version": 3
   },
   "file_extension": ".py",
   "mimetype": "text/x-python",
   "name": "python",
   "nbconvert_exporter": "python",
   "pygments_lexer": "ipython3",
   "version": "3.5.1"
  }
 },
 "nbformat": 4,
 "nbformat_minor": 0
}
