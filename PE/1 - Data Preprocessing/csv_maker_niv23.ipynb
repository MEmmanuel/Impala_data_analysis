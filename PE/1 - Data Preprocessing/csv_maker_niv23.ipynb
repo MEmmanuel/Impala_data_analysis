{
 "cells": [
  {
   "cell_type": "code",
   "execution_count": 1,
   "metadata": {
    "collapsed": true
   },
   "outputs": [],
   "source": [
    "# Prérequis :\n",
    "# - les fiches métiers au format JSON dans un dossier fiches_metiers\n",
    "# - l'arborescence des activités dans un dossier ArborescencesActivitesCompetences\n",
    "# - l'arborescence des compétences dans un dossier ArborescenceActivitesCompetences\n",
    "# - un fichier activites.json dans un dossier fichier_donnees\n",
    "# - un fichier competences.json dans un dossier fichier_donnees\n",
    "\n",
    "# Ce script permet de créer un fichier csv avec :\n",
    "# - les métiers en ligne\n",
    "# - des indicatrices pour les compétences et les activités en colonnes\n",
    "import os\n",
    "import json\n",
    "import pandas as pd\n",
    "import numpy as np"
   ]
  },
  {
   "cell_type": "code",
   "execution_count": 3,
   "metadata": {
    "collapsed": false
   },
   "outputs": [],
   "source": [
    "# Préparation des chemins utiles\n",
    "dir_path = os.getcwd()\n",
    "fiches_dir_path = os.path.join(dir_path, 'fiches_metiers')\n",
    "arbo_act = os.path.join(dir_path,'ArborescencesActivitesCompetences/rome_arboactivités_juin62181.xlsx')\n",
    "arbo_comp = os.path.join(dir_path,'ArborescencesActivitesCompetences/rome_arbocompétences_juin62182.xlsx')\n",
    "act_json = os.path.join(dir_path,'fichier_donnees/activites.json')\n",
    "comp_json = os.path.join(dir_path,'competences.json')\n",
    "output_file = os.path.join(dir_path,'PE_niv23.csv')"
   ]
  },
  {
   "cell_type": "code",
   "execution_count": 3,
   "metadata": {
    "collapsed": true
   },
   "outputs": [],
   "source": [
    "# Liste des métiers\n",
    "list_files = os.listdir(fiches_dir_path)\n",
    "n = len(list_files)"
   ]
  },
  {
   "cell_type": "code",
   "execution_count": 5,
   "metadata": {
    "collapsed": true
   },
   "outputs": [],
   "source": [
    "# Chargement des données de compétences dans la variable comp\n",
    "with open(comp_json) as json_data:\n",
    "    comp = json.load(json_data)\n",
    "    json_data.close()\n",
    "    \n",
    "# Chargement des données de d'activités dans la variable act\n",
    "with open(act_json) as json_data:\n",
    "    act = json.load(json_data)\n",
    "    json_data.close()"
   ]
  },
  {
   "cell_type": "code",
   "execution_count": 36,
   "metadata": {
    "collapsed": false
   },
   "outputs": [],
   "source": [
    "# Création de la liste de toutes les compétences de niveau 3 features_comp_niv3\n",
    "features_comp_niv3 = []\n",
    "for niv1 in comp:\n",
    "    for niv2 in comp[niv1]:\n",
    "        for niv3 in comp[niv1][niv2]:\n",
    "            if niv3=='nan':\n",
    "                features_comp_niv3.append(niv2)\n",
    "            else:\n",
    "                features_comp_niv3.append(niv3)\n",
    "\n",
    "                \n",
    "# Création de la liste de toutes les activités de niveau 2 features_act\n",
    "features_act_niv2 = []\n",
    "for niv1 in act:\n",
    "    for niv2 in act[niv1]:\n",
    "        features_act_niv2.append(niv2)\n",
    "\n",
    "# Création de la liste de toutes les caracéristiques de niveau 2\n",
    "features_niv23 = features_comp_niv3 + features_act_niv2"
   ]
  },
  {
   "cell_type": "code",
   "execution_count": 76,
   "metadata": {
    "collapsed": false
   },
   "outputs": [],
   "source": [
    "# Création d'un dataframe qui contiendra les futures valeurs des caractéristiques des métiers\n",
    "features_head = ['code_rome', 'intitule']\n",
    "cols = features_head + features_niv23\n",
    "p = len(cols)\n",
    "\n",
    "data = pd.DataFrame(np.zeros(shape=(n,p)), columns = cols)"
   ]
  },
  {
   "cell_type": "code",
   "execution_count": 75,
   "metadata": {
    "collapsed": false
   },
   "outputs": [
    {
     "data": {
      "text/plain": [
       "Index(['code_rome', 'intitule', 'Légal', 'Fiscal', 'Environnement',\n",
       "       'Sécurité, Protection des biens et des personnes', 'Normes',\n",
       "       'Procédure de conditionnement, stockage',\n",
       "       'Procédures de montage, réglage, entretien',\n",
       "       'Procédures administratives',\n",
       "       ...\n",
       "       'Prospecter une clientèle, un partenaire',\n",
       "       'Transporter des marchandises à l'aide d'un véhicule, livrer',\n",
       "       'Manipuler un outil, un appareil, un instrument',\n",
       "       'Conduire une machine', 'Conduire un véhicule, un engin',\n",
       "       'Porter une charge par ses propres moyens',\n",
       "       'Transporter des personnes, des animaux', 'Ranger, conditionner, trier',\n",
       "       'Animer un groupe, une réunion (hors hiérarchie)',\n",
       "       'Former une personne, enseigner'],\n",
       "      dtype='object', length=170)"
      ]
     },
     "execution_count": 75,
     "metadata": {},
     "output_type": "execute_result"
    }
   ],
   "source": [
    "data.columns"
   ]
  },
  {
   "cell_type": "code",
   "execution_count": 58,
   "metadata": {
    "collapsed": false
   },
   "outputs": [
    {
     "data": {
      "text/plain": [
       "37"
      ]
     },
     "execution_count": 58,
     "metadata": {},
     "output_type": "execute_result"
    }
   ],
   "source": [
    "# Fonction qui permet de récupérer une liste des code ogr des activités et compétences\n",
    "# qui décrvient le métier donné en argument\n",
    "def get_job_features_ogr(file):\n",
    "    job_features = []\n",
    "    with open(file, 'r') as f:\n",
    "        job = json.load(f)\n",
    "        \n",
    "    for item in job[\"activites_de_base\"]:\n",
    "        job_features.append(int(item['code_ogr']))\n",
    "    for item in job[\"savoir_theorique_et_proceduraux\"]:\n",
    "        job_features.append(int(item['code_ogr']))\n",
    "    for item in job[\"activite_specifique\"]:\n",
    "        job_features.append(int(item['code_ogr']))\n",
    "    for item in job[\"savoir_action\"]:\n",
    "        job_features.append(int(item['code_ogr']))\n",
    "    return job_features"
   ]
  },
  {
   "cell_type": "code",
   "execution_count": 77,
   "metadata": {
    "collapsed": true
   },
   "outputs": [],
   "source": [
    "# Cette boucle permet de compléter le dataframe des métiers avec les valeurs de leurs activités\n",
    "# de niveau 2 et compétences de niveau 3\n",
    "i = 0\n",
    "for file in list_files:\n",
    "    # Ouverture de la fiche métier du job dans un dictionnaire 'job'\n",
    "    with open(fiches_dir_path + '/' + file, 'r') as f:\n",
    "        job = json.load(f)\n",
    "    \n",
    "    # On renseigne le code rome et l'intitulé du métier dans le dataframe final   \n",
    "    data.loc[i,'code_rome'] = job[\"code_rome\"]     \n",
    "    data.loc[i,'intitule'] = job[\"intitule\"]\n",
    "    \n",
    "    job_features_ogr = get_job_features_ogr(fiches_dir_path + '/' + file)\n",
    "    len(job_features_ogr)\n",
    "    \n",
    "    # On parcourt la liste des compétences et si elle est dans la description du métier \n",
    "    # on l'ajoute dans le décompte des compétences de niveau 2\n",
    "    count = {}\n",
    "    for niv1 in comp:\n",
    "        for niv2 in comp[niv1]:\n",
    "            count[niv2] = 0\n",
    "            for niv3 in comp[niv1][niv2]:\n",
    "                count[niv3] = 0\n",
    "                for niv4 in comp[niv1][niv2][niv3].values():\n",
    "                    for item in niv4:         \n",
    "                        if int(item[1]) in job_features_ogr:\n",
    "                            if niv3=='nan':\n",
    "                                count[niv2] += 1  \n",
    "                            else:\n",
    "                                count[niv3] += 1   \n",
    "                data.loc[i,niv3] = count[niv3]    \n",
    "            data.loc[i,niv2] = count[niv2]\n",
    "    \n",
    "    # Même chose pour les activités\n",
    "    for niv1 in act:\n",
    "        for niv2 in act[niv1]:\n",
    "            count[niv2] = 0\n",
    "            for niv3 in act[niv1][niv2]:\n",
    "                for niv4 in act[niv1][niv2][niv3]:\n",
    "                    for niv5 in act[niv1][niv2][niv3][niv4].values():\n",
    "                        for item in niv5:         \n",
    "                            if int(item[1]) in job_features_ogr:\n",
    "                                count[niv2] += 1\n",
    "            data.loc[i,niv2] = count[niv2]\n",
    "    i +=1\n",
    "\n",
    "sorted_data = data.sort_values(by='code_rome')"
   ]
  },
  {
   "cell_type": "code",
   "execution_count": 78,
   "metadata": {
    "collapsed": false
   },
   "outputs": [
    {
     "data": {
      "text/plain": [
       "273    36.0\n",
       "452    35.0\n",
       "51     26.0\n",
       "517    31.0\n",
       "45     36.0\n",
       "461    36.0\n",
       "346    36.0\n",
       "267    30.0\n",
       "474    37.0\n",
       "435    28.0\n",
       "324    22.0\n",
       "27     14.0\n",
       "215    30.0\n",
       "201    43.0\n",
       "413    32.0\n",
       "279    43.0\n",
       "218    40.0\n",
       "504    35.0\n",
       "519    47.0\n",
       "246    33.0\n",
       "440    49.0\n",
       "234    58.0\n",
       "178    29.0\n",
       "513    29.0\n",
       "507    32.0\n",
       "189    19.0\n",
       "175    22.0\n",
       "447    34.0\n",
       "29     24.0\n",
       "408    38.0\n",
       "       ... \n",
       "332    44.0\n",
       "160    43.0\n",
       "179    38.0\n",
       "116    21.0\n",
       "100    61.0\n",
       "301    24.0\n",
       "221    45.0\n",
       "143    43.0\n",
       "375    27.0\n",
       "26     32.0\n",
       "516    59.0\n",
       "98     49.0\n",
       "522    48.0\n",
       "146    40.0\n",
       "108    36.0\n",
       "450    42.0\n",
       "187    59.0\n",
       "62     28.0\n",
       "342    41.0\n",
       "405    28.0\n",
       "24     57.0\n",
       "157    36.0\n",
       "131    33.0\n",
       "506    29.0\n",
       "466    32.0\n",
       "329    27.0\n",
       "265    23.0\n",
       "120    19.0\n",
       "20     35.0\n",
       "359    22.0\n",
       "dtype: float64"
      ]
     },
     "execution_count": 78,
     "metadata": {},
     "output_type": "execute_result"
    }
   ],
   "source": [
    "sorted_data.sum(1)"
   ]
  },
  {
   "cell_type": "code",
   "execution_count": 79,
   "metadata": {
    "collapsed": true
   },
   "outputs": [],
   "source": [
    "sorted_data.to_csv(output_file)"
   ]
  },
  {
   "cell_type": "code",
   "execution_count": 65,
   "metadata": {
    "collapsed": false
   },
   "outputs": [
    {
     "data": {
      "text/plain": [
       "36.0"
      ]
     },
     "execution_count": 65,
     "metadata": {},
     "output_type": "execute_result"
    }
   ],
   "source": [
    "## tests\n",
    "\n",
    "file = '/home/timothee/PycharmProjects/ImpalaPoleEmploi2/fiches_metiers/A1101.xml.json'\n",
    "# Ouverture de la fiche métier du job dans un dictionnaire\n",
    "with open(file, 'r') as f:\n",
    "    job = json.load(f)\n",
    "\n",
    "# On renseigne le code rome et l'intitulé du métier    \n",
    "data.loc[0,'code_rome'] = job[\"code_rome\"]     \n",
    "data.loc[0,'intitule'] = job[\"intitule\"]\n",
    "\n",
    "job_features_ogr = get_job_features_ogr(file)\n",
    "len(job_features_ogr)\n",
    "\n",
    "# On parcourt la liste des compétences et si elle décrit le métier on l'ajoute dans le décompte\n",
    "# des compétences de niveau 2\n",
    "count = {}\n",
    "for niv1 in comp:\n",
    "    for niv2 in comp[niv1]:\n",
    "        count[niv2] = 0\n",
    "        for niv3 in comp[niv1][niv2]:\n",
    "            count[niv3] = 0\n",
    "            for niv4 in comp[niv1][niv2][niv3].values():\n",
    "                for item in niv4:         \n",
    "                    if int(item[1]) in job_features_ogr:\n",
    "                        if niv3=='nan':\n",
    "                            count[niv2] += 1  \n",
    "                        else:\n",
    "                            count[niv3] += 1   \n",
    "            data.loc[0,niv3] = count[niv3]    \n",
    "        data.loc[0,niv2] = count[niv2]\n",
    "\n",
    "\n",
    "    # Même chose pour les activités\n",
    "for niv1 in act:\n",
    "    for niv2 in act[niv1]:\n",
    "        count[niv2] = 0\n",
    "        for niv3 in act[niv1][niv2]:\n",
    "            for niv4 in act[niv1][niv2][niv3]:\n",
    "                for niv5 in act[niv1][niv2][niv3][niv4].values():\n",
    "                    for item in niv5:\n",
    "                        if int(item[1]) in job_features_ogr:\n",
    "                            count[niv2] += 1\n",
    "        data.loc[0,niv2] = count[niv2]\n",
    "\n",
    "data.sum(1)[0]"
   ]
  },
  {
   "cell_type": "code",
   "execution_count": 48,
   "metadata": {
    "collapsed": false
   },
   "outputs": [
    {
     "data": {
      "text/plain": [
       "code_rome                                                                                                            A1101\n",
       "intitule                                                                         Conduite d'engins agricoles et forestiers\n",
       "Légal                                                                                                                    0\n",
       "Fiscal                                                                                                                   0\n",
       "Environnement                                                                                                            1\n",
       "Sécurité, Protection des biens et des personnes                                                                          1\n",
       "Normes                                                                                                                   0\n",
       "Procédure de conditionnement, stockage                                                                                   0\n",
       "Procédures de montage, réglage, entretien                                                                                0\n",
       "Procédures administratives                                                                                               0\n",
       "Autres procédures                                                                                                        0\n",
       "Sécurité alimentaire                                                                                                     0\n",
       "Sécurité sanitaire                                                                                                       0\n",
       "Conduite, circulation, transport                                                                                         0\n",
       "Image                                                                                                                    0\n",
       "Gestuelle                                                                                                                0\n",
       "Son                                                                                                                      0\n",
       "Lumière                                                                                                                  0\n",
       "Ecriture                                                                                                                 0\n",
       "Art                                                                                                                      0\n",
       "Tourisme                                                                                                                 0\n",
       "Méthodes d'ingénierie                                                                                                    0\n",
       "Mécanique (auto, moto, avion, bateau, machine)                                                                           0\n",
       "Informatique (programmation)                                                                                             0\n",
       "Techniques et procédés d'installation, de réparation de matériel informatique                                            0\n",
       "Maniement de logiciels (bureautique, X-AO..)                                                                             0\n",
       "Procédés physiques et chimiques                                                                                          0\n",
       "Gros oeuvre / Extraction                                                                                                 0\n",
       "Artisanat d'art                                                                                                          0\n",
       "Menuiserie                                                                                                               0\n",
       "                                                                                                   ...                    \n",
       "Evaluer, étudier, analyser                                                                                               0\n",
       "Jouer de la musique, chanter                                                                                             0\n",
       "Concevoir un projet artistique                                                                                           0\n",
       "Pratiquer une activité sportive                                                                                          0\n",
       "Jouer un rôle, défiler, danser                                                                                           0\n",
       "Pratiquer un art plastique                                                                                               0\n",
       "Produire, participer à des travaux manuels                                                                               0\n",
       "Cultiver, jardiner, exploiter le bois                                                                                    0\n",
       "Cuisiner                                                                                                                 0\n",
       "Actualiser des informations, des bases de données                                                                        0\n",
       "Traiter des images, des sons, des lumières, des contenus multimédias                                                     0\n",
       "Communiquer                                                                                                              0\n",
       "Synthétiser, traiter une information                                                                                     0\n",
       "Nettoyer des intérieurs, des locaux                                                                                      0\n",
       "Nettoyer des textiles, des cuirs, du linge                                                                               0\n",
       "Stériliser, désinfecter, dépolluer, décontaminer                                                                         0\n",
       "Nettoyer des espaces extérieurs                                                                                          0\n",
       "Laver du matériel, des ustensiles, des machines, des véhicules                                                           0\n",
       "Effectuer des opérations de caisse                                                                                       0\n",
       "Acheter/Négocier                                                                                                         0\n",
       "Etablir un devis, contractualiser une transaction                                                                        0\n",
       "Proposer, vendre un produit, un service                                                                                  0\n",
       "Prospecter une clientèle, un partenaire                                                                                  0\n",
       "Transporter des marchandises à l'aide d'un véhicule, livrer                                                              0\n",
       "Manipuler un outil, un appareil, un instrument                                                                           0\n",
       "Conduire une machine                                                                                                     0\n",
       "Conduire un véhicule, un engin                                                                                           0\n",
       "Porter une charge par ses propres moyens                                                                                 0\n",
       "Transporter des personnes, des animaux                                                                                   0\n",
       "Ranger, conditionner, trier                                                                                              0\n",
       "Name: 0, dtype: object"
      ]
     },
     "execution_count": 48,
     "metadata": {},
     "output_type": "execute_result"
    }
   ],
   "source": [
    "data.iloc[0,0:168]"
   ]
  },
  {
   "cell_type": "code",
   "execution_count": 43,
   "metadata": {
    "collapsed": false
   },
   "outputs": [],
   "source": [
    "c = {}\n",
    "c['abcd'] = 0"
   ]
  },
  {
   "cell_type": "code",
   "execution_count": null,
   "metadata": {
    "collapsed": true
   },
   "outputs": [],
   "source": []
  }
 ],
 "metadata": {
  "kernelspec": {
   "display_name": "Python 3",
   "language": "python",
   "name": "python3"
  },
  "language_info": {
   "codemirror_mode": {
    "name": "ipython",
    "version": 3
   },
   "file_extension": ".py",
   "mimetype": "text/x-python",
   "name": "python",
   "nbconvert_exporter": "python",
   "pygments_lexer": "ipython3",
   "version": "3.5.1"
  }
 },
 "nbformat": 4,
 "nbformat_minor": 0
}
