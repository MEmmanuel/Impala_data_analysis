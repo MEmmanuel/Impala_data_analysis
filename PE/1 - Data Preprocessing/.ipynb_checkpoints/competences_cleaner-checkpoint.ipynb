{
 "cells": [
  {
   "cell_type": "code",
   "execution_count": 84,
   "metadata": {
    "collapsed": true
   },
   "outputs": [],
   "source": [
    "# Ce script prend en entrée l'arborescence des compétences au format xlxs et sort un document JSON qui reprend\n",
    "# les informations utiles\n",
    "import os\n",
    "import pandas as pd\n",
    "import json"
   ]
  },
  {
   "cell_type": "code",
   "execution_count": 85,
   "metadata": {
    "collapsed": true
   },
   "outputs": [],
   "source": [
    "# Préparation des chemins utiles\n",
    "dir_path = os.getcwd()\n",
    "# Arborescence des compétences\n",
    "arbo_dir_path = os.path.join(dir_path, 'ArborescencesActivitesCompetences')\n",
    "# Arborescence des activités\n",
    "competences_data = os.path.join(arbo_dir_path, 'rome_arbocompétences_juin62182.xlsx')\n",
    "# Fichier de sortie\n",
    "competences_output = os.path.join(dir_path, 'competences.json')"
   ]
  },
  {
   "cell_type": "code",
   "execution_count": 86,
   "metadata": {
    "collapsed": false
   },
   "outputs": [],
   "source": [
    "#Chargement des données dans un dataframe pandas\n",
    "sheetname = 'Arbo Comptétences ROMEJuin 2016'\n",
    "header = 0\n",
    "skiprows = 0\n",
    "Data = pd.read_excel(competences_data, sheetname, header, skiprows)"
   ]
  },
  {
   "cell_type": "code",
   "execution_count": 88,
   "metadata": {
    "collapsed": false
   },
   "outputs": [],
   "source": [
    "# Nombre de métiers\n",
    "data_range = len(Data)\n",
    "\n",
    "#Création du dictionnaire\n",
    "data_dict = {}\n",
    "\n",
    "i = 0\n",
    "niv1 = 'nan'\n",
    "niv2 = 'nan'\n",
    "niv3 = 'nan'\n",
    "niv4 = 'nan'\n",
    "list_same_niv = []\n",
    "while i < data_range:\n",
    "    if not type(Data.iloc[i,4]) == str:\n",
    "        list_same_niv = []\n",
    "        if type(Data.iloc[i,0]) == str:\n",
    "            niv1 = Data.iloc[i,6]\n",
    "            niv2 = 'nan'\n",
    "            niv3 = 'nan'\n",
    "            niv4 = 'nan'\n",
    "            i += 1\n",
    "            data_dict[niv1] = {}\n",
    "        if type(Data.iloc[i,1]) == str:\n",
    "            niv2 = Data.iloc[i,6]\n",
    "            niv3 = 'nan'\n",
    "            niv4 = 'nan'\n",
    "            i += 1\n",
    "            data_dict[niv1][niv2] = {}\n",
    "        if type(Data.iloc[i,2]) == str:\n",
    "            niv3 = Data.iloc[i,6]\n",
    "            niv4 = 'nan'\n",
    "            i += 1\n",
    "            data_dict[niv1][niv2][niv3] = {}\n",
    "        if type(Data.iloc[i,3]) == str:\n",
    "            niv4 = Data.iloc[i,3]\n",
    "            i += 1\n",
    "            data_dict[niv1][niv2][niv3][niv4] = []\n",
    "\n",
    "    if  type(Data.iloc[i,4]) == str:\n",
    "        list_same_niv.append([Data.iloc[i,4], Data.iloc[i,5]])\n",
    "        i += 1\n",
    "    if i == data_range:\n",
    "        try:\n",
    "            data_dict[niv1][niv2][niv3][niv4] = list_same_niv\n",
    "        except:\n",
    "            data_dict[niv1][niv2][niv3] = {}\n",
    "            try:\n",
    "                data_dict[niv1][niv2][niv3][niv4] = list_same_niv\n",
    "            except:\n",
    "                data_dict[niv1][niv2] = {}\n",
    "                try:\n",
    "                    data_dict[niv1][niv2][niv3][niv4] = list_same_niv\n",
    "                except:\n",
    "                    data_dict[niv1] = {}\n",
    "                    data_dict[niv1][niv2][niv3][niv4] = list_same_niv      \n",
    "        break\n",
    "    if not type(Data.iloc[i,4]) == str:        \n",
    "        try:\n",
    "            data_dict[niv1][niv2][niv3][niv4] = list_same_niv\n",
    "        except:\n",
    "            data_dict[niv1][niv2][niv3] = {}\n",
    "            try:\n",
    "                data_dict[niv1][niv2][niv3][niv4] = list_same_niv\n",
    "            except:\n",
    "                data_dict[niv1][niv2] = {}\n",
    "                try:\n",
    "                    data_dict[niv1][niv2][niv3][niv4] = list_same_niv\n",
    "                except:\n",
    "                    data_dict[niv1] = {}\n",
    "                    data_dict[niv1][niv2][niv3][niv4] = list_same_niv   "
   ]
  },
  {
   "cell_type": "code",
   "execution_count": 40,
   "metadata": {
    "collapsed": false
   },
   "outputs": [
    {
     "data": {
      "text/plain": [
       "['Soins aux animaux',\n",
       " 'Dessin industriel',\n",
       " 'Techniques liées au tourisme',\n",
       " 'Compétences informatiques',\n",
       " 'Compétences multimédia',\n",
       " \"Méthodes d'ingénierie\",\n",
       " 'Techniques de manutention',\n",
       " 'Techniques, procédés artistiques',\n",
       " 'Techniques de soin aux personnes',\n",
       " 'Techniques d’impression',\n",
       " 'Techniques de nettoyage',\n",
       " 'Techniques, procédés industriels et artisanaux',\n",
       " 'Compétences mécaniques',\n",
       " \"Techniques, procédés agricoles et d'entretien des végétaux\"]"
      ]
     },
     "execution_count": 40,
     "metadata": {},
     "output_type": "execute_result"
    }
   ],
   "source": [
    "list(data_dict[\"Compétences techniques\"].keys())"
   ]
  },
  {
   "cell_type": "code",
   "execution_count": 80,
   "metadata": {
    "collapsed": false
   },
   "outputs": [],
   "source": [
    "# Création d'un dictionnaire avec les catégories de compétence et les compétences\n",
    "comp_final = {}\n",
    "comp_final['Appréciation sensorielle et interprétation de données ou de signaux'] = \\\n",
    "    [\"Appréciation sensorielle\",\n",
    "    \"Interprétation de données ou de signaux\"]\n",
    "\n",
    "comp_final[\"Compétences humaines et sociales\"] = \\\n",
    "    [\"Compétences managériales\",\n",
    "    \"Techniques de prévention et de gestion de conflits\",\n",
    "    \"Techniques d’investigation et d’enquête\",\n",
    "    \"Techniques de communication\",\n",
    "    \"Techniques pédagogiques\",\n",
    "    \"Techniques liées au tourisme\"]\n",
    "    \n",
    "comp_final[\"Compétences physiques et mentales\"] = \\\n",
    "    [\"Compétences sportives\",\n",
    "    \"Compétences mentales\",\n",
    "    \"Compétences physiques\"]\n",
    "    \n",
    "comp_final[\"Compétences techniques industrielles et informatiques\"] = \\\n",
    "    ['Compétences mécaniques',\n",
    "    'Techniques de dessin industriel',\n",
    "    'Techniques de procédés physiques ou chimiques',\n",
    "    'Techniques industrielles d’assemblage et de traitement',\n",
    "    'Techniques industrielles artisanales et manuelles',\n",
    "    'Techniques de métallurgie, soudure et usinage',\n",
    "    'Techniques du BTP',\n",
    "    'Techniques électriques et électroniques',\n",
    "    'Techniques de menuiserie',\n",
    "    'Techniques de confection textile',\n",
    "    'Programmation informatique',\n",
    "    'Manipulation de logiciels informatiques',\n",
    "    'Installation et réparation de matériel informatique',\n",
    "    \"Méthodes d'ingénierie\",\n",
    "    \"Techniques de manutention\",\n",
    "    'Techniques de nettoyage',\n",
    "    'Techniques d’impression',\n",
    "    'Procédures techniques industrielles',\n",
    "    'Techniques de conditionnement et de stockage',\n",
    "    'Techniques de montage, de réglage et d’entretien']\n",
    "    \n",
    "comp_final[\"Compétences médicales\"] = \\\n",
    "    ['Soins aux personnes',\n",
    "    'Soins esthétiques',\n",
    "    'Secourisme',\n",
    "    'Soins aux animaux']\n",
    "    \n",
    "comp_final[\"Entretien des espaces verts et procédés agricoles\"] = \\\n",
    "    ['Compétences agricoles',\n",
    "    'Entretien des espaces verts']\n",
    "    \n",
    "comp_final[\"Compétences artistiques\"] = \\\n",
    "    ['Compétences artistiques',\n",
    "    'Compétences d’écriture',\n",
    "    'Compétences gestuelles',\n",
    "    'Compétences techniques en image',\n",
    "    'Compétences techniques en lumière',\n",
    "    'Compétences techniques en son',\n",
    "    'Compétences multimédia']\n",
    "    \n",
    "comp_final[\"Connaissance des métiers des entreprises\"] = \\\n",
    "    [\"Techniques de communication et de traitement de l’information\",\n",
    "    \"Comptabilité\",\n",
    "    \"Analyses financières des entreprises\",\n",
    "    \"Gestion de l’entreprise\",\n",
    "    \"Marketing et stratégie\",\n",
    "    \"Organisation et management de la production industrielle\",\n",
    "    \"Ressources humaines\",\n",
    "    \"Transport logistique\",\n",
    "    \"Techniques de vente\"]\n",
    "    \n",
    "comp_final[\"Connaissances artistiques et littéraires\"] = \\\n",
    "    [\"Connaissances artistiques\",\n",
    "    \"Connaissances linguistiques\",\n",
    "    \"Connaissances littéraires\"]\n",
    "    \n",
    "comp_final[\"Connaissances scientifiques\"] = \\\n",
    "    [\"Sciences économiques\",\n",
    "    \"Connaissances électroniques et électriques\",\n",
    "    \"Sciences mathématiques\",\n",
    "    \"Sciences chimiques\",\n",
    "    \"Sciences physiques\",\n",
    "    \"Sciences physico-chimiques\",\n",
    "    \"Médecine\",\n",
    "    \"Médecine vétérinaire vétérinaires\",\n",
    "    \"Sciences biologiques\",\n",
    "    \"Sciences géologiques\",\n",
    "    \"Sciences végétales\",\n",
    "    \"Sciences du vivant\",\n",
    "    \"Sciences humaines et sociales\"]\n",
    "    \n",
    "comp_final[\"Connaissance des matériaux, des produits, des machines, des instruments et des véhicules\"] = \\\n",
    "    [\"Utilisation de machines, d’outils ou d’appareils\",\n",
    "    \"Utilisation d’instruments de mesure\",\n",
    "    \"Utilisation d’instruments de communication multimédia\",\n",
    "    \"Utilisation d’équipements techniques\",\n",
    "    \"Connaissances du bois\",\n",
    "    \"Connaissances du textile\",\n",
    "    \"Connaissances des matériaux de construction\",\n",
    "    \"Connaissances des matières naturelles\",\n",
    "    \"Connaissances des matières synthétiques\",\n",
    "    \"Connaissances des métaux\",\n",
    "    \"Connaissances du verre et de la céramique\",\n",
    "    \"Connaissances des produits alimentaires\",\n",
    "    \"Connaissances des produits chimiques\",\n",
    "    \"Utilisation d’engins ou de véhicules\"]     \n",
    "    \n",
    "comp_final[\"Connaissance des réglementations et des normes\"] = \\\n",
    "    ['Réglementations des transports',\n",
    "    'Réglementations de sécurité alimentaire',\n",
    "    'Réglementations de sécurité sanitaire',\n",
    "    'Réglementations environnementales',\n",
    "    'Réglementations fiscales',\n",
    "    'Réglementations légales',\n",
    "    'Normes de sécurité et de protection des biens et des personnes',\n",
    "    'Normes techniques et commerciales',\n",
    "    'Procédures et règles administratives'\n",
    "    ]\n",
    "\n"
   ]
  },
  {
   "cell_type": "code",
   "execution_count": null,
   "metadata": {
    "collapsed": true
   },
   "outputs": [],
   "source": []
  },
  {
   "cell_type": "code",
   "execution_count": 83,
   "metadata": {
    "collapsed": false
   },
   "outputs": [
    {
     "data": {
      "text/plain": [
       "['Compétences sportives', 'Compétences mentales', 'Compétences physiques']"
      ]
     },
     "execution_count": 83,
     "metadata": {},
     "output_type": "execute_result"
    }
   ],
   "source": [
    "comp_final[\"Compétences physiques et mentales\"]"
   ]
  },
  {
   "cell_type": "code",
   "execution_count": 89,
   "metadata": {
    "collapsed": true
   },
   "outputs": [],
   "source": [
    "# Copie des données au format JSON\n",
    "competences_output = os.path.join(dir_path, 'competences.json')\n",
    "with open(competences_output, 'w') as f:\n",
    "        f.write(json.dumps(data_dict, indent=4))"
   ]
  },
  {
   "cell_type": "code",
   "execution_count": 74,
   "metadata": {
    "collapsed": false
   },
   "outputs": [
    {
     "data": {
      "text/plain": [
       "['Compétences sportives', 'Compétences mentales', 'Compétences physiques']"
      ]
     },
     "execution_count": 74,
     "metadata": {},
     "output_type": "execute_result"
    }
   ],
   "source": [
    "comp_final[\"Compétences physiques et mentales\"]"
   ]
  },
  {
   "cell_type": "code",
   "execution_count": 9,
   "metadata": {
    "collapsed": false
   },
   "outputs": [
    {
     "data": {
      "text/plain": [
       "{'Appréciation sensorielle et interprétation de données ou de signaux': ['Appréciation sensorielle',\n",
       "  'Interprétation de données ou de signaux']}"
      ]
     },
     "execution_count": 9,
     "metadata": {},
     "output_type": "execute_result"
    }
   ],
   "source": [
    "comp_final = {}\n",
    "comp_final['Appréciation sensorielle et interprétation de données ou de signaux'] = \\\n",
    "    [\"Appréciation sensorielle\", \n",
    "    \"Interprétation de données ou de signaux\"]\n",
    "comp_final"
   ]
  },
  {
   "cell_type": "code",
   "execution_count": null,
   "metadata": {
    "collapsed": true
   },
   "outputs": [],
   "source": []
  }
 ],
 "metadata": {
  "kernelspec": {
   "display_name": "Python 3",
   "language": "python",
   "name": "python3"
  },
  "language_info": {
   "codemirror_mode": {
    "name": "ipython",
    "version": 3
   },
   "file_extension": ".py",
   "mimetype": "text/x-python",
   "name": "python",
   "nbconvert_exporter": "python",
   "pygments_lexer": "ipython3",
   "version": "3.5.1"
  }
 },
 "nbformat": 4,
 "nbformat_minor": 0
}
