{
 "cells": [
  {
   "cell_type": "code",
   "execution_count": 1,
   "metadata": {
    "collapsed": true
   },
   "outputs": [],
   "source": [
    "import os\n",
    "import logging\n",
    "from lxml import etree\n",
    "import json"
   ]
  },
  {
   "cell_type": "code",
   "execution_count": 18,
   "metadata": {
    "collapsed": false
   },
   "outputs": [],
   "source": [
    "# Préparation des chemins utiles\n",
    "dir_path = os.getcwd()\n",
    "metiers_dir_path = '/home/timothee/PycharmProjects/ImpalaPoleEmploi2/ficheMetierXml'\n",
    "fiche = '/home/timothee/PycharmProjects/ImpalaPoleEmploi2/ficheMetierXml/A1101.xml'\n",
    "list_xml_files = os.listdir(metiers_dir_path)"
   ]
  },
  {
   "cell_type": "code",
   "execution_count": 8,
   "metadata": {
    "collapsed": false
   },
   "outputs": [],
   "source": [
    "log = logging.getLogger()\n",
    "map(log.removeHandler, log.handlers[:])\n",
    "map(log.removeFilter, log.filters[:])\n",
    "\n",
    "logging.basicConfig(level=logging.DEBUG,\n",
    "                    format='%(asctime)s %(name)-12s %(levelname)-8s %(message)s',\n",
    "                    datefmt='%m-%d %H:%M',\n",
    "                    filemode='w')"
   ]
  },
  {
   "cell_type": "code",
   "execution_count": 9,
   "metadata": {
    "collapsed": true
   },
   "outputs": [],
   "source": [
    "# define a Handler which writes INFO messages or higher to the sys.stderr\n",
    "console = logging.StreamHandler()\n",
    "console.setLevel(logging.INFO)\n",
    "# set a format which is simpler for console use\n",
    "formatter = logging.Formatter('%(name)-12s: %(levelname)-8s %(message)s')\n",
    "# tell the handler to use this format\n",
    "console.setFormatter(formatter)\n",
    "# add the handler to the root logger\n",
    "log.addHandler(console)"
   ]
  },
  {
   "cell_type": "code",
   "execution_count": 43,
   "metadata": {
    "collapsed": false
   },
   "outputs": [
    {
     "name": "stdout",
     "output_type": "stream",
     "text": [
      "[<Element bloc_code_rome at 0x7f3b940c6c48>]\n"
     ]
    }
   ],
   "source": [
    "tree = etree.parse(metiers_dir_path + '/' + 'A1101.xml')\n",
    "root = tree.getroot()\n",
    "root.tag\n",
    "print(root.xpath('//bloc_code_rome'))"
   ]
  },
  {
   "cell_type": "code",
   "execution_count": 46,
   "metadata": {
    "collapsed": true
   },
   "outputs": [],
   "source": [
    "#This function put all the information of the xml file into a dictionnary\n",
    "def parse_xml_file(fiche):\n",
    "    fiche_dict = {}\n",
    "    log.info(fiche)\n",
    "    tree = etree.parse(metiers_dir_path + '/' + 'A1101.xml')\n",
    "    root = tree.getroot()\n",
    "    log.info(root)\n",
    "    \n",
    "    def parse_activite_specifique(bloc):\n",
    "        log.info(bloc)\n",
    "        fiche_dict['activite_specifique'] = []\n",
    "        def parse_itemas(bloc_item):\n",
    "            item_app_dict = {}\n",
    "            item_app_dict['code_ogr'] = bloc_item.xpath('code_ogr')[0].text\n",
    "            item_app_dict['libelle'] = bloc_item.xpath('libelle')[0].text\n",
    "            item_app_dict['code_type_activite'] = bloc_item.xpath('code_type_activite')[0].text\n",
    "            item_app_dict['code_type_item_activite'] = bloc_item.xpath('code_type_item_activite')[0].text\n",
    "            item_app_dict['position_item'] = bloc_item.xpath('position_item')[0].text\n",
    "            item_app_dict['priorisation'] = bloc_item.xpath('priorisation')[0].text\n",
    "            try:\n",
    "                item_app_dict['riasec_majeur'] = bloc_item.xpath('riasec_majeur')[0].text\n",
    "                try:\n",
    "                    item_app_dict['riasec_mineur'] = bloc_item.xpath('riasec_mineur')[0].text\n",
    "                except:\n",
    "                    pass\n",
    "            except:\n",
    "                pass\n",
    "            return item_app_dict\n",
    "        \n",
    "        activite_specifique = []\n",
    "        for item in bloc:\n",
    "            activite_specifique = activite_specifique + [parse_itemas(tmp) for tmp in item]\n",
    "        fiche_dict['activite_specifique'] = activite_specifique\n",
    "        pass\n",
    "    parse_activite_specifique(root.xpath('//activite_specifique'))\n",
    "    return fiche_dict"
   ]
  },
  {
   "cell_type": "code",
   "execution_count": 56,
   "metadata": {
    "collapsed": false
   },
   "outputs": [
    {
     "name": "stdout",
     "output_type": "stream",
     "text": [
      "Utiliser un engin nécessitant une habilitation :\n",
      "CACES R 372-1 (Tracteur et petits engins de chantiers mobiles)\n",
      "CACES R 372-2 (Engins d'extraction ou de chargement à déplacement séquentiel)\n",
      "CACES R 372-8 (Engins de transport ou d'extraction transport (tombereau, décapeuses, tracteur agricole > 50 ch, ...))\n",
      "CACES R 372- 9 (Engins de manutention (chariot élévateur))\n",
      "CACES R 389-5 (Chariots élévateurs à mât rétractable)\n",
      "CACES R 390 (Grues auxiliaires de chargement de véhicules)\n",
      "Effectuer des révisions de matériels et renseigner les livrets d'entretien\n",
      "Débarder des grumes et les empiler, les stocker\n",
      "Récolter des produits à maturité par fauchage, moissonnage, pressage\n",
      "Réaliser l'abattage d'arbres et le débitage de troncs\n",
      "Effectuer les opérations de préparation des sols et de plantation (épandage, semis, récolte, ...)\n",
      "Entretenir des espaces naturels, des fossés et rivières\n",
      "Créer et entretenir des pistes\n"
     ]
    }
   ],
   "source": [
    "bloc = root.xpath('//activite_specifique')\n",
    "for item in bloc:\n",
    "    for tmp in item:\n",
    "        item_app_dict = {}\n",
    "        item_app_dict['libelle'] = tmp.xpath('libelle').text\n",
    "        print(tmp.xpath('libelle')[0].text)\n",
    "    #item_app_dict = {}\n",
    "    #item_app_dict['libelle'] = bloc_item.xpath('libelle')[0].text\n",
    "    #print(item_app_dict)"
   ]
  },
  {
   "cell_type": "code",
   "execution_count": null,
   "metadata": {
    "collapsed": true
   },
   "outputs": [],
   "source": []
  }
 ],
 "metadata": {
  "kernelspec": {
   "display_name": "Python 3",
   "language": "python",
   "name": "python3"
  },
  "language_info": {
   "codemirror_mode": {
    "name": "ipython",
    "version": 3
   },
   "file_extension": ".py",
   "mimetype": "text/x-python",
   "name": "python",
   "nbconvert_exporter": "python",
   "pygments_lexer": "ipython3",
   "version": "3.5.1"
  }
 },
 "nbformat": 4,
 "nbformat_minor": 0
}
