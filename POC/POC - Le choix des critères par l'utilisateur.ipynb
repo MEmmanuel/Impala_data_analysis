{
 "cells": [
  {
   "cell_type": "markdown",
   "metadata": {},
   "source": [
    "Ce script simule un questionnaire posé aux élèves, à partir d'un tableau excel contenant les catégories et les intitulés des compétences et des activités."
   ]
  },
  {
   "cell_type": "code",
   "execution_count": 1,
   "metadata": {
    "collapsed": true
   },
   "outputs": [],
   "source": [
    "import io\n",
    "import os\n",
    "import json\n",
    "import csv\n",
    "import pandas as pd\n",
    "import numpy as np"
   ]
  },
  {
   "cell_type": "code",
   "execution_count": 39,
   "metadata": {
    "collapsed": false
   },
   "outputs": [],
   "source": [
    "# Préparation des chemins utiles\n",
    "# Main directory\n",
    "dir_path = os.getcwd()\n",
    "\n",
    "# Dossier des données\n",
    "data_dir_path = os.path.join(dir_path, 'Donnees')\n",
    "\n",
    "# Fichier excel de l'arborescences des activités\n",
    "act_csv = os.path.join(dir_path,'Clean ArborescencesActivitesCompetences/questionnaire activites.xlsx')\n",
    "# Fichier excel de l'arborescence des compétences\n",
    "comp_csv = os.path.join(dir_path,'Clean ArborescencesActivitesCompetences/questionnaire competences.xlsx')"
   ]
  },
  {
   "cell_type": "code",
   "execution_count": 40,
   "metadata": {
    "collapsed": false
   },
   "outputs": [
    {
     "data": {
      "text/html": [
       "<div>\n",
       "<table border=\"1\" class=\"dataframe\">\n",
       "  <thead>\n",
       "    <tr style=\"text-align: right;\">\n",
       "      <th></th>\n",
       "      <th>catégorie</th>\n",
       "      <th>libellé</th>\n",
       "    </tr>\n",
       "  </thead>\n",
       "  <tbody>\n",
       "    <tr>\n",
       "      <th>0</th>\n",
       "      <td>Informer ou conseiller</td>\n",
       "      <td>NaN</td>\n",
       "    </tr>\n",
       "    <tr>\n",
       "      <th>1</th>\n",
       "      <td>NaN</td>\n",
       "      <td>Conseiller en tant qu’expert un client</td>\n",
       "    </tr>\n",
       "    <tr>\n",
       "      <th>2</th>\n",
       "      <td>NaN</td>\n",
       "      <td>Analyser et déterminer les besoins d’un client</td>\n",
       "    </tr>\n",
       "    <tr>\n",
       "      <th>3</th>\n",
       "      <td>NaN</td>\n",
       "      <td>Accueillir ou orienter un client</td>\n",
       "    </tr>\n",
       "    <tr>\n",
       "      <th>4</th>\n",
       "      <td>Cuisiner, cultiver ou assurer une étape manuel...</td>\n",
       "      <td>NaN</td>\n",
       "    </tr>\n",
       "  </tbody>\n",
       "</table>\n",
       "</div>"
      ],
      "text/plain": [
       "                                           catégorie  \\\n",
       "0                             Informer ou conseiller   \n",
       "1                                                NaN   \n",
       "2                                                NaN   \n",
       "3                                                NaN   \n",
       "4  Cuisiner, cultiver ou assurer une étape manuel...   \n",
       "\n",
       "                                          libellé  \n",
       "0                                             NaN  \n",
       "1          Conseiller en tant qu’expert un client  \n",
       "2  Analyser et déterminer les besoins d’un client  \n",
       "3                Accueillir ou orienter un client  \n",
       "4                                             NaN  "
      ]
     },
     "execution_count": 40,
     "metadata": {},
     "output_type": "execute_result"
    }
   ],
   "source": [
    "act_tab = pd.read_excel(act_csv,header=4)\n",
    "comp_tab = pd.read_excel(comp_csv,header=4)\n",
    "act_tab.head()"
   ]
  },
  {
   "cell_type": "code",
   "execution_count": 28,
   "metadata": {
    "collapsed": false
   },
   "outputs": [],
   "source": [
    "# Création d'un dictionnaire python d'activités et d'un dictionnaire de compétences \n",
    "# à partir des tableaux excel\n",
    "act = {}\n",
    "for row in act_tab.itertuples():\n",
    "    if str(row[1])!='nan':\n",
    "        categorie = row[1]\n",
    "        act[categorie] = []        \n",
    "    else:\n",
    "        act[categorie].append(row[2])\n",
    "\n",
    "comp = {}\n",
    "for row in comp_tab.itertuples():\n",
    "    if str(row[1])!='nan':\n",
    "        categorie = row[1]\n",
    "        comp[categorie] = []        \n",
    "    else:\n",
    "        comp[categorie].append(row[2])"
   ]
  },
  {
   "cell_type": "code",
   "execution_count": 33,
   "metadata": {
    "collapsed": false,
    "scrolled": false
   },
   "outputs": [
    {
     "name": "stdout",
     "output_type": "stream",
     "text": [
      "Choisissez les compétences que vous aimeriez utiliser lors de votre métier. Vous pouvez choisir des compétences que vous ne possédez pas mais que vous aimeriez acquérir au cours de vos études. \n",
      "\n",
      "I. Liste des catégories de compétences :\n",
      "\n",
      "1 - Connaissances scientifiques\n",
      "2 - Connaissances artistiques et littéraires\n",
      "3 - Utilisation des sens et interprétation de données ou de signaux\n",
      "4 - Connaissance des réglementations et des normes\n",
      "5 - Compétences humaines et sociales\n",
      "6 - Compétences techniques industrielles\n",
      "7 - Entretien des espaces verts et procédés agricoles\n",
      "8 - Compétences physiques et mentales\n",
      "9 - Connaissance des matériaux, des produits, des machines, des instruments et des véhicules\n",
      "10 - Compétences artistiques\n",
      "11 - Compétences médicales\n",
      "12 - Connaissance des métiers des entreprises\n",
      "\n",
      "\n",
      " --> Choisissez une catégorie :1\n",
      "\n",
      " II. Liste des compétences de la catégorie :Connaissances scientifiques\n",
      "1 - Sciences économiques\n",
      "2 - Connaissances électroniques et électriques\n",
      "3 - Sciences mathématiques\n",
      "4 - Sciences chimiques\n",
      "5 - Sciences physiques\n",
      "6 - Sciences physico-chimiques\n",
      "7 - Sciences vétérinaires\n",
      "8 - Sciences biologiques\n",
      "9 - Sciences géologiques\n",
      "10 - Sciences végétales\n",
      "11 - Sciences du vivant\n",
      "12 - Sciences humaines et sociales\n",
      "13 - Sciences médicales\n",
      "\n",
      " ----> Choisissez une compétence: \n",
      "2\n",
      "I. Liste des catégories de compétences :\n",
      "\n",
      "1 - Connaissances scientifiques\n",
      "2 - Connaissances artistiques et littéraires\n",
      "3 - Utilisation des sens et interprétation de données ou de signaux\n",
      "4 - Connaissance des réglementations et des normes\n",
      "5 - Compétences humaines et sociales\n",
      "6 - Compétences techniques industrielles\n",
      "7 - Entretien des espaces verts et procédés agricoles\n",
      "8 - Compétences physiques et mentales\n",
      "9 - Connaissance des matériaux, des produits, des machines, des instruments et des véhicules\n",
      "10 - Compétences artistiques\n",
      "11 - Compétences médicales\n",
      "12 - Connaissance des métiers des entreprises\n",
      "--> Choisissez une autre catégorie de la liste I. ou tapez enter:\n",
      "\n",
      "Liste des competences choisies\n",
      "['Connaissances électroniques et électriques']\n"
     ]
    }
   ],
   "source": [
    "# Création de la liste des compétences préférées de l'élève\n",
    "comp_niv1 = []\n",
    "for niv1 in comp:\n",
    "    comp_niv1.append(niv1)\n",
    "\n",
    "# Choix des compétences par l'élève\n",
    "competence_eleve = []\n",
    "\n",
    "print(\"Choisissez les compétences que vous aimeriez utiliser lors de votre métier. Vous pouvez choisir des compétences que vous ne possédez pas mais que vous aimeriez acquérir au cours de vos études. \\n\")\n",
    "\n",
    "print(\"I. Liste des catégories de compétences :\" + \"\\n\")\n",
    "i = 0\n",
    "for item in comp_niv1:\n",
    "    i+=1\n",
    "    print(str(i) + ' - ' + item)\n",
    "\n",
    "print(\"\\n\")\n",
    "string = input(\" --> Choisissez une catégorie :\");\n",
    "try:\n",
    "    while int(string) in range(len(comp_niv1)+1):\n",
    "        comp_niv23 = comp[comp_niv1[int(string)-1]]\n",
    "        print(\"\\n II. Liste des compétences de la catégorie :\" + comp_niv1[int(string)-1])\n",
    "        j=0\n",
    "        for item in comp_niv23:\n",
    "            j+=1\n",
    "            print(str(j) + ' - ' + item)\n",
    "        string2 = input(\"\\n ----> Choisissez une compétence: \\n\");\n",
    "        string2 = string2.split(',')\n",
    "        for item in string2:\n",
    "            competence_eleve.append(comp_niv23[int(item)-1])\n",
    "\n",
    "        print(\"I. Liste des catégories de compétences :\" + \"\\n\")\n",
    "        i = 0\n",
    "        for item in comp_niv1:\n",
    "            i+=1\n",
    "            print(str(i) + ' - ' +item)\n",
    "        string = input(\"--> Choisissez une autre catégorie de la liste I. ou tapez enter:\");\n",
    "except:\n",
    "    pass\n",
    "print(\"\\n\" + \"Liste des competences choisies\") \n",
    "print(competence_eleve)        "
   ]
  },
  {
   "cell_type": "code",
   "execution_count": 36,
   "metadata": {
    "collapsed": false,
    "scrolled": false
   },
   "outputs": [
    {
     "name": "stdout",
     "output_type": "stream",
     "text": [
      "I. Liste des catégories d'activités :\n",
      "\n",
      "1 - Mettre en service et entretenir des équipements\n",
      "2 - Informer ou conseiller\n",
      "3 - Réaliser une activité artistique ou sportive\n",
      "4 - Construire, aménager ou décorer un espace\n",
      "5 - Concevoir et développer un service ou un produit ou analyser des données\n",
      "6 - Nettoyer ou laver\n",
      "7 - Prendre soin de personnes ou d’animaux\n",
      "8 - Manipuler un outil ou une machine, transporter des biens ou des personnes ou conduire un véhicule\n",
      "9 - Traiter des informations et communiquer\n",
      "10 - Cuisiner, cultiver ou assurer une étape manuelle de production industrielle\n",
      "11 - Enseigner ou animer un groupe\n",
      "12 - Faire du commerce (vendre, acheter ou négocier)\n",
      "13 - Manager des équipes, diriger des entreprises ou coordonner des actions\n",
      "14 - Gérer ou organiser\n",
      "15 - Contrôler, sécuriser, surveiller (une production, un lieu de travail, …)\n",
      "\n",
      "\n",
      " --> Choisissez une catégorie :1\n",
      "\n",
      " II. Liste des compétences de la catégorie :Mettre en service et entretenir des équipements\n",
      "1 - Entretenir un bâtiment\n",
      "2 - Réparer des véhicules ou des équipements\n",
      "3 - Monter ou démonter un équipement\n",
      "4 - Détecter une panne\n",
      "5 - Mettre en service des équipements (réglages et paramétrages)\n",
      "6 - Entretenir des équipements\n",
      "\n",
      " ----> Choisissez une activité: \n",
      "2\n",
      "I. Liste des catégories d'activités :\n",
      "\n",
      "1 - Mettre en service et entretenir des équipements\n",
      "2 - Informer ou conseiller\n",
      "3 - Réaliser une activité artistique ou sportive\n",
      "4 - Construire, aménager ou décorer un espace\n",
      "5 - Concevoir et développer un service ou un produit ou analyser des données\n",
      "6 - Nettoyer ou laver\n",
      "7 - Prendre soin de personnes ou d’animaux\n",
      "8 - Manipuler un outil ou une machine, transporter des biens ou des personnes ou conduire un véhicule\n",
      "9 - Traiter des informations et communiquer\n",
      "10 - Cuisiner, cultiver ou assurer une étape manuelle de production industrielle\n",
      "11 - Enseigner ou animer un groupe\n",
      "12 - Faire du commerce (vendre, acheter ou négocier)\n",
      "13 - Manager des équipes, diriger des entreprises ou coordonner des actions\n",
      "14 - Gérer ou organiser\n",
      "15 - Contrôler, sécuriser, surveiller (une production, un lieu de travail, …)\n",
      "--> Choisissez une autre catégorie de la liste I. ou tapez enter:2\n",
      "\n",
      " II. Liste des compétences de la catégorie :Informer ou conseiller\n",
      "1 - Conseiller en tant qu’expert un client\n",
      "2 - Analyser et déterminer les besoins d’un client\n",
      "3 - Accueillir ou orienter un client\n",
      "\n",
      " ----> Choisissez une activité: \n",
      "0\n",
      "I. Liste des catégories d'activités :\n",
      "\n",
      "1 - Mettre en service et entretenir des équipements\n",
      "2 - Informer ou conseiller\n",
      "3 - Réaliser une activité artistique ou sportive\n",
      "4 - Construire, aménager ou décorer un espace\n",
      "5 - Concevoir et développer un service ou un produit ou analyser des données\n",
      "6 - Nettoyer ou laver\n",
      "7 - Prendre soin de personnes ou d’animaux\n",
      "8 - Manipuler un outil ou une machine, transporter des biens ou des personnes ou conduire un véhicule\n",
      "9 - Traiter des informations et communiquer\n",
      "10 - Cuisiner, cultiver ou assurer une étape manuelle de production industrielle\n",
      "11 - Enseigner ou animer un groupe\n",
      "12 - Faire du commerce (vendre, acheter ou négocier)\n",
      "13 - Manager des équipes, diriger des entreprises ou coordonner des actions\n",
      "14 - Gérer ou organiser\n",
      "15 - Contrôler, sécuriser, surveiller (une production, un lieu de travail, …)\n",
      "--> Choisissez une autre catégorie de la liste I. ou tapez enter:\n",
      "\n",
      "Liste des activités choisies\n",
      "['Réparer des véhicules ou des équipements', 'Accueillir ou orienter un client']\n"
     ]
    }
   ],
   "source": [
    "# Création de la liste des activités préférées de l'élève\n",
    "act_niv1 = []\n",
    "for niv1 in act:\n",
    "    act_niv1.append(niv1)\n",
    "\n",
    "# Choix des activités par l'élève\n",
    "activite_eleve = []\n",
    "\n",
    "print(\"I. Liste des catégories d'activités :\" + \"\\n\")\n",
    "i = 0\n",
    "for item in act_niv1:\n",
    "    i+=1\n",
    "    print(str(i) + ' - ' + item)\n",
    "\n",
    "print(\"\\n\")\n",
    "string = input(\" --> Choisissez une catégorie :\");\n",
    "\n",
    "try:\n",
    "    while int(string) in range(len(act_niv1)+1):\n",
    "        act_niv2 = act[act_niv1[int(string)-1]]\n",
    "        print(\"\\n II. Liste des compétences de la catégorie :\" + act_niv1[int(string)-1])\n",
    "        j=0\n",
    "        for item in act_niv2:\n",
    "            j+=1\n",
    "            print(str(j) + ' - ' + item)\n",
    "        \n",
    "        string2 = input(\"\\n ----> Choisissez une activité: \\n\");\n",
    "        string2 = string2.split(',')\n",
    "        for item in string2:\n",
    "            activite_eleve.append(act_niv2[int(item)-1])\n",
    "\n",
    "        print(\"I. Liste des catégories d'activités :\" + \"\\n\")\n",
    "        i = 0\n",
    "        for item in act_niv1:\n",
    "            i+=1\n",
    "            print(str(i)+ ' - ' + item)\n",
    "        string = input(\"--> Choisissez une autre catégorie de la liste I. ou tapez enter:\");\n",
    "except:\n",
    "    pass\n",
    "\n",
    "print(\"\\n\" + \"Liste des activités choisies\") \n",
    "print(activite_eleve)  "
   ]
  },
  {
   "cell_type": "code",
   "execution_count": 6,
   "metadata": {
    "collapsed": false
   },
   "outputs": [
    {
     "name": "stdout",
     "output_type": "stream",
     "text": [
      "eleve =\n"
     ]
    },
    {
     "data": {
      "text/plain": [
       "['Jouer de la musique ou chanter',\n",
       " 'Être acteur ou comédien, danser ou défiler',\n",
       " 'Analyser des données techniques',\n",
       " 'Corriger des textes, rédiger, traduire ou collecter des informations',\n",
       " 'Connaissances artistiques',\n",
       " 'Connaissances linguistiques',\n",
       " 'Connaissances littéraires',\n",
       " 'Techniques de nettoyage',\n",
       " 'Compétences artistiques',\n",
       " 'Compétences mentales',\n",
       " 'Sciences physico-chimiques',\n",
       " 'Sciences géologiques',\n",
       " 'Sciences humaines et sociales']"
      ]
     },
     "execution_count": 6,
     "metadata": {},
     "output_type": "execute_result"
    }
   ],
   "source": [
    "# Critères choisis\n",
    "criteres = activite_eleve + competence_eleve\n",
    "print(\"eleve =\")  \n",
    "criteres"
   ]
  },
  {
   "cell_type": "code",
   "execution_count": 10,
   "metadata": {
    "collapsed": false
   },
   "outputs": [
    {
     "data": {
      "text/plain": [
       "['Jouer de la musique ou chanter',\n",
       " 'Être acteur ou comédien, danser ou défiler',\n",
       " 'Analyser des données techniques',\n",
       " 'Corriger des textes, rédiger, traduire ou collecter des informations',\n",
       " 'Connaissances artistiques',\n",
       " 'Connaissances linguistiques',\n",
       " 'Connaissances littéraires',\n",
       " 'Techniques de nettoyage',\n",
       " 'Compétences artistiques',\n",
       " 'Compétences mentales',\n",
       " 'Sciences physico-chimiques',\n",
       " 'Sciences géologiques',\n",
       " 'Sciences humaines et sociales',\n",
       " 'Techniques de communication']"
      ]
     },
     "execution_count": 10,
     "metadata": {},
     "output_type": "execute_result"
    }
   ],
   "source": [
    "criteres = criteres + ['Techniques de communication']\n",
    "criteres"
   ]
  },
  {
   "cell_type": "code",
   "execution_count": null,
   "metadata": {
    "collapsed": true
   },
   "outputs": [],
   "source": []
  }
 ],
 "metadata": {
  "kernelspec": {
   "display_name": "Python 3",
   "language": "python",
   "name": "python3"
  },
  "language_info": {
   "codemirror_mode": {
    "name": "ipython",
    "version": 3
   },
   "file_extension": ".py",
   "mimetype": "text/x-python",
   "name": "python",
   "nbconvert_exporter": "python",
   "pygments_lexer": "ipython3",
   "version": "3.5.1"
  }
 },
 "nbformat": 4,
 "nbformat_minor": 0
}
