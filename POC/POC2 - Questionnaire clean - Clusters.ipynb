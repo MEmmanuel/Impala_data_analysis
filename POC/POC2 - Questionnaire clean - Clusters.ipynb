{
 "cells": [
  {
   "cell_type": "markdown",
   "metadata": {},
   "source": [
    "Ce script permet de calculer les scores des groupes de métiers (clusters) en fonction des critères choisis par l'élève."
   ]
  },
  {
   "cell_type": "code",
   "execution_count": 2,
   "metadata": {
    "collapsed": true
   },
   "outputs": [],
   "source": [
    "### Pour voir les métiers recommandés à un élève, on utilise la fonction show_score(eleve, n_metiers)\n",
    "### --> eleve : liste des critères choisis par l'élève\n",
    "### --> n_metiers : nombre de métiers à montrer\n",
    "\n",
    "import io\n",
    "import os\n",
    "import json\n",
    "import csv\n",
    "import pandas as pd\n",
    "import numpy as np"
   ]
  },
  {
   "cell_type": "code",
   "execution_count": 10,
   "metadata": {
    "collapsed": false
   },
   "outputs": [],
   "source": [
    "# Préparation des chemins utiles\n",
    "# Main directory\n",
    "dir_path = os.getcwd()\n",
    "# Dossier des données\n",
    "data_dir_path = os.path.join(dir_path, 'Donnees')\n",
    "\n",
    "# Tableau des clusters-variables :\n",
    "df_mean_file = os.path.join(data_dir_path, 'df_mean.csv')\n",
    "# Tableau des métiers-variables normalisé:\n",
    "df_clusters_file = os.path.join(data_dir_path, 'df_clusters.csv')\n",
    "\n",
    "# Fichier excel de l'arborescences des activités\n",
    "act_csv = os.path.join(data_dir_path,'rome_arboactivités_juin62181.xlsx')\n",
    "# Fichier excel de l'arborescence des compétences\n",
    "comp_csv = os.path.join(data_dir_path,'rome_arbocompétences_juin62182.xlsx')\n",
    "\n",
    "# Dossier Output\n",
    "output_dir_path = os.path.join(dir_path, \"Output\")\n",
    "\n",
    "# Données des métiers\n",
    "df_clusters = pd.read_csv(df_clusters_file)\n",
    "matrix_jobs = df_clusters.iloc[:,3:170]"
   ]
  },
  {
   "cell_type": "code",
   "execution_count": 4,
   "metadata": {
    "collapsed": false
   },
   "outputs": [],
   "source": [
    "# Chargement des données\n",
    "df_mean = pd.read_csv(df_mean_file)\n",
    "matrix_mean = df_mean.iloc[:,1:len(df_mean.columns)]"
   ]
  },
  {
   "cell_type": "code",
   "execution_count": 5,
   "metadata": {
    "collapsed": true
   },
   "outputs": [],
   "source": [
    "# Elèves fictifs avec les affinités qu'on pourrait imaginer(technicien, manager, artiste)\n",
    "# On peut rajouter l'élève obtenu avec le POC \"Choix des critères par l'utilisateur\"\n",
    "eleve = ['Compétences sportives', 'Compétences multimédia', 'Planifier', 'Gérer un approvisionnement et des stocks', 'Gérer une production industrielle']\n",
    "\n",
    "karine1 = [\n",
    "    'Cultiver ou entretenir des espaces naturels ',\n",
    "    'Réaliser un art plastique',\n",
    "    'Jouer de la musique ou chanter',\n",
    "    'Prendre soin de personnes',\n",
    "    'Corriger des textes, rédiger, traduire ou collecter des informations',\n",
    "    'Connaissances du bois',\n",
    "    'Soins aux personnes',\n",
    "    'Connaissances artistiques',\n",
    "    'Connaissances linguistiques',\n",
    "    'Connaissances littéraires',\n",
    "    'Compétences artistiques',\n",
    "    'Compétences d’écriture',\n",
    "    'Compétences gestuelles',\n",
    "    'Appréciation sensorielle',\n",
    "    'Interprétation de données ou de signaux',\n",
    "    'Compétences mentales',\n",
    "    'Compétences physiques',\n",
    "    'Sciences mathématiques',\n",
    "    'Sciences physico-chimiques',\n",
    "    'Sciences du vivant',\n",
    "    'Sciences humaines et sociales',\n",
    "    'Sciences médicales'\n",
    "]\n",
    "\n",
    "marie = ['Animer un groupe',\n",
    " 'Enseigner',\n",
    " 'Prendre soin de personnes',\n",
    " 'Gérer un dossier ou une formalité administrative',\n",
    " 'Compléter des documents ou des dossiers',\n",
    " 'Saisir et mettre en forme des documents',\n",
    " 'Ressources humaines',\n",
    " 'Compétences artistiques',\n",
    " 'Interprétation de données ou de signaux',\n",
    " 'Compétences managériales',\n",
    " 'Techniques de prévention et gestion de conflits',\n",
    " 'Techniques pédagogiques',\n",
    " 'Compétences mentales']"
   ]
  },
  {
   "cell_type": "code",
   "execution_count": 16,
   "metadata": {
    "collapsed": true
   },
   "outputs": [],
   "source": [
    "# Transforme les variables de la même manière que sur R\n",
    "def cast_eleve_R(eleve_to_transform):\n",
    "    eleve = []\n",
    "    for feature in eleve_to_transform:\n",
    "        feature = feature.replace(', ','..')\n",
    "        feature = feature.replace('(', '.')\n",
    "        feature = feature.replace(')', '.')\n",
    "        feature = feature.replace(\"'\", '.')\n",
    "        feature = feature.replace(\"/\", '.')\n",
    "        feature = feature.replace(' ', '.')\n",
    "        eleve.append(feature)\n",
    "    return(eleve)\n",
    "\n",
    "### Transforme le résultat du questionnaire en vecteur élève\n",
    "# Chargement des données de compétences dans la variable comp\n",
    "comp = pd.read_excel(comp_csv, sheetname=\"Arbo Comptétences ROMEJuin 2016\", header=0)\n",
    "act = pd.read_excel(act_csv, sheetname='Arbo Activités ROME Juin 2016', header=0)\n",
    "\n",
    "def cast_eleve(eleve_to_cast):\n",
    "    eleve_cast = []\n",
    "    for item in eleve_to_cast:\n",
    "        item_list = [item]\n",
    "        if item=='Compétences sportives':\n",
    "            item_list.append(\"Techniques de plongée\")\n",
    "        for element in item_list:    \n",
    "            try:\n",
    "                index = comp[comp[\"Libellé questionnaire\"]==element]['Niveau 2'].index.tolist()[0]\n",
    "                if str(comp.iloc[index,1])!='nan':\n",
    "                    eleve_cast.append(str(comp.iloc[index,1]))\n",
    "                elif str(comp.iloc[index,2])!='nan':\n",
    "                    eleve_cast.append(str(comp.iloc[index,2]))\n",
    "            except:\n",
    "                pass\n",
    "            \n",
    "        for element in item_list:        \n",
    "            try:\n",
    "                index = act[act[\"Libellé questionnaire\"]==element]['Niveau 2'].index.tolist()[0]\n",
    "                if str(act.iloc[index,1])!='nan':\n",
    "                    eleve_cast.append(str(act.iloc[index,1]))\n",
    "                elif str(act.iloc[index,2])!='nan':\n",
    "                    eleve_cast.append(str(act.iloc[index,2]))\n",
    "            except:\n",
    "                pass            \n",
    "    return eleve_cast\n",
    "\n",
    "#### vecteur élève (petit problème à régler encore)\n",
    "def vectorize_eleve(eleve_to_vectorize): \n",
    "    eleve = pd.DataFrame()\n",
    "    for var in matrix_mean.columns.tolist():\n",
    "        if var in eleve_to_vectorize:  \n",
    "            eleve[var]=[1]\n",
    "        else:\n",
    "            eleve[var]=[0]\n",
    "    return eleve\n",
    "\n",
    "# Score obtenu par produit scalaire entre cluster et élève\n",
    "intitule = df_clusters[\"intitule\"]\n",
    "clusters = df_clusters[\"clusters\"]\n",
    "rome = df_clusters[\"code_rome\"]\n",
    "X1 = df_clusters[\"X1\"]\n",
    "X2 = df_clusters[\"X2\"]\n",
    "cluster = df_clusters[\"clusters\"]\n",
    "\n",
    "\n",
    "def score_cluster(eleve):\n",
    "    eleve_c = cast_eleve(eleve)\n",
    "    eleve_R = cast_eleve_R(eleve_c)\n",
    "    eleve_v = vectorize_eleve(eleve_R)\n",
    "    score = matrix_mean.dot(eleve_v.transpose())\n",
    "    df = pd.concat([intitule,rome, score, X1, X2, cluster], axis=1)\n",
    "    df.columns = [\"intitule\",\"rome\",\"score\",\"X1\",\"X2\",\"cluster\"]\n",
    "    return(df.sort_values(by=\"score\",ascending=False))\n",
    "    \n",
    "\n",
    "def show_score(eleve, n_metiers=20):\n",
    "    score_eleve = score_cluster(eleve)\n",
    "    print(\"--> Préférences de l'élève : \\n\")\n",
    "    for item in eleve:\n",
    "        print(item)\n",
    "    print(\"\\n --> Métiers recommandés :\")\n",
    "    print(score_eleve[0:n_metiers])\n",
    "\n",
    "def output_score(eleve, name):\n",
    "    output_path = os.path.join(output_dir_path, name + \".csv\")\n",
    "    score_eleve = score_cluster(eleve)\n",
    "    score_eleve.to_csv(output_path)"
   ]
  },
  {
   "cell_type": "code",
   "execution_count": 18,
   "metadata": {
    "collapsed": false
   },
   "outputs": [],
   "source": [
    "# Pour copier le score des clusters dans un fichier CSV, indiquer la liste des préférences de l'élève\n",
    "# et le nom du fichier de sortie.\n",
    "output_score(karine1, \"Karine\")"
   ]
  },
  {
   "cell_type": "code",
   "execution_count": 17,
   "metadata": {
    "collapsed": false
   },
   "outputs": [
    {
     "name": "stdout",
     "output_type": "stream",
     "text": [
      "--> Préférences de l'élève : \n",
      "\n",
      "Cultiver ou entretenir des espaces naturels \n",
      "Réaliser un art plastique\n",
      "Jouer de la musique ou chanter\n",
      "Prendre soin de personnes\n",
      "Corriger des textes, rédiger, traduire ou collecter des informations\n",
      "Connaissances du bois\n",
      "Soins aux personnes\n",
      "Connaissances artistiques\n",
      "Connaissances linguistiques\n",
      "Connaissances littéraires\n",
      "Compétences artistiques\n",
      "Compétences d’écriture\n",
      "Compétences gestuelles\n",
      "Appréciation sensorielle\n",
      "Interprétation de données ou de signaux\n",
      "Compétences mentales\n",
      "Compétences physiques\n",
      "Sciences mathématiques\n",
      "Sciences physico-chimiques\n",
      "Sciences du vivant\n",
      "Sciences humaines et sociales\n",
      "Sciences médicales\n",
      "\n",
      " --> Métiers recommandés :\n",
      "                                             intitule   rome      score  \\\n",
      "91              Vente en articles de sport et loisirs  D1211  22.551669   \n",
      "82                                           Coiffure  D1202  14.062257   \n",
      "92         Vente en décoration et équipement du foyer  D1212  13.601996   \n",
      "39  Réalisation d'objets artistiques et fonctionne...  B1602  13.203652   \n",
      "9   Aide agricole de production fruitière ou viticole  A1401  11.205175   \n",
      "83                                      Hydrothérapie  D1203  10.257404   \n",
      "64                      Gestion de clientèle bancaire  C1206   9.708665   \n",
      "0           Conduite d'engins agricoles et forestiers  A1101   8.483728   \n",
      "7     Contrôle et diagnostic technique en agriculture  A1302   8.431840   \n",
      "37  Fabrication et réparation d'instruments de mus...  B1501   7.509644   \n",
      "70                                Gérance immobilière  C1501   7.164688   \n",
      "15                             Élevage bovin ou équin  A1407   6.137351   \n",
      "11                Aide d'élevage agricole et aquacole  A1403   5.518450   \n",
      "85             Nettoyage d'articles textiles ou cuirs  D1205   4.634290   \n",
      "98        Relation commerciale auprès de particuliers  D1403   4.248095   \n",
      "10  Aide agricole de production légumière ou végétale  A1402   4.148718   \n",
      "13                       Arboriculture et viticulture  A1405   4.102225   \n",
      "3                         Entretien des espaces verts  A1203   3.976608   \n",
      "69                     Gestion en banque et assurance  C1401   3.949830   \n",
      "2                      Entretien des espaces naturels  A1202   3.339492   \n",
      "\n",
      "           X1         X2  cluster  \n",
      "91   3.891807  43.679552       30  \n",
      "82 -34.161081  65.782780       31  \n",
      "92   2.890436  43.070433       30  \n",
      "39 -51.353922 -52.599795       11  \n",
      "9   37.963918 -51.630094        1  \n",
      "83 -42.759178  25.468486       32  \n",
      "64  60.913502  47.548288       23  \n",
      "0   41.871319 -52.845796        1  \n",
      "7   48.906643 -44.124851        2  \n",
      "37 -54.102586 -52.229682       11  \n",
      "70  44.916602  15.215924       26  \n",
      "15  61.175520 -44.355405        6  \n",
      "11  47.854506 -45.227973        2  \n",
      "85 -27.377169 -22.282202       33  \n",
      "98  32.960588  25.210996       34  \n",
      "10  37.475034 -51.411348        1  \n",
      "13  42.020207 -51.288858        1  \n",
      "3   43.414193 -49.975430        2  \n",
      "69  78.123963  -4.214752       25  \n",
      "2   42.494162 -53.665641        1  \n"
     ]
    }
   ],
   "source": [
    "show_score(karine1, 20)"
   ]
  },
  {
   "cell_type": "code",
   "execution_count": 13,
   "metadata": {
    "collapsed": false
   },
   "outputs": [
    {
     "name": "stdout",
     "output_type": "stream",
     "text": [
      "--> Préférences de l'élève : \n",
      "\n",
      "Animer un groupe\n",
      "Enseigner\n",
      "Prendre soin de personnes\n",
      "Gérer un dossier ou une formalité administrative\n",
      "Compléter des documents ou des dossiers\n",
      "Saisir et mettre en forme des documents\n",
      "Ressources humaines\n",
      "Compétences artistiques\n",
      "Interprétation de données ou de signaux\n",
      "Compétences managériales\n",
      "Techniques de prévention et gestion de conflits\n",
      "Techniques pédagogiques\n",
      "Compétences mentales\n",
      "\n",
      " --> Métiers recommandés :\n",
      "                                              intitule  clusters     score\n",
      "177      Animation d'activités culturelles ou ludiques        55  9.990682\n",
      "403                            Enseignement artistique        55  9.990682\n",
      "404                            Enseignement des écoles        55  9.990682\n",
      "405               Enseignement général du second degré        55  9.990682\n",
      "406                             Enseignement supérieur        55  9.990682\n",
      "407            Enseignement technique et professionnel        55  9.990682\n",
      "408                 Formation en conduite de véhicules        55  9.990682\n",
      "409                          Formation professionnelle        55  9.990682\n",
      "400                           Coordination pédagogique        91  8.554594\n",
      "465                  Assistanat en ressources humaines        91  8.554594\n",
      "466              Développement des ressources humaines        91  8.554594\n",
      "467                 Management des ressources humaines        91  8.554594\n",
      "393  Conseil en emploi et insertion socioprofession...        90  7.855315\n",
      "399                               Conseil en formation        90  7.855315\n",
      "410            Orientation scolaire et professionnelle        90  7.855315\n",
      "329         Suivi de la grossesse et de l'accouchement        84  5.552058\n",
      "335                               Aide en puériculture        84  5.552058\n",
      "351             Soins d'hygiène, de confort du patient        84  5.552058\n",
      "356                      Soins infirmiers généralistes        84  5.552058\n",
      "499                              Affrètement transport        97  4.965936\n"
     ]
    }
   ],
   "source": [
    "show_score(marie, 20)"
   ]
  },
  {
   "cell_type": "code",
   "execution_count": 10,
   "metadata": {
    "collapsed": false
   },
   "outputs": [
    {
     "name": "stdout",
     "output_type": "stream",
     "text": [
      "--> Préférences de l'élève : \n",
      "\n",
      "Compétences sportives\n",
      "Compétences multimédia\n",
      "Planifier\n",
      "Gérer un approvisionnement et des stocks\n",
      "Gérer une production industrielle\n",
      "\n",
      " --> Métiers recommandés :\n",
      "                                              intitule  clusters     score\n",
      "121                                       Photographie        42  6.725631\n",
      "122        Production en laboratoire cinématographique        42  6.725631\n",
      "123           Production en laboratoire photographique        42  6.725631\n",
      "447             Montage audiovisuel et post-production        42  6.725631\n",
      "145                       Direction de chantier du BTP        47  6.137113\n",
      "317                Intervention en milieu subaquatique        47  6.137113\n",
      "424                      Management de sécurité privée        47  6.137113\n",
      "440                              Sportif professionnel        47  6.137113\n",
      "219  Management et ingénierie gestion industrielle ...        67  5.719522\n",
      "220  Management et ingénierie méthodes et industria...        67  5.719522\n",
      "221  Intervention technique en gestion industrielle...        67  5.719522\n",
      "257             Management et ingénierie de production        67  5.719522\n",
      "501  Conception et organisation de la chaîne logist...        67  5.719522\n",
      "234  Encadrement des industries de l'ameublement et...        70  4.320697\n",
      "239      Intervention technique en ameublement et bois        70  4.320697\n",
      "436                Mise en scène de spectacles vivants        93  4.129229\n",
      "439     Réalisation cinématographique et audiovisuelle        93  4.129229\n",
      "259  Encadrement d'équipe en industrie de transform...        73  4.081384\n",
      "260  Encadrement d'équipe ou d'atelier en matériaux...        73  4.081384\n",
      "80                     Vente en gros de produits frais        29  3.835317\n"
     ]
    }
   ],
   "source": [
    "show_score(eleve, 20)"
   ]
  },
  {
   "cell_type": "code",
   "execution_count": null,
   "metadata": {
    "collapsed": true
   },
   "outputs": [],
   "source": []
  }
 ],
 "metadata": {
  "kernelspec": {
   "display_name": "Python 3",
   "language": "python",
   "name": "python3"
  },
  "language_info": {
   "codemirror_mode": {
    "name": "ipython",
    "version": 3
   },
   "file_extension": ".py",
   "mimetype": "text/x-python",
   "name": "python",
   "nbconvert_exporter": "python",
   "pygments_lexer": "ipython3",
   "version": "3.5.1"
  }
 },
 "nbformat": 4,
 "nbformat_minor": 0
}
