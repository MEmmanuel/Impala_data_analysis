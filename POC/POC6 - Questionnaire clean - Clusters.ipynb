{
 "cells": [
  {
   "cell_type": "code",
   "execution_count": 1,
   "metadata": {
    "collapsed": true
   },
   "outputs": [],
   "source": [
    "### Pour voir les métiers recommandés à un élève, on utilise la fonction show_score(eleve, n_metiers)\n",
    "### --> eleve : liste des critères choisis par l'élève\n",
    "### --> n_metiers : nombre de métiers à montrer\n",
    "\n",
    "import io\n",
    "import os\n",
    "import json\n",
    "import csv\n",
    "import pandas as pd\n",
    "import numpy as np"
   ]
  },
  {
   "cell_type": "code",
   "execution_count": 3,
   "metadata": {
    "collapsed": false
   },
   "outputs": [],
   "source": [
    "# Préparation des chemins utiles\n",
    "# Main directory\n",
    "dir_path = os.getcwd()\n",
    "# Dossier des données\n",
    "data_dir_path = os.path.join(dir_path, 'Donnees')\n",
    "# Métiers de chaque cluster :\n",
    "jobs_clusters = os.path.join(data_dir_path, 'jobs_clusters.csv')\n",
    "# Tableau des clusters-variables :\n",
    "df_mean_file = os.path.join(data_dir_path, 'df_mean.csv')\n",
    "# Tableau des métiers-variables normalisé:\n",
    "df_clusters_file = os.path.join(data_dir_path, 'df_clusters.csv')\n",
    "\n",
    "# Fichier excel de l'arborescences des activités\n",
    "act_csv = os.path.join(data_dir_path,'rome_arboactivités_juin62181.xlsx')\n",
    "# Fichier excel de l'arborescence des compétences\n",
    "comp_csv = os.path.join(data_dir_path,'rome_arbocompétences_juin62182.xlsx')\n",
    "\n",
    "# Données des métiers\n",
    "df_clusters = pd.read_csv(df_clusters_file)\n",
    "matrix_jobs = df_clusters.iloc[:,3:170]"
   ]
  },
  {
   "cell_type": "code",
   "execution_count": 4,
   "metadata": {
    "collapsed": false
   },
   "outputs": [],
   "source": [
    "# Chargement des données\n",
    "df_mean = pd.read_csv(df_mean_file)\n",
    "matrix_mean = df_mean.iloc[:,1:len(df_mean.columns)]"
   ]
  },
  {
   "cell_type": "code",
   "execution_count": 5,
   "metadata": {
    "collapsed": true
   },
   "outputs": [],
   "source": [
    "# Elèves fictifs avec les affinités qu'on pourrait imaginer(technicien, manager, artiste)\n",
    "# On peut rajouter l'élève obtenu avec le POC \"Choix des critères par l'utilisateur\"\n",
    "eleve = ['Compétences sportives', 'Compétences multimédia', 'Planifier', 'Gérer un approvisionnement et des stocks', 'Gérer une production industrielle']\n",
    "marie = ['Animer un groupe',\n",
    " 'Enseigner',\n",
    " 'Prendre soin de personnes',\n",
    " 'Gérer un dossier ou une formalité administrative',\n",
    " 'Compléter des documents ou des dossiers',\n",
    " 'Saisir et mettre en forme des documents',\n",
    " 'Ressources humaines',\n",
    " 'Compétences artistiques',\n",
    " 'Interprétation de données ou de signaux',\n",
    " 'Compétences managériales',\n",
    " 'Techniques de prévention et gestion de conflits',\n",
    " 'Techniques pédagogiques',\n",
    " 'Compétences mentales']"
   ]
  },
  {
   "cell_type": "code",
   "execution_count": 7,
   "metadata": {
    "collapsed": true
   },
   "outputs": [],
   "source": [
    "# Transforme les variables de la même manière que sur R\n",
    "def cast_eleve_R(eleve_to_transform):\n",
    "    eleve = []\n",
    "    for feature in eleve_to_transform:\n",
    "        feature = feature.replace(', ','..')\n",
    "        feature = feature.replace('(', '.')\n",
    "        feature = feature.replace(')', '.')\n",
    "        feature = feature.replace(\"'\", '.')\n",
    "        feature = feature.replace(\"/\", '.')\n",
    "        feature = feature.replace(' ', '.')\n",
    "        eleve.append(feature)\n",
    "    return(eleve)\n",
    "\n",
    "### Transforme le résultat du questionnaire en vecteur élève\n",
    "# Chargement des données de compétences dans la variable comp\n",
    "comp = pd.read_excel(comp_csv, sheetname=\"Arbo Comptétences ROMEJuin 2016\", header=0)\n",
    "act = pd.read_excel(act_csv, sheetname='Arbo Activités ROME Juin 2016', header=0)\n",
    "\n",
    "def cast_eleve(eleve_to_cast):\n",
    "    eleve_cast = []\n",
    "    for item in eleve_to_cast:\n",
    "        item_list = [item]\n",
    "        if item=='Compétences sportives':\n",
    "            item_list.append(\"Techniques de plongée\")\n",
    "        for element in item_list:    \n",
    "            try:\n",
    "                index = comp[comp[\"Libellé questionnaire\"]==element]['Niveau 2'].index.tolist()[0]\n",
    "                if str(comp.iloc[index,1])!='nan':\n",
    "                    eleve_cast.append(str(comp.iloc[index,1]))\n",
    "                elif str(comp.iloc[index,2])!='nan':\n",
    "                    eleve_cast.append(str(comp.iloc[index,2]))\n",
    "            except:\n",
    "                pass\n",
    "            \n",
    "        for element in item_list:        \n",
    "            try:\n",
    "                index = act[act[\"Libellé questionnaire\"]==element]['Niveau 2'].index.tolist()[0]\n",
    "                if str(act.iloc[index,1])!='nan':\n",
    "                    eleve_cast.append(str(act.iloc[index,1]))\n",
    "                elif str(act.iloc[index,2])!='nan':\n",
    "                    eleve_cast.append(str(act.iloc[index,2]))\n",
    "            except:\n",
    "                pass            \n",
    "    return eleve_cast\n",
    "\n",
    "#### vecteur élève (petit problème à régler encore)\n",
    "def vectorize_eleve(eleve_to_vectorize): \n",
    "    eleve = pd.DataFrame()\n",
    "    for var in matrix_mean.columns.tolist():\n",
    "        if var in eleve_to_vectorize:  \n",
    "            eleve[var]=[1]\n",
    "        else:\n",
    "            eleve[var]=[0]\n",
    "    return eleve\n",
    "\n",
    "# Score obtenu par produit scalaire entre cluster et élève\n",
    "\n",
    "def score_cluster(eleve):\n",
    "    eleve_c = cast_eleve(eleve)\n",
    "    eleve_R = cast_eleve_R(eleve_c)\n",
    "    eleve_v = vectorize_eleve(eleve_R)\n",
    "    score = matrix_mean.dot(eleve_v.transpose())\n",
    "    score.columns=[\"score\"]\n",
    "    score = score.sort_values(by=\"score\",ascending=False)\n",
    "\n",
    "    jobs_clust = pd.read_csv(jobs_clusters)\n",
    "    final_scores = pd.DataFrame()\n",
    "    for row in score.itertuples():\n",
    "        k = row[0] + 1\n",
    "        subset = jobs_clust[jobs_clust.clusters==k]\n",
    "        subset = subset.loc[:,[\"intitule\",\"clusters\"]]\n",
    "        subset[\"score\"]= [row[1]]*len(subset)\n",
    "        final_scores = final_scores.append(subset)\n",
    "    return(final_scores)\n",
    "\n",
    "def show_score(eleve, n_metiers=20):\n",
    "    score_eleve = score_cluster(eleve)\n",
    "    print(\"--> Préférences de l'élève : \\n\")\n",
    "    for item in eleve:\n",
    "        print(item)\n",
    "    print(\"\\n --> Métiers recommandés :\")\n",
    "    print(score_eleve[0:n_metiers])"
   ]
  },
  {
   "cell_type": "code",
   "execution_count": 13,
   "metadata": {
    "collapsed": false
   },
   "outputs": [
    {
     "name": "stdout",
     "output_type": "stream",
     "text": [
      "--> Préférences de l'élève : \n",
      "\n",
      "Animer un groupe\n",
      "Enseigner\n",
      "Prendre soin de personnes\n",
      "Gérer un dossier ou une formalité administrative\n",
      "Compléter des documents ou des dossiers\n",
      "Saisir et mettre en forme des documents\n",
      "Ressources humaines\n",
      "Compétences artistiques\n",
      "Interprétation de données ou de signaux\n",
      "Compétences managériales\n",
      "Techniques de prévention et gestion de conflits\n",
      "Techniques pédagogiques\n",
      "Compétences mentales\n",
      "\n",
      " --> Métiers recommandés :\n",
      "                                              intitule  clusters     score\n",
      "177      Animation d'activités culturelles ou ludiques        55  9.990682\n",
      "403                            Enseignement artistique        55  9.990682\n",
      "404                            Enseignement des écoles        55  9.990682\n",
      "405               Enseignement général du second degré        55  9.990682\n",
      "406                             Enseignement supérieur        55  9.990682\n",
      "407            Enseignement technique et professionnel        55  9.990682\n",
      "408                 Formation en conduite de véhicules        55  9.990682\n",
      "409                          Formation professionnelle        55  9.990682\n",
      "400                           Coordination pédagogique        91  8.554594\n",
      "465                  Assistanat en ressources humaines        91  8.554594\n",
      "466              Développement des ressources humaines        91  8.554594\n",
      "467                 Management des ressources humaines        91  8.554594\n",
      "393  Conseil en emploi et insertion socioprofession...        90  7.855315\n",
      "399                               Conseil en formation        90  7.855315\n",
      "410            Orientation scolaire et professionnelle        90  7.855315\n",
      "329         Suivi de la grossesse et de l'accouchement        84  5.552058\n",
      "335                               Aide en puériculture        84  5.552058\n",
      "351             Soins d'hygiène, de confort du patient        84  5.552058\n",
      "356                      Soins infirmiers généralistes        84  5.552058\n",
      "499                              Affrètement transport        97  4.965936\n"
     ]
    }
   ],
   "source": [
    "show_score(marie, 20)"
   ]
  },
  {
   "cell_type": "code",
   "execution_count": 10,
   "metadata": {
    "collapsed": false
   },
   "outputs": [
    {
     "name": "stdout",
     "output_type": "stream",
     "text": [
      "--> Préférences de l'élève : \n",
      "\n",
      "Compétences sportives\n",
      "Compétences multimédia\n",
      "Planifier\n",
      "Gérer un approvisionnement et des stocks\n",
      "Gérer une production industrielle\n",
      "\n",
      " --> Métiers recommandés :\n",
      "                                              intitule  clusters     score\n",
      "121                                       Photographie        42  6.725631\n",
      "122        Production en laboratoire cinématographique        42  6.725631\n",
      "123           Production en laboratoire photographique        42  6.725631\n",
      "447             Montage audiovisuel et post-production        42  6.725631\n",
      "145                       Direction de chantier du BTP        47  6.137113\n",
      "317                Intervention en milieu subaquatique        47  6.137113\n",
      "424                      Management de sécurité privée        47  6.137113\n",
      "440                              Sportif professionnel        47  6.137113\n",
      "219  Management et ingénierie gestion industrielle ...        67  5.719522\n",
      "220  Management et ingénierie méthodes et industria...        67  5.719522\n",
      "221  Intervention technique en gestion industrielle...        67  5.719522\n",
      "257             Management et ingénierie de production        67  5.719522\n",
      "501  Conception et organisation de la chaîne logist...        67  5.719522\n",
      "234  Encadrement des industries de l'ameublement et...        70  4.320697\n",
      "239      Intervention technique en ameublement et bois        70  4.320697\n",
      "436                Mise en scène de spectacles vivants        93  4.129229\n",
      "439     Réalisation cinématographique et audiovisuelle        93  4.129229\n",
      "259  Encadrement d'équipe en industrie de transform...        73  4.081384\n",
      "260  Encadrement d'équipe ou d'atelier en matériaux...        73  4.081384\n",
      "80                     Vente en gros de produits frais        29  3.835317\n"
     ]
    }
   ],
   "source": [
    "show_score(eleve, 20)"
   ]
  },
  {
   "cell_type": "code",
   "execution_count": null,
   "metadata": {
    "collapsed": true
   },
   "outputs": [],
   "source": []
  }
 ],
 "metadata": {
  "kernelspec": {
   "display_name": "Python 3",
   "language": "python",
   "name": "python3"
  },
  "language_info": {
   "codemirror_mode": {
    "name": "ipython",
    "version": 3
   },
   "file_extension": ".py",
   "mimetype": "text/x-python",
   "name": "python",
   "nbconvert_exporter": "python",
   "pygments_lexer": "ipython3",
   "version": "3.5.1"
  }
 },
 "nbformat": 4,
 "nbformat_minor": 0
}
