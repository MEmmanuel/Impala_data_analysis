{
 "cells": [
  {
   "cell_type": "code",
   "execution_count": 3,
   "metadata": {
    "collapsed": true
   },
   "outputs": [],
   "source": [
    "import io\n",
    "import os\n",
    "import json\n",
    "import csv\n",
    "import pandas as pd\n",
    "import numpy as np"
   ]
  },
  {
   "cell_type": "code",
   "execution_count": 5,
   "metadata": {
    "collapsed": false
   },
   "outputs": [],
   "source": [
    "# Main directory\n",
    "dir_path = os.getcwd()\n",
    "\n",
    "# Dossier des données\n",
    "data_dir_path = os.path.join(dir_path, 'Donnees')\n",
    "\n",
    "# Fichier JSON de l'arborescences des activités\n",
    "act_json = os.path.join(data_dir_path,'activites.json')\n",
    "# Fichier JSON de l'arborescence des compétences\n",
    "comp_json = os.path.join(data_dir_path,'competences_2.json')"
   ]
  },
  {
   "cell_type": "code",
   "execution_count": 6,
   "metadata": {
    "collapsed": true
   },
   "outputs": [],
   "source": [
    "# Chargement des données de compétences dans la variable comp\n",
    "with open(comp_json) as json_data:\n",
    "    comp = json.load(json_data)\n",
    "    json_data.close()\n",
    "    \n",
    "# Chargement des données d'activités dans la variable act\n",
    "with open(act_json) as json_data:\n",
    "    act = json.load(json_data)\n",
    "    json_data.close()"
   ]
  },
  {
   "cell_type": "code",
   "execution_count": 20,
   "metadata": {
    "collapsed": false
   },
   "outputs": [
    {
     "data": {
      "text/html": [
       "<div>\n",
       "<table border=\"1\" class=\"dataframe\">\n",
       "  <thead>\n",
       "    <tr style=\"text-align: right;\">\n",
       "      <th></th>\n",
       "      <th>catégorie</th>\n",
       "      <th>libellé</th>\n",
       "    </tr>\n",
       "  </thead>\n",
       "  <tbody>\n",
       "    <tr>\n",
       "      <th>0</th>\n",
       "      <td>Compétences techniques industrielles</td>\n",
       "      <td>NaN</td>\n",
       "    </tr>\n",
       "    <tr>\n",
       "      <th>1</th>\n",
       "      <td>NaN</td>\n",
       "      <td>Compétences mécaniques</td>\n",
       "    </tr>\n",
       "    <tr>\n",
       "      <th>2</th>\n",
       "      <td>NaN</td>\n",
       "      <td>Dessin industriel</td>\n",
       "    </tr>\n",
       "    <tr>\n",
       "      <th>3</th>\n",
       "      <td>NaN</td>\n",
       "      <td>Techniques de procédés physiques ou chimiques</td>\n",
       "    </tr>\n",
       "    <tr>\n",
       "      <th>4</th>\n",
       "      <td>NaN</td>\n",
       "      <td>Techniques industrielles d’assemblage et de tr...</td>\n",
       "    </tr>\n",
       "  </tbody>\n",
       "</table>\n",
       "</div>"
      ],
      "text/plain": [
       "                              catégorie  \\\n",
       "0  Compétences techniques industrielles   \n",
       "1                                   NaN   \n",
       "2                                   NaN   \n",
       "3                                   NaN   \n",
       "4                                   NaN   \n",
       "\n",
       "                                             libellé  \n",
       "0                                                NaN  \n",
       "1                             Compétences mécaniques  \n",
       "2                                  Dessin industriel  \n",
       "3      Techniques de procédés physiques ou chimiques  \n",
       "4  Techniques industrielles d’assemblage et de tr...  "
      ]
     },
     "execution_count": 20,
     "metadata": {},
     "output_type": "execute_result"
    }
   ],
   "source": [
    "comp_df = pd.DataFrame(columns=[\"catégorie\",\"libellé\"])\n",
    "i = 0\n",
    "for k in comp:\n",
    "    #print(pd.Series(k))\n",
    "    comp_df.loc[i,\"catégorie\"] = k\n",
    "    i += 1\n",
    "    for v in comp[k]:\n",
    "        comp_df.loc[i,\"libellé\"] =v\n",
    "        i += 1\n",
    "\n",
    "comp_df.head()"
   ]
  },
  {
   "cell_type": "code",
   "execution_count": 21,
   "metadata": {
    "collapsed": true
   },
   "outputs": [],
   "source": [
    "output_path = os.path.join(dir_path, 'questionnaire competences.csv')\n",
    "comp_df.to_csv(output_path)"
   ]
  },
  {
   "cell_type": "code",
   "execution_count": 24,
   "metadata": {
    "collapsed": false
   },
   "outputs": [
    {
     "data": {
      "text/html": [
       "<div>\n",
       "<table border=\"1\" class=\"dataframe\">\n",
       "  <thead>\n",
       "    <tr style=\"text-align: right;\">\n",
       "      <th></th>\n",
       "      <th>catégorie</th>\n",
       "      <th>libellé</th>\n",
       "    </tr>\n",
       "  </thead>\n",
       "  <tbody>\n",
       "    <tr>\n",
       "      <th>0</th>\n",
       "      <td>Informer ou conseiller</td>\n",
       "      <td>NaN</td>\n",
       "    </tr>\n",
       "    <tr>\n",
       "      <th>1</th>\n",
       "      <td>NaN</td>\n",
       "      <td>Conseiller en tant qu’expert un client</td>\n",
       "    </tr>\n",
       "    <tr>\n",
       "      <th>2</th>\n",
       "      <td>NaN</td>\n",
       "      <td>Analyser et déterminer les besoins d’un client</td>\n",
       "    </tr>\n",
       "    <tr>\n",
       "      <th>3</th>\n",
       "      <td>NaN</td>\n",
       "      <td>Accueillir ou orienter un client</td>\n",
       "    </tr>\n",
       "    <tr>\n",
       "      <th>4</th>\n",
       "      <td>Cuisiner, cultiver ou assurer une étape manuel...</td>\n",
       "      <td>NaN</td>\n",
       "    </tr>\n",
       "  </tbody>\n",
       "</table>\n",
       "</div>"
      ],
      "text/plain": [
       "                                           catégorie  \\\n",
       "0                             Informer ou conseiller   \n",
       "1                                                NaN   \n",
       "2                                                NaN   \n",
       "3                                                NaN   \n",
       "4  Cuisiner, cultiver ou assurer une étape manuel...   \n",
       "\n",
       "                                          libellé  \n",
       "0                                             NaN  \n",
       "1          Conseiller en tant qu’expert un client  \n",
       "2  Analyser et déterminer les besoins d’un client  \n",
       "3                Accueillir ou orienter un client  \n",
       "4                                             NaN  "
      ]
     },
     "execution_count": 24,
     "metadata": {},
     "output_type": "execute_result"
    }
   ],
   "source": [
    "act_df = pd.DataFrame(columns = [\"catégorie\", \"libellé\"])\n",
    "i = 0\n",
    "for niv1 in act:\n",
    "    act_df.loc[i,\"catégorie\"] = niv1\n",
    "    i += 1\n",
    "    for niv2 in act[niv1]:\n",
    "        act_df.loc[i,\"libellé\"] = niv2\n",
    "        i += 1\n",
    "\n",
    "act_df.head()"
   ]
  },
  {
   "cell_type": "code",
   "execution_count": 25,
   "metadata": {
    "collapsed": true
   },
   "outputs": [],
   "source": [
    "output_path = os.path.join(dir_path, 'questionnaire activites.csv')\n",
    "act_df.to_csv(output_path)"
   ]
  },
  {
   "cell_type": "code",
   "execution_count": null,
   "metadata": {
    "collapsed": true
   },
   "outputs": [],
   "source": []
  }
 ],
 "metadata": {
  "kernelspec": {
   "display_name": "Python 3",
   "language": "python",
   "name": "python3"
  },
  "language_info": {
   "codemirror_mode": {
    "name": "ipython",
    "version": 3
   },
   "file_extension": ".py",
   "mimetype": "text/x-python",
   "name": "python",
   "nbconvert_exporter": "python",
   "pygments_lexer": "ipython3",
   "version": "3.5.1"
  }
 },
 "nbformat": 4,
 "nbformat_minor": 0
}
