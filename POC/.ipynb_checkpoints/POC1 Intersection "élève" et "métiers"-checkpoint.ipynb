{
 "cells": [
  {
   "cell_type": "code",
   "execution_count": 1,
   "metadata": {
    "collapsed": true
   },
   "outputs": [],
   "source": [
    "### Pour voir les métiers recommandés à un élève, on utilise la fonction show_score(eleve, n_metiers)\n",
    "### --> eleve : liste des critères choisis par l'élève\n",
    "### --> n_metiers : nombre de métiers à montrer\n",
    "\n",
    "import io\n",
    "import os\n",
    "import json\n",
    "import csv\n",
    "import pandas as pd"
   ]
  },
  {
   "cell_type": "code",
   "execution_count": 4,
   "metadata": {
    "collapsed": true
   },
   "outputs": [],
   "source": [
    "#### Préparation des chemins utiles\n",
    "# Main directory\n",
    "dir_path = '/home/timothee/PycharmProjects/ImpalaPoleEmploi2/Impala/POC'\n",
    "\n",
    "# Dossier des données\n",
    "data_dir_path = os.path.join(dir_path, 'Donnees')\n",
    "\n",
    "# Caractéristiques de chaque cluster :\n",
    "main_feature_cluster = os.path.join(data_dir_path, 'main_features_clusters.csv')\n",
    "\n",
    "# Métiers de chaque cluster :\n",
    "jobs_clusters = os.path.join(data_dir_path, 'jobs_clusters.csv')\n",
    "\n",
    "# Tableau des métiers-variables:\n",
    "df_jobs_file = os.path.join(data_dir_path, 'PE_niv23.csv')\n",
    "\n",
    "# Tableau des métiers-variables normalisé:\n",
    "df_clusters_file = os.path.join(data_dir_path, 'df_clusters.csv')\n",
    "\n",
    "\n",
    "\n",
    "#### Préparation des données des métiers\n",
    "feature_metier = {}\n",
    "df_jobs = pd.read_csv(df_jobs_file)\n",
    "n = len(df_jobs)\n",
    "p = len(df_jobs.columns)\n",
    "for row in df_jobs.itertuples():\n",
    "    job = row[3]\n",
    "    feature_metier[job] = []\n",
    "    for j in range(4,p):\n",
    "        if int(row[j])>0:\n",
    "            feature_metier[job].append(df_jobs.columns[j])"
   ]
  },
  {
   "cell_type": "code",
   "execution_count": 3,
   "metadata": {
    "collapsed": true
   },
   "outputs": [],
   "source": [
    "# Elèves fictifs avec les affinités qu'on pourrait imaginer(technicien, manager, artiste)\n",
    "# On peut rajouter l'élève obtenu avec le POC \"Choix des critères par l'utilisateur\"\n",
    "# --> eleve = [à compléter (par ctrl C - ctrl V)]\n",
    "manager = [\"Conseiller, donner un avis d'expert\",\n",
    "            \"Identifier un besoin du client\",\n",
    "            \"Gérer un budget, exécuter une tâche de gestion comptable, financière\",\n",
    "           \"Organiser un évènement, superviser une opération\",\n",
    "           \"Coordonner un projet, des actions, une formation\",\n",
    "           \"Encadrer, gérer une équipe\",\n",
    "           \"Prendre des décisions, définir une stratégie\",\n",
    "           \"Synthétiser, traiter une information\",\n",
    "           \"Compétences managériales\",\n",
    "           \"Résolution de problème\",\n",
    "           \"Techniques d'entretien, Communication/Ecrit/oral\",\n",
    "           \"Communication / Traitement de l'information\",\n",
    "           \"Gestion, finance, comptabilité\",\n",
    "           \"Mathématiques/Statistiques\"]\n",
    "technicien = [\"Réaliser une activité de gros oeuvre (construire un batiment, une installation)\",\n",
    "                 \"Réaliser une activité du second oeuvre (aménager, peindre, poser un revêtement)\",\n",
    "                 \"Gérer une entreprise, un service\",\n",
    "                 \"Conduire un véhicule, un engin\",\n",
    "                 \"Conduire une machine\",\n",
    "                 \"Manipuler un outil, un appareil, un instrument\",\n",
    "                 \"Porter une charge par ses propres moyens\",\n",
    "                 \"Effectuer des mesures\",\n",
    "                 \"Diagnostiquer une panne\",\n",
    "                 \"Réparer une machine, du matériel\",\n",
    "                 \"Avec outil\",\n",
    "                 \"Physiques\",\n",
    "                 \"Techniques\",\n",
    "                 \"Techniques, procédés de manutention\",\n",
    "                 \"Gros oeuvre / Extraction\",\n",
    "                 \"Machines/outils/appareils\",\n",
    "                 \"Materiel et équipement\",\n",
    "                 \"Engins/véhicules\"]\n",
    "artiste = [\"Décorer, agencer\",\n",
    "          \"Concevoir un projet artistique\",\n",
    "          \"Jouer de la musique, chanter\",\n",
    "          \"Jouer un rôle, défiler, danser\",\n",
    "          \"Pratiquer un art plastique\",\n",
    "          \"Faire un schéma, un plan, un dessin\",\n",
    "          \"Communiquer\",\n",
    "          \"Traiter des images, des sons, des lumières, des contenus multimédias\",\n",
    "          \"Multimédia\",\n",
    "          \"Artistique\",\n",
    "          \"Littérature, philosophie\"]"
   ]
  },
  {
   "cell_type": "code",
   "execution_count": 29,
   "metadata": {
    "collapsed": false
   },
   "outputs": [],
   "source": [
    "### Fonction de scoring de chaque métier\n",
    "def score_jobs(eleve):\n",
    "    score_jobs = {}\n",
    "    for job in feature_metier:\n",
    "        score = 0\n",
    "        for feature in eleve:\n",
    "            if feature in feature_metier[job]:\n",
    "                score += 1\n",
    "        score_jobs[job] = score\n",
    "        \n",
    "    L = score_jobs.items()\n",
    "    L = [(j,i) for i,j in L]\n",
    "    L.sort(reverse=True)\n",
    "    return(L)\n",
    "\n",
    "def show_score(eleve,n_metiers):\n",
    "    score_eleve = score_jobs(eleve)\n",
    "    print(\"--> Préférences de l'élève : \\n\")\n",
    "    for item in eleve:\n",
    "        print(item)\n",
    "    print(\"\\n --> Métiers recommandés :\")\n",
    "    for row in score_eleve[0:n_metiers]:\n",
    "        print(row)"
   ]
  },
  {
   "cell_type": "code",
   "execution_count": 31,
   "metadata": {
    "collapsed": false
   },
   "outputs": [
    {
     "name": "stdout",
     "output_type": "stream",
     "text": [
      "--> Préférences de l'élève : \n",
      "\n",
      "Conseiller, donner un avis d'expert\n",
      "Identifier un besoin du client\n",
      "Gérer un budget, exécuter une tâche de gestion comptable, financière\n",
      "Organiser un évènement, superviser une opération\n",
      "Coordonner un projet, des actions, une formation\n",
      "Encadrer, gérer une équipe\n",
      "Prendre des décisions, définir une stratégie\n",
      "Synthétiser, traiter une information\n",
      "Compétences managériales\n",
      "Résolution de problème\n",
      "Techniques d'entretien, Communication/Ecrit/oral\n",
      "Communication / Traitement de l'information\n",
      "Gestion, finance, comptabilité\n",
      "Mathématiques/Statistiques\n",
      "\n",
      " --> Métiers recommandés :\n",
      "(8, \"Management d'établissement de restauration collective\")\n",
      "(7, 'Téléconseil et télévente')\n",
      "(7, 'Intervention socioculturelle')\n",
      "(7, 'Direction de magasin de grande distribution')\n",
      "(7, 'Assistance et support technique client')\n",
      "(6, 'Éducation en activités sportives')\n",
      "(6, 'Éducation de jeunes enfants')\n",
      "(6, 'Médecine de prévention')\n",
      "(6, \"Management d'hôtel-restaurant\")\n",
      "(6, 'Intervention socioéducative')\n",
      "(6, 'Information sociale')\n",
      "(6, 'Enseignement supérieur')\n",
      "(6, 'Direction de site logistique')\n",
      "(6, \"Direction d'établissement et d'enseignement\")\n",
      "(6, 'Coordination pédagogique')\n",
      "(6, 'Accompagnement et médiation familiale')\n",
      "(5, 'Stratégie commerciale')\n",
      "(5, 'Soins infirmiers spécialisés en prévention')\n",
      "(5, 'Psychologie')\n",
      "(5, 'Orientation scolaire et professionnelle')\n"
     ]
    }
   ],
   "source": [
    "### Pour voir les recommandations d'un élève, on utilise la fonction show_score(eleve, n_metiers)\n",
    "### --> eleve : liste des critères choisis par l'élève\n",
    "### --> n_metiers : nombre de métiers à montrer\n",
    "show_score(manager,20)"
   ]
  },
  {
   "cell_type": "code",
   "execution_count": 32,
   "metadata": {
    "collapsed": false
   },
   "outputs": [
    {
     "name": "stdout",
     "output_type": "stream",
     "text": [
      "--> Préférences de l'élève : \n",
      "\n",
      "Réaliser une activité de gros oeuvre (construire un batiment, une installation)\n",
      "Réaliser une activité du second oeuvre (aménager, peindre, poser un revêtement)\n",
      "Gérer une entreprise, un service\n",
      "Conduire un véhicule, un engin\n",
      "Conduire une machine\n",
      "Manipuler un outil, un appareil, un instrument\n",
      "Porter une charge par ses propres moyens\n",
      "Effectuer des mesures\n",
      "Diagnostiquer une panne\n",
      "Réparer une machine, du matériel\n",
      "Avec outil\n",
      "Physiques\n",
      "Techniques\n",
      "Techniques, procédés de manutention\n",
      "Gros oeuvre / Extraction\n",
      "Machines/outils/appareils\n",
      "Materiel et équipement\n",
      "Engins/véhicules\n",
      "\n",
      " --> Métiers recommandés :\n",
      "(7, 'Vente en décoration et équipement du foyer')\n",
      "(7, 'Préparation de matières et produits industriels (broyage, mélange, ...)')\n",
      "(7, \"Pilotage d'installation de production verrière\")\n",
      "(7, \"Conduite d'installation de production des métaux\")\n",
      "(6, 'Éclairage spectacle')\n",
      "(6, \"Réglage d'équipement de formage des plastiques et caoutchoucs\")\n",
      "(6, 'Modelage de matériaux non métalliques')\n",
      "(6, 'Manoeuvre du réseau ferré')\n",
      "(6, \"Installation et maintenance d'automatismes\")\n",
      "(6, 'Décor et accessoires spectacle')\n",
      "(6, 'Conduite de traitement thermique')\n",
      "(6, \"Conduite d'équipement de transformation du verre\")\n",
      "(6, \"Conduite d'équipement d'usinage\")\n",
      "(5, 'Vente de végétaux')\n",
      "(5, 'Sécurité et surveillance privées')\n",
      "(5, \"Première transformation de bois d'oeuvre\")\n",
      "(5, 'Pose et restauration de couvertures')\n",
      "(5, 'Montage de structures et de charpentes bois')\n",
      "(5, 'Montage de réseaux électriques et télécoms')\n",
      "(5, 'Maintenance mécanique industrielle')\n"
     ]
    }
   ],
   "source": [
    "# Scores du profil \"manager\"\n",
    "show_score(technicien,20)"
   ]
  },
  {
   "cell_type": "code",
   "execution_count": 33,
   "metadata": {
    "collapsed": false
   },
   "outputs": [
    {
     "name": "stdout",
     "output_type": "stream",
     "text": [
      "--> Préférences de l'élève : \n",
      "\n",
      "Décorer, agencer\n",
      "Concevoir un projet artistique\n",
      "Jouer de la musique, chanter\n",
      "Jouer un rôle, défiler, danser\n",
      "Pratiquer un art plastique\n",
      "Faire un schéma, un plan, un dessin\n",
      "Communiquer\n",
      "Traiter des images, des sons, des lumières, des contenus multimédias\n",
      "Multimédia\n",
      "Artistique\n",
      "Littérature, philosophie\n",
      "\n",
      " --> Métiers recommandés :\n",
      "(3, 'Études et prospectives socio-économiques')\n",
      "(3, 'Stylisme')\n",
      "(3, 'Management des ressources humaines')\n",
      "(3, 'Intervention technique en ameublement et bois')\n",
      "(3, 'Gestion de patrimoine culturel')\n",
      "(3, \"Ecriture d'ouvrages, de livres\")\n",
      "(3, \"Décoration d'espaces de vente et d'exposition\")\n",
      "(3, 'Direction des achats')\n",
      "(3, 'Design industriel')\n",
      "(3, 'Assistance et support technique client')\n",
      "(3, 'Arts du cirque et arts visuels')\n",
      "(3, 'Animation de site multimédia')\n",
      "(2, 'Études géologiques')\n",
      "(2, 'Études et développement informatique')\n",
      "(2, 'Études actuarielles en assurances')\n",
      "(2, 'Élaboration de plan média')\n",
      "(2, 'Éducation de jeunes enfants')\n",
      "(2, 'Traduction, interprétariat')\n",
      "(2, 'Taille et décoration de pierres')\n",
      "(2, 'Stratégie commerciale')\n"
     ]
    }
   ],
   "source": [
    "show_score(artiste,20)"
   ]
  },
  {
   "cell_type": "code",
   "execution_count": null,
   "metadata": {
    "collapsed": true
   },
   "outputs": [],
   "source": []
  },
  {
   "cell_type": "code",
   "execution_count": null,
   "metadata": {
    "collapsed": true
   },
   "outputs": [],
   "source": []
  }
 ],
 "metadata": {
  "kernelspec": {
   "display_name": "Python 3",
   "language": "python",
   "name": "python3"
  },
  "language_info": {
   "codemirror_mode": {
    "name": "ipython",
    "version": 3
   },
   "file_extension": ".py",
   "mimetype": "text/x-python",
   "name": "python",
   "nbconvert_exporter": "python",
   "pygments_lexer": "ipython3",
   "version": "3.5.1"
  }
 },
 "nbformat": 4,
 "nbformat_minor": 0
}
