{
 "cells": [
  {
   "cell_type": "code",
   "execution_count": 1,
   "metadata": {
    "collapsed": true
   },
   "outputs": [],
   "source": [
    "import io\n",
    "import os\n",
    "import json\n",
    "import csv\n",
    "import pandas as pd\n",
    "import numpy as np"
   ]
  },
  {
   "cell_type": "code",
   "execution_count": 2,
   "metadata": {
    "collapsed": false
   },
   "outputs": [],
   "source": [
    "# Préparation des chemins utiles\n",
    "# Main directory\n",
    "dir_path = os.getcwd()\n",
    "\n",
    "# Dossier des données\n",
    "data_dir_path = os.path.join(dir_path, 'Donnees')\n",
    "\n",
    "# Caractéristiques de chaque cluster :\n",
    "main_feature_cluster = os.path.join(data_dir_path, 'main_features_clusters.csv')\n",
    "\n",
    "# Métiers de chaque cluster :\n",
    "jobs_clusters = os.path.join(data_dir_path, 'jobs_clusters.csv')\n",
    "\n",
    "# Tableau des métiers-variables:\n",
    "df_jobs_file = os.path.join(data_dir_path, 'PE_niv23.csv')\n",
    "\n",
    "# Tableau des métiers-variables normalisé:\n",
    "df_clusters_file = os.path.join(data_dir_path, 'df_clusters.csv')\n",
    "\n",
    "# Fichier excel de l'arborescences des activités\n",
    "act_csv = os.path.join(data_dir_path,'rome_arboactivités_juin62181.xlsx')\n",
    "# Fichier excel de l'arborescence des compétences\n",
    "comp_csv = os.path.join(data_dir_path,'rome_arbocompétences_juin62182.xlsx')\n",
    "\n",
    "# Fichier JSON de l'arborescences des activités\n",
    "act_json = os.path.join(data_dir_path,'activites.json')\n",
    "# Fichier JSON de l'arborescence des compétences\n",
    "comp_json = os.path.join(data_dir_path,'competences_2.json')\n",
    "\n",
    "# Fichier de sortie\n",
    "#output_file = os.path.join(dir_path,'fichier_donnees/PE_niv23.csv')"
   ]
  },
  {
   "cell_type": "code",
   "execution_count": 3,
   "metadata": {
    "collapsed": false
   },
   "outputs": [],
   "source": [
    "# Chargement des données de compétences dans la variable comp\n",
    "with open(comp_json) as json_data:\n",
    "    comp = json.load(json_data)\n",
    "    json_data.close()\n",
    "    \n",
    "# Chargement des données d'activités dans la variable act\n",
    "with open(act_json) as json_data:\n",
    "    act = json.load(json_data)\n",
    "    json_data.close()"
   ]
  },
  {
   "cell_type": "code",
   "execution_count": null,
   "metadata": {
    "collapsed": true
   },
   "outputs": [],
   "source": []
  },
  {
   "cell_type": "code",
   "execution_count": 12,
   "metadata": {
    "collapsed": false,
    "scrolled": false
   },
   "outputs": [
    {
     "name": "stdout",
     "output_type": "stream",
     "text": [
      "Choisissez les compétences que vous aimeriez utiliser lors de votre métier. Vous pouvez choisir des compétences que vous ne possédez pas mais que vous aimeriez acquérir au cours de vos études. \n",
      "\n",
      "I. Liste des catégories de compétences :\n",
      "\n",
      "1 - Connaissance des métiers des entreprises\n",
      "2 - Compétences artistiques\n",
      "3 - Compétences techniques industrielles\n",
      "4 - Appréciation sensorielle et interprétation de données ou de signaux\n",
      "5 - Compétences humaines et sociales\n",
      "6 - Connaissances scientifiques\n",
      "7 - Compétences physiques et mentales\n",
      "8 - Compétences médicales\n",
      "9 - Connaissance des réglementations et des normes\n",
      "10 - Connaissance des matériaux, des produits, des machines, des instruments et des véhicules\n",
      "11 - Entretien des espaces verts et procédés agricoles\n",
      "12 - Connaissances artistiques et littéraires\n",
      "\n",
      "\n",
      " --> Choisissez une catégorie :1\n",
      "\n",
      " II. Liste des compétences de la catégorie :Connaissance des métiers des entreprises\n",
      "1 - Techniques de communication et de traitement de l’information\n",
      "2 - Comptabilité\n",
      "3 - Analyses financières des entreprises\n",
      "4 - Gestion de l’entreprise\n",
      "5 - Marketing et stratégie\n",
      "6 - Organisation et management de la production industrielle\n",
      "7 - Ressources humaines\n",
      "8 - Transport logistique\n",
      "9 - Techniques de vente\n",
      "\n",
      " ----> Choisissez une compétence: \n",
      "0\n",
      "I. Liste des catégories de compétences :\n",
      "\n",
      "1 - Connaissance des métiers des entreprises\n",
      "2 - Compétences artistiques\n",
      "3 - Compétences techniques industrielles\n",
      "4 - Appréciation sensorielle et interprétation de données ou de signaux\n",
      "5 - Compétences humaines et sociales\n",
      "6 - Connaissances scientifiques\n",
      "7 - Compétences physiques et mentales\n",
      "8 - Compétences médicales\n",
      "9 - Connaissance des réglementations et des normes\n",
      "10 - Connaissance des matériaux, des produits, des machines, des instruments et des véhicules\n",
      "11 - Entretien des espaces verts et procédés agricoles\n",
      "12 - Connaissances artistiques et littéraires\n",
      "--> Choisissez une autre catégorie de la liste I. ou tapez enter:1\n",
      "\n",
      " II. Liste des compétences de la catégorie :Connaissance des métiers des entreprises\n",
      "1 - Techniques de communication et de traitement de l’information\n",
      "2 - Comptabilité\n",
      "3 - Analyses financières des entreprises\n",
      "4 - Gestion de l’entreprise\n",
      "5 - Marketing et stratégie\n",
      "6 - Organisation et management de la production industrielle\n",
      "7 - Ressources humaines\n",
      "8 - Transport logistique\n",
      "9 - Techniques de vente\n",
      "\n",
      " ----> Choisissez une compétence: \n",
      "0\n",
      "I. Liste des catégories de compétences :\n",
      "\n",
      "1 - Connaissance des métiers des entreprises\n",
      "2 - Compétences artistiques\n",
      "3 - Compétences techniques industrielles\n",
      "4 - Appréciation sensorielle et interprétation de données ou de signaux\n",
      "5 - Compétences humaines et sociales\n",
      "6 - Connaissances scientifiques\n",
      "7 - Compétences physiques et mentales\n",
      "8 - Compétences médicales\n",
      "9 - Connaissance des réglementations et des normes\n",
      "10 - Connaissance des matériaux, des produits, des machines, des instruments et des véhicules\n",
      "11 - Entretien des espaces verts et procédés agricoles\n",
      "12 - Connaissances artistiques et littéraires\n",
      "\n",
      "Liste des competences choisies\n",
      "['Techniques de vente', 'Techniques de vente']\n"
     ]
    }
   ],
   "source": [
    "# Création de la liste des compétences préférées de l'élève\n",
    "comp_niv1 = []\n",
    "for niv1 in comp:\n",
    "    comp_niv1.append(niv1)\n",
    "\n",
    "# Choix des compétences par l'élève\n",
    "competence_eleve = []\n",
    "\n",
    "print(\"Choisissez les compétences que vous aimeriez utiliser lors de votre métier. Vous pouvez choisir des compétences que vous ne possédez pas mais que vous aimeriez acquérir au cours de vos études. \\n\")\n",
    "\n",
    "print(\"I. Liste des catégories de compétences :\" + \"\\n\")\n",
    "i = 0\n",
    "for item in comp_niv1:\n",
    "    i+=1\n",
    "    print(str(i) + ' - ' + item)\n",
    "\n",
    "print(\"\\n\")\n",
    "string = input(\" --> Choisissez une catégorie :\");\n",
    "try:\n",
    "    while int(string) in range(len(comp_niv1)+1):\n",
    "        #print(\"\\n II. Liste des compétences de la catégorie :\" + string)\n",
    "        #comp_niv23 = comp[string]\n",
    "        comp_niv23 = comp[comp_niv1[int(string)-1]]\n",
    "        print(\"\\n II. Liste des compétences de la catégorie :\" + comp_niv1[int(string)-1])\n",
    "        j=0\n",
    "        for item in comp_niv23:\n",
    "            j+=1\n",
    "            print(str(j) + ' - ' + item)\n",
    "\n",
    "        string2 = input(\"\\n ----> Choisissez une compétence: \\n\");\n",
    "        string2 = string2.split(',')\n",
    "        for item in string2:\n",
    "            competence_eleve.append(comp_niv23[int(item)-1])\n",
    "        #while string2 in comp_niv23:\n",
    "        #    competence_eleve.append(string2)    \n",
    "        #    string2 = input(\"----> Choisissez une autre compétence ou tapez enter: \\n\");\n",
    "\n",
    "        print(\"I. Liste des catégories de compétences :\" + \"\\n\")\n",
    "        i = 0\n",
    "        for item in comp_niv1:\n",
    "            i+=1\n",
    "            print(str(i) + ' - ' +item)\n",
    "        string = input(\"--> Choisissez une autre catégorie de la liste I. ou tapez enter:\");\n",
    "except:\n",
    "    pass\n",
    "print(\"\\n\" + \"Liste des competences choisies\") \n",
    "print(competence_eleve)        "
   ]
  },
  {
   "cell_type": "code",
   "execution_count": 53,
   "metadata": {
    "collapsed": false
   },
   "outputs": [
    {
     "data": {
      "text/plain": [
       "['Animer un groupe', 'Enseigner']"
      ]
     },
     "execution_count": 53,
     "metadata": {},
     "output_type": "execute_result"
    }
   ],
   "source": [
    "list(act[act_niv1[int(string)-1]].keys())"
   ]
  },
  {
   "cell_type": "code",
   "execution_count": null,
   "metadata": {
    "collapsed": false,
    "scrolled": false
   },
   "outputs": [
    {
     "name": "stdout",
     "output_type": "stream",
     "text": [
      "I. Liste des catégories d'activités :\n",
      "\n",
      "1 - Mettre en service et entretenir des équipements\n",
      "2 - Informer ou conseiller\n",
      "3 - Cuisiner, cultiver ou assurer une étape manuelle de production industrille\n",
      "4 - Gérer ou organiser\n",
      "5 - Prendre soin de personnes ou d’animaux\n",
      "6 - Faire du commerce (vendre, acheter ou négocier)\n",
      "7 - Contrôler, sécuriser, surveiller (une production, un lieu de travail, …)\n",
      "8 - Enseigner ou animer un groupe\n",
      "9 - Concevoir et développer un service ou un produit ou analyser des données\n",
      "10 - Traiter des informations et communiquer\n",
      "11 - Manager des équipes, diriger des entreprises ou coordonner des actions\n",
      "12 - Construire, aménager ou décorer un espace\n",
      "13 - Réaliser une activité artistique ou sportive\n",
      "14 - Nettoyer ou laver\n",
      "15 - Manipuler un outil ou une machine, transporter des biens ou des personnes ou conduire un véhicule\n",
      "\n",
      "\n",
      " --> Choisissez une catégorie :1\n",
      "\n",
      " II. Liste des activités de la catégorie :Mettre en service et entretenir des équipements\n",
      "1 - Monter ou démonter un équipement\n",
      "2 - Entretenir des équipements\n",
      "3 - Réparer des véhicules ou des équipements\n",
      "4 - Mettre en service des équipements (réglages et paramétrages)\n",
      "5 - Entretenir un bâtiment\n",
      "6 - Détecter une panne\n",
      "\n",
      " ----> Choisissez une activité: \n",
      "2\n",
      "I. Liste des catégories d'activités :\n",
      "\n",
      "0 - Mettre en service et entretenir des équipements\n",
      "0 - Informer ou conseiller\n",
      "0 - Cuisiner, cultiver ou assurer une étape manuelle de production industrille\n",
      "0 - Gérer ou organiser\n",
      "0 - Prendre soin de personnes ou d’animaux\n",
      "0 - Faire du commerce (vendre, acheter ou négocier)\n",
      "0 - Contrôler, sécuriser, surveiller (une production, un lieu de travail, …)\n",
      "0 - Enseigner ou animer un groupe\n",
      "0 - Concevoir et développer un service ou un produit ou analyser des données\n",
      "0 - Traiter des informations et communiquer\n",
      "0 - Manager des équipes, diriger des entreprises ou coordonner des actions\n",
      "0 - Construire, aménager ou décorer un espace\n",
      "0 - Réaliser une activité artistique ou sportive\n",
      "0 - Nettoyer ou laver\n",
      "0 - Manipuler un outil ou une machine, transporter des biens ou des personnes ou conduire un véhicule\n"
     ]
    }
   ],
   "source": [
    "# Création de la liste des activités préférées de l'élève\n",
    "act_niv1 = []\n",
    "for niv1 in act:\n",
    "    act_niv1.append(niv1)\n",
    "\n",
    "# Choix des activités par l'élève\n",
    "activite_eleve = []\n",
    "\n",
    "print(\"I. Liste des catégories d'activités :\" + \"\\n\")\n",
    "i = 0\n",
    "for item in act_niv1:\n",
    "    i+=1\n",
    "    print(str(i) + ' - ' + item)\n",
    "\n",
    "print(\"\\n\")\n",
    "string = input(\" --> Choisissez une catégorie :\");\n",
    "\n",
    "try:\n",
    "    #while string in act_niv1:\n",
    "    while int(string) in range(len(act_niv1)+1):\n",
    "        print(\"\\n II. Liste des activités de la catégorie :\" + act_niv1[int(string)-1])\n",
    "        act_niv2 = list(act[act_niv1[int(string)-1]].keys())\n",
    "        j=0\n",
    "        for niv2 in act_niv2:\n",
    "            j+=1\n",
    "            print(str(j) + ' - ' + niv2)\n",
    "        string2 = input(\"\\n ----> Choisissez une activité: \\n\");\n",
    "        string2 = string2.split(',')\n",
    "        for item in string2:\n",
    "            activite_eleve.append(act_niv2[int(item)-1])\n",
    "        #while string2 in act_niv2:\n",
    "        #    activite_eleve.append(string2)    \n",
    "        #    string2 = input(\"----> Choisissez une autre activité ou tapez enter: \\n\");\n",
    "\n",
    "        print(\"I. Liste des catégories d'activités :\" + \"\\n\")\n",
    "        i = 0\n",
    "        for item in act_niv1:\n",
    "            i+=1\n",
    "            print(str(i)+ ' - ' + item)\n",
    "        string = input(\"--> Choisissez une autre catégorie de la liste I. ou tapez enter:\");\n",
    "except:\n",
    "    pass\n",
    "\n",
    "print(\"\\n\" + \"Liste des activités choisies\") \n",
    "print(activite_eleve)  "
   ]
  },
  {
   "cell_type": "code",
   "execution_count": 10,
   "metadata": {
    "collapsed": false
   },
   "outputs": [
    {
     "name": "stdout",
     "output_type": "stream",
     "text": [
      "eleve =\n"
     ]
    },
    {
     "data": {
      "text/plain": [
       "['Animer un groupe',\n",
       " 'Enseigner',\n",
       " 'Prendre soin de personnes',\n",
       " 'Gérer un dossier ou une formalité administrative',\n",
       " 'Compléter des documents ou des dossiers',\n",
       " 'Saisir et mettre en forme des documents',\n",
       " 'Ressources humaines',\n",
       " 'Compétences artistiques',\n",
       " 'Interprétation de données ou de signaux',\n",
       " 'Compétences managériales',\n",
       " 'Techniques de prévention et gestion de conflits',\n",
       " 'Techniques pédagogiques',\n",
       " 'Compétences mentales']"
      ]
     },
     "execution_count": 10,
     "metadata": {},
     "output_type": "execute_result"
    }
   ],
   "source": [
    "# Critères choisis\n",
    "criteres = activite_eleve + competence_eleve\n",
    "print(\"eleve =\")  \n",
    "criteres"
   ]
  },
  {
   "cell_type": "code",
   "execution_count": null,
   "metadata": {
    "collapsed": true
   },
   "outputs": [],
   "source": []
  }
 ],
 "metadata": {
  "kernelspec": {
   "display_name": "Python 3",
   "language": "python",
   "name": "python3"
  },
  "language_info": {
   "codemirror_mode": {
    "name": "ipython",
    "version": 3
   },
   "file_extension": ".py",
   "mimetype": "text/x-python",
   "name": "python",
   "nbconvert_exporter": "python",
   "pygments_lexer": "ipython3",
   "version": "3.5.1"
  }
 },
 "nbformat": 4,
 "nbformat_minor": 0
}
