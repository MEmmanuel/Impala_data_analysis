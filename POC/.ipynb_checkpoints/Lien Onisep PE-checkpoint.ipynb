{
 "cells": [
  {
   "cell_type": "code",
   "execution_count": null,
   "metadata": {
    "collapsed": true
   },
   "outputs": [],
   "source": []
  },
  {
   "cell_type": "code",
   "execution_count": 1,
   "metadata": {
    "collapsed": true
   },
   "outputs": [],
   "source": [
    "import io\n",
    "import os\n",
    "import json\n",
    "import csv\n",
    "import pandas as pd\n",
    "import numpy as np"
   ]
  },
  {
   "cell_type": "code",
   "execution_count": 2,
   "metadata": {
    "collapsed": false
   },
   "outputs": [],
   "source": [
    "# Préparation des chemins utiles\n",
    "# Main directory\n",
    "dir_path = os.getcwd()\n",
    "\n",
    "# Dossier des données\n",
    "data_dir_path = os.path.join(dir_path, 'Donnees')\n",
    "\n",
    "# Tableau des métiers-variables normalisé:\n",
    "df_clusters_file = os.path.join(data_dir_path, 'df_clusters.csv')\n",
    "\n",
    "# Correspondance Rome-Onisep\n",
    "rome_onisep_file = os.path.join(data_dir_path, 'Metiers_Onisep_ROME.csv')\n",
    "\n",
    "# Données des métiers\n",
    "df_clusters = pd.read_csv(df_clusters_file)\n",
    "matrix_jobs = df_clusters.iloc[:,3:170]\n",
    "\n",
    "# Données Onisep PE\n",
    "rome_onisep = pd.read_csv(rome_onisep_file, sep =',')"
   ]
  },
  {
   "cell_type": "code",
   "execution_count": 4,
   "metadata": {
    "collapsed": false
   },
   "outputs": [
    {
     "data": {
      "text/html": [
       "<div>\n",
       "<table border=\"1\" class=\"dataframe\">\n",
       "  <thead>\n",
       "    <tr style=\"text-align: right;\">\n",
       "      <th></th>\n",
       "      <th>-1</th>\n",
       "      <th>metier_onisep</th>\n",
       "      <th>lien_onisep</th>\n",
       "      <th>code_onisep</th>\n",
       "      <th>intitule_site_onisep</th>\n",
       "      <th>intitule_XML</th>\n",
       "      <th>code_ROME (Impala)</th>\n",
       "      <th>code_ROME_1</th>\n",
       "      <th>intitule_ROME_1</th>\n",
       "      <th>code_ROME_2</th>\n",
       "      <th>intitule_ROME_2</th>\n",
       "      <th>code_ROME_3</th>\n",
       "      <th>intitule_ROME_3</th>\n",
       "      <th>code_ROME_4</th>\n",
       "      <th>intitule_ROME_4</th>\n",
       "      <th>code_ROME_5</th>\n",
       "      <th>intitule_ROME_5</th>\n",
       "      <th>code_ROME (Impala).1</th>\n",
       "    </tr>\n",
       "  </thead>\n",
       "  <tbody>\n",
       "    <tr>\n",
       "      <th>0</th>\n",
       "      <td>0</td>\n",
       "      <td>technicien/ne de fabrication de mobilier et de...</td>\n",
       "      <td>http://www.onisep.fr/http/redirection/metier/i...</td>\n",
       "      <td>10002</td>\n",
       "      <td>technicien / technicienne de fabrication de mo...</td>\n",
       "      <td>technicien/ne de fabrication de mobilier et de...</td>\n",
       "      <td>H2202</td>\n",
       "      <td>H2209</td>\n",
       "      <td>Intervention technique en ameublement et bois</td>\n",
       "      <td>H2204</td>\n",
       "      <td>Encadrement des industries de l'ameublement et...</td>\n",
       "      <td>NaN</td>\n",
       "      <td>NaN</td>\n",
       "      <td>NaN</td>\n",
       "      <td>NaN</td>\n",
       "      <td>NaN</td>\n",
       "      <td>NaN</td>\n",
       "      <td>H2202</td>\n",
       "    </tr>\n",
       "    <tr>\n",
       "      <th>1</th>\n",
       "      <td>1</td>\n",
       "      <td>agenceur/euse de cuisines et salles de bains</td>\n",
       "      <td>http://www.onisep.fr/http/redirection/metier/i...</td>\n",
       "      <td>10003</td>\n",
       "      <td>agenceur / agenceuse de cuisines et salles de ...</td>\n",
       "      <td>agenceur/euse de cuisines et salles de bains</td>\n",
       "      <td>H2206</td>\n",
       "      <td>F1604</td>\n",
       "      <td>Montage d'agencements</td>\n",
       "      <td>H2206</td>\n",
       "      <td>Réalisation de menuiserie bois et tonnellerie</td>\n",
       "      <td>NaN</td>\n",
       "      <td>NaN</td>\n",
       "      <td>NaN</td>\n",
       "      <td>NaN</td>\n",
       "      <td>NaN</td>\n",
       "      <td>NaN</td>\n",
       "      <td>H2206</td>\n",
       "    </tr>\n",
       "    <tr>\n",
       "      <th>2</th>\n",
       "      <td>2</td>\n",
       "      <td>chef/fe de fabrication des industries graphiques</td>\n",
       "      <td>http://www.onisep.fr/http/redirection/metier/i...</td>\n",
       "      <td>10005</td>\n",
       "      <td>chef / cheffe de fabrication des industries gr...</td>\n",
       "      <td>chef/fe de fabrication des industries graphiques</td>\n",
       "      <td>E1303</td>\n",
       "      <td>E1303</td>\n",
       "      <td>Encadrement des industries graphiques</td>\n",
       "      <td>NaN</td>\n",
       "      <td>NaN</td>\n",
       "      <td>NaN</td>\n",
       "      <td>NaN</td>\n",
       "      <td>NaN</td>\n",
       "      <td>NaN</td>\n",
       "      <td>NaN</td>\n",
       "      <td>NaN</td>\n",
       "      <td>NaN</td>\n",
       "    </tr>\n",
       "    <tr>\n",
       "      <th>3</th>\n",
       "      <td>3</td>\n",
       "      <td>conducteur/trice de machines à imprimer</td>\n",
       "      <td>http://www.onisep.fr/http/redirection/metier/i...</td>\n",
       "      <td>10007</td>\n",
       "      <td>conducteur / conductrice de machines à imprimer</td>\n",
       "      <td>conducteur/trice de machines à imprimer</td>\n",
       "      <td>E1301</td>\n",
       "      <td>E1301</td>\n",
       "      <td>Conduite de machines d'impression</td>\n",
       "      <td>NaN</td>\n",
       "      <td>NaN</td>\n",
       "      <td>NaN</td>\n",
       "      <td>NaN</td>\n",
       "      <td>NaN</td>\n",
       "      <td>NaN</td>\n",
       "      <td>NaN</td>\n",
       "      <td>NaN</td>\n",
       "      <td>NaN</td>\n",
       "    </tr>\n",
       "    <tr>\n",
       "      <th>4</th>\n",
       "      <td>4</td>\n",
       "      <td>opérateur/trice prépresse</td>\n",
       "      <td>http://www.onisep.fr/http/redirection/metier/i...</td>\n",
       "      <td>10008</td>\n",
       "      <td>opérateur / opératrice prépresse</td>\n",
       "      <td>opérateur/trice prépresse</td>\n",
       "      <td>E1306</td>\n",
       "      <td>E1306</td>\n",
       "      <td>Prépresse</td>\n",
       "      <td>NaN</td>\n",
       "      <td>NaN</td>\n",
       "      <td>NaN</td>\n",
       "      <td>NaN</td>\n",
       "      <td>NaN</td>\n",
       "      <td>NaN</td>\n",
       "      <td>NaN</td>\n",
       "      <td>NaN</td>\n",
       "      <td>E1306</td>\n",
       "    </tr>\n",
       "  </tbody>\n",
       "</table>\n",
       "</div>"
      ],
      "text/plain": [
       "   -1                                      metier_onisep  \\\n",
       "0   0  technicien/ne de fabrication de mobilier et de...   \n",
       "1   1       agenceur/euse de cuisines et salles de bains   \n",
       "2   2   chef/fe de fabrication des industries graphiques   \n",
       "3   3           conducteur/trice de machines à imprimer    \n",
       "4   4                          opérateur/trice prépresse   \n",
       "\n",
       "                                         lien_onisep  code_onisep  \\\n",
       "0  http://www.onisep.fr/http/redirection/metier/i...        10002   \n",
       "1  http://www.onisep.fr/http/redirection/metier/i...        10003   \n",
       "2  http://www.onisep.fr/http/redirection/metier/i...        10005   \n",
       "3  http://www.onisep.fr/http/redirection/metier/i...        10007   \n",
       "4  http://www.onisep.fr/http/redirection/metier/i...        10008   \n",
       "\n",
       "                                intitule_site_onisep  \\\n",
       "0  technicien / technicienne de fabrication de mo...   \n",
       "1  agenceur / agenceuse de cuisines et salles de ...   \n",
       "2  chef / cheffe de fabrication des industries gr...   \n",
       "3    conducteur / conductrice de machines à imprimer   \n",
       "4                   opérateur / opératrice prépresse   \n",
       "\n",
       "                                        intitule_XML code_ROME (Impala)  \\\n",
       "0  technicien/ne de fabrication de mobilier et de...              H2202   \n",
       "1       agenceur/euse de cuisines et salles de bains              H2206   \n",
       "2   chef/fe de fabrication des industries graphiques              E1303   \n",
       "3           conducteur/trice de machines à imprimer               E1301   \n",
       "4                          opérateur/trice prépresse              E1306   \n",
       "\n",
       "  code_ROME_1                                intitule_ROME_1 code_ROME_2  \\\n",
       "0       H2209  Intervention technique en ameublement et bois       H2204   \n",
       "1       F1604                          Montage d'agencements       H2206   \n",
       "2       E1303          Encadrement des industries graphiques         NaN   \n",
       "3       E1301              Conduite de machines d'impression         NaN   \n",
       "4       E1306                                      Prépresse         NaN   \n",
       "\n",
       "                                     intitule_ROME_2 code_ROME_3  \\\n",
       "0  Encadrement des industries de l'ameublement et...         NaN   \n",
       "1      Réalisation de menuiserie bois et tonnellerie         NaN   \n",
       "2                                                NaN         NaN   \n",
       "3                                                NaN         NaN   \n",
       "4                                                NaN         NaN   \n",
       "\n",
       "  intitule_ROME_3 code_ROME_4 intitule_ROME_4 code_ROME_5 intitule_ROME_5  \\\n",
       "0             NaN         NaN             NaN         NaN             NaN   \n",
       "1             NaN         NaN             NaN         NaN             NaN   \n",
       "2             NaN         NaN             NaN         NaN             NaN   \n",
       "3             NaN         NaN             NaN         NaN             NaN   \n",
       "4             NaN         NaN             NaN         NaN             NaN   \n",
       "\n",
       "  code_ROME (Impala).1  \n",
       "0                H2202  \n",
       "1                H2206  \n",
       "2                  NaN  \n",
       "3                  NaN  \n",
       "4                E1306  "
      ]
     },
     "execution_count": 4,
     "metadata": {},
     "output_type": "execute_result"
    }
   ],
   "source": [
    "rome_onisep.head()"
   ]
  },
  {
   "cell_type": "code",
   "execution_count": 5,
   "metadata": {
    "collapsed": false
   },
   "outputs": [
    {
     "data": {
      "text/html": [
       "<div>\n",
       "<table border=\"1\" class=\"dataframe\">\n",
       "  <thead>\n",
       "    <tr style=\"text-align: right;\">\n",
       "      <th></th>\n",
       "      <th>code_rome</th>\n",
       "      <th>intitule</th>\n",
       "    </tr>\n",
       "  </thead>\n",
       "  <tbody>\n",
       "    <tr>\n",
       "      <th>0</th>\n",
       "      <td>A1101</td>\n",
       "      <td>Conduite d'engins agricoles et forestiers</td>\n",
       "    </tr>\n",
       "    <tr>\n",
       "      <th>1</th>\n",
       "      <td>A1201</td>\n",
       "      <td>Bûcheronnage et élagage</td>\n",
       "    </tr>\n",
       "    <tr>\n",
       "      <th>2</th>\n",
       "      <td>A1202</td>\n",
       "      <td>Entretien des espaces naturels</td>\n",
       "    </tr>\n",
       "    <tr>\n",
       "      <th>3</th>\n",
       "      <td>A1203</td>\n",
       "      <td>Entretien des espaces verts</td>\n",
       "    </tr>\n",
       "    <tr>\n",
       "      <th>4</th>\n",
       "      <td>A1204</td>\n",
       "      <td>Protection du patrimoine naturel</td>\n",
       "    </tr>\n",
       "  </tbody>\n",
       "</table>\n",
       "</div>"
      ],
      "text/plain": [
       "  code_rome                                   intitule\n",
       "0     A1101  Conduite d'engins agricoles et forestiers\n",
       "1     A1201                    Bûcheronnage et élagage\n",
       "2     A1202             Entretien des espaces naturels\n",
       "3     A1203                Entretien des espaces verts\n",
       "4     A1204           Protection du patrimoine naturel"
      ]
     },
     "execution_count": 5,
     "metadata": {},
     "output_type": "execute_result"
    }
   ],
   "source": [
    "df = df_clusters[[\"code_rome\",\"intitule\"]]\n",
    "df.head()"
   ]
  },
  {
   "cell_type": "code",
   "execution_count": 6,
   "metadata": {
    "collapsed": false
   },
   "outputs": [],
   "source": [
    "# Liste des codes rome\n",
    "rome_list = df[\"code_rome\"]\n",
    "\n",
    "# Création d'un dictionnaire {rome:[]} qui contiendra pour chaque rome la liste des métiers de l'Onisep\n",
    "# correspondant\n",
    "rome_oni_dict = {}\n",
    "for rome in rome_list:\n",
    "    rome_oni_dict[rome] = []\n",
    "\n",
    "# Pour chaque code rome, on lui associe les métiers de l'Onisep correspondant\n",
    "for row in rome_onisep.itertuples():\n",
    "    rome = row[7]\n",
    "    intitule_oni = row[5]\n",
    "    rome_oni_dict[rome].append(intitule_oni)\n",
    "    \n",
    "    for i in [8,10,12,14,16]:\n",
    "        rome = row[i]\n",
    "        if str(rome)!='nan' and intitule_oni not in rome_oni_dict[rome]:\n",
    "            rome_oni_dict[rome].append(intitule_oni)  \n",
    "  "
   ]
  },
  {
   "cell_type": "code",
   "execution_count": null,
   "metadata": {
    "collapsed": false
   },
   "outputs": [
    {
     "name": "stderr",
     "output_type": "stream",
     "text": [
      "/home/timothee/anaconda3/lib/python3.5/site-packages/pandas/core/indexing.py:288: SettingWithCopyWarning: \n",
      "A value is trying to be set on a copy of a slice from a DataFrame.\n",
      "Try using .loc[row_indexer,col_indexer] = value instead\n",
      "\n",
      "See the caveats in the documentation: http://pandas.pydata.org/pandas-docs/stable/indexing.html#indexing-view-versus-copy\n",
      "  self.obj[key] = _infer_fill_value(value)\n",
      "/home/timothee/anaconda3/lib/python3.5/site-packages/pandas/core/indexing.py:465: SettingWithCopyWarning: \n",
      "A value is trying to be set on a copy of a slice from a DataFrame.\n",
      "Try using .loc[row_indexer,col_indexer] = value instead\n",
      "\n",
      "See the caveats in the documentation: http://pandas.pydata.org/pandas-docs/stable/indexing.html#indexing-view-versus-copy\n",
      "  self.obj[item] = s\n",
      "/home/timothee/anaconda3/lib/python3.5/site-packages/pandas/core/indexing.py:132: SettingWithCopyWarning: \n",
      "A value is trying to be set on a copy of a slice from a DataFrame\n",
      "\n",
      "See the caveats in the documentation: http://pandas.pydata.org/pandas-docs/stable/indexing.html#indexing-view-versus-copy\n",
      "  self._setitem_with_indexer(indexer, value)\n",
      "/home/timothee/anaconda3/lib/python3.5/site-packages/ipykernel/__main__.py:7: SettingWithCopyWarning: \n",
      "A value is trying to be set on a copy of a slice from a DataFrame\n",
      "\n",
      "See the caveats in the documentation: http://pandas.pydata.org/pandas-docs/stable/indexing.html#indexing-view-versus-copy\n"
     ]
    }
   ],
   "source": [
    "# On crée un tableau avec les code rome, les intitulés de PE, et tous les métiers de l'Onisep associés\n",
    "for rome in rome_list:\n",
    "    index = df[df[\"code_rome\"]==rome].index\n",
    "    j=0\n",
    "    for item in rome_oni_dict[rome]:\n",
    "        j+=1\n",
    "        df.loc[index,\"Métier_onisep_\" + str(j)] = item"
   ]
  },
  {
   "cell_type": "code",
   "execution_count": null,
   "metadata": {
    "collapsed": false
   },
   "outputs": [],
   "source": [
    "df.head()"
   ]
  },
  {
   "cell_type": "code",
   "execution_count": null,
   "metadata": {
    "collapsed": true
   },
   "outputs": [],
   "source": [
    "# Copie du tableau au format CSV\n",
    "output_path = os.path.join(dir_path, \"lien_PE_Onisep.csv\")\n",
    "df.to_csv(output_path)"
   ]
  },
  {
   "cell_type": "code",
   "execution_count": null,
   "metadata": {
    "collapsed": true
   },
   "outputs": [],
   "source": []
  }
 ],
 "metadata": {
  "kernelspec": {
   "display_name": "Python 3",
   "language": "python",
   "name": "python3"
  },
  "language_info": {
   "codemirror_mode": {
    "name": "ipython",
    "version": 3
   },
   "file_extension": ".py",
   "mimetype": "text/x-python",
   "name": "python",
   "nbconvert_exporter": "python",
   "pygments_lexer": "ipython3",
   "version": "3.5.1"
  }
 },
 "nbformat": 4,
 "nbformat_minor": 0
}
