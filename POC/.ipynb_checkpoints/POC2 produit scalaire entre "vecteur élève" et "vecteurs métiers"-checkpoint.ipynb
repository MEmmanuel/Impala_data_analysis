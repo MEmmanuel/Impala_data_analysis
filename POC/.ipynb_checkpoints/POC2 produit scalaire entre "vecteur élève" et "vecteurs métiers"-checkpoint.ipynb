{
 "cells": [
  {
   "cell_type": "code",
   "execution_count": 1,
   "metadata": {
    "collapsed": true
   },
   "outputs": [],
   "source": [
    "import io\n",
    "import os\n",
    "import json\n",
    "import csv\n",
    "import pandas as pd"
   ]
  },
  {
   "cell_type": "code",
   "execution_count": 3,
   "metadata": {
    "collapsed": true
   },
   "outputs": [],
   "source": [
    "# Préparation des chemins utiles\n",
    "# Main directory\n",
    "dir_path = '/home/timothee/PycharmProjects/ImpalaPoleEmploi2/Impala/POC'\n",
    "\n",
    "# Dossier des données\n",
    "data_dir_path = os.path.join(dir_path, 'Donnees')\n",
    "\n",
    "# Caractéristiques de chaque cluster :\n",
    "main_feature_cluster = os.path.join(data_dir_path, 'main_features_clusters.csv')\n",
    "\n",
    "# Métiers de chaque cluster :\n",
    "jobs_clusters = os.path.join(data_dir_path, 'jobs_clusters.csv')\n",
    "\n",
    "# Tableau des métiers-variables:\n",
    "df_jobs_file = os.path.join(data_dir_path, 'PE_niv23.csv')\n",
    "\n",
    "# Tableau des métiers-variables normalisé:\n",
    "df_clusters_file = os.path.join(data_dir_path, 'df_clusters.csv')\n",
    "\n",
    "# Données des métiers\n",
    "df_clusters = pd.read_csv(df_clusters_file)\n",
    "matrix_jobs = df_clusters.iloc[:,3:170]"
   ]
  },
  {
   "cell_type": "code",
   "execution_count": 20,
   "metadata": {
    "collapsed": false
   },
   "outputs": [],
   "source": [
    "# Elèves fictifs avec les affinités qu'on pourrait imaginer(technicien, manager, artiste)\n",
    "# On peut rajouter l'élève obtenu avec le POC \"Choix des critères par l'utilisateur\"\n",
    "# --> eleve = []\n",
    "manager = [\"Conseiller, donner un avis d'expert\",\n",
    "            \"Identifier un besoin du client\",\n",
    "            \"Gérer un budget, exécuter une tâche de gestion comptable, financière\",\n",
    "           \"Organiser un évènement, superviser une opération\",\n",
    "           \"Coordonner un projet, des actions, une formation\",\n",
    "           \"Encadrer, gérer une équipe\",\n",
    "           \"Prendre des décisions, définir une stratégie\",\n",
    "           \"Synthétiser, traiter une information\",\n",
    "           \"Compétences managériales\",\n",
    "           \"Résolution de problème\",\n",
    "           \"Techniques d'entretien, Communication/Ecrit/oral\",\n",
    "           \"Communication / Traitement de l'information\",\n",
    "           \"Gestion, finance, comptabilité\",\n",
    "           \"Mathématiques/Statistiques\"]\n",
    "technicien = [\"Réaliser une activité de gros oeuvre (construire un batiment, une installation)\",\n",
    "                 \"Réaliser une activité du second oeuvre (aménager, peindre, poser un revêtement)\",\n",
    "                 \"Gérer une entreprise, un service\",\n",
    "                 \"Conduire un véhicule, un engin\",\n",
    "                 \"Conduire une machine\",\n",
    "                 \"Manipuler un outil, un appareil, un instrument\",\n",
    "                 \"Porter une charge par ses propres moyens\",\n",
    "                 \"Effectuer des mesures\",\n",
    "                 \"Diagnostiquer une panne\",\n",
    "                 \"Réparer une machine, du matériel\",\n",
    "                 \"Avec outil\",\n",
    "                 \"Physiques\",\n",
    "                 \"Techniques\",\n",
    "                 \"Techniques, procédés de manutention\",\n",
    "                 \"Gros oeuvre / Extraction\",\n",
    "                 \"Machines/outils/appareils\",\n",
    "                 \"Materiel et équipement\",\n",
    "                 \"Engins/véhicules\"]\n",
    "artiste = [\"Décorer, agencer\",\n",
    "          \"Concevoir un projet artistique\",\n",
    "          \"Jouer de la musique, chanter\",\n",
    "          \"Jouer un rôle, défiler, danser\",\n",
    "          \"Pratiquer un art plastique\",\n",
    "          \"Faire un schéma, un plan, un dessin\",\n",
    "          \"Communiquer\",\n",
    "          \"Traiter des images, des sons, des lumières, des contenus multimédias\",\n",
    "          \"Multimédia\",\n",
    "          \"Artistique\",\n",
    "          \"Littérature, philosophie\"]\n",
    "\n",
    "## Fonctions utilisées\n",
    "\n",
    "#### change le nom des variables des élèves pour les faire correspondre avec ceux de R\n",
    "def eleve_cast_R(eleve_to_transform):\n",
    "    eleve = []\n",
    "    for feature in eleve_to_transform:\n",
    "        feature = feature.replace(', ','..')\n",
    "        feature = feature.replace('(', '.')\n",
    "        feature = feature.replace(')', '.')\n",
    "        feature = feature.replace(\"'\", '.')\n",
    "        feature = feature.replace(\"/\", '.')\n",
    "        feature = feature.replace(' ', '.')\n",
    "        eleve.append(feature)\n",
    "    return(eleve)\n",
    "\n",
    "#### vecteur élève (petit problème à régler encore)\n",
    "def vectorize_eleve(eleve_to_vectorize): \n",
    "    eleve = pd.DataFrame()\n",
    "    for var in matrix_jobs.columns.tolist():\n",
    "        if var in eleve_to_vectorize:  \n",
    "            eleve[var]=[1]\n",
    "        else:\n",
    "            eleve[var]=[0]\n",
    "    return eleve\n",
    "\n",
    "#### Score des produits scalaires de chaque métier\n",
    "intitule = df_clusters[\"intitule\"]\n",
    "clusters = df_clusters[\"clusters\"]\n",
    "\n",
    "def score_jobs(eleve_to_match):\n",
    "    eleve_R = eleve_cast_R(eleve_to_match)\n",
    "    eleve_v = vectorize_eleve(eleve_R)\n",
    "    score = matrix_jobs.dot(eleve_v.transpose())\n",
    "    df = pd.concat([intitule,clusters,score], axis=1)\n",
    "    df.columns = [\"intitule\",\"clusters\",\"score\"]\n",
    "    return(df.sort_values(by=\"score\",ascending=False))\n",
    "\n",
    "def show_score(eleve, n_metiers):\n",
    "    score_eleve = score_jobs(eleve)\n",
    "    print(\"--> Préférences de l'élève : \\n\")\n",
    "    for item in eleve:\n",
    "        print(item)\n",
    "    print(\"\\n --> Métiers recommandés :\")\n",
    "    print(score_eleve[0:n_metiers])"
   ]
  },
  {
   "cell_type": "code",
   "execution_count": 21,
   "metadata": {
    "collapsed": false
   },
   "outputs": [
    {
     "name": "stdout",
     "output_type": "stream",
     "text": [
      "--> Préférences de l'élève : \n",
      "\n",
      "Conseiller, donner un avis d'expert\n",
      "Identifier un besoin du client\n",
      "Gérer un budget, exécuter une tâche de gestion comptable, financière\n",
      "Organiser un évènement, superviser une opération\n",
      "Coordonner un projet, des actions, une formation\n",
      "Encadrer, gérer une équipe\n",
      "Prendre des décisions, définir une stratégie\n",
      "Synthétiser, traiter une information\n",
      "Compétences managériales\n",
      "Résolution de problème\n",
      "Techniques d'entretien, Communication/Ecrit/oral\n",
      "Communication / Traitement de l'information\n",
      "Gestion, finance, comptabilité\n",
      "Mathématiques/Statistiques\n",
      "\n",
      " --> Métiers recommandés :\n",
      "                                              intitule  clusters      score\n",
      "260  Encadrement d'équipe ou d'atelier en matériaux...        73  21.373916\n",
      "112   Management de département en grande distribution        36  18.633908\n",
      "259  Encadrement d'équipe en industrie de transform...        73  18.473299\n",
      "384    Gestion de l'information et de la documentation        38  17.967872\n",
      "134            Développement et promotion publicitaire        36  13.503661\n",
      "258  Pilotage d'unité élémentaire de production méc...        68  13.392019\n",
      "118                   Journalisme et information média        40  12.770001\n",
      "486               Direction des systèmes d'information        96  12.646256\n",
      "483                              Stratégie commerciale        88  11.821685\n",
      "514  Exploitation des opérations portuaires et du t...        98  11.390896\n"
     ]
    }
   ],
   "source": [
    "### Pour voir les recommandations d'un élève, on utilise la fonction show_score(eleve, n_metiers)\n",
    "### --> eleve : liste des critères choisis par l'élève\n",
    "### --> n_metiers : nombre de métiers à montrer\n",
    "show_score(manager, 10)"
   ]
  },
  {
   "cell_type": "code",
   "execution_count": 22,
   "metadata": {
    "collapsed": false
   },
   "outputs": [
    {
     "name": "stdout",
     "output_type": "stream",
     "text": [
      "--> Préférences de l'élève : \n",
      "\n",
      "Réaliser une activité de gros oeuvre (construire un batiment, une installation)\n",
      "Réaliser une activité du second oeuvre (aménager, peindre, poser un revêtement)\n",
      "Gérer une entreprise, un service\n",
      "Conduire un véhicule, un engin\n",
      "Conduire une machine\n",
      "Manipuler un outil, un appareil, un instrument\n",
      "Porter une charge par ses propres moyens\n",
      "Effectuer des mesures\n",
      "Diagnostiquer une panne\n",
      "Réparer une machine, du matériel\n",
      "Avec outil\n",
      "Physiques\n",
      "Techniques\n",
      "Techniques, procédés de manutention\n",
      "Gros oeuvre / Extraction\n",
      "Machines/outils/appareils\n",
      "Materiel et équipement\n",
      "Engins/véhicules\n",
      "\n",
      " --> Métiers recommandés :\n",
      "                                              intitule  clusters      score\n",
      "317                Intervention en milieu subaquatique        47  29.342669\n",
      "446                               Machinerie spectacle        94  28.812850\n",
      "435                     Arts du cirque et arts visuels        92  26.034005\n",
      "495                                       Déménagement        94  25.859729\n",
      "171  Préparation du gros oeuvre et des travaux publics        49  25.461195\n",
      "324                          Réparation de carrosserie        81  23.360213\n",
      "521  Conduite et livraison par tournées sur courte ...        94  20.620539\n",
      "151                                  Extraction solide        49  18.982023\n",
      "127          Conduite de machines de façonnage routage        45  18.585848\n",
      "511              Encadrement de la navigation maritime        57  18.399443\n",
      "390                         Sécurité civile et secours         5  16.339045\n",
      "512                 Equipage de la navigation maritime        48  15.976848\n",
      "517  Conduite de transport de marchandises sur long...        94  15.714408\n",
      "170                                         Maçonnerie        49  14.611084\n",
      "149   Conduite d'engins de terrassement et de carrière        48  14.560950\n",
      "162                        Pose de revêtements rigides        12  14.434688\n",
      "150                      Extraction liquide et gazeuse        49  14.387486\n",
      "516                              Manutention portuaire        95  13.426717\n",
      "246          Conduite de machine de traitement textile        45  11.954642\n",
      "225  Intervention technique en laboratoire d'analys...        65  11.703385\n"
     ]
    }
   ],
   "source": [
    "show_score(technicien, 20)"
   ]
  },
  {
   "cell_type": "code",
   "execution_count": 23,
   "metadata": {
    "collapsed": false
   },
   "outputs": [
    {
     "name": "stdout",
     "output_type": "stream",
     "text": [
      "--> Préférences de l'élève : \n",
      "\n",
      "Décorer, agencer\n",
      "Concevoir un projet artistique\n",
      "Jouer de la musique, chanter\n",
      "Jouer un rôle, défiler, danser\n",
      "Pratiquer un art plastique\n",
      "Faire un schéma, un plan, un dessin\n",
      "Communiquer\n",
      "Traiter des images, des sons, des lumières, des contenus multimédias\n",
      "Multimédia\n",
      "Artistique\n",
      "Littérature, philosophie\n",
      "\n",
      " --> Métiers recommandés :\n",
      "                                              intitule  clusters      score\n",
      "433                                   Musique et chant        92  36.050236\n",
      "30                         Création en arts plastiques        10  33.081330\n",
      "439     Réalisation cinématographique et audiovisuelle        93  31.206992\n",
      "114                     Ecriture d'ouvrages, de livres        38  28.293226\n",
      "125                Réalisation de contenus multimédias        44  25.441462\n",
      "491                           Information géographique        46  24.900846\n",
      "447             Montage audiovisuel et post-production        42  21.816853\n",
      "121                                       Photographie        42  20.705887\n",
      "432                                              Danse        92  18.937364\n",
      "436                Mise en scène de spectacles vivants        93  18.571708\n",
      "32       Décoration d'espaces de vente et d'exposition        12  18.436663\n",
      "435                     Arts du cirque et arts visuels        92  17.942986\n",
      "434                                     Art dramatique        92  16.190908\n",
      "89                                   Vente de végétaux         8  15.069322\n",
      "431          Présentation de spectacles ou d'émissions        38  12.312323\n",
      "227  Intervention technique en formulation et analy...         8  11.881917\n",
      "209                                  Design industriel        16  11.618176\n",
      "158                              Montage d'agencements        12  10.960198\n",
      "429                     Animation musicale et scénique        43   9.054139\n",
      "445            Image cinématographique et télévisuelle        43   8.648424\n"
     ]
    }
   ],
   "source": [
    "show_score(artiste,20)"
   ]
  },
  {
   "cell_type": "code",
   "execution_count": null,
   "metadata": {
    "collapsed": true
   },
   "outputs": [],
   "source": []
  },
  {
   "cell_type": "code",
   "execution_count": null,
   "metadata": {
    "collapsed": true
   },
   "outputs": [],
   "source": []
  }
 ],
 "metadata": {
  "kernelspec": {
   "display_name": "Python 3",
   "language": "python",
   "name": "python3"
  },
  "language_info": {
   "codemirror_mode": {
    "name": "ipython",
    "version": 3
   },
   "file_extension": ".py",
   "mimetype": "text/x-python",
   "name": "python",
   "nbconvert_exporter": "python",
   "pygments_lexer": "ipython3",
   "version": "3.5.1"
  }
 },
 "nbformat": 4,
 "nbformat_minor": 0
}
