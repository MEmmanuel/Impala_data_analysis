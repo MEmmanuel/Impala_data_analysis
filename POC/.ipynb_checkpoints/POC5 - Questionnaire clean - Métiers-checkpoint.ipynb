{
 "cells": [
  {
   "cell_type": "code",
   "execution_count": 1,
   "metadata": {
    "collapsed": true
   },
   "outputs": [],
   "source": [
    "### Pour voir les métiers recommandés à un élève, on utilise la fonction show_score(eleve, n_metiers)\n",
    "### --> eleve : liste des critères choisis par l'élève\n",
    "### --> n_metiers : nombre de métiers à montrer\n",
    "\n",
    "import io\n",
    "import os\n",
    "import json\n",
    "import csv\n",
    "import pandas as pd\n",
    "import numpy as np"
   ]
  },
  {
   "cell_type": "code",
   "execution_count": 2,
   "metadata": {
    "collapsed": true
   },
   "outputs": [],
   "source": [
    "# Préparation des chemins utiles\n",
    "# Main directory\n",
    "dir_path = os.getcwd()\n",
    "\n",
    "# Dossier des données\n",
    "data_dir_path = os.path.join(dir_path, 'Donnees')\n",
    "\n",
    "# Caractéristiques de chaque cluster :\n",
    "main_feature_cluster = os.path.join(data_dir_path, 'main_features_clusters.csv')\n",
    "\n",
    "# Métiers de chaque cluster :\n",
    "jobs_clusters = os.path.join(data_dir_path, 'jobs_clusters.csv')\n",
    "\n",
    "# Tableau des métiers-variables:\n",
    "df_jobs_file = os.path.join(data_dir_path, 'PE_niv23.csv')\n",
    "\n",
    "# Tableau des métiers-variables normalisé:\n",
    "df_clusters_file = os.path.join(data_dir_path, 'df_clusters.csv')\n",
    "\n",
    "# Fichier excel de l'arborescences des activités\n",
    "act_csv = os.path.join(data_dir_path,'rome_arboactivités_juin62181.xlsx')\n",
    "# Fichier excel de l'arborescence des compétences\n",
    "comp_csv = os.path.join(data_dir_path,'rome_arbocompétences_juin62182.xlsx')\n",
    "\n",
    "# Correspondance Rome-Onisep\n",
    "rome_onisep_file = os.path.join(data_dir_path, 'Metiers_Onisep_ROME.csv')\n",
    "rome_onisep = pd.read_csv(rome_onisep_file, sep =',')\n",
    "\n",
    "# Données des métiers\n",
    "df_clusters = pd.read_csv(df_clusters_file)\n",
    "matrix_jobs = df_clusters.iloc[:,3:170]"
   ]
  },
  {
   "cell_type": "code",
   "execution_count": 74,
   "metadata": {
    "collapsed": false
   },
   "outputs": [],
   "source": [
    "rome_manquant = []\n",
    "for rome in df_clusters[\"code_rome\"]:\n",
    "    if rome not in list(rome_onisep['code_ROME (Impala)']):\n",
    "        rome_manquant.append(rome)\n",
    "\n",
    "PE_manquant = pd.DataFrame(columns=[\"intitule\",\"rome\"])\n",
    "i = 0\n",
    "for row in df_clusters.itertuples():\n",
    "    rome = row[2]\n",
    "    intitule = row[3]\n",
    "    if rome in rome_manquant:\n",
    "        PE_manquant.loc[i,\"intitule\"] = intitule\n",
    "        PE_manquant.loc[i,\"rome\"] = rome\n",
    "        i+=1"
   ]
  },
  {
   "cell_type": "code",
   "execution_count": null,
   "metadata": {
    "collapsed": true
   },
   "outputs": [],
   "source": [
    "rome_final = pd.DataFrame(columns=[\"intitule_onisep\",\"rome\"])\n",
    "for rome in df_clusters[\"code_rome\"]:\n",
    "    if rome in list(rome_onisep['code_ROME (Impala)']):\n",
    "        index = rome_onisep[rome_onisep[\"code_ROME (Impala)\"]==rome].index.tolist()[0]\n",
    "        oni = rome_onisep.iloc[index,1]"
   ]
  },
  {
   "cell_type": "code",
   "execution_count": 71,
   "metadata": {
    "collapsed": false
   },
   "outputs": [],
   "source": [
    "output_file = os.path.join(dir_path, 'rome_manquant.csv')\n",
    "PE_manquant.to_csv(output_file)"
   ]
  },
  {
   "cell_type": "code",
   "execution_count": 3,
   "metadata": {
    "collapsed": true
   },
   "outputs": [],
   "source": [
    "# Elèves fictifs avec les affinités qu'on pourrait imaginer(technicien, manager, artiste)\n",
    "# On peut rajouter l'élève obtenu avec le POC \"Choix des critères par l'utilisateur\"\n",
    "eleve = ['Compétences sportives', 'Compétences multimédia', 'Planifier', 'Gérer un approvisionnement et des stocks', 'Gérer une production industrielle']\n",
    "\n",
    "marie = ['Animer un groupe',\n",
    " 'Enseigner',\n",
    " 'Prendre soin de personnes',\n",
    " 'Gérer un dossier ou une formalité administrative',\n",
    " 'Compléter des documents ou des dossiers',\n",
    " 'Saisir et mettre en forme des documents',\n",
    " 'Ressources humaines',\n",
    " 'Compétences artistiques',\n",
    " 'Interprétation de données ou de signaux',\n",
    " 'Compétences managériales',\n",
    " 'Techniques de prévention et gestion de conflits',\n",
    " 'Techniques pédagogiques',\n",
    " 'Compétences mentales']\n",
    "## Fonctions utilisées\n",
    "\n",
    "#### change le nom des variables des élèves pour les faire correspondre avec ceux de R\n",
    "def eleve_cast_R(eleve_to_transform):\n",
    "    eleve = []\n",
    "    for feature in eleve_to_transform:\n",
    "        feature = feature.replace(', ','..')\n",
    "        feature = feature.replace('(', '.')\n",
    "        feature = feature.replace(')', '.')\n",
    "        feature = feature.replace(\"'\", '.')\n",
    "        feature = feature.replace(\"/\", '.')\n",
    "        feature = feature.replace(' ', '.')\n",
    "        eleve.append(feature)\n",
    "    return(eleve)\n",
    "\n",
    "### Transforme le résultat du questionnaire en vecteur élève\n",
    "# Chargement des données de compétences dans la variable comp\n",
    "comp = pd.read_excel(comp_csv, sheetname=\"Arbo Comptétences ROMEJuin 2016\", header=0)\n",
    "act = pd.read_excel(act_csv, sheetname='Arbo Activités ROME Juin 2016', header=0)\n",
    "\n",
    "def cast_eleve(eleve_to_cast):\n",
    "    eleve_cast = []\n",
    "    for item in eleve_to_cast:\n",
    "        item_list = [item]\n",
    "        if item=='Compétences sportives':\n",
    "            item_list.append(\"Techniques de plongée\")\n",
    "        for element in item_list:    \n",
    "            try:\n",
    "                index = comp[comp[\"Libellé questionnaire\"]==element]['Niveau 2'].index.tolist()[0]\n",
    "                if str(comp.iloc[index,1])!='nan':\n",
    "                    eleve_cast.append(str(comp.iloc[index,1]))\n",
    "                elif str(comp.iloc[index,2])!='nan':\n",
    "                    eleve_cast.append(str(comp.iloc[index,2]))\n",
    "            except:\n",
    "                pass\n",
    "            \n",
    "        for element in item_list:        \n",
    "            try:\n",
    "                index = act[act[\"Libellé questionnaire\"]==element]['Niveau 2'].index.tolist()[0]\n",
    "                if str(act.iloc[index,1])!='nan':\n",
    "                    eleve_cast.append(str(act.iloc[index,1]))\n",
    "                elif str(act.iloc[index,2])!='nan':\n",
    "                    eleve_cast.append(str(act.iloc[index,2]))\n",
    "            except:\n",
    "                pass            \n",
    "    return eleve_cast\n",
    "\n",
    "#### vecteur élève (petit problème à régler encore)\n",
    "def vectorize_eleve(eleve_to_vectorize): \n",
    "    eleve = pd.DataFrame()\n",
    "    for var in matrix_jobs.columns.tolist():\n",
    "        if var in eleve_to_vectorize:  \n",
    "            eleve[var]=[1]\n",
    "        else:\n",
    "            eleve[var]=[0]\n",
    "    return eleve\n",
    "\n",
    "#### Score des produits scalaires de chaque métier\n",
    "intitule = df_clusters[\"intitule\"]\n",
    "clusters = df_clusters[\"clusters\"]\n",
    "rome = df_clusters[\"code_rome\"]\n",
    "\n",
    "def score_jobs(eleve_to_match):\n",
    "    eleve_c = cast_eleve(eleve_to_match)\n",
    "    eleve_R = eleve_cast_R(eleve_c)\n",
    "    eleve_v = vectorize_eleve(eleve_R)\n",
    "    score = matrix_jobs.dot(eleve_v.transpose())\n",
    "    df = pd.concat([intitule,rome, clusters,score], axis=1)\n",
    "    df.columns = [\"intitule\",\"rome\",\"clusters\",\"score\"]\n",
    "    return(df.sort_values(by=\"score\",ascending=False))\n",
    "\n",
    "def show_score(eleve, n_metiers):\n",
    "    score_eleve = score_jobs(eleve)\n",
    "    print(\"--> Préférences de l'élève : \\n\")\n",
    "    for item in eleve:\n",
    "        print(item)\n",
    "    print(\"\\n --> Métiers recommandés :\")\n",
    "    print(score_eleve[0:n_metiers])"
   ]
  },
  {
   "cell_type": "code",
   "execution_count": 6,
   "metadata": {
    "collapsed": false
   },
   "outputs": [
    {
     "data": {
      "text/plain": [
       "['Physiques',\n",
       " 'Avec outil',\n",
       " 'Multimédia',\n",
       " 'Gérer un stock, un approvisionnement',\n",
       " 'Gérer une production, une prestation de service']"
      ]
     },
     "execution_count": 6,
     "metadata": {},
     "output_type": "execute_result"
    }
   ],
   "source": [
    "cast_eleve(marie)"
   ]
  },
  {
   "cell_type": "code",
   "execution_count": 4,
   "metadata": {
    "collapsed": false
   },
   "outputs": [
    {
     "name": "stdout",
     "output_type": "stream",
     "text": [
      "--> Préférences de l'élève : \n",
      "\n",
      "Animer un groupe\n",
      "Enseigner\n",
      "Prendre soin de personnes\n",
      "Gérer un dossier ou une formalité administrative\n",
      "Compléter des documents ou des dossiers\n",
      "Saisir et mettre en forme des documents\n",
      "Ressources humaines\n",
      "Compétences artistiques\n",
      "Interprétation de données ou de signaux\n",
      "Compétences managériales\n",
      "Techniques de prévention et gestion de conflits\n",
      "Techniques pédagogiques\n",
      "Compétences mentales\n",
      "\n",
      " --> Métiers recommandés :\n",
      "                                              intitule   rome  clusters  \\\n",
      "317                Intervention en milieu subaquatique  I1502        47   \n",
      "447             Montage audiovisuel et post-production  L1507        42   \n",
      "439     Réalisation cinématographique et audiovisuelle  L1304        93   \n",
      "221  Intervention technique en gestion industrielle...  H1403        67   \n",
      "91               Vente en articles de sport et loisirs  D1211        30   \n",
      "122        Production en laboratoire cinématographique  E1202        42   \n",
      "445            Image cinématographique et télévisuelle  L1505        43   \n",
      "219  Management et ingénierie gestion industrielle ...  H1401        67   \n",
      "70                                 Gérance immobilière  C1501        26   \n",
      "501  Conception et organisation de la chaîne logist...  N1301        67   \n",
      "124                                  Projection cinéma  E1204        43   \n",
      "491                           Information géographique  M1808        46   \n",
      "114                     Ecriture d'ouvrages, de livres  E1102        38   \n",
      "435                     Arts du cirque et arts visuels  L1204        92   \n",
      "434                                     Art dramatique  L1203        92   \n",
      "433                                   Musique et chant  L1202        92   \n",
      "387     Direction de la sécurité civile et des secours  K1702         5   \n",
      "84     Location de véhicules ou de matériel de loisirs  D1204        22   \n",
      "529  Exploitation et manoeuvre des remontées mécani...  N4402       100   \n",
      "389                 Management de la sécurité publique  K1704        89   \n",
      "\n",
      "         score  \n",
      "317  23.612826  \n",
      "447  13.028829  \n",
      "439   9.468989  \n",
      "221   9.373298  \n",
      "91    8.618072  \n",
      "122   7.591098  \n",
      "445   7.591098  \n",
      "219   7.212721  \n",
      "70    7.212721  \n",
      "501   7.212721  \n",
      "124   5.713208  \n",
      "491   5.332551  \n",
      "114   5.254173  \n",
      "435   5.254173  \n",
      "434   5.254173  \n",
      "433   5.254173  \n",
      "387   5.254173  \n",
      "84    5.254173  \n",
      "529   5.254173  \n",
      "389   5.254173  \n"
     ]
    }
   ],
   "source": [
    "show_score(marie, 20)"
   ]
  },
  {
   "cell_type": "code",
   "execution_count": 18,
   "metadata": {
    "collapsed": false
   },
   "outputs": [
    {
     "name": "stdout",
     "output_type": "stream",
     "text": [
      "--> Préférences de l'élève : \n",
      "\n",
      "Compétences sportives\n",
      "Compétences multimédia\n",
      "Planifier\n",
      "Gérer un approvisionnement et des stocks\n",
      "Gérer une production industrielle\n",
      "\n",
      " --> Métiers recommandés :\n",
      "                                              intitule   rome  clusters  \\\n",
      "317                Intervention en milieu subaquatique  I1502        47   \n",
      "447             Montage audiovisuel et post-production  L1507        42   \n",
      "439     Réalisation cinématographique et audiovisuelle  L1304        93   \n",
      "221  Intervention technique en gestion industrielle...  H1403        67   \n",
      "91               Vente en articles de sport et loisirs  D1211        30   \n",
      "122        Production en laboratoire cinématographique  E1202        42   \n",
      "445            Image cinématographique et télévisuelle  L1505        43   \n",
      "219  Management et ingénierie gestion industrielle ...  H1401        67   \n",
      "70                                 Gérance immobilière  C1501        26   \n",
      "501  Conception et organisation de la chaîne logist...  N1301        67   \n",
      "124                                  Projection cinéma  E1204        43   \n",
      "491                           Information géographique  M1808        46   \n",
      "114                     Ecriture d'ouvrages, de livres  E1102        38   \n",
      "435                     Arts du cirque et arts visuels  L1204        92   \n",
      "434                                     Art dramatique  L1203        92   \n",
      "433                                   Musique et chant  L1202        92   \n",
      "387     Direction de la sécurité civile et des secours  K1702         5   \n",
      "84     Location de véhicules ou de matériel de loisirs  D1204        22   \n",
      "529  Exploitation et manoeuvre des remontées mécani...  N4402       100   \n",
      "389                 Management de la sécurité publique  K1704        89   \n",
      "\n",
      "         score  \n",
      "317  23.612826  \n",
      "447  13.028829  \n",
      "439   9.468989  \n",
      "221   9.373298  \n",
      "91    8.618072  \n",
      "122   7.591098  \n",
      "445   7.591098  \n",
      "219   7.212721  \n",
      "70    7.212721  \n",
      "501   7.212721  \n",
      "124   5.713208  \n",
      "491   5.332551  \n",
      "114   5.254173  \n",
      "435   5.254173  \n",
      "434   5.254173  \n",
      "433   5.254173  \n",
      "387   5.254173  \n",
      "84    5.254173  \n",
      "529   5.254173  \n",
      "389   5.254173  \n"
     ]
    }
   ],
   "source": [
    "show_score(eleve, 20)"
   ]
  },
  {
   "cell_type": "code",
   "execution_count": null,
   "metadata": {
    "collapsed": true
   },
   "outputs": [],
   "source": []
  }
 ],
 "metadata": {
  "kernelspec": {
   "display_name": "Python 3",
   "language": "python",
   "name": "python3"
  },
  "language_info": {
   "codemirror_mode": {
    "name": "ipython",
    "version": 3
   },
   "file_extension": ".py",
   "mimetype": "text/x-python",
   "name": "python",
   "nbconvert_exporter": "python",
   "pygments_lexer": "ipython3",
   "version": "3.5.1"
  }
 },
 "nbformat": 4,
 "nbformat_minor": 0
}
